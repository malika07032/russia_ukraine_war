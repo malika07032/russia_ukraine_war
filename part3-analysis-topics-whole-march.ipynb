{
 "cells": [
  {
   "cell_type": "markdown",
   "id": "fbd2ee05",
   "metadata": {},
   "source": [
    "# Topic Modeling with LDA\n",
    "## What are the topics of online Twitter discourse about Ukraine?\n",
    "\n",
    "\n",
    "This results were not used in the paper, because it was hard to identify the resulting topics"
   ]
  },
  {
   "cell_type": "code",
   "execution_count": 48,
   "id": "2b7bde35",
   "metadata": {},
   "outputs": [],
   "source": [
    "from sklearn.feature_extraction.text import CountVectorizer, TfidfVectorizer\n",
    "from sklearn.decomposition import LatentDirichletAllocation"
   ]
  },
  {
   "cell_type": "code",
   "execution_count": 59,
   "id": "c7603973",
   "metadata": {},
   "outputs": [
    {
     "name": "stderr",
     "output_type": "stream",
     "text": [
      "/Users/parhomcukmalika/opt/anaconda3/lib/python3.8/site-packages/ipykernel/ipkernel.py:287: DeprecationWarning: `should_run_async` will not call `transform_cell` automatically in the future. Please pass the result to `transformed_cell` argument and any exception that happen during thetransform in `preprocessing_exc_tuple` in IPython 7.17 and above.\n",
      "  and should_run_async(code)\n"
     ]
    }
   ],
   "source": [
    "import pyLDAvis\n",
    "import pyLDAvis.sklearn\n",
    "pyLDAvis.enable_notebook()"
   ]
  },
  {
   "cell_type": "code",
   "execution_count": 72,
   "id": "c73e4c4c",
   "metadata": {},
   "outputs": [],
   "source": [
    "import warnings\n",
    "warnings.filterwarnings('ignore')"
   ]
  },
  {
   "cell_type": "code",
   "execution_count": 24,
   "id": "f56161c4",
   "metadata": {},
   "outputs": [],
   "source": [
    "from nltk.tokenize import TweetTokenizer"
   ]
  },
  {
   "cell_type": "code",
   "execution_count": 104,
   "id": "fb040a8f",
   "metadata": {},
   "outputs": [],
   "source": [
    "import pyLDAvis.gensim_models"
   ]
  },
  {
   "cell_type": "markdown",
   "id": "e1ad5f4b",
   "metadata": {},
   "source": [
    "## Continue Topic Modelling:  End of March"
   ]
  },
  {
   "cell_type": "markdown",
   "id": "13c5e893",
   "metadata": {},
   "source": [
    "Getting the corpus"
   ]
  },
  {
   "cell_type": "code",
   "execution_count": null,
   "id": "db0d7119",
   "metadata": {},
   "outputs": [],
   "source": [
    "import os\n",
    "import json\n",
    "from collections import Counter\n",
    "import pandas as pd\n",
    "import re"
   ]
  },
  {
   "cell_type": "code",
   "execution_count": 67,
   "id": "8c7379a0",
   "metadata": {},
   "outputs": [
    {
     "name": "stdout",
     "output_type": "stream",
     "text": [
      "124\n"
     ]
    }
   ],
   "source": [
    "files3 = os.listdir('results_03_extended')\n",
    "print(len(files3))"
   ]
  },
  {
   "cell_type": "code",
   "execution_count": 4,
   "id": "c3f0ac28",
   "metadata": {},
   "outputs": [],
   "source": [
    "#part1 = ['2022-03-13', '2022-03-19', '2022-03-20', '2022-03-22', '2022-03-23', '2022-03-25', '2022-03-26']"
   ]
  },
  {
   "cell_type": "code",
   "execution_count": 68,
   "id": "f3dfc98b",
   "metadata": {},
   "outputs": [],
   "source": [
    "def cleanTweet(text):\n",
    "    corp = [w for w in text.split() if not w.startswith('@') and not w.startswith('https://')]\n",
    "    return ' '.join(corp)"
   ]
  },
  {
   "cell_type": "code",
   "execution_count": 73,
   "id": "0c47e26c",
   "metadata": {},
   "outputs": [],
   "source": [
    "for_df = []\n",
    "for f in files3:\n",
    "    if f.startswith('batch'):\n",
    "        inF = open(f'results_03_extended/{f}','r')\n",
    "        data = json.load(inF)\n",
    "        inF.close()\n",
    "        for batch in data:\n",
    "            for tweet in batch['tweets']:\n",
    "                #date = tweet['created_at'].split()[0]\n",
    "                #if date in part1 and tweet['isRetweet'] == False:\n",
    "                if tweet['isRetweet'] == False:\n",
    "                    text = tweet['text'].replace('RT','')\n",
    "                    text = cleanTweet(text) #remove @_ and https links\n",
    "                    text = re.sub('[!\"$%&\\'()*+,-./:;<=>?[\\\\]^_`{|}~•@]', '', text.lower()) #remove punctuation\n",
    "                    if len(text.split()) > 5:\n",
    "                        tweet['cleaned_text'] = text\n",
    "                        for_df.append(tweet)"
   ]
  },
  {
   "cell_type": "code",
   "execution_count": 74,
   "id": "be2cf49f",
   "metadata": {},
   "outputs": [
    {
     "data": {
      "text/plain": [
       "491634"
      ]
     },
     "execution_count": 74,
     "metadata": {},
     "output_type": "execute_result"
    }
   ],
   "source": [
    "len(for_df)"
   ]
  },
  {
   "cell_type": "code",
   "execution_count": 75,
   "id": "9e62450d",
   "metadata": {},
   "outputs": [
    {
     "data": {
      "text/html": [
       "<div>\n",
       "<style scoped>\n",
       "    .dataframe tbody tr th:only-of-type {\n",
       "        vertical-align: middle;\n",
       "    }\n",
       "\n",
       "    .dataframe tbody tr th {\n",
       "        vertical-align: top;\n",
       "    }\n",
       "\n",
       "    .dataframe thead th {\n",
       "        text-align: right;\n",
       "    }\n",
       "</style>\n",
       "<table border=\"1\" class=\"dataframe\">\n",
       "  <thead>\n",
       "    <tr style=\"text-align: right;\">\n",
       "      <th></th>\n",
       "      <th>created_at</th>\n",
       "      <th>text</th>\n",
       "      <th>id</th>\n",
       "      <th>author_id</th>\n",
       "      <th>cleaned_text</th>\n",
       "    </tr>\n",
       "  </thead>\n",
       "  <tbody>\n",
       "    <tr>\n",
       "      <th>0</th>\n",
       "      <td>2022-03-23 14:20:05+00:00</td>\n",
       "      <td>I'm @NestyXXX big fan from Ukraine\\n\\nHope she...</td>\n",
       "      <td>1506636909660893185</td>\n",
       "      <td>1481357424343011328</td>\n",
       "      <td>im big fan from ukraine hope she follows me an...</td>\n",
       "    </tr>\n",
       "    <tr>\n",
       "      <th>1</th>\n",
       "      <td>2022-03-23 14:20:06+00:00</td>\n",
       "      <td>@GBNEWS Nice one, Russia. Someone has a sense ...</td>\n",
       "      <td>1506636910717980673</td>\n",
       "      <td>1441739248005050374</td>\n",
       "      <td>nice one russia someone has a sense of humour</td>\n",
       "    </tr>\n",
       "    <tr>\n",
       "      <th>2</th>\n",
       "      <td>2022-03-23 14:20:06+00:00</td>\n",
       "      <td>Ivanka The Carnival Barker sends 1M meals to U...</td>\n",
       "      <td>1506636910470602758</td>\n",
       "      <td>1494897620417978369</td>\n",
       "      <td>ivanka the carnival barker sends 1m meals to u...</td>\n",
       "    </tr>\n",
       "    <tr>\n",
       "      <th>3</th>\n",
       "      <td>2022-03-23 14:20:06+00:00</td>\n",
       "      <td>@RhonddaBryant Hasn't rishi sunaks family firm...</td>\n",
       "      <td>1506636911103946753</td>\n",
       "      <td>3911182049</td>\n",
       "      <td>hasnt rishi sunaks family firm continued to tr...</td>\n",
       "    </tr>\n",
       "    <tr>\n",
       "      <th>4</th>\n",
       "      <td>2022-03-23 14:20:06+00:00</td>\n",
       "      <td>Man knows his stuff and has made me revaluate ...</td>\n",
       "      <td>1506636911171055616</td>\n",
       "      <td>901372926020251648</td>\n",
       "      <td>man knows his stuff and has made me revaluate ...</td>\n",
       "    </tr>\n",
       "    <tr>\n",
       "      <th>...</th>\n",
       "      <td>...</td>\n",
       "      <td>...</td>\n",
       "      <td>...</td>\n",
       "      <td>...</td>\n",
       "      <td>...</td>\n",
       "    </tr>\n",
       "    <tr>\n",
       "      <th>491629</th>\n",
       "      <td>2022-03-22 19:13:22+00:00</td>\n",
       "      <td>Poskupela koka kola drug putin da jede govna</td>\n",
       "      <td>1506348328296058883</td>\n",
       "      <td>849884745349689344</td>\n",
       "      <td>poskupela koka kola drug putin da jede govna</td>\n",
       "    </tr>\n",
       "    <tr>\n",
       "      <th>491630</th>\n",
       "      <td>2022-03-22 19:13:22+00:00</td>\n",
       "      <td>@scottcarnold @AdamKinzinger @TuckerCarlson It...</td>\n",
       "      <td>1506348328279318540</td>\n",
       "      <td>3438292283</td>\n",
       "      <td>it’s amazing to me the government seems to be ...</td>\n",
       "    </tr>\n",
       "    <tr>\n",
       "      <th>491631</th>\n",
       "      <td>2022-03-22 19:13:22+00:00</td>\n",
       "      <td>Some Russian soldiers have gotten frostbite du...</td>\n",
       "      <td>1506348328220446720</td>\n",
       "      <td>1307130207237627904</td>\n",
       "      <td>some russian soldiers have gotten frostbite du...</td>\n",
       "    </tr>\n",
       "    <tr>\n",
       "      <th>491632</th>\n",
       "      <td>2022-03-22 19:13:22+00:00</td>\n",
       "      <td>@Luxbeda @BartuschatT Das steht und jetzt eben...</td>\n",
       "      <td>1506348328539279370</td>\n",
       "      <td>1465708631475703811</td>\n",
       "      <td>das steht und jetzt ebenfalls ins haus wenn wi...</td>\n",
       "    </tr>\n",
       "    <tr>\n",
       "      <th>491633</th>\n",
       "      <td>2022-03-22 19:13:22+00:00</td>\n",
       "      <td>السفير الروسي لدى لبنان للجزيرة مباشر: لماذا ل...</td>\n",
       "      <td>1506348328484851718</td>\n",
       "      <td>53059376</td>\n",
       "      <td>السفير الروسي لدى لبنان للجزيرة مباشر لماذا لم...</td>\n",
       "    </tr>\n",
       "  </tbody>\n",
       "</table>\n",
       "<p>491634 rows × 5 columns</p>\n",
       "</div>"
      ],
      "text/plain": [
       "                       created_at  \\\n",
       "0       2022-03-23 14:20:05+00:00   \n",
       "1       2022-03-23 14:20:06+00:00   \n",
       "2       2022-03-23 14:20:06+00:00   \n",
       "3       2022-03-23 14:20:06+00:00   \n",
       "4       2022-03-23 14:20:06+00:00   \n",
       "...                           ...   \n",
       "491629  2022-03-22 19:13:22+00:00   \n",
       "491630  2022-03-22 19:13:22+00:00   \n",
       "491631  2022-03-22 19:13:22+00:00   \n",
       "491632  2022-03-22 19:13:22+00:00   \n",
       "491633  2022-03-22 19:13:22+00:00   \n",
       "\n",
       "                                                     text  \\\n",
       "0       I'm @NestyXXX big fan from Ukraine\\n\\nHope she...   \n",
       "1       @GBNEWS Nice one, Russia. Someone has a sense ...   \n",
       "2       Ivanka The Carnival Barker sends 1M meals to U...   \n",
       "3       @RhonddaBryant Hasn't rishi sunaks family firm...   \n",
       "4       Man knows his stuff and has made me revaluate ...   \n",
       "...                                                   ...   \n",
       "491629       Poskupela koka kola drug putin da jede govna   \n",
       "491630  @scottcarnold @AdamKinzinger @TuckerCarlson It...   \n",
       "491631  Some Russian soldiers have gotten frostbite du...   \n",
       "491632  @Luxbeda @BartuschatT Das steht und jetzt eben...   \n",
       "491633  السفير الروسي لدى لبنان للجزيرة مباشر: لماذا ل...   \n",
       "\n",
       "                         id            author_id  \\\n",
       "0       1506636909660893185  1481357424343011328   \n",
       "1       1506636910717980673  1441739248005050374   \n",
       "2       1506636910470602758  1494897620417978369   \n",
       "3       1506636911103946753           3911182049   \n",
       "4       1506636911171055616   901372926020251648   \n",
       "...                     ...                  ...   \n",
       "491629  1506348328296058883   849884745349689344   \n",
       "491630  1506348328279318540           3438292283   \n",
       "491631  1506348328220446720  1307130207237627904   \n",
       "491632  1506348328539279370  1465708631475703811   \n",
       "491633  1506348328484851718             53059376   \n",
       "\n",
       "                                             cleaned_text  \n",
       "0       im big fan from ukraine hope she follows me an...  \n",
       "1           nice one russia someone has a sense of humour  \n",
       "2       ivanka the carnival barker sends 1m meals to u...  \n",
       "3       hasnt rishi sunaks family firm continued to tr...  \n",
       "4       man knows his stuff and has made me revaluate ...  \n",
       "...                                                   ...  \n",
       "491629       poskupela koka kola drug putin da jede govna  \n",
       "491630  it’s amazing to me the government seems to be ...  \n",
       "491631  some russian soldiers have gotten frostbite du...  \n",
       "491632  das steht und jetzt ebenfalls ins haus wenn wi...  \n",
       "491633  السفير الروسي لدى لبنان للجزيرة مباشر لماذا لم...  \n",
       "\n",
       "[491634 rows x 5 columns]"
      ]
     },
     "execution_count": 75,
     "metadata": {},
     "output_type": "execute_result"
    }
   ],
   "source": [
    "df = pd.DataFrame(for_df)\n",
    "df.drop(columns = ['withheld', 'urls', 'isRetweet', 'public_metrics'], inplace=True)\n",
    "df"
   ]
  },
  {
   "cell_type": "code",
   "execution_count": 13,
   "id": "b54134bd",
   "metadata": {},
   "outputs": [],
   "source": [
    "import langid"
   ]
  },
  {
   "cell_type": "code",
   "execution_count": 76,
   "id": "022c20b8",
   "metadata": {},
   "outputs": [],
   "source": [
    "def isEnglish(clearText):\n",
    "    lang = langid.classify(clearText)[0]\n",
    "    if lang=='en':\n",
    "        return 1\n",
    "    else:\n",
    "        return 0"
   ]
  },
  {
   "cell_type": "code",
   "execution_count": 77,
   "id": "1d774749",
   "metadata": {},
   "outputs": [],
   "source": [
    "df['is_english'] = df['cleaned_text'].apply(lambda x: isEnglish(x))"
   ]
  },
  {
   "cell_type": "markdown",
   "id": "63231bc4",
   "metadata": {},
   "source": [
    "#### Preparing the text for modeling"
   ]
  },
  {
   "cell_type": "code",
   "execution_count": 78,
   "id": "851dfb20",
   "metadata": {},
   "outputs": [],
   "source": [
    "import gensim\n",
    "from gensim.utils import simple_preprocess"
   ]
  },
  {
   "cell_type": "code",
   "execution_count": 79,
   "id": "3d00ebc9",
   "metadata": {},
   "outputs": [],
   "source": [
    "def sent_to_words(sentences):\n",
    "    for sentence in sentences:\n",
    "        yield(gensim.utils.simple_preprocess(str(sentence), deacc=True))  # deacc=True removes punctuations"
   ]
  },
  {
   "cell_type": "code",
   "execution_count": 80,
   "id": "3bff28cf",
   "metadata": {},
   "outputs": [],
   "source": [
    "def mapDataWord(row):\n",
    "    if row['is_english'] == 1:\n",
    "        return list(sent_to_words([row['cleaned_text']]))\n",
    "    else:\n",
    "        return 0"
   ]
  },
  {
   "cell_type": "code",
   "execution_count": 81,
   "id": "dfb91143",
   "metadata": {},
   "outputs": [],
   "source": [
    "df['data_word'] = df.apply(lambda row: mapDataWord(row), axis=1)"
   ]
  },
  {
   "cell_type": "code",
   "execution_count": 82,
   "id": "1559cb1c",
   "metadata": {},
   "outputs": [
    {
     "data": {
      "text/html": [
       "<div>\n",
       "<style scoped>\n",
       "    .dataframe tbody tr th:only-of-type {\n",
       "        vertical-align: middle;\n",
       "    }\n",
       "\n",
       "    .dataframe tbody tr th {\n",
       "        vertical-align: top;\n",
       "    }\n",
       "\n",
       "    .dataframe thead th {\n",
       "        text-align: right;\n",
       "    }\n",
       "</style>\n",
       "<table border=\"1\" class=\"dataframe\">\n",
       "  <thead>\n",
       "    <tr style=\"text-align: right;\">\n",
       "      <th></th>\n",
       "      <th>created_at</th>\n",
       "      <th>text</th>\n",
       "      <th>id</th>\n",
       "      <th>author_id</th>\n",
       "      <th>cleaned_text</th>\n",
       "      <th>is_english</th>\n",
       "      <th>data_word</th>\n",
       "    </tr>\n",
       "  </thead>\n",
       "  <tbody>\n",
       "    <tr>\n",
       "      <th>0</th>\n",
       "      <td>2022-03-23 14:20:05+00:00</td>\n",
       "      <td>I'm @NestyXXX big fan from Ukraine\\n\\nHope she...</td>\n",
       "      <td>1506636909660893185</td>\n",
       "      <td>1481357424343011328</td>\n",
       "      <td>im big fan from ukraine hope she follows me an...</td>\n",
       "      <td>1</td>\n",
       "      <td>[[im, big, fan, from, ukraine, hope, she, foll...</td>\n",
       "    </tr>\n",
       "    <tr>\n",
       "      <th>1</th>\n",
       "      <td>2022-03-23 14:20:06+00:00</td>\n",
       "      <td>@GBNEWS Nice one, Russia. Someone has a sense ...</td>\n",
       "      <td>1506636910717980673</td>\n",
       "      <td>1441739248005050374</td>\n",
       "      <td>nice one russia someone has a sense of humour</td>\n",
       "      <td>1</td>\n",
       "      <td>[[nice, one, russia, someone, has, sense, of, ...</td>\n",
       "    </tr>\n",
       "    <tr>\n",
       "      <th>2</th>\n",
       "      <td>2022-03-23 14:20:06+00:00</td>\n",
       "      <td>Ivanka The Carnival Barker sends 1M meals to U...</td>\n",
       "      <td>1506636910470602758</td>\n",
       "      <td>1494897620417978369</td>\n",
       "      <td>ivanka the carnival barker sends 1m meals to u...</td>\n",
       "      <td>1</td>\n",
       "      <td>[[ivanka, the, carnival, barker, sends, meals,...</td>\n",
       "    </tr>\n",
       "    <tr>\n",
       "      <th>3</th>\n",
       "      <td>2022-03-23 14:20:06+00:00</td>\n",
       "      <td>@RhonddaBryant Hasn't rishi sunaks family firm...</td>\n",
       "      <td>1506636911103946753</td>\n",
       "      <td>3911182049</td>\n",
       "      <td>hasnt rishi sunaks family firm continued to tr...</td>\n",
       "      <td>1</td>\n",
       "      <td>[[hasnt, rishi, sunaks, family, firm, continue...</td>\n",
       "    </tr>\n",
       "    <tr>\n",
       "      <th>4</th>\n",
       "      <td>2022-03-23 14:20:06+00:00</td>\n",
       "      <td>Man knows his stuff and has made me revaluate ...</td>\n",
       "      <td>1506636911171055616</td>\n",
       "      <td>901372926020251648</td>\n",
       "      <td>man knows his stuff and has made me revaluate ...</td>\n",
       "      <td>1</td>\n",
       "      <td>[[man, knows, his, stuff, and, has, made, me, ...</td>\n",
       "    </tr>\n",
       "    <tr>\n",
       "      <th>...</th>\n",
       "      <td>...</td>\n",
       "      <td>...</td>\n",
       "      <td>...</td>\n",
       "      <td>...</td>\n",
       "      <td>...</td>\n",
       "      <td>...</td>\n",
       "      <td>...</td>\n",
       "    </tr>\n",
       "    <tr>\n",
       "      <th>491629</th>\n",
       "      <td>2022-03-22 19:13:22+00:00</td>\n",
       "      <td>Poskupela koka kola drug putin da jede govna</td>\n",
       "      <td>1506348328296058883</td>\n",
       "      <td>849884745349689344</td>\n",
       "      <td>poskupela koka kola drug putin da jede govna</td>\n",
       "      <td>0</td>\n",
       "      <td>0</td>\n",
       "    </tr>\n",
       "    <tr>\n",
       "      <th>491630</th>\n",
       "      <td>2022-03-22 19:13:22+00:00</td>\n",
       "      <td>@scottcarnold @AdamKinzinger @TuckerCarlson It...</td>\n",
       "      <td>1506348328279318540</td>\n",
       "      <td>3438292283</td>\n",
       "      <td>it’s amazing to me the government seems to be ...</td>\n",
       "      <td>1</td>\n",
       "      <td>[[it, amazing, to, me, the, government, seems,...</td>\n",
       "    </tr>\n",
       "    <tr>\n",
       "      <th>491631</th>\n",
       "      <td>2022-03-22 19:13:22+00:00</td>\n",
       "      <td>Some Russian soldiers have gotten frostbite du...</td>\n",
       "      <td>1506348328220446720</td>\n",
       "      <td>1307130207237627904</td>\n",
       "      <td>some russian soldiers have gotten frostbite du...</td>\n",
       "      <td>1</td>\n",
       "      <td>[[some, russian, soldiers, have, gotten, frost...</td>\n",
       "    </tr>\n",
       "    <tr>\n",
       "      <th>491632</th>\n",
       "      <td>2022-03-22 19:13:22+00:00</td>\n",
       "      <td>@Luxbeda @BartuschatT Das steht und jetzt eben...</td>\n",
       "      <td>1506348328539279370</td>\n",
       "      <td>1465708631475703811</td>\n",
       "      <td>das steht und jetzt ebenfalls ins haus wenn wi...</td>\n",
       "      <td>0</td>\n",
       "      <td>0</td>\n",
       "    </tr>\n",
       "    <tr>\n",
       "      <th>491633</th>\n",
       "      <td>2022-03-22 19:13:22+00:00</td>\n",
       "      <td>السفير الروسي لدى لبنان للجزيرة مباشر: لماذا ل...</td>\n",
       "      <td>1506348328484851718</td>\n",
       "      <td>53059376</td>\n",
       "      <td>السفير الروسي لدى لبنان للجزيرة مباشر لماذا لم...</td>\n",
       "      <td>0</td>\n",
       "      <td>0</td>\n",
       "    </tr>\n",
       "  </tbody>\n",
       "</table>\n",
       "<p>491634 rows × 7 columns</p>\n",
       "</div>"
      ],
      "text/plain": [
       "                       created_at  \\\n",
       "0       2022-03-23 14:20:05+00:00   \n",
       "1       2022-03-23 14:20:06+00:00   \n",
       "2       2022-03-23 14:20:06+00:00   \n",
       "3       2022-03-23 14:20:06+00:00   \n",
       "4       2022-03-23 14:20:06+00:00   \n",
       "...                           ...   \n",
       "491629  2022-03-22 19:13:22+00:00   \n",
       "491630  2022-03-22 19:13:22+00:00   \n",
       "491631  2022-03-22 19:13:22+00:00   \n",
       "491632  2022-03-22 19:13:22+00:00   \n",
       "491633  2022-03-22 19:13:22+00:00   \n",
       "\n",
       "                                                     text  \\\n",
       "0       I'm @NestyXXX big fan from Ukraine\\n\\nHope she...   \n",
       "1       @GBNEWS Nice one, Russia. Someone has a sense ...   \n",
       "2       Ivanka The Carnival Barker sends 1M meals to U...   \n",
       "3       @RhonddaBryant Hasn't rishi sunaks family firm...   \n",
       "4       Man knows his stuff and has made me revaluate ...   \n",
       "...                                                   ...   \n",
       "491629       Poskupela koka kola drug putin da jede govna   \n",
       "491630  @scottcarnold @AdamKinzinger @TuckerCarlson It...   \n",
       "491631  Some Russian soldiers have gotten frostbite du...   \n",
       "491632  @Luxbeda @BartuschatT Das steht und jetzt eben...   \n",
       "491633  السفير الروسي لدى لبنان للجزيرة مباشر: لماذا ل...   \n",
       "\n",
       "                         id            author_id  \\\n",
       "0       1506636909660893185  1481357424343011328   \n",
       "1       1506636910717980673  1441739248005050374   \n",
       "2       1506636910470602758  1494897620417978369   \n",
       "3       1506636911103946753           3911182049   \n",
       "4       1506636911171055616   901372926020251648   \n",
       "...                     ...                  ...   \n",
       "491629  1506348328296058883   849884745349689344   \n",
       "491630  1506348328279318540           3438292283   \n",
       "491631  1506348328220446720  1307130207237627904   \n",
       "491632  1506348328539279370  1465708631475703811   \n",
       "491633  1506348328484851718             53059376   \n",
       "\n",
       "                                             cleaned_text  is_english  \\\n",
       "0       im big fan from ukraine hope she follows me an...           1   \n",
       "1           nice one russia someone has a sense of humour           1   \n",
       "2       ivanka the carnival barker sends 1m meals to u...           1   \n",
       "3       hasnt rishi sunaks family firm continued to tr...           1   \n",
       "4       man knows his stuff and has made me revaluate ...           1   \n",
       "...                                                   ...         ...   \n",
       "491629       poskupela koka kola drug putin da jede govna           0   \n",
       "491630  it’s amazing to me the government seems to be ...           1   \n",
       "491631  some russian soldiers have gotten frostbite du...           1   \n",
       "491632  das steht und jetzt ebenfalls ins haus wenn wi...           0   \n",
       "491633  السفير الروسي لدى لبنان للجزيرة مباشر لماذا لم...           0   \n",
       "\n",
       "                                                data_word  \n",
       "0       [[im, big, fan, from, ukraine, hope, she, foll...  \n",
       "1       [[nice, one, russia, someone, has, sense, of, ...  \n",
       "2       [[ivanka, the, carnival, barker, sends, meals,...  \n",
       "3       [[hasnt, rishi, sunaks, family, firm, continue...  \n",
       "4       [[man, knows, his, stuff, and, has, made, me, ...  \n",
       "...                                                   ...  \n",
       "491629                                                  0  \n",
       "491630  [[it, amazing, to, me, the, government, seems,...  \n",
       "491631  [[some, russian, soldiers, have, gotten, frost...  \n",
       "491632                                                  0  \n",
       "491633                                                  0  \n",
       "\n",
       "[491634 rows x 7 columns]"
      ]
     },
     "execution_count": 82,
     "metadata": {},
     "output_type": "execute_result"
    }
   ],
   "source": [
    "df"
   ]
  },
  {
   "cell_type": "code",
   "execution_count": 83,
   "id": "d397c83a",
   "metadata": {},
   "outputs": [],
   "source": [
    "datawords = df[df['data_word']!=0]['data_word']"
   ]
  },
  {
   "cell_type": "code",
   "execution_count": 84,
   "id": "65b3cd31",
   "metadata": {},
   "outputs": [],
   "source": [
    "data_words= [i[0] for i in datawords]"
   ]
  },
  {
   "cell_type": "code",
   "execution_count": 85,
   "id": "ce933d2c",
   "metadata": {},
   "outputs": [],
   "source": [
    "# Build the bigram and trigram models\n",
    "bigram = gensim.models.Phrases(data_words, min_count=5, threshold=100) # higher threshold fewer phrases.\n",
    "trigram = gensim.models.Phrases(bigram[data_words], threshold=100)\n",
    "\n",
    "# Faster way to get a sentence clubbed as a trigram/bigram\n",
    "bigram_mod = gensim.models.phrases.Phraser(bigram)\n",
    "trigram_mod = gensim.models.phrases.Phraser(trigram)"
   ]
  },
  {
   "cell_type": "code",
   "execution_count": 86,
   "id": "0cee4256",
   "metadata": {},
   "outputs": [
    {
     "name": "stderr",
     "output_type": "stream",
     "text": [
      "[nltk_data] Downloading package stopwords to\n",
      "[nltk_data]     /Users/parhomcukmalika/nltk_data...\n",
      "[nltk_data]   Package stopwords is already up-to-date!\n"
     ]
    }
   ],
   "source": [
    "import nltk\n",
    "nltk.download('stopwords')\n",
    "from nltk.corpus import stopwords\n",
    "\n",
    "stop_words = stopwords.words('english')\n",
    "stop_words.extend(['from', 'subject', 're', 'edu', 'use', 'amp', 'm', 's'])"
   ]
  },
  {
   "cell_type": "code",
   "execution_count": 87,
   "id": "0e64c61b",
   "metadata": {},
   "outputs": [],
   "source": [
    "# Define functions for stopwords, bigrams, trigrams and lemmatization\n",
    "def remove_stopwords(texts):\n",
    "    return [[word for word in simple_preprocess(str(doc)) if word not in stop_words] for doc in texts]\n",
    "\n",
    "def make_bigrams(texts):\n",
    "    return [bigram_mod[doc] for doc in texts]\n",
    "\n",
    "def make_trigrams(texts):\n",
    "    return [trigram_mod[bigram_mod[doc]] for doc in texts]\n",
    "\n",
    "def lemmatization(texts):\n",
    "    \"\"\"https://spacy.io/api/annotation\"\"\"\n",
    "    texts_out = []\n",
    "    for sent in texts:\n",
    "        doc = nlp(\" \".join(sent)) \n",
    "        #texts_out.append([token.lemma_ for token in doc if token.pos_ in allowed_postags])\n",
    "        texts_out.append([token.lemma_ for token in doc])\n",
    "    return texts_out"
   ]
  },
  {
   "cell_type": "code",
   "execution_count": 88,
   "id": "b079e269",
   "metadata": {},
   "outputs": [],
   "source": [
    "def makeBigrams(row):\n",
    "    if row['data_word'] != 0:\n",
    "        return make_bigrams(remove_stopwords(row['data_word']))\n",
    "    else:\n",
    "        return 0"
   ]
  },
  {
   "cell_type": "code",
   "execution_count": 89,
   "id": "f70a1473",
   "metadata": {},
   "outputs": [],
   "source": [
    "df['bigrams'] = df.apply(lambda row: makeBigrams(row), axis=1)"
   ]
  },
  {
   "cell_type": "code",
   "execution_count": 90,
   "id": "d73003e2",
   "metadata": {},
   "outputs": [],
   "source": [
    "df.drop(columns=['created_at', 'cleaned_text', 'data_word'], inplace=True)"
   ]
  },
  {
   "cell_type": "code",
   "execution_count": 30,
   "id": "689b5d98",
   "metadata": {},
   "outputs": [],
   "source": [
    "#!python -m spacy download en_core_web_sm"
   ]
  },
  {
   "cell_type": "code",
   "execution_count": 31,
   "id": "0361eb86",
   "metadata": {},
   "outputs": [],
   "source": [
    "import spacy"
   ]
  },
  {
   "cell_type": "code",
   "execution_count": 32,
   "id": "7fdafa1a",
   "metadata": {},
   "outputs": [],
   "source": [
    "# Initialize spacy 'en' model, keeping only tagger component (for efficiency)\n",
    "nlp = spacy.load(\"en_core_web_sm\", disable=['parser', 'ner'])"
   ]
  },
  {
   "cell_type": "code",
   "execution_count": 91,
   "id": "52ad3061",
   "metadata": {},
   "outputs": [],
   "source": [
    "def lemmatizeRow(row):\n",
    "    if row['bigrams'] != 0:\n",
    "        return lemmatization(row['bigrams'])\n",
    "    else:\n",
    "        return 0"
   ]
  },
  {
   "cell_type": "code",
   "execution_count": 92,
   "id": "dbf13de7",
   "metadata": {},
   "outputs": [],
   "source": [
    "df['lemmatized'] = df.apply(lambda row: lemmatizeRow(row), axis=1)"
   ]
  },
  {
   "cell_type": "code",
   "execution_count": 93,
   "id": "8639648c",
   "metadata": {},
   "outputs": [
    {
     "data": {
      "text/html": [
       "<div>\n",
       "<style scoped>\n",
       "    .dataframe tbody tr th:only-of-type {\n",
       "        vertical-align: middle;\n",
       "    }\n",
       "\n",
       "    .dataframe tbody tr th {\n",
       "        vertical-align: top;\n",
       "    }\n",
       "\n",
       "    .dataframe thead th {\n",
       "        text-align: right;\n",
       "    }\n",
       "</style>\n",
       "<table border=\"1\" class=\"dataframe\">\n",
       "  <thead>\n",
       "    <tr style=\"text-align: right;\">\n",
       "      <th></th>\n",
       "      <th>text</th>\n",
       "      <th>id</th>\n",
       "      <th>author_id</th>\n",
       "      <th>is_english</th>\n",
       "      <th>bigrams</th>\n",
       "      <th>lemmatized</th>\n",
       "    </tr>\n",
       "  </thead>\n",
       "  <tbody>\n",
       "    <tr>\n",
       "      <th>0</th>\n",
       "      <td>I'm @NestyXXX big fan from Ukraine\\n\\nHope she...</td>\n",
       "      <td>1506636909660893185</td>\n",
       "      <td>1481357424343011328</td>\n",
       "      <td>1</td>\n",
       "      <td>[[im, big, fan, ukraine, hope, follows, say, hi]]</td>\n",
       "      <td>[[I, m, big, fan, ukraine, hope, follow, say, ...</td>\n",
       "    </tr>\n",
       "    <tr>\n",
       "      <th>1</th>\n",
       "      <td>@GBNEWS Nice one, Russia. Someone has a sense ...</td>\n",
       "      <td>1506636910717980673</td>\n",
       "      <td>1441739248005050374</td>\n",
       "      <td>1</td>\n",
       "      <td>[[nice, one, russia, someone, sense, humour]]</td>\n",
       "      <td>[[nice, one, russia, someone, sense, humour]]</td>\n",
       "    </tr>\n",
       "    <tr>\n",
       "      <th>2</th>\n",
       "      <td>Ivanka The Carnival Barker sends 1M meals to U...</td>\n",
       "      <td>1506636910470602758</td>\n",
       "      <td>1494897620417978369</td>\n",
       "      <td>1</td>\n",
       "      <td>[[ivanka, carnival, barker, sends_meals, ukrai...</td>\n",
       "      <td>[[ivanka, carnival, barker, sends_meal, ukrain...</td>\n",
       "    </tr>\n",
       "    <tr>\n",
       "      <th>3</th>\n",
       "      <td>@RhonddaBryant Hasn't rishi sunaks family firm...</td>\n",
       "      <td>1506636911103946753</td>\n",
       "      <td>3911182049</td>\n",
       "      <td>1</td>\n",
       "      <td>[[hasnt, rishi_sunaks, family, firm, continued...</td>\n",
       "      <td>[[have, not, rishi_sunak, family, firm, contin...</td>\n",
       "    </tr>\n",
       "    <tr>\n",
       "      <th>4</th>\n",
       "      <td>Man knows his stuff and has made me revaluate ...</td>\n",
       "      <td>1506636911171055616</td>\n",
       "      <td>901372926020251648</td>\n",
       "      <td>1</td>\n",
       "      <td>[[man, knows, stuff, made, revaluate, lot, thi...</td>\n",
       "      <td>[[man, know, stuff, make, revaluate, lot, thin...</td>\n",
       "    </tr>\n",
       "    <tr>\n",
       "      <th>...</th>\n",
       "      <td>...</td>\n",
       "      <td>...</td>\n",
       "      <td>...</td>\n",
       "      <td>...</td>\n",
       "      <td>...</td>\n",
       "      <td>...</td>\n",
       "    </tr>\n",
       "    <tr>\n",
       "      <th>491629</th>\n",
       "      <td>Poskupela koka kola drug putin da jede govna</td>\n",
       "      <td>1506348328296058883</td>\n",
       "      <td>849884745349689344</td>\n",
       "      <td>0</td>\n",
       "      <td>0</td>\n",
       "      <td>0</td>\n",
       "    </tr>\n",
       "    <tr>\n",
       "      <th>491630</th>\n",
       "      <td>@scottcarnold @AdamKinzinger @TuckerCarlson It...</td>\n",
       "      <td>1506348328279318540</td>\n",
       "      <td>3438292283</td>\n",
       "      <td>1</td>\n",
       "      <td>[[amazing, government, seems, able, perform, a...</td>\n",
       "      <td>[[amazing, government, seem, able, perform, ad...</td>\n",
       "    </tr>\n",
       "    <tr>\n",
       "      <th>491631</th>\n",
       "      <td>Some Russian soldiers have gotten frostbite du...</td>\n",
       "      <td>1506348328220446720</td>\n",
       "      <td>1307130207237627904</td>\n",
       "      <td>1</td>\n",
       "      <td>[[russian, soldiers, gotten, frostbite, due, l...</td>\n",
       "      <td>[[russian, soldier, get, frostbite, due, lack,...</td>\n",
       "    </tr>\n",
       "    <tr>\n",
       "      <th>491632</th>\n",
       "      <td>@Luxbeda @BartuschatT Das steht und jetzt eben...</td>\n",
       "      <td>1506348328539279370</td>\n",
       "      <td>1465708631475703811</td>\n",
       "      <td>0</td>\n",
       "      <td>0</td>\n",
       "      <td>0</td>\n",
       "    </tr>\n",
       "    <tr>\n",
       "      <th>491633</th>\n",
       "      <td>السفير الروسي لدى لبنان للجزيرة مباشر: لماذا ل...</td>\n",
       "      <td>1506348328484851718</td>\n",
       "      <td>53059376</td>\n",
       "      <td>0</td>\n",
       "      <td>0</td>\n",
       "      <td>0</td>\n",
       "    </tr>\n",
       "  </tbody>\n",
       "</table>\n",
       "<p>491634 rows × 6 columns</p>\n",
       "</div>"
      ],
      "text/plain": [
       "                                                     text  \\\n",
       "0       I'm @NestyXXX big fan from Ukraine\\n\\nHope she...   \n",
       "1       @GBNEWS Nice one, Russia. Someone has a sense ...   \n",
       "2       Ivanka The Carnival Barker sends 1M meals to U...   \n",
       "3       @RhonddaBryant Hasn't rishi sunaks family firm...   \n",
       "4       Man knows his stuff and has made me revaluate ...   \n",
       "...                                                   ...   \n",
       "491629       Poskupela koka kola drug putin da jede govna   \n",
       "491630  @scottcarnold @AdamKinzinger @TuckerCarlson It...   \n",
       "491631  Some Russian soldiers have gotten frostbite du...   \n",
       "491632  @Luxbeda @BartuschatT Das steht und jetzt eben...   \n",
       "491633  السفير الروسي لدى لبنان للجزيرة مباشر: لماذا ل...   \n",
       "\n",
       "                         id            author_id  is_english  \\\n",
       "0       1506636909660893185  1481357424343011328           1   \n",
       "1       1506636910717980673  1441739248005050374           1   \n",
       "2       1506636910470602758  1494897620417978369           1   \n",
       "3       1506636911103946753           3911182049           1   \n",
       "4       1506636911171055616   901372926020251648           1   \n",
       "...                     ...                  ...         ...   \n",
       "491629  1506348328296058883   849884745349689344           0   \n",
       "491630  1506348328279318540           3438292283           1   \n",
       "491631  1506348328220446720  1307130207237627904           1   \n",
       "491632  1506348328539279370  1465708631475703811           0   \n",
       "491633  1506348328484851718             53059376           0   \n",
       "\n",
       "                                                  bigrams  \\\n",
       "0       [[im, big, fan, ukraine, hope, follows, say, hi]]   \n",
       "1           [[nice, one, russia, someone, sense, humour]]   \n",
       "2       [[ivanka, carnival, barker, sends_meals, ukrai...   \n",
       "3       [[hasnt, rishi_sunaks, family, firm, continued...   \n",
       "4       [[man, knows, stuff, made, revaluate, lot, thi...   \n",
       "...                                                   ...   \n",
       "491629                                                  0   \n",
       "491630  [[amazing, government, seems, able, perform, a...   \n",
       "491631  [[russian, soldiers, gotten, frostbite, due, l...   \n",
       "491632                                                  0   \n",
       "491633                                                  0   \n",
       "\n",
       "                                               lemmatized  \n",
       "0       [[I, m, big, fan, ukraine, hope, follow, say, ...  \n",
       "1           [[nice, one, russia, someone, sense, humour]]  \n",
       "2       [[ivanka, carnival, barker, sends_meal, ukrain...  \n",
       "3       [[have, not, rishi_sunak, family, firm, contin...  \n",
       "4       [[man, know, stuff, make, revaluate, lot, thin...  \n",
       "...                                                   ...  \n",
       "491629                                                  0  \n",
       "491630  [[amazing, government, seem, able, perform, ad...  \n",
       "491631  [[russian, soldier, get, frostbite, due, lack,...  \n",
       "491632                                                  0  \n",
       "491633                                                  0  \n",
       "\n",
       "[491634 rows x 6 columns]"
      ]
     },
     "execution_count": 93,
     "metadata": {},
     "output_type": "execute_result"
    }
   ],
   "source": [
    "df"
   ]
  },
  {
   "cell_type": "code",
   "execution_count": 94,
   "id": "6ef797b0",
   "metadata": {},
   "outputs": [
    {
     "data": {
      "text/plain": [
       "[['I', 'm', 'big', 'fan', 'ukraine', 'hope', 'follow', 'say', 'hi'],\n",
       " ['nice', 'one', 'russia', 'someone', 'sense', 'humour']]"
      ]
     },
     "execution_count": 94,
     "metadata": {},
     "output_type": "execute_result"
    }
   ],
   "source": [
    "data_lemmatized = [i[0] for i in df[df['lemmatized']!=0]['lemmatized']]\n",
    "data_lemmatized[:2]"
   ]
  },
  {
   "cell_type": "code",
   "execution_count": 37,
   "id": "5299beda",
   "metadata": {},
   "outputs": [],
   "source": [
    "import gensim.corpora as corpora"
   ]
  },
  {
   "cell_type": "code",
   "execution_count": 95,
   "id": "30b55cf8",
   "metadata": {},
   "outputs": [
    {
     "name": "stdout",
     "output_type": "stream",
     "text": [
      "[[(0, 1), (1, 1), (2, 1), (3, 1), (4, 1), (5, 1), (6, 1), (7, 1), (8, 1)]]\n"
     ]
    }
   ],
   "source": [
    "# Create Dictionary\n",
    "id2word = corpora.Dictionary(data_lemmatized)\n",
    "# Create Corpus\n",
    "texts = data_lemmatized\n",
    "# Term Document Frequency\n",
    "corpus = [id2word.doc2bow(text) for text in texts]\n",
    "# View\n",
    "print(corpus[:1])"
   ]
  },
  {
   "cell_type": "code",
   "execution_count": 96,
   "id": "2a1c27bd",
   "metadata": {},
   "outputs": [],
   "source": [
    "def getBowRow(row):\n",
    "    if row['lemmatized'] != 0:\n",
    "        return id2word.doc2bow(row['lemmatized'][0])\n",
    "    else:\n",
    "        return 0"
   ]
  },
  {
   "cell_type": "code",
   "execution_count": 97,
   "id": "4ed04021",
   "metadata": {},
   "outputs": [],
   "source": [
    "df['bow_format'] = df.apply(lambda row: getBowRow(row), axis=1)"
   ]
  },
  {
   "cell_type": "code",
   "execution_count": 98,
   "id": "ede6f71c",
   "metadata": {},
   "outputs": [
    {
     "data": {
      "text/html": [
       "<div>\n",
       "<style scoped>\n",
       "    .dataframe tbody tr th:only-of-type {\n",
       "        vertical-align: middle;\n",
       "    }\n",
       "\n",
       "    .dataframe tbody tr th {\n",
       "        vertical-align: top;\n",
       "    }\n",
       "\n",
       "    .dataframe thead th {\n",
       "        text-align: right;\n",
       "    }\n",
       "</style>\n",
       "<table border=\"1\" class=\"dataframe\">\n",
       "  <thead>\n",
       "    <tr style=\"text-align: right;\">\n",
       "      <th></th>\n",
       "      <th>text</th>\n",
       "      <th>id</th>\n",
       "      <th>author_id</th>\n",
       "      <th>is_english</th>\n",
       "      <th>bigrams</th>\n",
       "      <th>lemmatized</th>\n",
       "      <th>bow_format</th>\n",
       "    </tr>\n",
       "  </thead>\n",
       "  <tbody>\n",
       "    <tr>\n",
       "      <th>0</th>\n",
       "      <td>I'm @NestyXXX big fan from Ukraine\\n\\nHope she...</td>\n",
       "      <td>1506636909660893185</td>\n",
       "      <td>1481357424343011328</td>\n",
       "      <td>1</td>\n",
       "      <td>[[im, big, fan, ukraine, hope, follows, say, hi]]</td>\n",
       "      <td>[[I, m, big, fan, ukraine, hope, follow, say, ...</td>\n",
       "      <td>[(0, 1), (1, 1), (2, 1), (3, 1), (4, 1), (5, 1...</td>\n",
       "    </tr>\n",
       "    <tr>\n",
       "      <th>1</th>\n",
       "      <td>@GBNEWS Nice one, Russia. Someone has a sense ...</td>\n",
       "      <td>1506636910717980673</td>\n",
       "      <td>1441739248005050374</td>\n",
       "      <td>1</td>\n",
       "      <td>[[nice, one, russia, someone, sense, humour]]</td>\n",
       "      <td>[[nice, one, russia, someone, sense, humour]]</td>\n",
       "      <td>[(9, 1), (10, 1), (11, 1), (12, 1), (13, 1), (...</td>\n",
       "    </tr>\n",
       "    <tr>\n",
       "      <th>2</th>\n",
       "      <td>Ivanka The Carnival Barker sends 1M meals to U...</td>\n",
       "      <td>1506636910470602758</td>\n",
       "      <td>1494897620417978369</td>\n",
       "      <td>1</td>\n",
       "      <td>[[ivanka, carnival, barker, sends_meals, ukrai...</td>\n",
       "      <td>[[ivanka, carnival, barker, sends_meal, ukrain...</td>\n",
       "      <td>[(15, 1), (16, 1), (17, 1), (18, 1), (19, 1), ...</td>\n",
       "    </tr>\n",
       "    <tr>\n",
       "      <th>3</th>\n",
       "      <td>@RhonddaBryant Hasn't rishi sunaks family firm...</td>\n",
       "      <td>1506636911103946753</td>\n",
       "      <td>3911182049</td>\n",
       "      <td>1</td>\n",
       "      <td>[[hasnt, rishi_sunaks, family, firm, continued...</td>\n",
       "      <td>[[have, not, rishi_sunak, family, firm, contin...</td>\n",
       "      <td>[(23, 1), (24, 1), (25, 1), (26, 1), (27, 1), ...</td>\n",
       "    </tr>\n",
       "    <tr>\n",
       "      <th>4</th>\n",
       "      <td>Man knows his stuff and has made me revaluate ...</td>\n",
       "      <td>1506636911171055616</td>\n",
       "      <td>901372926020251648</td>\n",
       "      <td>1</td>\n",
       "      <td>[[man, knows, stuff, made, revaluate, lot, thi...</td>\n",
       "      <td>[[man, know, stuff, make, revaluate, lot, thin...</td>\n",
       "      <td>[(32, 1), (33, 1), (34, 1), (35, 1), (36, 1), ...</td>\n",
       "    </tr>\n",
       "    <tr>\n",
       "      <th>...</th>\n",
       "      <td>...</td>\n",
       "      <td>...</td>\n",
       "      <td>...</td>\n",
       "      <td>...</td>\n",
       "      <td>...</td>\n",
       "      <td>...</td>\n",
       "      <td>...</td>\n",
       "    </tr>\n",
       "    <tr>\n",
       "      <th>491629</th>\n",
       "      <td>Poskupela koka kola drug putin da jede govna</td>\n",
       "      <td>1506348328296058883</td>\n",
       "      <td>849884745349689344</td>\n",
       "      <td>0</td>\n",
       "      <td>0</td>\n",
       "      <td>0</td>\n",
       "      <td>0</td>\n",
       "    </tr>\n",
       "    <tr>\n",
       "      <th>491630</th>\n",
       "      <td>@scottcarnold @AdamKinzinger @TuckerCarlson It...</td>\n",
       "      <td>1506348328279318540</td>\n",
       "      <td>3438292283</td>\n",
       "      <td>1</td>\n",
       "      <td>[[amazing, government, seems, able, perform, a...</td>\n",
       "      <td>[[amazing, government, seem, able, perform, ad...</td>\n",
       "      <td>[(8, 1), (37, 1), (116, 1), (181, 1), (268, 1)...</td>\n",
       "    </tr>\n",
       "    <tr>\n",
       "      <th>491631</th>\n",
       "      <td>Some Russian soldiers have gotten frostbite du...</td>\n",
       "      <td>1506348328220446720</td>\n",
       "      <td>1307130207237627904</td>\n",
       "      <td>1</td>\n",
       "      <td>[[russian, soldiers, gotten, frostbite, due, l...</td>\n",
       "      <td>[[russian, soldier, get, frostbite, due, lack,...</td>\n",
       "      <td>[(5, 1), (7, 1), (69, 1), (167, 2), (207, 1), ...</td>\n",
       "    </tr>\n",
       "    <tr>\n",
       "      <th>491632</th>\n",
       "      <td>@Luxbeda @BartuschatT Das steht und jetzt eben...</td>\n",
       "      <td>1506348328539279370</td>\n",
       "      <td>1465708631475703811</td>\n",
       "      <td>0</td>\n",
       "      <td>0</td>\n",
       "      <td>0</td>\n",
       "      <td>0</td>\n",
       "    </tr>\n",
       "    <tr>\n",
       "      <th>491633</th>\n",
       "      <td>السفير الروسي لدى لبنان للجزيرة مباشر: لماذا ل...</td>\n",
       "      <td>1506348328484851718</td>\n",
       "      <td>53059376</td>\n",
       "      <td>0</td>\n",
       "      <td>0</td>\n",
       "      <td>0</td>\n",
       "      <td>0</td>\n",
       "    </tr>\n",
       "  </tbody>\n",
       "</table>\n",
       "<p>491634 rows × 7 columns</p>\n",
       "</div>"
      ],
      "text/plain": [
       "                                                     text  \\\n",
       "0       I'm @NestyXXX big fan from Ukraine\\n\\nHope she...   \n",
       "1       @GBNEWS Nice one, Russia. Someone has a sense ...   \n",
       "2       Ivanka The Carnival Barker sends 1M meals to U...   \n",
       "3       @RhonddaBryant Hasn't rishi sunaks family firm...   \n",
       "4       Man knows his stuff and has made me revaluate ...   \n",
       "...                                                   ...   \n",
       "491629       Poskupela koka kola drug putin da jede govna   \n",
       "491630  @scottcarnold @AdamKinzinger @TuckerCarlson It...   \n",
       "491631  Some Russian soldiers have gotten frostbite du...   \n",
       "491632  @Luxbeda @BartuschatT Das steht und jetzt eben...   \n",
       "491633  السفير الروسي لدى لبنان للجزيرة مباشر: لماذا ل...   \n",
       "\n",
       "                         id            author_id  is_english  \\\n",
       "0       1506636909660893185  1481357424343011328           1   \n",
       "1       1506636910717980673  1441739248005050374           1   \n",
       "2       1506636910470602758  1494897620417978369           1   \n",
       "3       1506636911103946753           3911182049           1   \n",
       "4       1506636911171055616   901372926020251648           1   \n",
       "...                     ...                  ...         ...   \n",
       "491629  1506348328296058883   849884745349689344           0   \n",
       "491630  1506348328279318540           3438292283           1   \n",
       "491631  1506348328220446720  1307130207237627904           1   \n",
       "491632  1506348328539279370  1465708631475703811           0   \n",
       "491633  1506348328484851718             53059376           0   \n",
       "\n",
       "                                                  bigrams  \\\n",
       "0       [[im, big, fan, ukraine, hope, follows, say, hi]]   \n",
       "1           [[nice, one, russia, someone, sense, humour]]   \n",
       "2       [[ivanka, carnival, barker, sends_meals, ukrai...   \n",
       "3       [[hasnt, rishi_sunaks, family, firm, continued...   \n",
       "4       [[man, knows, stuff, made, revaluate, lot, thi...   \n",
       "...                                                   ...   \n",
       "491629                                                  0   \n",
       "491630  [[amazing, government, seems, able, perform, a...   \n",
       "491631  [[russian, soldiers, gotten, frostbite, due, l...   \n",
       "491632                                                  0   \n",
       "491633                                                  0   \n",
       "\n",
       "                                               lemmatized  \\\n",
       "0       [[I, m, big, fan, ukraine, hope, follow, say, ...   \n",
       "1           [[nice, one, russia, someone, sense, humour]]   \n",
       "2       [[ivanka, carnival, barker, sends_meal, ukrain...   \n",
       "3       [[have, not, rishi_sunak, family, firm, contin...   \n",
       "4       [[man, know, stuff, make, revaluate, lot, thin...   \n",
       "...                                                   ...   \n",
       "491629                                                  0   \n",
       "491630  [[amazing, government, seem, able, perform, ad...   \n",
       "491631  [[russian, soldier, get, frostbite, due, lack,...   \n",
       "491632                                                  0   \n",
       "491633                                                  0   \n",
       "\n",
       "                                               bow_format  \n",
       "0       [(0, 1), (1, 1), (2, 1), (3, 1), (4, 1), (5, 1...  \n",
       "1       [(9, 1), (10, 1), (11, 1), (12, 1), (13, 1), (...  \n",
       "2       [(15, 1), (16, 1), (17, 1), (18, 1), (19, 1), ...  \n",
       "3       [(23, 1), (24, 1), (25, 1), (26, 1), (27, 1), ...  \n",
       "4       [(32, 1), (33, 1), (34, 1), (35, 1), (36, 1), ...  \n",
       "...                                                   ...  \n",
       "491629                                                  0  \n",
       "491630  [(8, 1), (37, 1), (116, 1), (181, 1), (268, 1)...  \n",
       "491631  [(5, 1), (7, 1), (69, 1), (167, 2), (207, 1), ...  \n",
       "491632                                                  0  \n",
       "491633                                                  0  \n",
       "\n",
       "[491634 rows x 7 columns]"
      ]
     },
     "execution_count": 98,
     "metadata": {},
     "output_type": "execute_result"
    }
   ],
   "source": [
    "df"
   ]
  },
  {
   "cell_type": "code",
   "execution_count": 99,
   "id": "d1fe1aa3",
   "metadata": {},
   "outputs": [],
   "source": [
    "# Build LDA model\n",
    "lda_model = gensim.models.LdaMulticore(corpus=corpus,\n",
    "                                       id2word=id2word,\n",
    "                                       num_topics=15, \n",
    "                                       random_state=100,\n",
    "                                       chunksize=100,\n",
    "                                       passes=10,\n",
    "                                       per_word_topics=True)"
   ]
  },
  {
   "cell_type": "code",
   "execution_count": 100,
   "id": "d79fc970",
   "metadata": {},
   "outputs": [],
   "source": [
    "from pprint import pprint"
   ]
  },
  {
   "cell_type": "code",
   "execution_count": 101,
   "id": "0d0a75da",
   "metadata": {},
   "outputs": [
    {
     "name": "stdout",
     "output_type": "stream",
     "text": [
      "[(0,\n",
      "  '0.051*\"ukraine\" + 0.043*\"russia\" + 0.022*\"sanction\" + 0.021*\"uk\" + '\n",
      "  '0.015*\"russian\" + 0.015*\"situation\" + 0.014*\"new\" + 0.014*\"crisis\" + '\n",
      "  '0.012*\"large\" + 0.012*\"post\"'),\n",
      " (1,\n",
      "  '0.050*\"re\" + 0.041*\"you\" + 0.038*\"everyone\" + 0.036*\"they\" + 0.035*\"word\" + '\n",
      "  '0.033*\"read\" + 0.030*\"aggression\" + 0.030*\"watch\" + 0.027*\"someone\" + '\n",
      "  '0.026*\"moscow\"'),\n",
      " (2,\n",
      "  '0.040*\"ukraine\" + 0.030*\"bad\" + 0.023*\"russia\" + 0.020*\"seem\" + '\n",
      "  '0.017*\"free\" + 0.017*\"government\" + 0.016*\"week\" + 0.015*\"history\" + '\n",
      "  '0.013*\"last\" + 0.013*\"two\"'),\n",
      " (3,\n",
      "  '0.036*\"child\" + 0.031*\"every\" + 0.029*\"day\" + 0.029*\"people\" + 0.029*\"eu\" + '\n",
      "  '0.027*\"ukrainian\" + 0.025*\"ukraine\" + 0.022*\"nazi\" + 0.018*\"defend\" + '\n",
      "  '0.017*\"die\"'),\n",
      " (4,\n",
      "  '0.071*\"russia\" + 0.039*\"putin\" + 0.034*\"biden\" + 0.030*\"ukraine\" + '\n",
      "  '0.023*\"we\" + 0.020*\"china\" + 0.018*\"invade\" + 0.017*\"oil\" + 0.017*\"war\" + '\n",
      "  '0.017*\"country\"'),\n",
      " (5,\n",
      "  '0.058*\"s\" + 0.034*\"I\" + 0.032*\"refugee\" + 0.027*\"m\" + 0.026*\"ukrainian\" + '\n",
      "  '0.024*\"that\" + 0.022*\"putin\" + 0.021*\"sure\" + 0.017*\"he\" + '\n",
      "  '0.016*\"everything\"'),\n",
      " (6,\n",
      "  '0.038*\"russia\" + 0.035*\"zelensky\" + 0.022*\"price\" + 0.018*\"company\" + '\n",
      "  '0.017*\"energy\" + 0.017*\"pay\" + 0.017*\"business\" + 0.015*\"wrong\" + '\n",
      "  '0.015*\"russian\" + 0.015*\"ukraines\"'),\n",
      " (7,\n",
      "  '0.093*\"war\" + 0.059*\"ukraine\" + 0.044*\"putin\" + 0.032*\"talk\" + 0.031*\"call\" '\n",
      "  '+ 0.027*\"russia\" + 0.027*\"believe\" + 0.025*\"lie\" + 0.024*\"crime\" + '\n",
      "  '0.019*\"today\"'),\n",
      " (8,\n",
      "  '0.041*\"really\" + 0.033*\"thank\" + 0.029*\"love\" + 0.027*\"care\" + '\n",
      "  '0.022*\"video\" + 0.021*\"man\" + 0.021*\"understand\" + 0.021*\"wait\" + '\n",
      "  '0.020*\"ukraine\" + 0.019*\"suffer\"'),\n",
      " (9,\n",
      "  '0.085*\"russian\" + 0.059*\"ukraine\" + 0.036*\"ukrainian\" + 0.034*\"via\" + '\n",
      "  '0.032*\"putin\" + 0.025*\"say\" + 0.024*\"kyiv\" + 0.020*\"force\" + 0.018*\"russia\" '\n",
      "  '+ 0.015*\"report\"'),\n",
      " (10,\n",
      "  '0.106*\"nato\" + 0.044*\"russia\" + 0.040*\"ukraine\" + 0.027*\"join\" + '\n",
      "  '0.026*\"country\" + 0.024*\"year\" + 0.022*\"poland\" + 0.017*\"fuck\" + '\n",
      "  '0.016*\"border\" + 0.014*\"member\"'),\n",
      " (11,\n",
      "  '0.095*\"ukraine\" + 0.060*\"people\" + 0.043*\"help\" + 0.042*\"support\" + '\n",
      "  '0.028*\"go\" + 0.021*\"need\" + 0.020*\"ukrainian\" + 0.020*\"fight\" + '\n",
      "  '0.019*\"please\" + 0.019*\"war\"'),\n",
      " (12,\n",
      "  '0.055*\"news\" + 0.051*\"ukraine\" + 0.046*\"end\" + 0.038*\"war\" + 0.030*\"fire\" + '\n",
      "  '0.028*\"russia\" + 0.024*\"win\" + 0.020*\"russian\" + 0.018*\"peace\" + '\n",
      "  '0.015*\"block\"'),\n",
      " (13,\n",
      "  '0.071*\"ukraine\" + 0.045*\"russian\" + 0.039*\"russia\" + 0.034*\"stop\" + '\n",
      "  '0.032*\"kill\" + 0.031*\"putin\" + 0.027*\"nuclear\" + 0.024*\"send\" + '\n",
      "  '0.023*\"ukrainian\" + 0.021*\"civilian\"'),\n",
      " (14,\n",
      "  '0.069*\"not\" + 0.062*\"putin\" + 0.043*\"do\" + 0.031*\"think\" + 0.030*\"would\" + '\n",
      "  '0.029*\"like\" + 0.026*\"russia\" + 0.024*\"know\" + 0.024*\"go\" + 0.022*\"get\"')]\n"
     ]
    }
   ],
   "source": [
    "# Print the Keyword in the 15 topics\n",
    "pprint(lda_model.print_topics())\n",
    "doc_lda = lda_model[corpus]"
   ]
  },
  {
   "cell_type": "code",
   "execution_count": 63,
   "id": "af854eb9",
   "metadata": {},
   "outputs": [
    {
     "name": "stderr",
     "output_type": "stream",
     "text": [
      "/Users/parhomcukmalika/opt/anaconda3/lib/python3.8/site-packages/ipykernel/ipkernel.py:287: DeprecationWarning: `should_run_async` will not call `transform_cell` automatically in the future. Please pass the result to `transformed_cell` argument and any exception that happen during thetransform in `preprocessing_exc_tuple` in IPython 7.17 and above.\n",
      "  and should_run_async(code)\n"
     ]
    }
   ],
   "source": [
    "#import pyLDAvis.gensim\n",
    "import pickle \n",
    "import pyLDAvis\n",
    "import pyLDAvis.gensim_models"
   ]
  },
  {
   "cell_type": "code",
   "execution_count": 126,
   "id": "62af1860",
   "metadata": {},
   "outputs": [
    {
     "data": {
      "text/html": [
       "\n",
       "<link rel=\"stylesheet\" type=\"text/css\" href=\"https://cdn.jsdelivr.net/gh/bmabey/pyLDAvis@3.3.1/pyLDAvis/js/ldavis.v1.0.0.css\">\n",
       "\n",
       "\n",
       "<div id=\"ldavis_el522371402107154880326545051658\"></div>\n",
       "<script type=\"text/javascript\">\n",
       "\n",
       "var ldavis_el522371402107154880326545051658_data = {\"mdsDat\": {\"x\": [0.13050556781437828, 0.1585436345033898, 0.13710307702128524, 0.12555953403434472, 0.051704743857314266, -0.016277795362128936, -0.0051393339049663036, 0.0036293978152705866, -0.007152933757575983, 0.08279994689259133, -0.025241974988539875, -0.056941804201061035, -0.13983644996516373, -0.04051221546747786, -0.3987433942916589], \"y\": [-0.20093901717760534, 0.009359335547010772, -0.08266698514835655, 0.09600690009670042, 0.10187193886880808, 0.16505674354530514, 0.0019082833110948265, -0.2273922996180046, 0.13010041602588898, 0.06606070036821866, -0.11235617462414912, 0.12405723690367777, -0.21522320031663986, 0.13775377492278848, 0.006402347295261516], \"topics\": [1, 2, 3, 4, 5, 6, 7, 8, 9, 10, 11, 12, 13, 14, 15], \"cluster\": [1, 1, 1, 1, 1, 1, 1, 1, 1, 1, 1, 1, 1, 1, 1], \"Freq\": [13.915814237602136, 12.1552283255822, 9.062192356227666, 8.434703816585145, 7.161393405319746, 5.955950674881374, 5.876174070804644, 5.757769065092471, 5.537741815168206, 5.378079846956456, 5.232938691422709, 4.413318544455136, 4.11834289609152, 4.07684363652119, 2.9235086172893965]}, \"tinfo\": {\"Term\": [\"not\", \"nato\", \"russian\", \"war\", \"people\", \"do\", \"ukraine\", \"s\", \"putin\", \"biden\", \"ukrainian\", \"help\", \"think\", \"support\", \"russia\", \"would\", \"news\", \"go\", \"kill\", \"stop\", \"via\", \"end\", \"nuclear\", \"child\", \"I\", \"country\", \"really\", \"like\", \"call\", \"sanction\", \"not\", \"do\", \"think\", \"can\", \"be\", \"guy\", \"anything\", \"strike\", \"gop\", \"indian\", \"whatever\", \"stuff\", \"turkey\", \"low\", \"except\", \"dumb\", \"anyway\", \"terrible\", \"research\", \"deep\", \"produce\", \"red\", \"arrive\", \"travel\", \"something\", \"shift\", \"retweet\", \"brainwash\", \"self\", \"rd\", \"might\", \"maybe\", \"pretty\", \"idea\", \"know\", \"would\", \"actually\", \"like\", \"thing\", \"probably\", \"well\", \"even\", \"anyone\", \"want\", \"happen\", \"never\", \"get\", \"go\", \"putin\", \"trump\", \"look\", \"right\", \"mean\", \"see\", \"one\", \"say\", \"make\", \"russia\", \"good\", \"people\", \"take\", \"way\", \"biden\", \"china\", \"invade\", \"oil\", \"usa\", \"gas\", \"india\", \"joe\", \"fail\", \"guess\", \"iran\", \"threaten\", \"weak\", \"pull\", \"import\", \"france\", \"walk\", \"doubt\", \"carry\", \"democratic\", \"human_right\", \"pakistan\", \"several\", \"complete\", \"obviously\", \"corruption\", \"rescue\", \"correct\", \"tory\", \"expand\", \"deal\", \"agree\", \"america\", \"buy\", \"top\", \"us\", \"sanction\", \"russia\", \"fear\", \"west\", \"we\", \"germany\", \"president\", \"europe\", \"world\", \"country\", \"putin\", \"leader\", \"trump\", \"nato\", \"ukraine\", \"would\", \"war\", \"power\", \"say\", \"try\", \"make\", \"take\", \"want\", \"stand\", \"stay\", \"though\", \"donation\", \"chinese\", \"shame\", \"white\", \"heart\", \"damn\", \"aggressor\", \"across\", \"slavaukraini\", \"cancel\", \"fighting\", \"community\", \"secret\", \"short\", \"truly\", \"bunch\", \"invite\", \"study\", \"divide\", \"eventually\", \"mass\", \"wheat\", \"logic\", \"player\", \"truck\", \"chaos\", \"podcast\", \"side\", \"support\", \"please\", \"help\", \"family\", \"money\", \"life\", \"people\", \"fight\", \"save\", \"live\", \"bring\", \"friend\", \"truth\", \"need\", \"ukraine\", \"go\", \"let\", \"home\", \"ask\", \"world\", \"may\", \"ukrainian\", \"give\", \"war\", \"back\", \"make\", \"country\", \"we\", \"get\", \"want\", \"stop\", \"putin\", \"russia\", \"kill\", \"send\", \"civilian\", \"sky\", \"nuke\", \"near\", \"twitter\", \"name\", \"puppet\", \"genocide\", \"iraq\", \"plane\", \"blow\", \"hey\", \"stoprussia\", \"difference\", \"nobody\", \"bank\", \"defeat\", \"influence\", \"united\", \"oligarch\", \"arrest\", \"city\", \"aircraft\", \"white_house\", \"planet\", \"escalate\", \"brother\", \"hundred\", \"bomb\", \"dead\", \"close\", \"weapon\", \"destroy\", \"nuclear\", \"stop\", \"whole\", \"protect\", \"soldier\", \"army\", \"troop\", \"thousand\", \"russian\", \"ukraine\", \"must\", \"attack\", \"russia\", \"ukrainian\", \"putin\", \"war\", \"we\", \"give\", \"russians\", \"need\", \"world\", \"military\", \"help\", \"kyiv\", \"report\", \"claim\", \"threat\", \"vladimir\", \"kiev\", \"americans\", \"yeah\", \"territory\", \"sound\", \"trust\", \"accord\", \"hide\", \"worth\", \"embassy\", \"funny\", \"clearly\", \"stick\", \"throw\", \"map\", \"powerful\", \"seize\", \"perhaps\", \"kick\", \"police\", \"bill\", \"cnn\", \"advance\", \"stage\", \"coup\", \"via\", \"force\", \"russian\", \"inflation\", \"mariupol\", \"ukrainian\", \"say\", \"military\", \"invasion\", \"ukraine\", \"use\", \"putin\", \"kremlin\", \"break\", \"russia\", \"president\", \"moscow\", \"attack\", \"face\", \"take\", \"situation\", \"large\", \"global\", \"etc\", \"afghanistan\", \"syria\", \"oligarchs\", \"economic\", \"launch\", \"remain\", \"line\", \"asset\", \"human\", \"current\", \"law\", \"nft\", \"region\", \"completely\", \"interest\", \"update\", \"position\", \"raise\", \"picture\", \"east\", \"school\", \"focus\", \"dangerous\", \"immediately\", \"own\", \"note\", \"ban\", \"second\", \"post\", \"uk\", \"crisis\", \"plan\", \"sanction\", \"new\", \"ukraine\", \"russia\", \"eu\", \"also\", \"russian\", \"high\", \"war\", \"bad\", \"free\", \"week\", \"history\", \"instead\", \"kind\", \"there\", \"listen\", \"explain\", \"choose\", \"jet\", \"answer\", \"eastern\", \"add\", \"public\", \"victim\", \"journalist\", \"piece\", \"impact\", \"miss\", \"seem\", \"ukrainerussia\", \"seriously\", \"book\", \"access\", \"station\", \"charge\", \"export\", \"wwii\", \"biological\", \"evidence\", \"two\", \"last\", \"decide\", \"late\", \"government\", \"play\", \"far\", \"part\", \"ukrainewar\", \"long\", \"ukraine\", \"russia\", \"speech\", \"time\", \"take\", \"one\", \"europe\", \"lot\", \"today\", \"day\", \"war\", \"s\", \"I\", \"refugee\", \"m\", \"that\", \"sure\", \"he\", \"everything\", \"evil\", \"donate\", \"ve\", \"target\", \"person\", \"bombing\", \"flag\", \"to\", \"going\", \"stopputin\", \"traitor\", \"worry\", \"yesterday\", \"population\", \"dear\", \"quite\", \"willing\", \"jewish\", \"defence\", \"channel\", \"fair\", \"coward\", \"d\", \"place\", \"old\", \"wish\", \"flee\", \"hate\", \"ukrainian\", \"nt\", \"putin\", \"take\", \"ukraine\", \"go\", \"try\", \"get\", \"one\", \"join\", \"poland\", \"fuck\", \"belarus\", \"ago\", \"ally\", \"house\", \"billion\", \"ussr\", \"front\", \"th\", \"soviet_union\", \"expert\", \"three\", \"spend\", \"ukranian\", \"hunter\", \"donbas\", \"agreement\", \"occupy\", \"chernobyl\", \"alliance\", \"german\", \"finance\", \"main\", \"violence\", \"art\", \"production\", \"admit\", \"dictatorship\", \"member\", \"nato\", \"economy\", \"border\", \"become\", \"year\", \"missile\", \"will\", \"un\", \"republican\", \"pm\", \"country\", \"russia\", \"ukraine\", \"move\", \"we\", \"attack\", \"security\", \"give\", \"say\", \"talk\", \"crime\", \"russiaukraine\", \"shit\", \"criminal\", \"hard\", \"covid\", \"exactly\", \"crimea\", \"begin\", \"kid\", \"pray\", \"cover\", \"commit\", \"cost\", \"russias\", \"drop\", \"ass\", \"easy\", \"excuse\", \"united_states\", \"affect\", \"empire\", \"dream\", \"amount\", \"tough\", \"dem\", \"per\", \"measure\", \"moral\", \"believe\", \"lie\", \"fund\", \"call\", \"million\", \"today\", \"statement\", \"war\", \"former\", \"still\", \"ukraine\", \"putin\", \"tell\", \"invasion\", \"russia\", \"people\", \"say\", \"day\", \"continue\", \"child\", \"every\", \"nazi\", \"woman\", \"head\", \"god\", \"shoot\", \"sad\", \"nazis\", \"absolutely\", \"johnson\", \"wake\", \"result\", \"fascist\", \"interesting\", \"reality\", \"brexit\", \"brave\", \"pass\", \"compare\", \"half\", \"illegal\", \"slaughter\", \"racist\", \"finally\", \"african\", \"cross\", \"cry\", \"fine\", \"sovereign\", \"defend\", \"eu\", \"freedom\", \"day\", \"die\", \"murder\", \"innocent\", \"always\", \"ground\", \"next\", \"people\", \"vote\", \"ukrainian\", \"ukraine\", \"man\", \"one\", \"putin\", \"country\", \"zelensky\", \"price\", \"company\", \"energy\", \"ukraines\", \"european\", \"tank\", \"food\", \"market\", \"lol\", \"business\", \"canada\", \"capture\", \"hero\", \"train\", \"message\", \"hour\", \"poor\", \"battle\", \"feed\", \"drive\", \"fuel\", \"urge\", \"neonazi\", \"mistake\", \"actual\", \"intelligence\", \"chemical_weapon\", \"bear\", \"morning\", \"forget\", \"risk\", \"sponsor\", \"wrong\", \"supply\", \"pay\", \"hit\", \"ww\", \"russia\", \"leave\", \"russian\", \"ukraine\", \"could\", \"military\", \"ukrainian\", \"thank\", \"love\", \"wait\", \"suffer\", \"speak\", \"matter\", \"check\", \"air\", \"share\", \"corrupt\", \"learn\", \"imagine\", \"kharkiv\", \"blood\", \"care\", \"bit\", \"fly\", \"deserve\", \"bully\", \"pro\", \"inside\", \"boy\", \"benefit\", \"street\", \"opportunity\", \"diplomacy\", \"detail\", \"victory\", \"music\", \"industry\", \"govt\", \"really\", \"video\", \"understand\", \"hell\", \"man\", \"medium\", \"great\", \"work\", \"time\", \"hear\", \"push\", \"ukraine\", \"enough\", \"much\", \"see\", \"get\", \"putin\", \"news\", \"end\", \"fire\", \"win\", \"block\", \"fake\", \"humanity\", \"hitler\", \"story\", \"information\", \"general\", \"opinion\", \"crazy\", \"within\", \"future\", \"ppl\", \"fighter\", \"respect\", \"narrative\", \"leadership\", \"project\", \"declare\", \"ship\", \"appear\", \"confirm\", \"total\", \"role\", \"tomorrow\", \"ill\", \"repeat\", \"tweet\", \"peace\", \"source\", \"true\", \"open\", \"war\", \"ukraine\", \"full\", \"russia\", \"russian\", \"power\", \"conflict\", \"come\", \"lose\", \"re\", \"you\", \"everyone\", \"they\", \"word\", \"aggression\", \"someone\", \"israel\", \"shell\", \"set\", \"sign\", \"article\", \"small\", \"thread\", \"mr\", \"welcome\", \"special\", \"ll\", \"thought\", \"trade\", \"ambassador\", \"amid\", \"early\", \"fool\", \"visit\", \"sense\", \"nice\", \"release\", \"apparently\", \"prayer\", \"read\", \"remember\", \"moscow\", \"watch\", \"comment\", \"have\", \"soon\"], \"Freq\": [46898.0, 37059.0, 59812.0, 63588.0, 44532.0, 29401.0, 190326.0, 16188.0, 117667.0, 20300.0, 48070.0, 22988.0, 21154.0, 20309.0, 140983.0, 27190.0, 10798.0, 33996.0, 13198.0, 22882.0, 11886.0, 9188.0, 14071.0, 9231.0, 9395.0, 28674.0, 8761.0, 27893.0, 12087.0, 14082.0, 46897.18125082923, 29400.207663364024, 21152.99090603131, 8829.649752169666, 7235.736923364717, 5123.7882286056, 4879.174328420641, 2800.3619286846115, 2227.8973971108644, 1842.9890548462674, 1621.7995323842913, 1469.1337514471672, 1341.0675805682913, 1302.3458234970076, 1246.3738686497009, 1186.2547617442622, 1142.222581931849, 1139.4024650196645, 993.1988880248847, 925.2537914284649, 903.7356446454262, 901.2654060620612, 851.3906673727837, 846.0675747236604, 4866.2928880500185, 664.5851504384896, 634.4144795318132, 631.1052333454999, 625.4066864663279, 620.1936095400317, 3749.950599919829, 4570.410716686638, 1878.8936854184335, 2576.7778723069096, 16413.752799682934, 20253.435622768073, 3888.187637809486, 19696.468356047622, 8080.281197411149, 2447.487835532892, 9685.767869125708, 8203.997419008914, 3714.774843185163, 12918.395580522567, 6399.239063930324, 6197.8740914195105, 14623.935807407528, 16225.635042277863, 41632.13283411357, 8081.3653008429565, 6100.617044637079, 7470.398099302612, 5061.900528456373, 8910.525001391665, 8637.030636148207, 11055.521852683478, 7981.447730772013, 17404.91671161584, 6054.047184557136, 7415.079864490731, 5731.372800796873, 5318.999875365841, 20299.002986621057, 11938.648743109063, 10752.139692597892, 9878.01834176038, 7642.448738934268, 5261.188578231409, 4797.041507588253, 3334.9772177277478, 2631.984463046338, 2486.4206595568617, 2299.681476986259, 2239.1865021478147, 2024.1508461351052, 1656.4224834314748, 1619.103077294021, 1567.3692777177819, 1483.498841684761, 1376.3700754093884, 1291.1942891517467, 1288.6549395994589, 1271.6107363189913, 1252.911164733662, 1184.7960790737027, 1124.418578881592, 1104.7055908475222, 1084.9678568376303, 1078.281975342225, 1032.5389015572523, 957.8909470190553, 919.3279868577144, 2912.920577360564, 3869.500468832795, 5439.030757628072, 4149.642237323128, 1860.8415659058883, 4180.007749299258, 7555.65360351435, 41862.35156601499, 2603.0176486147366, 5472.492266134845, 13357.005590651259, 2299.7195582934964, 5988.478306751485, 5172.626580137787, 9277.356521075351, 9770.154482525446, 22946.303284014324, 3857.035370900581, 5932.45726686405, 8403.663550574853, 17813.588663414295, 6904.028270489368, 9875.93308086443, 3821.3951167003065, 6034.526168472001, 3972.732156349102, 4392.527289481423, 4359.736946830006, 4340.688869418514, 7595.761367588365, 3373.571292948792, 2544.7985977570024, 1908.6669024330688, 1810.3380150336257, 1802.4854711559528, 1798.0615865023892, 1661.535209157251, 1527.819036840411, 1505.4646952734886, 1365.9009842129594, 1285.1196327995383, 1264.4868979822083, 1009.8633403638619, 984.4014560785437, 951.2992948428854, 875.6944480962597, 816.5523313680617, 744.2820535320295, 732.8505416668803, 716.2833181031048, 714.6518556135748, 678.7942728709409, 642.4208333222882, 622.9355801007825, 622.0714456419022, 608.3334399094282, 583.2990105832799, 575.8546526245361, 513.4873802860477, 5669.677302675583, 18446.099710037277, 8428.78411609197, 19040.81444827189, 4439.055947906229, 6412.097433946906, 5227.784092651376, 26307.587702218436, 8702.80380762071, 3467.779475593778, 5890.429167387381, 3086.5847672767873, 2911.5523903523126, 2609.3966202354864, 9107.35607753588, 41912.8552694439, 12193.69875187092, 5643.250838934385, 3138.7263801885947, 3515.653201082056, 7229.914449823107, 3312.409924296219, 8718.178861814486, 4628.639115079714, 8375.725378860621, 3920.3973414404736, 4889.821526012338, 5443.520677166053, 5261.397088443204, 4916.161074082664, 4131.13668485953, 4118.204698980529, 4611.416282920727, 4541.372501686553, 13197.419682465788, 9867.81027320847, 8757.890863216935, 4601.066457621627, 3611.6334451187613, 2748.8880749163554, 2738.9903524421557, 2545.7825206563894, 2523.2550707710625, 2412.799189627401, 2407.279848974042, 2152.354920955446, 1977.5541131441262, 1818.117136434567, 1650.8407422483344, 1545.500382465553, 1536.3703268580152, 1481.0551926095188, 1357.4692220918073, 1308.9618724759332, 1249.9940481991518, 1200.8316966314326, 1197.7025502547244, 6201.799645951691, 1093.672098977738, 1090.203049898667, 1022.2427337799404, 981.4922824609633, 973.9562302926015, 964.165639655268, 6343.634184539099, 2518.8629516532415, 6530.757538537407, 8670.78647898162, 6326.926197086989, 10904.365648677502, 13995.384157617207, 3186.557021133461, 3178.3486045962377, 4821.000582273862, 4740.3641753667, 4164.624900730539, 2336.935348646094, 18451.316072643527, 29087.767797416116, 4724.552546542545, 5022.6610492098325, 16089.314545311858, 9300.356878200837, 12701.164408156787, 8334.495922541164, 6285.723845936102, 4583.826149911536, 3825.2083460439344, 4773.964077413821, 4052.048515161358, 3550.217806236329, 3290.636316133044, 8445.64704155228, 5093.640371280694, 4669.896582355443, 4233.690665128247, 3726.8930197047966, 3490.9572139315583, 3312.549689707944, 2531.647426987742, 2166.3078162418888, 2097.7380857768812, 1972.894548239961, 1852.4839515711371, 1704.1254973006914, 1675.198391478801, 1649.0943392110246, 1600.4405250312875, 1414.43827883731, 1399.5460922140687, 1330.222283921874, 1281.309280800461, 1258.5679620612934, 1222.811227626249, 1208.2265038850705, 1152.2749010662778, 1139.5633034079717, 1081.4669930933571, 1080.269135200094, 1050.6584995410783, 1024.122411706146, 1005.410833037681, 11765.939028934254, 6825.302749717363, 29410.627976365155, 2319.1772920491107, 2199.6954017569287, 12382.27348495779, 8820.874224443794, 4901.197117892988, 5060.427576308197, 20597.710204458446, 3248.3696479563914, 11136.391120664091, 2313.0319222419807, 2360.5911491224037, 6368.381804299094, 2832.465676544474, 2285.427813974256, 2322.3403690960854, 1935.1569623181604, 2034.40316196828, 4265.725348850486, 3559.3195492745463, 3266.5306960502903, 3237.400871104157, 2995.6172344552556, 2821.3413500758843, 2775.5031287568204, 2450.954607360451, 2310.447418929106, 2224.3604709507863, 2207.979996627653, 2177.7450177889623, 2104.8842142439266, 2018.2954134983543, 1933.589672115975, 1906.8750725546852, 1826.902914253495, 1811.1216992884124, 1737.1678671525788, 1652.5602059888733, 1553.5168341786234, 1543.1575152579233, 1500.4593429177487, 1489.0732803892006, 1446.4362734601218, 1436.188911492331, 1421.1631028268423, 1313.8497363145657, 1283.9169469408278, 1250.5035223343439, 3280.0840889054953, 1313.4020432285035, 3523.828252123273, 6199.880194754011, 3907.3922338882285, 3463.751154222888, 6256.921925447361, 3965.245551445989, 14628.764851032556, 12561.968904125559, 2937.230134168943, 3126.072817179432, 4411.7258378810175, 2049.586236669115, 2167.579299519683, 8699.335044361136, 4881.928407004869, 4697.790816310457, 4149.8199982693495, 2870.5523871304404, 2587.092236172099, 2363.1971762777043, 2327.355293952252, 2195.035759566942, 2117.547866446242, 2048.9258041535386, 1883.6346835582149, 1908.8416894411307, 1873.8611352081132, 1783.1692685197859, 1764.241849530529, 1719.5813233327606, 1709.171216304469, 1673.0907407805717, 1581.1649684314305, 5821.117368892031, 1473.9426471814515, 1459.1690095021631, 1277.005561528252, 1244.2429271332546, 1227.8929792922088, 1214.3533801947362, 1195.840275968461, 1114.0721936649672, 1064.646449548403, 1341.0805292663083, 3637.2378019371513, 3786.5187207723343, 2202.278624961508, 2319.8404721877596, 4874.53427751012, 2759.501675183191, 2824.1143083740094, 3247.310321019731, 1924.8177305037784, 3260.9679539669073, 11492.949565476816, 6520.531730469543, 1938.5775797014307, 2798.2656928148303, 2842.1259016600447, 2526.5748990504044, 2305.71575483984, 2034.2086579000656, 2065.9968484299948, 2140.261673096163, 2189.7246350932646, 16187.725586671844, 9394.696601408925, 8905.034282508153, 7619.080956712875, 6610.966443490977, 5761.040995852358, 4629.265783252437, 4582.474290893227, 4542.360599249482, 3895.752250535997, 3810.6209713103995, 3549.058581646441, 2444.5048625778213, 2318.29349130848, 2275.8633040428513, 2211.7391209515777, 1975.408247499299, 1925.1848615363172, 1756.5828967643658, 1696.6035554964856, 1525.5108304483097, 1438.4398475627136, 1427.952058855174, 1347.7335320673087, 1346.208260492593, 1172.9047968474374, 1107.156097288618, 1059.6246964829927, 1054.0438644156384, 1046.8298547450777, 1933.6557126974428, 3278.9361246119233, 2581.705326481871, 1732.8857691123078, 2671.9824924735026, 2198.8096734436626, 7195.027066046018, 1872.7555559540915, 6090.327214733625, 2919.4859704423766, 4398.773817661664, 2403.82279204653, 2014.698805648704, 2014.8915647581377, 1956.825097166105, 7266.622621440933, 5911.730365182664, 4448.510964598958, 3587.043727381968, 3253.6654939033047, 2944.621346616111, 2522.192333063468, 2433.52636876618, 1930.0951374064896, 1852.6135079470757, 1688.015198541327, 1603.0667400399018, 1513.4019082285051, 1510.2810422582884, 1398.5680953195015, 1291.2157675221295, 1255.6969706961283, 1247.709788549827, 1212.7659606089223, 1190.9077480588319, 1187.9511052276919, 1175.7582574281812, 1159.4518141564083, 1089.635935436072, 1062.7059712041107, 1046.38174022391, 1046.240941743115, 1016.3989918494116, 1011.13702442636, 964.1812947762546, 3801.7458776656663, 28545.017006373924, 2399.4877097062576, 4305.997848924083, 3400.565409220027, 6579.984006021184, 3019.6982532678567, 2993.637506703365, 2612.8435058337427, 1505.6800385219933, 1808.7933629695833, 6955.008025020366, 11753.858178880573, 10866.2004199869, 2022.933571985625, 3790.694700109896, 2520.7527813363376, 1646.6223241709185, 1616.769413541388, 1613.0104448477114, 8388.13104358845, 6231.112668502579, 3765.0117630548366, 3526.817960116088, 3505.1129497302277, 3159.073167187383, 2930.5165465234704, 2709.9102545225514, 2657.5068441569315, 2538.0361001122515, 2504.824816228973, 2152.3064744588805, 2041.2819205600927, 2037.5644192857053, 2034.2387653705953, 1837.0377193014112, 1691.1181909100926, 1627.2332027980426, 1476.856882103982, 1470.3592232072508, 1377.970107335028, 1199.9176356356045, 1173.1791932441226, 997.0423454015335, 963.2527186601343, 904.9030459069189, 872.3912722117325, 819.416696570792, 772.5513387777864, 686.6982027952076, 7074.928280434035, 6661.1399021159, 3221.71156731728, 8190.205913234131, 3968.557305703046, 4933.220784345131, 1873.7072599006733, 24399.069131250933, 1907.0248693325423, 3989.0586719496046, 15384.632431504588, 11365.373897444928, 3453.306373622483, 3944.275908053982, 7078.975950517201, 3153.41358232296, 2994.722336090477, 2463.1510405710706, 2208.504271392605, 9229.813882767114, 7845.232946559962, 5712.5523119486725, 4166.233769426066, 3519.060570309633, 3458.4367258950606, 2815.494099341806, 2301.2851680541958, 2245.493456632742, 2191.5315211117245, 2155.7198545723068, 2101.228091329052, 1977.0322592358186, 1951.8023507905618, 1940.762142569451, 1753.8474211876755, 1646.2203057532486, 1563.9934343521709, 1549.36765608318, 1472.2059897898516, 1435.918354244375, 1411.7412357369162, 1407.4085091692048, 1278.5389242196616, 1148.308903610672, 1112.8308059991512, 1090.644921169862, 1049.9290338172088, 1016.2586951364339, 979.1740689623093, 4465.960957716879, 7411.955081473399, 3302.2012313278333, 7485.187784014153, 4245.244387690207, 2109.672901284347, 3430.4588392166147, 2673.279626601899, 1792.5702993000873, 2741.7204422231634, 7425.549258178649, 2476.8501415603355, 6750.635387476568, 6454.979207904077, 2454.8480865908846, 2807.7448362354535, 3432.4971844750903, 2678.958110849263, 7555.112662424215, 4635.6253792777, 3897.9302238290134, 3658.222275435669, 3205.15030957096, 3202.941654592227, 3138.3375979877605, 2835.1626649573955, 2497.287969251302, 2342.551342489142, 3593.1034916087133, 1973.1353286118015, 1958.922827495264, 1905.1815518321225, 1859.8046933651526, 1697.752471012614, 1679.2366666275332, 1677.005449904758, 1663.9330156774417, 1632.3932947978087, 1516.5952433310206, 1464.3985486582492, 1378.017816839497, 1364.741927592896, 1360.4659779432359, 1356.2116915610854, 1356.10257657773, 1354.1006710322351, 1301.6571948051594, 1281.922557088161, 2871.604274137776, 2517.5398299589356, 1500.6303136528907, 3320.028321068303, 2776.078648508147, 3614.3973854327824, 2217.17952441322, 1968.1665537247336, 8246.354983842708, 2535.379979991455, 3299.0574794730887, 3170.3103845561363, 2161.143939008565, 1888.5601353007949, 1819.577503060493, 6596.703190562919, 5891.131328026704, 4130.092559402491, 3771.545720156247, 3680.677271578727, 3560.246347351952, 3180.4832689955415, 3139.1150309553864, 2642.4338407596456, 2381.3911143095934, 2274.380012817011, 2235.0841738532085, 2233.3754646983734, 2018.960133775503, 5344.230745379122, 1704.267554404869, 1693.2234541037044, 1674.8604667651152, 1418.8584416376536, 1406.2568280685964, 1399.6645756079747, 1358.3761742129889, 1352.4696598446549, 1351.1811876867375, 1113.6241291834526, 1007.2290833904082, 961.7462304799698, 954.5172411818551, 903.5075870486013, 870.3101685080319, 1586.3166898836885, 8211.77187906789, 4347.299284999633, 4192.163548118539, 2307.511382137715, 4294.315327457894, 3317.784412296972, 2558.6964721289296, 2599.145051638034, 3387.0088389468024, 1896.5699046231755, 1877.261733385069, 3908.318097065635, 1940.1845614049992, 2126.824751420991, 2191.5861512367896, 2018.5914133069152, 2044.3880586827515, 10797.514452773263, 9187.544036810841, 5944.2462056099475, 4807.55095753024, 3039.3921017623175, 2846.281593091814, 2740.8272441990844, 2690.2459265103853, 2609.58646414995, 2141.3901958792376, 2073.9131496123705, 2041.5247207215868, 1781.920226209534, 1780.980324534596, 2613.680090067384, 1658.2242965953833, 1632.5387536289688, 1620.5218082347596, 1602.9770384489575, 1561.497052795477, 1477.0349172044637, 1430.8292328235002, 1416.0827731264253, 1282.752390246403, 1197.5214202495856, 1178.1671184126035, 1150.7181531710557, 1064.9982351090382, 1035.151838171714, 948.5312117443987, 2838.3796685511243, 3621.203595968728, 1588.6570019607634, 2360.7679684507616, 1985.3320277270977, 7482.40156757502, 10185.934302711943, 1920.8373617749369, 5626.124900951543, 3889.1213142238084, 2061.265606920945, 1925.9870860029462, 1991.4351176846503, 1662.290256647189, 7126.173648141131, 5853.362849863312, 5382.816766175413, 5138.486988279083, 5026.9784055366, 4321.6793320837, 3781.011394121204, 3569.15233483875, 3014.248037345818, 2890.306347881739, 2720.359624127632, 2596.75652401302, 2314.7853978043527, 2006.347033123079, 1927.1250610357006, 1853.9908196425656, 1797.078446886976, 1762.0402687215949, 1633.8159530326184, 1605.552339347333, 1492.2967149184803, 1461.0728251317228, 1411.4107613445226, 1401.258239057636, 1362.2911018237926, 1341.1489744403416, 1338.920765545627, 1243.5631592956458, 1209.9387239257537, 1189.8355103470146, 4658.8418448701195, 3192.8340799699163, 3723.1025634910507, 4278.721072893015, 1571.9849086686988, 1424.9374058557255, 1541.5850078066205], \"Total\": [46898.0, 37059.0, 59812.0, 63588.0, 44532.0, 29401.0, 190326.0, 16188.0, 117667.0, 20300.0, 48070.0, 22988.0, 21154.0, 20309.0, 140983.0, 27190.0, 10798.0, 33996.0, 13198.0, 22882.0, 11886.0, 9188.0, 14071.0, 9231.0, 9395.0, 28674.0, 8761.0, 27893.0, 12087.0, 14082.0, 46898.37812469579, 29401.404537279956, 21154.18778029585, 8830.846626035847, 7236.933797022718, 5124.9851028707835, 4881.191191474635, 2801.5588067326976, 2229.094271157907, 1844.1859317549308, 1622.996406433578, 1470.3306259438054, 1342.2644551041578, 1303.5426986718567, 1247.5707432153574, 1187.4516360559421, 1143.4194563275832, 1140.599340280752, 994.3957630880979, 926.4506657672247, 904.9325208255204, 902.4622814414732, 852.5875425391956, 847.2644500210638, 4873.341698452432, 665.7820262997639, 635.6113539471897, 632.3021079394958, 626.6035625236754, 621.3904870586321, 3951.6398403357416, 4876.685611872579, 2005.6951671768747, 2836.296510399278, 21314.511379930962, 27190.473111180374, 4536.9090669833295, 27893.477251912125, 10406.56975923052, 2758.8420957753106, 14710.868836869475, 12165.071083128467, 4707.987677879726, 22299.84425890408, 9380.480294888404, 9153.271205541623, 29061.389665132225, 33996.24341747302, 117667.72662160847, 14014.939385580943, 9693.244218953008, 13345.292136017559, 7681.971689925522, 18838.67401911319, 21762.57487156795, 34430.05268896573, 21191.466843351765, 140983.46235451175, 13227.039394864049, 44532.81404965616, 20928.01128212104, 10644.333754190797, 20300.201252779345, 11939.8470080677, 10753.337957968017, 9879.216606870854, 7643.647004251799, 5262.386843265249, 4798.2397726949475, 3336.1754826012516, 2633.1827284948067, 2487.6189255816407, 2300.879741782132, 2240.3847672221605, 2025.3491116284517, 1657.6207489660326, 1620.3013427958358, 1568.5675433811025, 1484.6971076095506, 1377.5683414573741, 1292.3925558467868, 1289.8532055143746, 1272.8090028341826, 1254.1094298098242, 1185.9943463414047, 1125.6168448710334, 1105.9038573927216, 1086.1661222532755, 1079.4802413742718, 1033.7371673374303, 959.0892132254537, 920.5262519952327, 3095.3668217938816, 4442.002669592693, 6918.83345013321, 5892.641826027588, 2169.144233417212, 6284.263419056152, 14082.169892054519, 140983.46235451175, 3422.700130373705, 9682.221903030011, 34161.523141233076, 2986.639554404592, 12668.175897012046, 10315.446473078136, 26151.41459419545, 28674.415136123698, 117667.72662160847, 6753.224466161274, 14014.939385580943, 37059.80871156254, 190326.02016984986, 27190.473111180374, 63588.63813323742, 8227.24389316294, 34430.05268896573, 10563.244826750946, 21191.466843351765, 20928.01128212104, 22299.84425890408, 7596.959201790179, 3374.769127741102, 2545.9964332660934, 1909.8647367313188, 1811.5358500002687, 1803.683305564736, 1799.2594330731163, 1662.733043541353, 1529.0168715871655, 1506.6625305146981, 1367.0988197390857, 1286.3174677459303, 1265.6847328812435, 1011.0611747658618, 985.5992905154976, 952.4971293678911, 876.8922832274505, 817.7501657977244, 745.4798882973457, 734.0483764897406, 717.4811532052553, 715.8496908416075, 679.9921084477119, 643.6186684920661, 624.1334148030928, 623.269281018915, 609.5312749986772, 584.496845606297, 577.0524886199005, 514.6852152824088, 5710.894180683779, 20309.683656680794, 9606.702557833922, 22988.953617324863, 5103.969308248171, 8078.061650861182, 6534.0140827309015, 44532.81404965616, 12950.70369482376, 4467.507226402706, 8513.768263029522, 4277.5507733567165, 4066.9484505483315, 3586.4527620420326, 21380.3353626934, 190326.02016984986, 33996.24341747302, 11533.640387968573, 5206.591547107858, 6736.423724674259, 26151.41459419545, 6593.415426458991, 48070.65931116181, 15003.227571812144, 63588.63813323742, 11909.282832471798, 21191.466843351765, 28674.415136123698, 34161.523141233076, 29061.389665132225, 22299.84425890408, 22882.53210888105, 117667.72662160847, 140983.46235451175, 13198.620701371154, 9869.01129226283, 8759.091881916702, 4602.267476200388, 3612.8344644830145, 2750.08909512621, 2740.1913714034304, 2546.9835401291593, 2524.456090813941, 2414.0002236035007, 2408.4808682000357, 2153.5559398698447, 1978.7551321791614, 1819.3181561239035, 1652.0417608952068, 1546.7014026464906, 1537.571346878784, 1482.2562117771506, 1358.6702409325203, 1310.1628926664616, 1251.1950670979238, 1202.0327164114537, 1198.9035693438286, 6208.566151547568, 1094.8731175472958, 1091.4040694230432, 1023.4437530410538, 982.6933018594551, 975.1572499790298, 965.3666583176913, 6611.327098067515, 2574.3291995786776, 7259.40962626957, 10399.30191573044, 7460.9988203141575, 14071.225566091965, 22882.53210888105, 3953.610238939291, 3992.3745275810606, 6891.409021609939, 6831.467437165291, 5825.869338234528, 2737.225213208673, 59812.68652755637, 190326.02016984986, 9679.740101594532, 12480.752542344768, 140983.46235451175, 48070.65931116181, 117667.72662160847, 63588.63813323742, 34161.523141233076, 15003.227571812144, 9173.932329769807, 21380.3353626934, 26151.41459419545, 13314.653880767972, 22988.953617324863, 8446.839200672413, 5094.832530480099, 4671.088741731978, 4234.882849281528, 3728.085178680103, 3492.1493731760365, 3313.7418495932434, 2532.8395871108387, 2167.4999757721935, 2098.9302452398047, 1974.0867080824603, 1853.6761112017116, 1705.3176571466897, 1676.390551726155, 1650.2864986595569, 1601.6326855926839, 1415.6304384407922, 1400.738252580814, 1331.414443955803, 1282.5014420760203, 1259.760121674656, 1224.0033875065228, 1209.4186634904265, 1153.4670615778323, 1140.7554632157173, 1082.659153099844, 1081.4612946976326, 1051.8506589993424, 1025.3145715193382, 1006.6029924395261, 11886.237107855482, 9298.277622436666, 59812.68652755637, 2809.7841851728213, 2707.3370295693885, 48070.65931116181, 34430.05268896573, 13314.653880767972, 14892.393180180454, 190326.02016984986, 8670.391073088695, 117667.72662160847, 4486.286629536082, 4844.288350898258, 140983.46235451175, 12668.175897012046, 6009.6309174900725, 12480.752542344768, 3987.4495402292096, 20928.01128212104, 4266.9167269154395, 3560.51092831205, 3267.7220738488763, 3238.5922492407835, 2996.8086124118136, 2822.532727905088, 2776.6945065955006, 2452.145985279253, 2311.6387967250084, 2225.5518491832822, 2209.1713746681166, 2178.9363955418175, 2106.07559218665, 2019.4867911556028, 1934.7810503245819, 1908.0664499383145, 1828.094292108798, 1812.3130773181967, 1738.3592447417554, 1653.7515841812017, 1554.7082117102054, 1544.3488930310202, 1501.6507210986922, 1490.2646586945618, 1447.6276516259286, 1437.3802892258086, 1422.3544809185141, 1315.0411144328323, 1285.108325197741, 1251.6949002771466, 3318.060085417243, 1315.5881183993426, 3957.948402738827, 7735.4189213083, 5225.168130597434, 4480.411155826286, 14082.169892054519, 8026.084756100651, 190326.02016984986, 140983.46235451175, 10350.288911157868, 12544.741727371325, 59812.68652755637, 3831.7736467506475, 63588.63813323742, 8700.526834451686, 4883.12019723753, 4698.982606141988, 4151.011788261451, 2871.7441776923642, 2588.284026663842, 2364.388966610742, 2328.5470840266275, 2196.2275497560017, 2118.739656518473, 2050.117595263496, 1884.8264738956657, 1910.0527433157872, 1875.0529399099792, 1784.361058822805, 1765.4336402472345, 1720.7731136910336, 1710.3630065509892, 1674.2825312277037, 1582.35675858539, 5825.625670807751, 1475.1344370618717, 1460.3607998103043, 1278.1973513198882, 1245.43471741958, 1229.0847705330896, 1215.5451703436454, 1197.0320657971213, 1115.2639843961274, 1065.8382399367395, 1378.0598401812022, 4348.658453729108, 5341.306579517993, 2699.3072236714825, 3065.445093455171, 9399.620451717117, 4065.194484004015, 4313.667481574463, 5965.460963664954, 2405.166742197125, 7080.2163155447515, 190326.02016984986, 140983.46235451175, 2716.825823219244, 17801.048681835025, 20928.01128212104, 21762.57487156795, 10315.446473078136, 4994.749797166711, 7000.324056542473, 12662.751327468375, 63588.63813323742, 16188.91861879752, 9395.889633261626, 8906.22731493806, 7620.273988562966, 6612.159475499283, 5762.234028188429, 4630.458815039207, 4583.667323734669, 4543.553632055057, 3896.9452835765364, 3811.8140038982033, 3550.251615011977, 2445.697895283413, 2319.4865248833244, 2277.0563362226403, 2212.9321528612077, 1976.6012794672574, 1926.377895297666, 1757.7759296281704, 1697.7965881937955, 1526.7038640084845, 1439.6328801245688, 1429.145092299292, 1348.9265645718567, 1347.4012933186384, 1174.0978294092188, 1108.3491303348114, 1060.8177299296135, 1055.2368971568578, 1048.0228874791712, 2181.6809552695645, 4385.123094655607, 3518.9411488674127, 2097.994813270744, 3973.552083455236, 3601.683453268434, 48070.65931116181, 3177.6620330658134, 117667.72662160847, 20928.01128212104, 190326.02016984986, 33996.24341747302, 10563.244826750946, 29061.389665132225, 21762.57487156795, 7267.815338713137, 5912.923082444389, 4449.703682125054, 3588.236444728336, 3254.858211540753, 2945.814065018484, 2523.385050886749, 2434.71908631318, 1931.2878547316107, 1853.8062539754653, 1689.2079162460811, 1604.2594572378503, 1514.5946257671994, 1511.4737600348428, 1399.7608127311153, 1292.4084853881634, 1256.889687965041, 1248.9025059714068, 1213.9586777905342, 1192.1004658700062, 1189.143824673304, 1176.9509744875857, 1160.644531559229, 1090.8286536028925, 1063.898689021904, 1047.574458453907, 1047.4336595808593, 1017.591709629101, 1012.3297417915908, 965.3740125827516, 3949.085538644869, 37059.80871156254, 2684.1064775332666, 5974.871900453526, 4862.514667142004, 11831.1110668336, 4237.345022792473, 4280.607588029919, 3771.87067532753, 1730.416832092044, 2467.726234125984, 28674.415136123698, 140983.46235451175, 190326.02016984986, 4751.151694351015, 34161.523141233076, 12480.752542344768, 2901.194967699323, 15003.227571812144, 34430.05268896573, 8389.32401670408, 6232.30564116593, 3766.204735824439, 3528.010932998876, 3506.305922334105, 3160.266140271429, 2931.709519338708, 2711.1032276882556, 2658.699817627866, 2539.229073179695, 2506.0177892899883, 2153.4994476996085, 2042.47489374033, 2038.7573921296616, 2035.431738549113, 1838.2306921097784, 1692.3111643349614, 1628.4261756480726, 1478.0498553404843, 1471.5521962950108, 1379.1630804197787, 1201.1106083534335, 1174.3721666191213, 998.235318834545, 964.4456919233127, 906.0960193180438, 873.5842453406624, 820.609669773083, 773.7443119708595, 687.8911760172338, 7821.104866957733, 7702.046215398081, 3988.6098262391442, 12087.405406816895, 5368.070357745281, 7000.324056542473, 2192.6988878480233, 63588.63813323742, 2751.579440749314, 10739.730020515362, 190326.02016984986, 117667.72662160847, 10242.90634896374, 14892.393180180454, 140983.46235451175, 44532.81404965616, 34430.05268896573, 12662.751327468375, 6308.350791697378, 9231.004539642365, 7846.423603737225, 5713.742969000636, 4167.424426076213, 3520.2512274512133, 3459.6273835647767, 2816.684757237414, 2302.4758255790857, 2246.6841134569736, 2192.7221784951143, 2156.910511767428, 2102.4187487973377, 1978.2229172028092, 1952.9930078604598, 1941.9528001070125, 1755.0380783765195, 1647.4109624954567, 1565.1840915384284, 1550.5583130981558, 1473.396646551742, 1437.1090119253554, 1412.9318927294669, 1408.5991691978281, 1279.7295814666568, 1149.4995611848258, 1114.0214633773285, 1091.835578869235, 1051.1196906680893, 1017.449352482503, 980.3647262571916, 5247.1144655067055, 10350.288911157868, 4109.45716618344, 12662.751327468375, 6137.227713303951, 2571.085234264834, 5352.59391280822, 4189.278084430988, 2167.4987832783854, 5142.312870819983, 44532.81404965616, 4507.004826872742, 48070.65931116181, 190326.02016984986, 8141.006018885903, 21762.57487156795, 117667.72662160847, 28674.415136123698, 7556.30463461826, 4636.8173515234275, 3899.1221959480977, 3659.414915085678, 3206.3422820782516, 3204.1345591876757, 3139.5295702307762, 2836.354637215307, 2498.4799419067276, 2343.7433146834765, 3594.9321559105215, 1974.3276408926488, 1960.114799891316, 1906.3735245645196, 1860.9966659676531, 1698.944443614527, 1680.4286391419907, 1678.1974222593667, 1665.1249880215414, 1633.5852675799258, 1517.7872155211098, 1465.5905209506368, 1379.2097892477943, 1365.9338999140632, 1361.6579504200631, 1357.4036643875047, 1357.2945489219637, 1355.2926433978173, 1302.8491673372384, 1283.1145297075884, 2884.913167961361, 2607.1124457735737, 1526.550644393973, 4369.943031811668, 3725.6743792021803, 6713.71338366161, 3277.653779460683, 3164.8144755123108, 140983.46235451175, 8703.402088648067, 59812.68652755637, 190326.02016984986, 12885.654390593585, 13314.653880767972, 48070.65931116181, 6597.892753410004, 5892.432106480066, 4131.282122482308, 3772.7352836305104, 3681.8668344631824, 3561.4359104504942, 3181.6728402321523, 3140.3045942776553, 2643.6234035697767, 2382.580680958174, 2275.569575626669, 2236.273736595225, 2234.5650279413, 2020.1496973883807, 5347.469478917934, 1705.4571172553558, 1694.4130171274678, 1676.050029885238, 1420.048004512125, 1407.4463909037681, 1400.854138804124, 1359.5657370869171, 1353.659222993386, 1352.3707510658012, 1114.8136922458566, 1008.4186466439392, 962.9357932976103, 955.706804185198, 904.6971501521195, 871.4997319445466, 1599.619850704198, 8761.199074890566, 4756.393635289987, 5192.140020594851, 2942.021224842151, 8141.006018885903, 5866.539046662602, 5789.196337305759, 8133.383790310147, 17801.048681835025, 3712.036370101471, 3699.863368476792, 190326.02016984986, 4767.13283300922, 9386.018065200617, 18838.67401911319, 29061.389665132225, 117667.72662160847, 10798.788046920072, 9188.733839942806, 5945.436009438975, 4808.740760706351, 3040.5819049627503, 2847.4713962283145, 2742.017047323074, 2691.435729897685, 2610.776267191582, 2142.579999201698, 2075.1029527345636, 2042.7145243458885, 1783.1100297126227, 1782.1701280497837, 2615.4772133261004, 1659.4141002827441, 1633.7285568123505, 1621.7116115916779, 1604.1668416649773, 1562.6868560996113, 1478.224720233695, 1432.0190356510918, 1417.272575977177, 1283.9421934375305, 1198.711223498638, 1179.3569216583187, 1151.9079562590016, 1066.1880382973768, 1036.3416420411475, 949.7210157700953, 3399.5669869127555, 6138.7609941755145, 2006.9852761746974, 4090.7804730256294, 3538.8839635869917, 63588.63813323742, 190326.02016984986, 3430.044898905484, 140983.46235451175, 59812.68652755637, 8227.24389316294, 6591.508821475895, 12064.855258355197, 6284.802302832171, 7127.360367884649, 5854.549569754393, 5384.003486605961, 5139.673708272879, 5028.165126091133, 4322.866052729078, 3782.198114277044, 3570.339055036578, 3015.4347583604626, 2891.4930684910955, 2721.546344404946, 2597.9432444235704, 2315.972118472343, 2007.5337531616124, 1928.3117814185773, 1855.1775400435172, 1798.2651672765821, 1763.2269887625062, 1635.002673671573, 1606.7390596691587, 1493.4834357385382, 1462.2595454788739, 1412.597481992515, 1402.444959525989, 1363.477822249809, 1342.3356948357546, 1340.1074855670224, 1244.749879908704, 1211.125444253499, 1191.0222305701857, 5910.142196338822, 4155.01538072487, 6009.6309174900725, 7591.159559506655, 2251.10896858084, 1881.0535021614448, 3611.968860303831], \"Category\": [\"Default\", \"Default\", \"Default\", \"Default\", \"Default\", \"Default\", \"Default\", \"Default\", \"Default\", \"Default\", \"Default\", \"Default\", \"Default\", \"Default\", \"Default\", \"Default\", \"Default\", \"Default\", \"Default\", \"Default\", \"Default\", \"Default\", \"Default\", \"Default\", \"Default\", \"Default\", \"Default\", \"Default\", \"Default\", \"Default\", \"Topic1\", \"Topic1\", \"Topic1\", \"Topic1\", \"Topic1\", \"Topic1\", \"Topic1\", \"Topic1\", \"Topic1\", \"Topic1\", \"Topic1\", \"Topic1\", \"Topic1\", \"Topic1\", \"Topic1\", \"Topic1\", \"Topic1\", \"Topic1\", \"Topic1\", \"Topic1\", \"Topic1\", \"Topic1\", \"Topic1\", \"Topic1\", \"Topic1\", \"Topic1\", \"Topic1\", \"Topic1\", \"Topic1\", \"Topic1\", \"Topic1\", \"Topic1\", \"Topic1\", \"Topic1\", \"Topic1\", \"Topic1\", \"Topic1\", \"Topic1\", \"Topic1\", \"Topic1\", \"Topic1\", \"Topic1\", \"Topic1\", \"Topic1\", \"Topic1\", \"Topic1\", \"Topic1\", \"Topic1\", \"Topic1\", \"Topic1\", \"Topic1\", \"Topic1\", \"Topic1\", \"Topic1\", \"Topic1\", \"Topic1\", \"Topic1\", \"Topic1\", \"Topic1\", \"Topic1\", \"Topic1\", \"Topic1\", \"Topic2\", \"Topic2\", \"Topic2\", \"Topic2\", \"Topic2\", \"Topic2\", \"Topic2\", \"Topic2\", \"Topic2\", \"Topic2\", \"Topic2\", \"Topic2\", \"Topic2\", \"Topic2\", \"Topic2\", \"Topic2\", \"Topic2\", \"Topic2\", \"Topic2\", \"Topic2\", \"Topic2\", \"Topic2\", \"Topic2\", \"Topic2\", \"Topic2\", \"Topic2\", \"Topic2\", \"Topic2\", \"Topic2\", \"Topic2\", \"Topic2\", \"Topic2\", \"Topic2\", \"Topic2\", \"Topic2\", \"Topic2\", \"Topic2\", \"Topic2\", \"Topic2\", \"Topic2\", \"Topic2\", \"Topic2\", \"Topic2\", \"Topic2\", \"Topic2\", \"Topic2\", \"Topic2\", \"Topic2\", \"Topic2\", \"Topic2\", \"Topic2\", \"Topic2\", \"Topic2\", \"Topic2\", \"Topic2\", \"Topic2\", \"Topic2\", \"Topic2\", \"Topic2\", \"Topic3\", \"Topic3\", \"Topic3\", \"Topic3\", \"Topic3\", \"Topic3\", \"Topic3\", \"Topic3\", \"Topic3\", \"Topic3\", \"Topic3\", \"Topic3\", \"Topic3\", \"Topic3\", \"Topic3\", \"Topic3\", \"Topic3\", \"Topic3\", \"Topic3\", \"Topic3\", \"Topic3\", \"Topic3\", \"Topic3\", \"Topic3\", \"Topic3\", \"Topic3\", \"Topic3\", \"Topic3\", \"Topic3\", \"Topic3\", \"Topic3\", \"Topic3\", \"Topic3\", \"Topic3\", \"Topic3\", \"Topic3\", \"Topic3\", \"Topic3\", \"Topic3\", \"Topic3\", \"Topic3\", \"Topic3\", \"Topic3\", \"Topic3\", \"Topic3\", \"Topic3\", \"Topic3\", \"Topic3\", \"Topic3\", \"Topic3\", \"Topic3\", \"Topic3\", \"Topic3\", \"Topic3\", \"Topic3\", \"Topic3\", \"Topic3\", \"Topic3\", \"Topic3\", \"Topic3\", \"Topic3\", \"Topic3\", \"Topic3\", \"Topic3\", \"Topic4\", \"Topic4\", \"Topic4\", \"Topic4\", \"Topic4\", \"Topic4\", \"Topic4\", \"Topic4\", \"Topic4\", \"Topic4\", \"Topic4\", \"Topic4\", \"Topic4\", \"Topic4\", \"Topic4\", \"Topic4\", \"Topic4\", \"Topic4\", \"Topic4\", \"Topic4\", \"Topic4\", \"Topic4\", \"Topic4\", \"Topic4\", \"Topic4\", \"Topic4\", \"Topic4\", \"Topic4\", \"Topic4\", \"Topic4\", \"Topic4\", \"Topic4\", \"Topic4\", \"Topic4\", \"Topic4\", \"Topic4\", \"Topic4\", \"Topic4\", \"Topic4\", \"Topic4\", \"Topic4\", \"Topic4\", \"Topic4\", \"Topic4\", \"Topic4\", \"Topic4\", \"Topic4\", \"Topic4\", \"Topic4\", \"Topic4\", \"Topic4\", \"Topic4\", \"Topic4\", \"Topic4\", \"Topic4\", \"Topic4\", \"Topic4\", \"Topic4\", \"Topic5\", \"Topic5\", \"Topic5\", \"Topic5\", \"Topic5\", \"Topic5\", \"Topic5\", \"Topic5\", \"Topic5\", \"Topic5\", \"Topic5\", \"Topic5\", \"Topic5\", \"Topic5\", \"Topic5\", \"Topic5\", \"Topic5\", \"Topic5\", \"Topic5\", \"Topic5\", \"Topic5\", \"Topic5\", \"Topic5\", \"Topic5\", \"Topic5\", \"Topic5\", \"Topic5\", \"Topic5\", \"Topic5\", \"Topic5\", \"Topic5\", \"Topic5\", \"Topic5\", \"Topic5\", \"Topic5\", \"Topic5\", \"Topic5\", \"Topic5\", \"Topic5\", \"Topic5\", \"Topic5\", \"Topic5\", \"Topic5\", \"Topic5\", \"Topic5\", \"Topic5\", \"Topic5\", \"Topic5\", \"Topic5\", \"Topic5\", \"Topic6\", \"Topic6\", \"Topic6\", \"Topic6\", \"Topic6\", \"Topic6\", \"Topic6\", \"Topic6\", \"Topic6\", \"Topic6\", \"Topic6\", \"Topic6\", \"Topic6\", \"Topic6\", \"Topic6\", \"Topic6\", \"Topic6\", \"Topic6\", \"Topic6\", \"Topic6\", \"Topic6\", \"Topic6\", \"Topic6\", \"Topic6\", \"Topic6\", \"Topic6\", \"Topic6\", \"Topic6\", \"Topic6\", \"Topic6\", \"Topic6\", \"Topic6\", \"Topic6\", \"Topic6\", \"Topic6\", \"Topic6\", \"Topic6\", \"Topic6\", \"Topic6\", \"Topic6\", \"Topic6\", \"Topic6\", \"Topic6\", \"Topic6\", \"Topic6\", \"Topic7\", \"Topic7\", \"Topic7\", \"Topic7\", \"Topic7\", \"Topic7\", \"Topic7\", \"Topic7\", \"Topic7\", \"Topic7\", \"Topic7\", \"Topic7\", \"Topic7\", \"Topic7\", \"Topic7\", \"Topic7\", \"Topic7\", \"Topic7\", \"Topic7\", \"Topic7\", \"Topic7\", \"Topic7\", \"Topic7\", \"Topic7\", \"Topic7\", \"Topic7\", \"Topic7\", \"Topic7\", \"Topic7\", \"Topic7\", \"Topic7\", \"Topic7\", \"Topic7\", \"Topic7\", \"Topic7\", \"Topic7\", \"Topic7\", \"Topic7\", \"Topic7\", \"Topic7\", \"Topic7\", \"Topic7\", \"Topic7\", \"Topic7\", \"Topic7\", \"Topic7\", \"Topic7\", \"Topic7\", \"Topic7\", \"Topic7\", \"Topic7\", \"Topic7\", \"Topic8\", \"Topic8\", \"Topic8\", \"Topic8\", \"Topic8\", \"Topic8\", \"Topic8\", \"Topic8\", \"Topic8\", \"Topic8\", \"Topic8\", \"Topic8\", \"Topic8\", \"Topic8\", \"Topic8\", \"Topic8\", \"Topic8\", \"Topic8\", \"Topic8\", \"Topic8\", \"Topic8\", \"Topic8\", \"Topic8\", \"Topic8\", \"Topic8\", \"Topic8\", \"Topic8\", \"Topic8\", \"Topic8\", \"Topic8\", \"Topic8\", \"Topic8\", \"Topic8\", \"Topic8\", \"Topic8\", \"Topic8\", \"Topic8\", \"Topic8\", \"Topic8\", \"Topic8\", \"Topic8\", \"Topic8\", \"Topic8\", \"Topic8\", \"Topic8\", \"Topic9\", \"Topic9\", \"Topic9\", \"Topic9\", \"Topic9\", \"Topic9\", \"Topic9\", \"Topic9\", \"Topic9\", \"Topic9\", \"Topic9\", \"Topic9\", \"Topic9\", \"Topic9\", \"Topic9\", \"Topic9\", \"Topic9\", \"Topic9\", \"Topic9\", \"Topic9\", \"Topic9\", \"Topic9\", \"Topic9\", \"Topic9\", \"Topic9\", \"Topic9\", \"Topic9\", \"Topic9\", \"Topic9\", \"Topic9\", \"Topic9\", \"Topic9\", \"Topic9\", \"Topic9\", \"Topic9\", \"Topic9\", \"Topic9\", \"Topic9\", \"Topic9\", \"Topic9\", \"Topic9\", \"Topic9\", \"Topic9\", \"Topic9\", \"Topic9\", \"Topic9\", \"Topic9\", \"Topic9\", \"Topic9\", \"Topic9\", \"Topic10\", \"Topic10\", \"Topic10\", \"Topic10\", \"Topic10\", \"Topic10\", \"Topic10\", \"Topic10\", \"Topic10\", \"Topic10\", \"Topic10\", \"Topic10\", \"Topic10\", \"Topic10\", \"Topic10\", \"Topic10\", \"Topic10\", \"Topic10\", \"Topic10\", \"Topic10\", \"Topic10\", \"Topic10\", \"Topic10\", \"Topic10\", \"Topic10\", \"Topic10\", \"Topic10\", \"Topic10\", \"Topic10\", \"Topic10\", \"Topic10\", \"Topic10\", \"Topic10\", \"Topic10\", \"Topic10\", \"Topic10\", \"Topic10\", \"Topic10\", \"Topic10\", \"Topic10\", \"Topic10\", \"Topic10\", \"Topic10\", \"Topic10\", \"Topic10\", \"Topic10\", \"Topic10\", \"Topic10\", \"Topic10\", \"Topic11\", \"Topic11\", \"Topic11\", \"Topic11\", \"Topic11\", \"Topic11\", \"Topic11\", \"Topic11\", \"Topic11\", \"Topic11\", \"Topic11\", \"Topic11\", \"Topic11\", \"Topic11\", \"Topic11\", \"Topic11\", \"Topic11\", \"Topic11\", \"Topic11\", \"Topic11\", \"Topic11\", \"Topic11\", \"Topic11\", \"Topic11\", \"Topic11\", \"Topic11\", \"Topic11\", \"Topic11\", \"Topic11\", \"Topic11\", \"Topic11\", \"Topic11\", \"Topic11\", \"Topic11\", \"Topic11\", \"Topic11\", \"Topic11\", \"Topic11\", \"Topic11\", \"Topic11\", \"Topic11\", \"Topic11\", \"Topic11\", \"Topic11\", \"Topic11\", \"Topic11\", \"Topic11\", \"Topic11\", \"Topic12\", \"Topic12\", \"Topic12\", \"Topic12\", \"Topic12\", \"Topic12\", \"Topic12\", \"Topic12\", \"Topic12\", \"Topic12\", \"Topic12\", \"Topic12\", \"Topic12\", \"Topic12\", \"Topic12\", \"Topic12\", \"Topic12\", \"Topic12\", \"Topic12\", \"Topic12\", \"Topic12\", \"Topic12\", \"Topic12\", \"Topic12\", \"Topic12\", \"Topic12\", \"Topic12\", \"Topic12\", \"Topic12\", \"Topic12\", \"Topic12\", \"Topic12\", \"Topic12\", \"Topic12\", \"Topic12\", \"Topic12\", \"Topic12\", \"Topic12\", \"Topic12\", \"Topic12\", \"Topic12\", \"Topic12\", \"Topic12\", \"Topic12\", \"Topic12\", \"Topic13\", \"Topic13\", \"Topic13\", \"Topic13\", \"Topic13\", \"Topic13\", \"Topic13\", \"Topic13\", \"Topic13\", \"Topic13\", \"Topic13\", \"Topic13\", \"Topic13\", \"Topic13\", \"Topic13\", \"Topic13\", \"Topic13\", \"Topic13\", \"Topic13\", \"Topic13\", \"Topic13\", \"Topic13\", \"Topic13\", \"Topic13\", \"Topic13\", \"Topic13\", \"Topic13\", \"Topic13\", \"Topic13\", \"Topic13\", \"Topic13\", \"Topic13\", \"Topic13\", \"Topic13\", \"Topic13\", \"Topic13\", \"Topic13\", \"Topic13\", \"Topic13\", \"Topic13\", \"Topic13\", \"Topic13\", \"Topic13\", \"Topic13\", \"Topic13\", \"Topic13\", \"Topic13\", \"Topic13\", \"Topic14\", \"Topic14\", \"Topic14\", \"Topic14\", \"Topic14\", \"Topic14\", \"Topic14\", \"Topic14\", \"Topic14\", \"Topic14\", \"Topic14\", \"Topic14\", \"Topic14\", \"Topic14\", \"Topic14\", \"Topic14\", \"Topic14\", \"Topic14\", \"Topic14\", \"Topic14\", \"Topic14\", \"Topic14\", \"Topic14\", \"Topic14\", \"Topic14\", \"Topic14\", \"Topic14\", \"Topic14\", \"Topic14\", \"Topic14\", \"Topic14\", \"Topic14\", \"Topic14\", \"Topic14\", \"Topic14\", \"Topic14\", \"Topic14\", \"Topic14\", \"Topic14\", \"Topic14\", \"Topic14\", \"Topic14\", \"Topic14\", \"Topic14\", \"Topic15\", \"Topic15\", \"Topic15\", \"Topic15\", \"Topic15\", \"Topic15\", \"Topic15\", \"Topic15\", \"Topic15\", \"Topic15\", \"Topic15\", \"Topic15\", \"Topic15\", \"Topic15\", \"Topic15\", \"Topic15\", \"Topic15\", \"Topic15\", \"Topic15\", \"Topic15\", \"Topic15\", \"Topic15\", \"Topic15\", \"Topic15\", \"Topic15\", \"Topic15\", \"Topic15\", \"Topic15\", \"Topic15\", \"Topic15\", \"Topic15\", \"Topic15\", \"Topic15\", \"Topic15\", \"Topic15\", \"Topic15\", \"Topic15\"], \"logprob\": [30.0, 29.0, 28.0, 27.0, 26.0, 25.0, 24.0, 23.0, 22.0, 21.0, 20.0, 19.0, 18.0, 17.0, 16.0, 15.0, 14.0, 13.0, 12.0, 11.0, 10.0, 9.0, 8.0, 7.0, 6.0, 5.0, 4.0, 3.0, 2.0, 1.0, -2.6682, -3.1352, -3.4644, -4.3381, -4.5371, -4.8823, -4.9312, -5.4864, -5.7151, -5.9048, -6.0326, -6.1315, -6.2227, -6.252, -6.2959, -6.3454, -6.3832, -6.3857, -6.523, -6.5939, -6.6174, -6.6201, -6.6771, -6.6833, -4.9338, -6.9248, -6.9712, -6.9765, -6.9855, -6.9939, -5.1944, -4.9966, -5.8855, -5.5696, -3.7181, -3.5078, -5.1582, -3.5357, -4.4267, -5.6211, -4.2455, -4.4116, -5.2039, -3.9575, -4.66, -4.692, -3.8335, -3.7296, -2.7873, -4.4266, -4.7078, -4.5052, -4.8944, -4.3289, -4.3601, -4.1132, -4.4391, -3.6594, -4.7154, -4.5127, -4.7702, -4.8449, -3.3703, -3.9011, -4.0058, -4.0906, -4.3472, -4.7205, -4.8129, -5.1764, -5.4132, -5.4701, -5.5481, -5.5748, -5.6758, -5.8762, -5.899, -5.9315, -5.9865, -6.0615, -6.1253, -6.1273, -6.1406, -6.1554, -6.2113, -6.2636, -6.2813, -6.2994, -6.3055, -6.3489, -6.4239, -6.465, -5.3117, -5.0278, -4.6873, -4.9579, -5.7599, -4.9506, -4.3586, -2.6465, -5.4242, -4.6812, -3.7889, -5.5481, -4.5911, -4.7375, -4.1533, -4.1016, -3.2477, -5.031, -4.6005, -4.2522, -3.5009, -4.4488, -4.0908, -5.0403, -4.5834, -5.0015, -4.901, -4.9085, -4.9129, -4.0597, -4.8713, -5.1532, -5.4409, -5.4937, -5.4981, -5.5005, -5.5795, -5.6634, -5.6782, -5.7754, -5.8364, -5.8526, -6.0774, -6.103, -6.1372, -6.22, -6.2899, -6.3826, -6.3981, -6.4209, -6.4232, -6.4747, -6.5298, -6.5606, -6.562, -6.5843, -6.6263, -6.6392, -6.7538, -4.3521, -3.1724, -3.9556, -3.1407, -4.5968, -4.2291, -4.4333, -2.8174, -3.9236, -4.8437, -4.3139, -4.9602, -5.0186, -5.1281, -3.8782, -2.3517, -3.5863, -4.3568, -4.9434, -4.83, -4.109, -4.8896, -3.9218, -4.555, -3.9619, -4.7211, -4.5001, -4.3928, -4.4269, -4.4947, -4.6687, -4.6718, -4.5587, -4.574, -3.4355, -3.7262, -3.8455, -4.4892, -4.7313, -5.0043, -5.0079, -5.0811, -5.09, -5.1347, -5.137, -5.2489, -5.3336, -5.4177, -5.5142, -5.5802, -5.5861, -5.6227, -5.7099, -5.7463, -5.7924, -5.8325, -5.8351, -4.1907, -5.926, -5.9291, -5.9935, -6.0342, -6.0419, -6.052, -4.168, -5.0917, -4.139, -3.8555, -4.1707, -3.6263, -3.3768, -4.8566, -4.8591, -4.4425, -4.4594, -4.5889, -5.1667, -3.1004, -2.6452, -4.4627, -4.4015, -3.2373, -3.7854, -3.4738, -3.8951, -4.1772, -4.493, -4.6739, -4.4523, -4.6163, -4.7485, -4.8244, -3.7182, -4.2239, -4.3107, -4.4088, -4.5363, -4.6017, -4.6541, -4.923, -5.0788, -5.111, -5.1723, -5.2353, -5.3188, -5.3359, -5.3516, -5.3816, -5.5051, -5.5157, -5.5665, -5.604, -5.6219, -5.6507, -5.6627, -5.7101, -5.7212, -5.7735, -5.7746, -5.8024, -5.828, -5.8465, -3.3866, -3.9312, -2.4705, -5.0106, -5.0635, -3.3356, -3.6747, -4.2624, -4.2304, -2.8267, -4.6737, -3.4416, -5.0133, -4.9929, -4.0005, -4.8107, -5.0253, -5.0093, -5.1917, -5.1416, -4.2169, -4.398, -4.4838, -4.4928, -4.5704, -4.6303, -4.6467, -4.7711, -4.8301, -4.8681, -4.8755, -4.8892, -4.9233, -4.9653, -5.0082, -5.0221, -5.0649, -5.0736, -5.1153, -5.1652, -5.227, -5.2337, -5.2618, -5.2694, -5.2984, -5.3055, -5.3161, -5.3946, -5.4176, -5.444, -4.4797, -5.3949, -4.408, -3.843, -4.3047, -4.4252, -3.8338, -4.29, -2.9845, -3.1369, -4.5901, -4.5278, -4.1833, -4.9499, -4.8939, -3.4908, -4.0685, -4.107, -4.231, -4.5995, -4.7035, -4.794, -4.8093, -4.8679, -4.9038, -4.9367, -5.0208, -5.0076, -5.0261, -5.0757, -5.0863, -5.112, -5.118, -5.1394, -5.1959, -3.8926, -5.2661, -5.2762, -5.4095, -5.4355, -5.4488, -5.4598, -5.4752, -5.546, -5.5914, -5.3606, -4.3628, -4.3226, -4.8646, -4.8126, -4.07, -4.639, -4.6159, -4.4762, -4.9992, -4.472, -3.2123, -3.7791, -4.9921, -4.6251, -4.6095, -4.7272, -4.8187, -4.9439, -4.9284, -4.8931, -4.8703, -2.8494, -3.3936, -3.4471, -3.603, -3.745, -3.8826, -4.1013, -4.1115, -4.1202, -4.2738, -4.2959, -4.367, -4.7399, -4.7929, -4.8113, -4.8399, -4.9529, -4.9787, -5.0703, -5.1051, -5.2114, -5.2701, -5.2775, -5.3353, -5.3364, -5.4742, -5.5319, -5.5758, -5.5811, -5.5879, -4.9743, -4.4462, -4.6852, -5.0839, -4.6509, -4.8458, -3.6603, -5.0063, -3.827, -4.5623, -4.1524, -4.7566, -4.9332, -4.9331, -4.9624, -3.6114, -3.8178, -4.1022, -4.3174, -4.415, -4.5148, -4.6696, -4.7054, -4.9372, -4.9781, -5.0712, -5.1228, -5.1804, -5.1824, -5.2593, -5.3391, -5.367, -5.3734, -5.4018, -5.42, -5.4225, -5.4328, -5.4468, -5.5089, -5.5339, -5.5494, -5.5495, -5.5785, -5.5837, -5.6312, -4.2593, -2.2433, -4.7195, -4.1347, -4.3708, -3.7107, -4.4896, -4.4982, -4.6343, -5.1855, -5.0021, -3.6553, -3.1306, -3.2091, -4.8902, -4.2622, -4.6702, -5.096, -5.1143, -5.1166, -3.4387, -3.7359, -4.2397, -4.3051, -4.3113, -4.4152, -4.4903, -4.5686, -4.5881, -4.6341, -4.6473, -4.7989, -4.8519, -4.8537, -4.8554, -4.9573, -5.0401, -5.0786, -5.1756, -5.18, -5.2449, -5.3832, -5.4058, -5.5684, -5.6029, -5.6654, -5.702, -5.7646, -5.8235, -5.9413, -3.6089, -3.6692, -4.3956, -3.4625, -4.1871, -3.9695, -4.9376, -2.3709, -4.9199, -4.1819, -2.8321, -3.1349, -4.3261, -4.1932, -3.6083, -4.417, -4.4686, -4.664, -4.7732, -3.3157, -3.4782, -3.7955, -4.1111, -4.2799, -4.2973, -4.503, -4.7047, -4.7292, -4.7535, -4.77, -4.7956, -4.8565, -4.8694, -4.875, -4.9763, -5.0396, -5.0909, -5.1003, -5.1514, -5.1763, -5.1933, -5.1964, -5.2924, -5.3998, -5.4312, -5.4513, -5.4894, -5.522, -5.5592, -4.0416, -3.535, -4.3435, -3.5252, -4.0923, -4.7916, -4.3054, -4.5548, -4.9545, -4.5295, -3.5332, -4.6311, -3.6285, -3.6733, -4.6401, -4.5057, -4.3048, -4.5527, -3.3455, -3.834, -4.0073, -4.0708, -4.203, -4.2037, -4.2241, -4.3257, -4.4526, -4.5165, -4.0888, -4.6881, -4.6954, -4.7232, -4.7473, -4.8385, -4.8494, -4.8508, -4.8586, -4.8777, -4.9513, -4.9863, -5.0471, -5.0568, -5.0599, -5.0631, -5.0632, -5.0646, -5.1041, -5.1194, -4.3129, -4.4445, -4.9619, -4.1678, -4.3467, -4.0828, -4.5715, -4.6907, -3.258, -4.4374, -4.1741, -4.2139, -4.5971, -4.732, -4.7692, -3.412, -3.5251, -3.8803, -3.9711, -3.9955, -4.0288, -4.1416, -4.1547, -4.3269, -4.4309, -4.4769, -4.4943, -4.4951, -4.596, -3.6226, -4.7655, -4.772, -4.7829, -4.9487, -4.9577, -4.9624, -4.9923, -4.9967, -4.9976, -5.191, -5.2914, -5.3376, -5.3451, -5.4001, -5.4375, -4.8372, -3.193, -3.829, -3.8654, -4.4624, -3.8413, -4.0993, -4.3591, -4.3434, -4.0786, -4.6585, -4.6688, -3.9355, -4.6358, -4.544, -4.514, -4.5962, -4.5835, -2.9092, -3.0706, -3.506, -3.7183, -4.1768, -4.2425, -4.2802, -4.2988, -4.3293, -4.527, -4.559, -4.5748, -4.7108, -4.7113, -4.3277, -4.7827, -4.7983, -4.8057, -4.8166, -4.8428, -4.8984, -4.9302, -4.9406, -5.0395, -5.1082, -5.1245, -5.1481, -5.2255, -5.2539, -5.3413, -4.2452, -4.0017, -4.8256, -4.4295, -4.6027, -3.2759, -2.9675, -4.6357, -3.561, -3.9303, -4.5651, -4.633, -4.5996, -4.7803, -2.9922, -3.1889, -3.2727, -3.3192, -3.3411, -3.4923, -3.6259, -3.6836, -3.8526, -3.8946, -3.9552, -4.0017, -4.1166, -4.2596, -4.2999, -4.3386, -4.3698, -4.3895, -4.465, -4.4825, -4.5556, -4.5768, -4.6113, -4.6186, -4.6468, -4.6624, -4.6641, -4.7379, -4.7654, -4.7821, -3.4172, -3.795, -3.6414, -3.5023, -4.5036, -4.6018, -4.5231], \"loglift\": [30.0, 29.0, 28.0, 27.0, 26.0, 25.0, 24.0, 23.0, 22.0, 21.0, 20.0, 19.0, 18.0, 17.0, 16.0, 15.0, 14.0, 13.0, 12.0, 11.0, 10.0, 9.0, 8.0, 7.0, 6.0, 5.0, 4.0, 3.0, 2.0, 1.0, 1.9721, 1.9721, 1.9721, 1.972, 1.972, 1.9719, 1.9717, 1.9717, 1.9716, 1.9715, 1.9714, 1.9713, 1.9713, 1.9712, 1.9712, 1.9711, 1.9711, 1.9711, 1.9709, 1.9709, 1.9708, 1.9708, 1.9707, 1.9707, 1.9707, 1.9703, 1.9703, 1.9702, 1.9702, 1.9702, 1.9198, 1.9073, 1.9068, 1.8762, 1.7109, 1.6776, 1.8178, 1.6242, 1.7191, 1.8524, 1.5542, 1.5782, 1.7352, 1.4262, 1.5897, 1.5822, 1.2854, 1.2325, 0.9332, 1.4216, 1.5091, 1.3919, 1.555, 1.2235, 1.048, 0.8361, 0.9957, -0.1197, 1.1906, 0.1794, 0.677, 1.2784, 2.1074, 2.1073, 2.1073, 2.1073, 2.1073, 2.1072, 2.1072, 2.1071, 2.107, 2.1069, 2.1069, 2.1069, 2.1068, 2.1067, 2.1067, 2.1066, 2.1066, 2.1065, 2.1065, 2.1065, 2.1065, 2.1065, 2.1064, 2.1063, 2.1063, 2.1063, 2.1063, 2.1063, 2.1062, 2.1061, 2.0467, 1.9694, 1.8668, 1.7567, 1.9541, 1.6997, 1.4848, 0.8932, 1.8337, 1.5369, 1.1684, 1.846, 1.3582, 1.4171, 1.0711, 1.0307, 0.4727, 1.5473, 1.2477, 0.6235, -0.2614, 0.7366, 0.2451, 1.3406, 0.366, 1.1295, 0.5337, 0.5387, 0.4709, 2.4009, 2.4007, 2.4006, 2.4004, 2.4004, 2.4004, 2.4004, 2.4003, 2.4003, 2.4003, 2.4002, 2.4001, 2.4001, 2.3999, 2.3998, 2.3998, 2.3997, 2.3996, 2.3995, 2.3994, 2.3994, 2.3994, 2.3993, 2.3992, 2.3991, 2.3991, 2.3991, 2.399, 2.399, 2.3987, 2.3938, 2.3048, 2.2703, 2.2126, 2.2615, 2.1701, 2.178, 1.8747, 2.0036, 2.1477, 2.0327, 2.0747, 2.0669, 2.083, 1.5477, 0.8879, 1.3757, 1.6863, 1.895, 1.7508, 1.1154, 1.7127, 0.6938, 1.2251, 0.374, 1.2899, 0.9346, 0.7395, 0.5304, 0.6242, 0.715, 0.6861, -0.8383, -1.0344, 2.4727, 2.4727, 2.4727, 2.4726, 2.4725, 2.4724, 2.4724, 2.4723, 2.4723, 2.4723, 2.4723, 2.4723, 2.4722, 2.4722, 2.4721, 2.472, 2.472, 2.472, 2.4719, 2.4719, 2.4719, 2.4718, 2.4718, 2.4717, 2.4717, 2.4717, 2.4716, 2.4716, 2.4716, 2.4716, 2.4315, 2.451, 2.367, 2.291, 2.3079, 2.2178, 1.9812, 2.2571, 2.2448, 2.1155, 2.1074, 2.1371, 2.3147, 1.2967, 0.5944, 1.7556, 1.5626, 0.3023, 0.8302, 0.2466, 0.4408, 0.78, 1.2871, 1.5981, 0.9735, 0.6081, 1.151, 0.5289, 2.6363, 2.6362, 2.6362, 2.6362, 2.6361, 2.6361, 2.6361, 2.636, 2.6359, 2.6359, 2.6359, 2.6358, 2.6358, 2.6358, 2.6357, 2.6357, 2.6356, 2.6356, 2.6356, 2.6355, 2.6355, 2.6355, 2.6355, 2.6354, 2.6354, 2.6354, 2.6354, 2.6353, 2.6353, 2.6353, 2.6263, 2.3273, 1.9266, 2.4446, 2.4288, 1.2801, 1.2747, 1.6371, 1.5571, 0.4129, 1.6547, 0.2788, 1.974, 1.9176, -0.4608, 1.1385, 1.6697, 0.9549, 1.9135, 0.3056, 2.8205, 2.8204, 2.8204, 2.8204, 2.8204, 2.8204, 2.8204, 2.8203, 2.8203, 2.8202, 2.8202, 2.8202, 2.8202, 2.8202, 2.8202, 2.8202, 2.8201, 2.8201, 2.8201, 2.8201, 2.82, 2.82, 2.82, 2.82, 2.82, 2.82, 2.8199, 2.8199, 2.8199, 2.8198, 2.8093, 2.8191, 2.7046, 2.5995, 2.5302, 2.5634, 2.0096, 2.1157, 0.255, 0.4028, 1.5612, 1.4313, 0.2138, 2.1951, -0.558, 2.8341, 2.834, 2.834, 2.834, 2.8338, 2.8338, 2.8338, 2.8338, 2.8337, 2.8337, 2.8337, 2.8336, 2.8336, 2.8336, 2.8336, 2.8336, 2.8336, 2.8336, 2.8336, 2.8335, 2.8335, 2.8335, 2.8334, 2.8333, 2.8333, 2.8333, 2.8333, 2.8333, 2.8332, 2.8331, 2.8071, 2.6556, 2.4902, 2.6308, 2.5556, 2.1776, 2.4469, 2.4107, 2.2261, 2.6115, 2.059, 0.0273, -0.2394, 2.4968, 0.984, 0.8377, 0.6809, 1.336, 1.936, 1.6139, 1.0565, -0.5344, 2.8545, 2.8545, 2.8545, 2.8545, 2.8544, 2.8544, 2.8544, 2.8544, 2.8544, 2.8543, 2.8543, 2.8543, 2.8541, 2.8541, 2.8541, 2.8541, 2.854, 2.854, 2.8539, 2.8539, 2.8538, 2.8538, 2.8538, 2.8537, 2.8537, 2.8536, 2.8535, 2.8535, 2.8535, 2.8535, 2.7339, 2.5639, 2.5449, 2.6634, 2.4578, 2.3611, 0.9553, 2.3259, -0.1065, 0.8849, -0.9128, 0.2054, 1.1977, 0.1858, 0.4458, 2.8934, 2.8934, 2.8933, 2.8933, 2.8932, 2.8932, 2.8931, 2.8931, 2.893, 2.8929, 2.8929, 2.8928, 2.8928, 2.8928, 2.8927, 2.8927, 2.8926, 2.8926, 2.8926, 2.8926, 2.8926, 2.8926, 2.8926, 2.8925, 2.8925, 2.8924, 2.8924, 2.8924, 2.8924, 2.8923, 2.8556, 2.6325, 2.7815, 2.566, 2.536, 2.3069, 2.5548, 2.536, 2.5265, 2.7545, 2.5829, 1.477, 0.4091, 0.0305, 2.0397, 0.695, 1.294, 2.3272, 0.6657, -0.1672, 2.9227, 2.9226, 2.9225, 2.9225, 2.9225, 2.9225, 2.9224, 2.9224, 2.9224, 2.9224, 2.9224, 2.9223, 2.9223, 2.9223, 2.9223, 2.9222, 2.9221, 2.9221, 2.922, 2.922, 2.922, 2.9218, 2.9218, 2.9216, 2.9216, 2.9215, 2.9215, 2.9214, 2.9213, 2.9211, 2.8226, 2.7776, 2.7093, 2.5336, 2.6208, 2.5729, 2.7656, 1.9649, 2.5562, 1.9324, 0.4075, 0.5855, 1.8356, 1.5943, -0.0687, 0.2751, 0.4808, 1.2856, 1.8733, 2.9501, 2.95, 2.95, 2.9499, 2.9499, 2.9499, 2.9498, 2.9497, 2.9497, 2.9497, 2.9496, 2.9496, 2.9496, 2.9496, 2.9496, 2.9495, 2.9495, 2.9494, 2.9494, 2.9494, 2.9494, 2.9494, 2.9494, 2.9493, 2.9492, 2.9491, 2.9491, 2.9491, 2.949, 2.949, 2.789, 2.6163, 2.7315, 2.4245, 2.5816, 2.7524, 2.5053, 2.501, 2.7603, 2.3213, 1.1589, 2.3516, 0.9872, -0.4337, 1.7513, 0.9024, -0.5844, 0.5796, 3.1204, 3.1203, 3.1202, 3.1202, 3.1202, 3.1202, 3.1202, 3.1201, 3.1201, 3.12, 3.12, 3.1199, 3.1199, 3.1199, 3.1199, 3.1198, 3.1198, 3.1198, 3.1198, 3.1198, 3.1198, 3.1197, 3.1197, 3.1197, 3.1197, 3.1197, 3.1197, 3.1197, 3.1196, 3.1196, 3.1159, 3.0856, 3.1034, 2.8458, 2.8263, 2.5013, 2.7297, 2.6456, 0.2817, 1.8872, 0.223, -0.9744, 1.3351, 1.1675, -0.1535, 3.1895, 3.1895, 3.1894, 3.1894, 3.1894, 3.1894, 3.1893, 3.1893, 3.1893, 3.1892, 3.1892, 3.1892, 3.1892, 3.1891, 3.1891, 3.189, 3.189, 3.189, 3.1889, 3.1889, 3.1889, 3.1888, 3.1888, 3.1888, 3.1887, 3.1885, 3.1885, 3.1885, 3.1884, 3.1884, 3.1814, 3.125, 3.0998, 2.9758, 2.9468, 2.5501, 2.6198, 2.3732, 2.0489, 1.5304, 2.5182, 2.5112, -0.6959, 2.2908, 1.7051, 1.0384, 0.5227, -0.863, 3.1997, 3.1997, 3.1996, 3.1996, 3.1995, 3.1994, 3.1994, 3.1994, 3.1994, 3.1993, 3.1993, 3.1993, 3.1992, 3.1992, 3.1992, 3.1991, 3.1991, 3.1991, 3.1991, 3.1991, 3.199, 3.199, 3.199, 3.1989, 3.1989, 3.1988, 3.1988, 3.1987, 3.1987, 3.1986, 3.0194, 2.672, 2.9661, 2.6501, 2.6218, 1.06, 0.2721, 2.62, -0.0214, 0.4668, 1.8157, 1.9695, 1.3984, 1.8699, 3.5322, 3.5322, 3.5322, 3.5322, 3.5321, 3.5321, 3.5321, 3.5321, 3.532, 3.532, 3.5319, 3.5319, 3.5319, 3.5318, 3.5318, 3.5317, 3.5317, 3.5317, 3.5317, 3.5316, 3.5316, 3.5316, 3.5315, 3.5315, 3.5315, 3.5315, 3.5315, 3.5314, 3.5314, 3.5314, 3.2945, 3.269, 3.0536, 2.9591, 3.1733, 3.2547, 2.6809]}, \"token.table\": {\"Topic\": [8, 11, 7, 5, 3, 12, 1, 8, 10, 11, 7, 9, 5, 10, 6, 11, 15, 3, 9, 2, 3, 9, 13, 4, 9, 9, 1, 2, 3, 6, 9, 10, 12, 14, 2, 11, 15, 1, 2, 10, 5, 15, 10, 7, 1, 3, 1, 2, 1, 15, 14, 4, 5, 12, 4, 1, 9, 15, 2, 3, 8, 10, 15, 10, 6, 2, 4, 5, 9, 10, 12, 1, 2, 3, 4, 5, 8, 7, 6, 7, 4, 12, 1, 12, 2, 9, 10, 9, 8, 10, 13, 2, 5, 9, 7, 13, 14, 13, 4, 4, 5, 10, 8, 7, 3, 4, 9, 11, 13, 1, 11, 2, 3, 5, 9, 11, 2, 3, 4, 13, 3, 2, 12, 2, 3, 6, 2, 5, 10, 1, 12, 3, 12, 11, 13, 2, 8, 3, 7, 13, 12, 9, 11, 2, 3, 7, 4, 7, 4, 5, 5, 4, 9, 5, 1, 2, 3, 5, 6, 7, 8, 10, 11, 12, 14, 1, 15, 10, 3, 12, 11, 2, 6, 14, 2, 3, 6, 7, 8, 9, 10, 12, 14, 2, 3, 5, 10, 11, 2, 13, 2, 10, 1, 2, 4, 7, 8, 10, 12, 14, 1, 2, 3, 4, 6, 8, 9, 10, 11, 12, 15, 5, 10, 10, 8, 14, 10, 10, 10, 6, 9, 10, 11, 11, 6, 5, 8, 3, 6, 3, 4, 5, 7, 10, 11, 4, 10, 2, 3, 8, 2, 7, 14, 1, 4, 8, 2, 11, 10, 2, 13, 2, 4, 13, 9, 3, 11, 4, 13, 3, 1, 8, 3, 9, 2, 10, 12, 10, 1, 15, 6, 7, 10, 6, 4, 9, 5, 10, 14, 12, 1, 11, 12, 13, 4, 6, 6, 11, 2, 4, 7, 14, 12, 1, 2, 11, 13, 3, 11, 15, 8, 4, 7, 8, 10, 1, 10, 2, 9, 7, 7, 1, 4, 5, 11, 12, 2, 8, 14, 3, 8, 1, 7, 11, 2, 8, 12, 2, 3, 4, 5, 11, 14, 3, 11, 9, 11, 14, 8, 4, 8, 10, 13, 6, 12, 15, 4, 5, 8, 12, 5, 10, 2, 7, 11, 14, 1, 3, 9, 9, 12, 1, 4, 12, 14, 8, 9, 10, 5, 2, 14, 2, 14, 4, 9, 2, 9, 1, 2, 3, 4, 7, 8, 9, 10, 11, 12, 13, 15, 2, 3, 4, 7, 8, 9, 10, 13, 6, 1, 2, 3, 4, 6, 8, 9, 10, 11, 12, 11, 8, 1, 3, 7, 8, 11, 12, 14, 1, 1, 2, 4, 5, 7, 9, 2, 7, 13, 1, 2, 7, 13, 2, 11, 2, 1, 11, 1, 2, 6, 7, 8, 10, 10, 2, 8, 8, 15, 8, 11, 1, 13, 3, 8, 13, 3, 4, 14, 12, 4, 5, 1, 5, 6, 14, 7, 5, 12, 14, 3, 4, 8, 10, 12, 9, 6, 2, 14, 4, 9, 1, 2, 14, 11, 13, 6, 7, 2, 2, 1, 13, 5, 9, 4, 14, 3, 11, 13, 7, 12, 6, 11, 2, 2, 4, 5, 6, 7, 9, 10, 11, 3, 2, 4, 15, 7, 8, 2, 11, 9, 7, 13, 5, 10, 5, 4, 7, 1, 2, 3, 8, 10, 1, 5, 10, 14, 5, 6, 1, 4, 5, 6, 7, 11, 6, 7, 6, 6, 1, 2, 5, 7, 8, 11, 14, 13, 1, 2, 4, 6, 12, 1, 3, 4, 5, 9, 10, 1, 8, 10, 3, 4, 11, 1, 2, 3, 5, 7, 8, 9, 10, 11, 12, 6, 7, 3, 4, 5, 6, 7, 10, 15, 3, 12, 2, 3, 7, 8, 9, 12, 1, 2, 3, 5, 7, 8, 1, 2, 3, 4, 5, 12, 14, 1, 7, 8, 13, 1, 8, 9, 1, 2, 3, 5, 6, 7, 8, 10, 11, 12, 13, 15, 2, 8, 11, 13, 5, 5, 7, 12, 3, 13, 1, 3, 6, 15, 1, 8, 1, 2, 3, 8, 10, 11, 12, 14, 10, 4, 7, 13, 9, 11, 12, 1, 2, 2, 4, 5, 6, 7, 10, 12, 4, 10, 7, 5, 9, 12, 1, 3, 10, 12, 5, 15, 1, 3, 9, 11, 15, 1, 2, 3, 6, 7, 8, 9, 13, 4, 11, 13, 2, 3, 4, 6, 11, 4, 14, 2, 4, 9, 11, 11, 4, 1, 2, 3, 4, 8, 11, 13, 12, 1, 3, 5, 8, 11, 2, 4, 6, 7, 8, 9, 11, 15, 14, 1, 8, 11, 6, 15, 4, 1, 6, 3, 5, 8, 2, 4, 4, 2, 9, 2, 2, 4, 8, 4, 6, 1, 2, 3, 4, 5, 6, 7, 8, 9, 11, 12, 15, 2, 3, 14, 15, 14, 13, 6, 2, 2, 3, 7, 8, 13, 11, 1, 6, 9, 10, 11, 12, 3, 14, 1, 3, 4, 10, 11, 13, 10, 5, 8, 6, 7, 7, 8, 2, 4, 6, 8, 4, 4, 2, 3, 7, 14, 3, 3, 13, 7, 9, 3, 9, 5, 12, 8, 6, 1, 6, 1, 2, 3, 4, 14, 5, 14, 10, 15, 2, 3, 5, 10, 12, 1, 12, 12, 13, 1, 8, 1, 9, 14, 3, 4, 7, 2, 4, 5, 6, 7, 13, 1, 2, 3, 4, 5, 7, 8, 9, 10, 11, 13, 14, 8, 11, 6, 1, 15, 7, 15, 11, 2, 8, 13, 1, 8, 6, 15, 6, 2, 15, 14, 5, 8, 9, 2, 1, 14, 11, 1, 1, 4, 5, 6, 7, 8, 9, 11, 14, 4, 12, 14, 1, 2, 3, 4, 5, 6, 7, 8, 9, 10, 11, 12, 14, 15, 1, 2, 3, 4, 5, 6, 10, 11, 12, 13, 14, 1, 3, 4, 5, 10, 10, 10, 8, 11, 1, 2, 6, 3, 4, 1, 2, 3, 4, 5, 7, 8, 9, 10, 11, 12, 15, 6, 4, 6, 3, 5, 9, 13, 1, 2, 3, 4, 5, 6, 7, 8, 9, 10, 11, 13, 14, 15, 7, 12, 5, 1, 4, 15, 7, 15, 2, 3, 13, 15, 1, 14, 10, 11, 3, 3, 5, 15, 6, 4, 11, 3, 15, 4, 5, 12, 15, 1, 8, 12, 14, 15, 5, 7, 10, 14, 11, 9, 13, 15, 1, 3, 7, 8, 12, 15, 9, 3, 12, 5, 3, 2, 10, 7, 3, 5, 2, 6, 7, 8, 10, 2, 3, 4, 14, 8, 4, 14, 13, 1, 3, 1, 13, 2, 12, 2, 3, 6, 8, 10, 11, 15, 8, 6, 1, 2, 4, 5, 6, 7, 8, 9, 10, 11, 12, 14, 15, 10, 12, 8, 1, 2, 4, 8, 9, 10, 11, 12, 1, 5, 9, 13, 8, 7, 15, 1, 3, 7, 8, 1, 3, 15, 4, 5, 15, 5, 2, 9, 5, 2, 3, 4, 6, 7, 8, 10, 11, 13, 14, 15, 8, 7, 10, 14, 2, 8, 2, 14, 10, 15, 12, 8, 1, 4, 5, 9, 3, 1, 14, 3, 1, 2, 5, 2, 3, 8, 2, 4, 5, 7, 8, 13, 15, 1, 8, 14, 4, 2, 4, 6, 7, 6, 8, 9, 1, 2, 3, 4, 5, 6, 7, 8, 9, 10, 11, 12, 13, 14, 15, 7, 12, 7, 12, 3, 4, 5, 8, 11, 12, 13, 9, 2, 9, 10, 2, 13, 4, 10, 6, 12, 2, 4, 5, 10, 2, 2, 5, 6, 7, 8, 11, 12, 9, 8, 5, 6, 14, 7, 13, 6, 13, 9, 15, 5, 2, 9, 11, 13, 11, 2, 1, 2, 3, 4, 8, 9, 2, 3, 4, 6, 7, 9, 10, 11, 12, 14, 4, 10, 15, 1, 2, 4, 5, 6, 7, 8, 10, 11, 14, 1, 2, 3, 4, 7, 9, 10, 12, 2, 2, 4, 7, 15, 1, 2, 3, 8, 13, 1, 2, 3, 5, 6, 7, 9, 12, 1, 3, 3, 4, 4, 12, 2, 9, 12, 8, 14, 2, 8, 14, 11, 15, 1, 2, 5, 7, 9, 11, 13, 1, 2, 3, 4, 6, 7, 8, 9, 10, 13, 14, 8, 5, 1, 2, 3, 12, 8, 12, 9, 12, 7, 5, 1, 6, 7, 8, 9, 8, 15, 12], \"Freq\": [0.9999053167612275, 0.9996706475164994, 0.9988480187684565, 0.9990957906877135, 0.9991962397134573, 0.9989659197007266, 0.8569711101979832, 0.13357111439814245, 0.008816575207798182, 0.00022041438019495453, 0.9994384479032205, 0.998686453892743, 0.9991912739778557, 0.9990753488099186, 0.9997301754911994, 0.9990830846523983, 0.9997996577459228, 0.9988965475141071, 0.9997363290549155, 0.8712286524480765, 0.12854562288058183, 0.9992102879545463, 0.9995845644145372, 0.9992025399717076, 0.9991920016141712, 0.999723653631724, 0.2714284657268506, 0.16987197076767066, 0.14029782663120616, 0.2491880716188355, 0.07086634538360358, 0.02008809790401361, 0.07126491875471495, 0.006855461983115756, 0.36163748728697154, 0.638057428064736, 0.9990067276924269, 0.19468599868870465, 0.7861151795604043, 0.019078360673280635, 0.9997761293344759, 0.9991386307015275, 0.9985010126174864, 0.9995615119444086, 0.7890844781635188, 0.2107057341421832, 0.9995510949297659, 0.00020486802519568886, 0.9987585865189471, 0.9990707451000729, 0.999266171450439, 0.6938479973150333, 0.23377115015023378, 0.07216604697812477, 0.9992463369307315, 0.9981379712229109, 0.9986312645505082, 0.999636926470355, 0.21420861557662432, 0.52193866414928, 0.10406115004796511, 0.11563999413318804, 0.04408867555527195, 0.9991241999978876, 0.9995702510895988, 0.20151028485398567, 0.40245970609207554, 0.18604647373000188, 0.20199102509618205, 0.002083207716184345, 0.0058490062800560455, 0.3421700582077976, 0.28129317668616494, 0.32915500077903476, 0.001091585461767207, 0.036022320238317834, 0.01016014160567939, 0.9998245124139333, 0.9885294164549594, 0.011151094027083383, 0.9991525002444452, 0.9993243822357876, 0.9998709678644425, 0.9993482228345941, 0.3004618186290672, 0.6994323375478834, 0.9995159660100472, 0.9996554171534173, 0.09525508386256831, 0.9046036487619742, 0.9987742683201191, 0.9999408255728903, 0.9984675203686281, 0.9997046532730521, 0.9992135392545222, 0.999145614838032, 0.9994797361122987, 0.9994308850527924, 0.9996183801790929, 0.9595652893734974, 0.003932644628579908, 0.0363013350330453, 0.9993591146715547, 0.9990632500383045, 0.0021757788646503415, 0.0994163573540233, 0.7206849070141823, 0.17757702887646248, 0.9988483549973303, 0.9979406870178892, 0.9992434809778417, 0.198377951597742, 0.18475365939644026, 0.48737808920111225, 0.12943077591236654, 0.9991435273118983, 0.27819658095283645, 0.7216746600011816, 0.9988132683430753, 0.9992619936024733, 0.9980148514794601, 0.00027816936638313855, 0.9994625334146168, 0.7042681572244216, 0.20449232035070555, 0.091130602513136, 0.16612332691907186, 0.15619563805936637, 0.6775647646748997, 0.9999041285539542, 0.9993275478369696, 0.998668915854418, 0.9994312578572553, 0.00037400867978487314, 0.999351192385181, 0.9989224977809669, 0.9992291513362359, 0.998176095518767, 0.9987288252371497, 0.999474226196044, 0.9990462256221088, 0.9990381107402058, 0.9998911776461542, 0.9999290603918854, 0.9991521834910038, 0.9996508978740274, 0.9989424045122027, 0.000966406711878945, 0.999875343022836, 0.9997669190648742, 0.998848259830731, 0.8996599360320322, 0.10028363702822224, 0.9986487776263494, 0.2768371379911061, 0.08760983678341293, 0.28156160411849923, 0.026606203980582353, 0.000414426853280099, 0.0023207903783685545, 0.05014564924689198, 0.03970209254423348, 0.06796600393793623, 0.0017405927837764157, 0.1650247729761354, 0.3011848868548685, 0.6983224810263322, 0.9996285030614307, 0.9983773420588998, 0.9997121926701185, 0.9990520905860546, 0.9985635921509164, 0.9992754688278584, 0.9994066765333504, 0.11803063927718437, 0.0012136826660892994, 0.149434678262245, 0.11241735694652136, 0.004551309997834873, 0.10028053028562836, 0.18994133724297535, 0.03185916998484411, 0.2921941018609988, 0.23778005528389418, 0.24903497790066517, 0.0979653827769644, 0.3501707614147481, 0.06499321511093108, 0.9992868909421831, 0.9993365677096239, 0.9989263868303531, 0.9992965922059692, 0.35613247576699947, 0.16033333949327105, 0.03895805248094002, 0.1358099439076594, 0.08901371752119162, 0.05121975027374583, 0.16770587930540112, 0.0007760568223294823, 0.03480454597808801, 0.3407218579217634, 0.18985565962395903, 0.07267802987809159, 6.97485891344449e-05, 0.02517924067753461, 0.24255071871503217, 0.0002789943565377796, 0.09342823514558896, 3.487429456722245e-05, 0.00041849153480666944, 0.998407522676203, 0.9992778889254159, 0.9997579844339871, 0.9990239836444492, 0.9993774754815318, 0.9997905043107472, 0.9997367820077971, 0.9996275503726624, 0.7477271357301343, 0.14200499992622465, 0.10985292447123038, 0.9992347026554124, 0.9989347638732011, 0.9992637777270373, 0.1132154540760893, 0.8864724217941566, 0.9993349507084837, 0.999047719160951, 0.0009476613486019648, 0.0015794355810032747, 0.04280270424518874, 0.16899960716735038, 0.19450749180055327, 0.5911037661904756, 0.9785073332549182, 0.020976338227775143, 0.941083938578823, 0.05847449120589323, 0.9991987571412714, 0.18375085120002085, 0.8157648676258991, 0.9992883923846525, 0.9984341683579845, 0.9987706796820883, 0.9987827568968237, 0.14865313214101508, 0.8511344719766325, 0.9981864996431516, 0.9993385251044639, 0.9993735092231645, 0.1518563435387721, 0.8480097842628518, 0.9990281872331221, 0.9985767044017733, 0.30811957586334826, 0.691680380507622, 0.9995465170941913, 0.9985931967356411, 0.998813031768431, 0.9999522289053173, 0.9997574295999175, 0.9995472261911078, 0.9992773607490644, 0.998861514590474, 0.9987624973678679, 0.9994813399974254, 0.9992252226643694, 0.998777519848502, 0.998869117343844, 0.9991513865089777, 0.9994488407089954, 0.9992897023488816, 0.9995326602550857, 0.10580802303379566, 0.8937797438664641, 0.9992204392021616, 0.9988315743014655, 0.9999201369899717, 0.9996133493690904, 0.4619128682030038, 0.13026698054226402, 0.0006293090847452367, 0.4069532081352531, 0.9982768765633682, 0.9995083514322753, 0.2837601950254588, 0.7161152759716379, 0.5014809599856683, 0.1962106056468186, 0.2235482493189544, 0.0787169030559371, 0.9996459077586419, 0.6743898119410079, 0.14738919220017396, 0.1120420908917106, 0.06600865662952576, 0.9985410000566379, 0.9998185665458404, 0.9998136170215235, 0.9996362467829994, 0.02612368414659434, 0.9731072344606392, 0.9996580579473969, 0.9995930705710544, 0.9987409585998233, 0.9989451979352694, 0.9983419788496802, 0.9989471600254809, 0.9994410644033046, 0.99913781273985, 0.2131688417431709, 0.10031474905560984, 0.4852725985565126, 0.12238399384784401, 0.07874707800865373, 0.9995508369085032, 0.9988278488364173, 0.9994832621566406, 0.869715261184357, 0.13009482618301713, 0.3449500932456873, 0.6546633490092882, 0.9994915456141097, 0.7605106789521153, 0.23928476606292062, 0.9990295776955223, 0.003397498779744785, 0.6720098154572468, 0.08416531068004125, 0.1413050628848399, 0.09899075990074577, 0.9995540527162162, 0.9989504346597944, 0.9986954660658764, 0.9992403448514526, 0.9985755040494482, 0.9997584686073998, 0.9995360957013507, 0.09085070295242975, 0.6724462002462391, 0.23631249327515663, 0.9991660727855696, 0.9990397188300446, 0.9995224020305737, 0.9989696853939443, 0.2658556885885064, 0.7340069072073447, 0.004159570601038181, 0.9955238971818046, 0.3063694936499573, 0.6930564939388714, 0.9990006529283887, 0.9997705980618368, 0.8035124510293056, 0.19613296048746828, 0.283750830390882, 0.7160159602237854, 0.9995650818559187, 0.99984185865502, 0.9989147576161962, 0.2530579119465684, 0.0361511302780812, 0.15043534857653143, 0.5600509779370483, 0.0007521417563243324, 0.19129472002515518, 0.8078002462923329, 0.998980611717424, 0.00038233940441343046, 0.9994352031367072, 0.9997364611712224, 0.9994684828850973, 0.999585657203458, 0.9985830876599058, 0.770096276468327, 0.22968958506837928, 0.5032106230469024, 0.10615459327815195, 0.16915915090936628, 0.06204107996126677, 0.0028560230930588693, 0.06933598231944123, 0.0019269553398951408, 0.0002064595007030508, 0.010082105617665647, 0.005333537101495479, 0.0694736219865766, 0.0002064595007030508, 0.06211996688972636, 0.30853361237397353, 0.3055342577494696, 0.11144268738156918, 0.0008664802248566981, 0.10777680950717546, 0.029526979970116714, 0.07418403771273116, 0.9997790283773963, 0.4772880285843681, 0.01356032177846627, 0.35868668929851993, 0.031415235703691924, 5.883002940766278e-05, 0.07071369534801066, 0.0006765453381881219, 0.00020590510292681972, 0.0017649008822298834, 0.045681517835050145, 0.999529607271434, 0.9991898824088139, 0.45769879557104204, 0.2598465081562061, 0.1456864187422197, 0.04815892513689359, 0.002116875830193125, 0.04936856846843252, 0.03712092973660087, 0.9995090960610928, 0.025852107672667667, 0.24352047104006702, 0.06255571733139337, 0.01840499846654941, 0.5186379625689501, 0.13106912202768134, 0.0056263367799780336, 0.0018754455933260113, 0.9914855703383513, 0.20590077284453379, 0.2083190705121709, 0.1435432401290332, 0.4420302665345318, 0.1725491164679306, 0.8272207642433144, 0.9993492067595272, 0.9998077842469764, 0.999228303548198, 0.6821612325636388, 0.07792777949742459, 0.01705669592282891, 0.11939687145980239, 0.019082178563664846, 0.08411083176945007, 0.9995993564417583, 0.38926241525410055, 0.6105478253521877, 0.24188573024487467, 0.7575542101075745, 0.9996849523778358, 0.9996445630239523, 0.48868055674530286, 0.5110402514585665, 0.9995591333532461, 0.215158203025528, 0.7844946802257797, 0.8282673634023248, 0.1431557109898141, 0.028535444062387744, 0.9992795092111693, 0.9992754669547673, 0.9992273245156598, 0.20016839999158553, 0.263585507159715, 0.5350002868093225, 0.0013048787483154207, 0.9997562550257476, 0.3230969685194303, 0.6763984695066827, 0.9994665561277438, 0.6028896201284778, 0.22221831490559057, 0.17458638569505777, 0.0001920642306876323, 0.9991498364710565, 0.9994511139367088, 0.9994892907972344, 0.9993643957322889, 0.9996290878920439, 0.9985843116644686, 0.9992921511143261, 0.9085791949295261, 0.09096369122693741, 0.9987054056435434, 0.9993404546006343, 0.9994304200892847, 0.9992083027508374, 0.9992339815988146, 0.999196851374825, 0.9997416192700492, 0.9993569348217496, 0.9982791366542358, 0.8253302912861848, 0.17439061782243664, 0.9991124060428128, 0.9992625716648683, 0.35889141438569433, 0.6408108023648785, 0.9993902728482117, 0.9997408621220006, 0.9990462284527762, 0.9992180875467099, 0.9995093598016594, 0.9998755774278418, 0.13476678836756853, 0.06701407812198973, 0.33977077685096996, 0.11858403002348082, 0.025986421075360748, 0.04881686853175003, 0.26483319049411574, 0.00020144512461519958, 0.9985717882862789, 0.9996176498205636, 0.999385144295897, 0.9996249501753373, 0.999454862849781, 0.9990649591697387, 0.9996476556442004, 0.9995778629839019, 0.9998878151583195, 0.9995507172416384, 0.9992996274792944, 0.9987281287635336, 0.9995938619053951, 0.9996708694121549, 0.9998772067621441, 0.999503908129628, 0.770085680474706, 0.05315627366746935, 0.1457692341437134, 0.0039409770415423, 0.026976926177224074, 0.2458603497909047, 0.5155711596249888, 0.12326452713904833, 0.11501717179701434, 0.9999006491478675, 0.999575642838213, 0.13667067956729723, 0.007301584250855605, 0.00018722010899629757, 0.08612125013829688, 0.7090025527689789, 0.06065931531480041, 0.24270537469043735, 0.7568232114002885, 0.9992910671306736, 0.999596310743042, 0.12053501317463254, 0.5711345771677613, 0.08766182776336913, 0.0690040738813007, 0.01169811552923338, 0.13993315411551321, 0.9989205411864654, 0.9993102493356034, 0.2885078701896494, 0.13833670876477017, 0.13339611202317123, 0.14833279984660988, 0.29126541255705346, 0.36458566927285907, 0.48926443084583676, 0.09311890815673023, 0.0032080070780251568, 0.0051154707460401155, 0.04456528751634948, 0.13437987400423643, 0.0006491781352861662, 0.8648351118282307, 0.8001207119858164, 0.12871107857308178, 0.07101300886790719, 0.7061149035712219, 0.11913179450483195, 0.09808744801842317, 0.01319304856388148, 0.00648897225560475, 0.05399111722066714, 0.00010755202633599033, 0.0003585067544533011, 0.0024378459302824475, 7.170135089066022e-05, 0.9994697674062101, 0.9993356011406254, 0.6918205685227465, 0.000939654422441761, 0.17242658651806314, 0.0011745680280522012, 0.012920248308574214, 0.12062813648096106, 0.9993041231955239, 0.9979635110255395, 0.9996828514970818, 0.20211246891683407, 0.23276125001743014, 0.46057914824444157, 0.004237158677501763, 0.04999847239452079, 0.05013971101710419, 0.6294074369931623, 0.009800640307220197, 0.1469064399734901, 0.021251914771445897, 0.10718805557054509, 0.08542031762503496, 0.2074846490258521, 0.1005600446198915, 0.18107172591366538, 0.04359723453457321, 0.10103738660384669, 0.10151472858780186, 0.26444745911117035, 0.4472696512780769, 0.40722760550564385, 0.14515241592506972, 0.9997569583400899, 0.9988165338401047, 0.9998328159112286, 0.9991552870295102, 0.3766138540100077, 0.20730042108331834, 0.23075325724958495, 0.006417677502237946, 0.022414682452669296, 0.003256027556282487, 0.08956435220035015, 0.021187773518417923, 0.004577314100860888, 0.036901645637868186, 0.00023594402581757153, 0.0008022096877797432, 0.00012283494173572052, 0.17074056901265153, 0.3015597819611939, 0.5274532398131839, 0.998829286247359, 0.8126066226597276, 0.18726888985840087, 0.9994076630826989, 0.9974850504323336, 0.9995968169899447, 0.22370803363624128, 0.5023193270530381, 0.19883473362516088, 0.07492323296020555, 0.9371118755070176, 0.06254247746819264, 0.6589454119752265, 0.19526237020206239, 0.002603498269360832, 0.0068992704138062045, 0.03618862594411556, 0.09502768683167036, 0.0001301749134680416, 0.005076821625253622, 0.9990380388464976, 0.20761815276639203, 0.22670947715870393, 0.5655804851222404, 0.9627545321048322, 0.036970584347003024, 0.9994440997655475, 0.9489731229355635, 0.0508649593893462, 0.11175656636101562, 0.2666235286166703, 0.3680906799296623, 0.04746649861570018, 0.05903270239231067, 0.005107154914347488, 0.14187375931180007, 0.2604287773506742, 0.7393718292595322, 0.9991425709922692, 0.2872081441218065, 0.7127104315923217, 0.9987824031581855, 0.20611380204340216, 0.7937547739953721, 0.9987044811035468, 0.9991313871974917, 0.38022301724884167, 0.6195055987822483, 0.3155024500232793, 0.17764113930596914, 0.42579149859712745, 0.0808225088785452, 0.999319725455594, 0.44630214547860714, 0.11069656938464378, 0.11794138817016425, 0.022693329431115617, 0.04847636099135026, 0.019070920038355376, 0.008310233312802902, 0.22661366995297144, 0.17891277732437003, 0.8206651307704799, 0.9992294104695673, 0.2887474220035704, 0.21994392180522412, 0.48813294059637574, 0.00010330855885637582, 0.0029959482068348986, 0.9996138411914867, 0.9992726182622212, 0.22676857469525954, 0.0029681750614562767, 0.7702414284479038, 0.9998699680744012, 0.9992504004248367, 0.9996039782390541, 0.1805397312305645, 0.13147595453085928, 0.4259521586312826, 0.22328929453230956, 4.677195109600116e-05, 0.0021982817015120545, 0.03648212185488091, 0.9993162920152124, 0.6771349674690698, 0.16103532462881717, 0.02523687923287433, 0.10531753930948423, 0.031136409443156644, 0.2053305004968145, 0.007600218768389372, 0.49401421994530914, 0.12882993781171492, 0.01706934379130072, 0.015075843786477278, 0.13132181281774422, 0.0007475625018087906, 0.9999270245034306, 0.3685112220131847, 0.0980103725037705, 0.5332230980264657, 0.9994410834390234, 0.9991735845229207, 0.9989780331937287, 0.9999706146619373, 0.9994448325410666, 0.27000983461170674, 0.14035476251377763, 0.5894270632024786, 0.22499816985588275, 0.7749147328201345, 0.999769027756124, 0.9991826980377366, 0.9990768681822441, 0.9998768518882349, 0.1332787279352341, 0.1327103751508621, 0.7337434446242526, 0.9991408583166215, 0.999749880084449, 0.3968739935862985, 0.11184338316418323, 0.09989626746053178, 0.03165985661467635, 0.0022975222507022027, 0.0024353735857443348, 0.11611677455048933, 0.08992502089248422, 0.01677191243012608, 0.1290288495994357, 0.0005973557851825728, 0.002527274475772423, 0.1636109027471839, 0.1534382041307787, 0.560911298710121, 0.12150723347372898, 0.9996502084175872, 0.9992701092106095, 0.9991375628217408, 0.9991153644303652, 0.18607111952637068, 0.19277638509488854, 0.5442999325244374, 0.061520811591151386, 0.01508684752916519, 0.998994998714339, 0.26036261903195124, 0.15624736119251534, 0.04170568268246358, 0.0023831818675693474, 0.0008936932003385053, 0.5383012043372264, 0.4098546925653552, 0.5898584426785181, 0.16650643257648012, 0.5907553915336533, 0.004535981035798919, 0.0708017237914554, 0.1667534414447662, 0.0006287498465463848, 0.9980384464960934, 0.9988269872681373, 0.9997146437077291, 0.9989007289941003, 0.9992030893174322, 0.2519883652403566, 0.7477555200209315, 0.00022319380191248946, 0.1419512580163433, 0.7731433298248636, 0.08436725712292102, 0.9992775019951705, 0.9985893186247277, 0.1827710833820137, 0.0004919813819165914, 0.6789343070448961, 0.13775478693664558, 0.9974877827250447, 0.8774082417204072, 0.12251862623145324, 0.2666422194247368, 0.7330634877497703, 0.9967257359792546, 0.9998438872903438, 0.9993377518319415, 0.9992864830779238, 0.9988657663025676, 0.9995444729082467, 0.10940011236638962, 0.8903602678502471, 0.1307849887486847, 0.46443256692260615, 0.055060966452745504, 0.09906112066001675, 0.2505091652518951, 0.9993966139572307, 0.9991478315855559, 0.9993037157723861, 0.9991417199914931, 0.47268052233252833, 0.07072841483132021, 0.22355231116327995, 0.15329752410984804, 0.07956946668523524, 0.9368322917409204, 0.06282111163350504, 0.999823725745169, 0.9989723296651893, 0.8869663123334087, 0.11236598153794716, 0.99896951341226, 0.998435807196502, 0.9991714925228004, 0.20363820938728122, 0.7960175023773428, 0.9992372290260005, 0.9990222437991058, 0.9994232061237905, 0.1383834885261687, 0.20135878701561655, 0.15270834183063536, 0.5073160311789426, 0.35380984400147925, 0.19500674194028494, 0.03918661584095938, 0.10793953758317612, 0.09463937410646793, 0.0050481131662394, 0.05175590771447465, 8.498507013871043e-06, 0.0965855322126444, 0.02916687607160542, 0.017370948336352412, 0.0094503397994246, 0.9993131097005634, 0.9994298940360349, 0.9991265619853731, 0.9977622974802625, 0.9998091344039823, 0.21150083339354206, 0.78830590622441, 0.9994085151830553, 0.00011413962762996464, 0.06243437631359066, 0.9373146220972697, 0.9983796758362714, 0.9998621958664808, 0.9994014028086398, 0.9993975657914833, 0.9993027126355867, 0.23128674913168365, 0.7684688761472069, 0.9992408130828708, 0.9998365931607921, 0.1294485790046251, 0.8703105356293097, 0.9986287462080943, 0.9985963706404346, 0.9995611972026398, 0.999381810213513, 0.9974648754507245, 0.5597479563477854, 0.05904704010737013, 0.00044959675208657463, 0.0011989246722308657, 0.08984441762530049, 0.1117247928935138, 0.031246974270016936, 0.14409575904374716, 0.0026226477205050186, 0.033753818383498585, 0.9658194851096527, 0.9992117805471625, 0.12345419604062523, 0.29692844324347334, 0.032209451549582255, 0.11411976788840099, 0.04516841829282973, 0.08910264927677874, 0.04625365196098346, 0.00013476757970536508, 0.08337148062404533, 0.05021156298601471, 0.011171523054523685, 0.058489129592128444, 0.03990538965380968, 0.009476288762440409, 3.343772226446605e-05, 0.0007189110286860201, 1.6718861132233024e-05, 0.30847970675083153, 0.49171842476010547, 0.0737636153154121, 0.004079402116264858, 0.0009362562234050493, 0.05515552287523674, 0.00010031316679339814, 0.06501965094325422, 0.2406819584699731, 0.05777239039360767, 0.4169422514255648, 0.1851986627900744, 0.09930310877089922, 0.999330501816197, 0.9996801194016407, 0.9999432563212436, 0.9993590266778525, 0.019102169769431337, 0.536565036348785, 0.4443207295439847, 0.776271827721805, 0.22361463549425697, 0.3211148150099482, 0.1752829150312082, 0.00020331075480007577, 0.04156252715984406, 0.2562005954416383, 0.003920993128287175, 0.04728427268778905, 0.04684860678464603, 0.08698795866088956, 0.00023235514834294373, 0.019372610493092933, 0.000987509380457511, 0.9988756420726694, 0.000760116320613085, 0.9980327289649806, 0.998428205900332, 0.34847709693972523, 0.5676971104448343, 0.08375859006563129, 0.47301630629412394, 0.06852923930262754, 0.1012279313323863, 0.012474338680183945, 0.0011678104296342416, 0.005255146933354087, 0.08891283952897067, 0.07373130394372553, 0.003981171919207642, 0.03806000354762506, 0.0031849375353661135, 0.11635638462537534, 0.00047774063030491703, 0.013695231402074287, 0.999205978710419, 0.000514966146045569, 0.9991802412339995, 0.9974408659324934, 0.9998975285129501, 0.9990049472416674, 0.9990681756107935, 0.9994836340756388, 0.9991615926800392, 0.9990667399539915, 0.9993859172348132, 0.9995241951905991, 0.9988254019050197, 0.9991020951094749, 0.999713455253378, 0.9994018651774625, 0.9989824483069158, 0.9928392683544903, 0.00700415709597524, 0.999431814046406, 0.9997851547208182, 0.9997245974496393, 0.9988647095406574, 0.9989757833668861, 0.999580254673798, 0.6995666611693496, 0.2276747752281082, 0.07269921121050492, 0.9996832227607217, 0.9984934981155204, 0.0012311880371338106, 0.24474186633094056, 0.3280759181019961, 0.426913979504876, 0.9995568003072449, 0.14050925203471867, 0.06726506746342914, 0.7917347570325105, 0.9986079402689224, 0.9992149292110026, 0.9997645665902231, 0.9992964512133112, 0.19544867229317006, 0.025397285100242438, 0.7137005189763781, 0.0007361531913113751, 0.0018403829782784376, 0.06294109785712257, 0.9994564694737876, 0.01637679044046703, 0.9832624980456404, 0.9987178846806105, 0.9998737387203616, 0.145026752994842, 0.8546545129318676, 0.9991174160162939, 0.9997720947087078, 0.9994729546512677, 0.212295839434015, 0.12784306471179938, 0.14087877415073013, 0.14748974108047358, 0.37142460679924816, 0.1672454771084833, 0.1799626011844093, 0.6116018949916969, 0.04112307132455783, 0.9992847222234902, 0.9993694100719086, 0.9997026680526643, 0.9989864088196814, 0.9994435930707749, 0.9979356207495648, 0.9990950158281908, 0.9998051059575527, 0.25445057820726824, 0.7451000053833088, 0.019498088039876352, 0.9082366969281798, 0.06952348563713487, 0.0011324647093867578, 0.001083227113326464, 0.00039390076848235054, 9.847519212058764e-05, 0.9997858420566759, 0.9994569671805983, 0.2738435068073591, 0.20833322102252408, 0.06531915438940147, 0.09719031457793899, 0.0031536680246528875, 0.13579885645550768, 0.1394781358176027, 0.004634936339262577, 0.03793958199355141, 0.01443042035522988, 0.0064984674447392836, 0.0003344799420086396, 0.012996934889478567, 0.9998421783803505, 0.9995128027315685, 0.999647457378321, 0.3895378776360347, 0.13150564440494705, 0.00205019935597913, 0.056819810722850174, 0.0001952570815218219, 0.33711135124742553, 0.0008786568668481986, 0.08161746007612156, 0.9985978071139703, 0.9993079696475388, 0.9992849215099788, 0.9998646911304306, 0.9998246449584921, 0.9994125473302589, 0.9996743551501752, 0.7764325985354706, 0.06649645522110714, 0.10896962459643858, 0.0479504785481683, 0.9999438512927943, 0.9996086273911958, 0.9993867449345992, 0.8537843319295183, 0.14576805667089338, 0.9992360013079745, 0.9997915292316344, 0.9993819065178355, 0.9990249516241626, 0.9989376381169484, 0.20156115879068143, 0.12532969488907755, 0.09454499170700023, 0.0012920587101966758, 0.15718175091870865, 0.006235587688340479, 0.053873230568635314, 0.0794335224442652, 0.1902696891928757, 0.0430873491617761, 0.04718823115500903, 0.9995787702483321, 0.29512919449337854, 0.7046816633280911, 0.9988857141004189, 0.8579420267817923, 0.1415304686845837, 0.9988643254345541, 0.9988494393568228, 0.9987903938493531, 0.9995400250807926, 0.999464445054696, 0.9995585730723173, 0.998507608786097, 0.7149147634783999, 0.22211277405547408, 0.06299489032330678, 0.9974390869385371, 0.4226577327727377, 0.5771514789337384, 0.999082646718888, 0.5765989975178925, 0.42326262260563524, 0.9994495135000854, 0.26711630225251864, 0.7274597417294585, 0.005018886681153795, 0.3761154896210069, 0.06986489588228116, 0.16112473278000344, 0.07563963659883828, 0.1907557794075834, 0.09457321271869767, 0.03190307576196308, 0.9990579687189439, 0.1647268614373009, 0.8348122013554642, 0.9995652232848175, 0.12463613911440168, 0.03748282412481083, 0.0011497798811291667, 0.8363498855333559, 0.8015079807663975, 0.1981793120185302, 0.0001292754807687738, 0.0002154198357292974, 0.0935972915532123, 0.2202168676810254, 0.15283249223643422, 0.10822482381346507, 0.07686284821668028, 0.06038585785455646, 0.023112972131053153, 0.057091510610598674, 0.08083497982183513, 0.03391548877152719, 0.01665563120150909, 0.020533188244636444, 0.05351869382289325, 0.0020070823719168683, 0.99923096022073, 0.9995813665665845, 0.8003603102550422, 0.19915459148683906, 0.18135802847155283, 0.19346520587123667, 0.2575791590427583, 0.14967550067134922, 0.14043909729427084, 0.03786093276189793, 0.03960836042783168, 0.9989101855921811, 0.11771347382196376, 0.6927597006684489, 0.18929599168667147, 0.19240621324490917, 0.807374220142802, 0.9990448594872615, 0.9991566766568137, 0.9995455277634253, 0.9991228388478491, 0.6651535305354536, 0.09324879638607077, 0.17663167916132858, 0.06476494902582047, 0.9997845263849988, 0.19687693272547016, 0.3746082469199339, 0.10714626274280128, 0.07289175247949452, 0.08661662359509555, 0.012340850498901762, 0.14947422660352042, 0.999333162724316, 0.9997864523564448, 0.9898843421375114, 0.009843317017685605, 0.0001682618293621471, 0.9991879387508251, 0.99926043826192, 0.08577927549411606, 0.9139277219924571, 0.9984970438700551, 0.9989161376696466, 0.9997089179490026, 0.18815156241765074, 0.2622584278038481, 0.549588938807218, 0.9996896550648693, 0.9993251825792796, 0.9988569334439649, 0.5792865568934181, 0.19466503665229354, 0.18524793052536848, 0.02278042815465679, 0.0001793734500366676, 0.017802814916139262, 0.15531076446875297, 0.13172164471347456, 0.13106114936032676, 0.03409414108629571, 0.03444011484270646, 0.0041516850769289975, 0.3837006219393584, 7.863039918426131e-05, 0.007768683439405019, 0.11766252933932864, 0.22605242144475776, 0.2101128276249351, 0.5636819996282741, 0.49970248235647896, 0.1543544234840562, 0.04528230804583998, 0.025365608241445632, 0.0017849872466202481, 0.07478157096366934, 0.13246484303866052, 0.014749631458914683, 0.007327842380862071, 0.04415494767955351, 0.066331936975753, 0.390995446683642, 0.1540036718576507, 0.18400818880387615, 0.031087606826235518, 0.11097280365184449, 0.05804776302864881, 0.00453726841625848, 0.9993338868737711, 0.1660688394273527, 0.8338059679644327, 0.9997908895979517, 0.9993652682731974, 0.6584247407416363, 0.09204079072518846, 0.05907196982288684, 0.12480568077654802, 0.06559775705303314, 0.16845306958825074, 0.5651595320581901, 0.019830159019585618, 0.011361028604970926, 0.07425981424521906, 0.09977048756729014, 0.04606380688924576, 0.014872619264689213, 0.9993860698461018, 0.9981840183906026, 0.9993000269722275, 0.9987135200771374, 0.8060986813042644, 0.19374696889835788, 0.13969979441054534, 0.6994334188380815, 0.16072484708102874, 0.9989600029882805, 0.9998459553668595, 0.17349899899539273, 0.8260268276346583, 0.9993434251694792, 0.9996581999022465, 0.9997682800660052, 0.2976620878120005, 0.1363516131282563, 0.06713073108027767, 0.0004918002276943419, 0.0431554699801785, 0.13573686284363837, 0.3195471979443987, 0.08408722947201826, 0.35474180437103836, 0.2764668799830341, 0.1549438171080573, 0.022637398748265033, 0.013842463423770173, 0.002523764049637656, 0.00022943309542160508, 0.044624737059502186, 0.00022943309542160508, 0.04569542483813634, 0.9995308105815885, 0.9991705084923539, 0.7448564766485151, 0.25391246308109156, 0.00014711034940967068, 0.0010297724458676947, 0.24004889591549458, 0.7597353045180572, 0.3779052482393601, 0.6218373984406862, 0.9988666500363932, 0.9996685194296903, 0.20691209694265564, 0.12923553767374202, 0.0019440270546082843, 0.10565364427218936, 0.5561607834488048, 0.9995389649393849, 0.9997353221224058, 0.9998273448886268], \"Term\": [\"I\", \"absolutely\", \"access\", \"accord\", \"across\", \"actual\", \"actually\", \"actually\", \"actually\", \"actually\", \"add\", \"admit\", \"advance\", \"affect\", \"afghanistan\", \"african\", \"aggression\", \"aggressor\", \"ago\", \"agree\", \"agree\", \"agreement\", \"air\", \"aircraft\", \"alliance\", \"ally\", \"also\", \"also\", \"also\", \"also\", \"also\", \"also\", \"also\", \"also\", \"always\", \"always\", \"ambassador\", \"america\", \"america\", \"america\", \"americans\", \"amid\", \"amount\", \"answer\", \"anyone\", \"anyone\", \"anything\", \"anything\", \"anyway\", \"apparently\", \"appear\", \"army\", \"army\", \"army\", \"arrest\", \"arrive\", \"art\", \"article\", \"ask\", \"ask\", \"ask\", \"ask\", \"ask\", \"ass\", \"asset\", \"attack\", \"attack\", \"attack\", \"attack\", \"attack\", \"attack\", \"back\", \"back\", \"back\", \"back\", \"back\", \"back\", \"bad\", \"ban\", \"ban\", \"bank\", \"battle\", \"be\", \"bear\", \"become\", \"become\", \"begin\", \"belarus\", \"believe\", \"believe\", \"benefit\", \"biden\", \"bill\", \"billion\", \"biological\", \"bit\", \"block\", \"blood\", \"blow\", \"bomb\", \"bomb\", \"bomb\", \"bombing\", \"book\", \"border\", \"border\", \"border\", \"border\", \"boy\", \"brainwash\", \"brave\", \"break\", \"break\", \"break\", \"break\", \"brexit\", \"bring\", \"bring\", \"brother\", \"bully\", \"bunch\", \"business\", \"business\", \"buy\", \"buy\", \"buy\", \"call\", \"call\", \"call\", \"can\", \"canada\", \"cancel\", \"capture\", \"care\", \"care\", \"carry\", \"channel\", \"chaos\", \"charge\", \"check\", \"chemical_weapon\", \"chernobyl\", \"child\", \"china\", \"chinese\", \"choose\", \"city\", \"city\", \"civilian\", \"claim\", \"clearly\", \"close\", \"close\", \"cnn\", \"come\", \"come\", \"come\", \"come\", \"come\", \"come\", \"come\", \"come\", \"come\", \"come\", \"come\", \"comment\", \"comment\", \"commit\", \"community\", \"company\", \"compare\", \"complete\", \"completely\", \"confirm\", \"conflict\", \"conflict\", \"conflict\", \"conflict\", \"conflict\", \"conflict\", \"conflict\", \"conflict\", \"conflict\", \"continue\", \"continue\", \"continue\", \"continue\", \"continue\", \"correct\", \"corrupt\", \"corruption\", \"cost\", \"could\", \"could\", \"could\", \"could\", \"could\", \"could\", \"could\", \"could\", \"country\", \"country\", \"country\", \"country\", \"country\", \"country\", \"country\", \"country\", \"country\", \"country\", \"country\", \"coup\", \"cover\", \"covid\", \"coward\", \"crazy\", \"crime\", \"crimea\", \"criminal\", \"crisis\", \"crisis\", \"crisis\", \"cross\", \"cry\", \"current\", \"d\", \"d\", \"damn\", \"dangerous\", \"day\", \"day\", \"day\", \"day\", \"day\", \"day\", \"dead\", \"dead\", \"deal\", \"deal\", \"dear\", \"decide\", \"decide\", \"declare\", \"deep\", \"defeat\", \"defence\", \"defend\", \"defend\", \"dem\", \"democratic\", \"deserve\", \"destroy\", \"destroy\", \"detail\", \"dictatorship\", \"die\", \"die\", \"difference\", \"diplomacy\", \"divide\", \"do\", \"donate\", \"donation\", \"donbas\", \"doubt\", \"dream\", \"drive\", \"drop\", \"dumb\", \"early\", \"east\", \"eastern\", \"easy\", \"economic\", \"economy\", \"economy\", \"embassy\", \"empire\", \"end\", \"energy\", \"enough\", \"enough\", \"enough\", \"enough\", \"escalate\", \"etc\", \"eu\", \"eu\", \"europe\", \"europe\", \"europe\", \"europe\", \"european\", \"even\", \"even\", \"even\", \"even\", \"eventually\", \"every\", \"everyone\", \"everything\", \"evidence\", \"evidence\", \"evil\", \"exactly\", \"except\", \"excuse\", \"expand\", \"expert\", \"explain\", \"export\", \"face\", \"face\", \"face\", \"face\", \"face\", \"fail\", \"fair\", \"fake\", \"family\", \"family\", \"far\", \"far\", \"fascist\", \"fear\", \"fear\", \"feed\", \"fight\", \"fight\", \"fight\", \"fight\", \"fight\", \"fighter\", \"fighting\", \"finally\", \"finance\", \"fine\", \"fire\", \"flag\", \"flee\", \"flee\", \"flee\", \"fly\", \"focus\", \"food\", \"fool\", \"force\", \"force\", \"forget\", \"forget\", \"former\", \"former\", \"france\", \"free\", \"freedom\", \"freedom\", \"friend\", \"friend\", \"front\", \"fuck\", \"fuel\", \"full\", \"full\", \"full\", \"full\", \"fund\", \"fund\", \"fund\", \"funny\", \"future\", \"future\", \"gas\", \"general\", \"genocide\", \"german\", \"germany\", \"germany\", \"get\", \"get\", \"get\", \"get\", \"get\", \"get\", \"get\", \"get\", \"get\", \"get\", \"get\", \"get\", \"give\", \"give\", \"give\", \"give\", \"give\", \"give\", \"give\", \"give\", \"global\", \"go\", \"go\", \"go\", \"go\", \"go\", \"go\", \"go\", \"go\", \"go\", \"go\", \"god\", \"going\", \"good\", \"good\", \"good\", \"good\", \"good\", \"good\", \"good\", \"gop\", \"government\", \"government\", \"government\", \"government\", \"government\", \"government\", \"govt\", \"govt\", \"govt\", \"great\", \"great\", \"great\", \"great\", \"ground\", \"ground\", \"guess\", \"guy\", \"half\", \"happen\", \"happen\", \"happen\", \"happen\", \"happen\", \"happen\", \"hard\", \"hate\", \"hate\", \"have\", \"have\", \"he\", \"head\", \"hear\", \"hear\", \"heart\", \"hell\", \"hell\", \"help\", \"help\", \"help\", \"hero\", \"hey\", \"hide\", \"high\", \"high\", \"high\", \"high\", \"history\", \"hit\", \"hit\", \"hitler\", \"home\", \"home\", \"home\", \"home\", \"hour\", \"house\", \"human\", \"human_right\", \"humanity\", \"hundred\", \"hunter\", \"idea\", \"idea\", \"ill\", \"illegal\", \"imagine\", \"immediately\", \"impact\", \"import\", \"india\", \"indian\", \"industry\", \"inflation\", \"inflation\", \"influence\", \"information\", \"innocent\", \"innocent\", \"inside\", \"instead\", \"intelligence\", \"interest\", \"interesting\", \"invade\", \"invasion\", \"invasion\", \"invasion\", \"invasion\", \"invasion\", \"invasion\", \"invasion\", \"invasion\", \"invite\", \"iran\", \"iraq\", \"israel\", \"jet\", \"jewish\", \"joe\", \"johnson\", \"join\", \"journalist\", \"kharkiv\", \"kick\", \"kid\", \"kiev\", \"kill\", \"kind\", \"know\", \"know\", \"know\", \"know\", \"know\", \"kremlin\", \"kremlin\", \"kremlin\", \"kremlin\", \"kyiv\", \"large\", \"last\", \"last\", \"last\", \"last\", \"last\", \"last\", \"late\", \"late\", \"launch\", \"law\", \"leader\", \"leader\", \"leader\", \"leader\", \"leader\", \"leader\", \"leadership\", \"learn\", \"leave\", \"leave\", \"leave\", \"leave\", \"leave\", \"let\", \"let\", \"let\", \"let\", \"let\", \"let\", \"lie\", \"lie\", \"lie\", \"life\", \"life\", \"life\", \"like\", \"like\", \"like\", \"like\", \"like\", \"like\", \"like\", \"like\", \"like\", \"like\", \"line\", \"listen\", \"live\", \"live\", \"live\", \"live\", \"live\", \"live\", \"ll\", \"logic\", \"lol\", \"long\", \"long\", \"long\", \"long\", \"long\", \"long\", \"look\", \"look\", \"look\", \"look\", \"look\", \"look\", \"lose\", \"lose\", \"lose\", \"lose\", \"lose\", \"lose\", \"lose\", \"lot\", \"lot\", \"lot\", \"love\", \"low\", \"m\", \"main\", \"make\", \"make\", \"make\", \"make\", \"make\", \"make\", \"make\", \"make\", \"make\", \"make\", \"make\", \"make\", \"man\", \"man\", \"man\", \"man\", \"map\", \"mariupol\", \"mariupol\", \"market\", \"mass\", \"matter\", \"may\", \"may\", \"may\", \"may\", \"maybe\", \"maybe\", \"mean\", \"mean\", \"mean\", \"mean\", \"mean\", \"mean\", \"mean\", \"mean\", \"measure\", \"medium\", \"medium\", \"medium\", \"member\", \"member\", \"message\", \"might\", \"might\", \"military\", \"military\", \"military\", \"military\", \"military\", \"military\", \"military\", \"million\", \"million\", \"miss\", \"missile\", \"missile\", \"mistake\", \"money\", \"money\", \"moral\", \"morning\", \"moscow\", \"moscow\", \"move\", \"move\", \"move\", \"move\", \"mr\", \"much\", \"much\", \"much\", \"much\", \"much\", \"much\", \"much\", \"much\", \"murder\", \"murder\", \"music\", \"must\", \"must\", \"must\", \"must\", \"must\", \"name\", \"narrative\", \"nato\", \"nato\", \"nato\", \"nazi\", \"nazis\", \"near\", \"need\", \"need\", \"need\", \"need\", \"need\", \"need\", \"need\", \"neonazi\", \"never\", \"never\", \"never\", \"never\", \"never\", \"new\", \"new\", \"new\", \"new\", \"new\", \"new\", \"new\", \"new\", \"news\", \"next\", \"next\", \"next\", \"nft\", \"nice\", \"nobody\", \"not\", \"note\", \"nt\", \"nt\", \"nt\", \"nuclear\", \"nuclear\", \"nuke\", \"obviously\", \"occupy\", \"oil\", \"old\", \"old\", \"old\", \"oligarch\", \"oligarchs\", \"one\", \"one\", \"one\", \"one\", \"one\", \"one\", \"one\", \"one\", \"one\", \"one\", \"one\", \"one\", \"open\", \"open\", \"open\", \"open\", \"opinion\", \"opportunity\", \"own\", \"pakistan\", \"part\", \"part\", \"part\", \"part\", \"part\", \"pass\", \"pay\", \"pay\", \"pay\", \"pay\", \"pay\", \"pay\", \"peace\", \"peace\", \"people\", \"people\", \"people\", \"people\", \"people\", \"people\", \"per\", \"perhaps\", \"person\", \"picture\", \"piece\", \"place\", \"place\", \"plan\", \"plan\", \"plan\", \"plan\", \"plane\", \"planet\", \"play\", \"play\", \"play\", \"play\", \"player\", \"please\", \"please\", \"pm\", \"pm\", \"podcast\", \"poland\", \"police\", \"poor\", \"population\", \"position\", \"post\", \"post\", \"power\", \"power\", \"power\", \"power\", \"power\", \"powerful\", \"ppl\", \"pray\", \"prayer\", \"president\", \"president\", \"president\", \"president\", \"president\", \"pretty\", \"pretty\", \"price\", \"pro\", \"probably\", \"probably\", \"produce\", \"production\", \"project\", \"protect\", \"protect\", \"public\", \"pull\", \"puppet\", \"push\", \"push\", \"push\", \"push\", \"putin\", \"putin\", \"putin\", \"putin\", \"putin\", \"putin\", \"putin\", \"putin\", \"putin\", \"putin\", \"putin\", \"putin\", \"quite\", \"racist\", \"raise\", \"rd\", \"re\", \"read\", \"read\", \"reality\", \"really\", \"really\", \"really\", \"red\", \"refugee\", \"region\", \"release\", \"remain\", \"remember\", \"remember\", \"repeat\", \"report\", \"republican\", \"republican\", \"rescue\", \"research\", \"respect\", \"result\", \"retweet\", \"right\", \"right\", \"right\", \"right\", \"right\", \"right\", \"right\", \"right\", \"right\", \"risk\", \"risk\", \"role\", \"russia\", \"russia\", \"russia\", \"russia\", \"russia\", \"russia\", \"russia\", \"russia\", \"russia\", \"russia\", \"russia\", \"russia\", \"russia\", \"russia\", \"russian\", \"russian\", \"russian\", \"russian\", \"russian\", \"russian\", \"russian\", \"russian\", \"russian\", \"russian\", \"russian\", \"russians\", \"russians\", \"russians\", \"russians\", \"russians\", \"russias\", \"russiaukraine\", \"s\", \"sad\", \"sanction\", \"sanction\", \"sanction\", \"save\", \"save\", \"say\", \"say\", \"say\", \"say\", \"say\", \"say\", \"say\", \"say\", \"say\", \"say\", \"say\", \"say\", \"school\", \"second\", \"second\", \"secret\", \"security\", \"security\", \"security\", \"see\", \"see\", \"see\", \"see\", \"see\", \"see\", \"see\", \"see\", \"see\", \"see\", \"see\", \"see\", \"see\", \"see\", \"seem\", \"seem\", \"seize\", \"self\", \"send\", \"sense\", \"seriously\", \"set\", \"several\", \"shame\", \"share\", \"shell\", \"shift\", \"ship\", \"shit\", \"shoot\", \"short\", \"side\", \"side\", \"sign\", \"situation\", \"sky\", \"slaughter\", \"slavaukraini\", \"small\", \"soldier\", \"soldier\", \"soldier\", \"someone\", \"something\", \"something\", \"soon\", \"soon\", \"soon\", \"sound\", \"source\", \"source\", \"source\", \"sovereign\", \"soviet_union\", \"speak\", \"special\", \"speech\", \"speech\", \"speech\", \"speech\", \"speech\", \"speech\", \"spend\", \"sponsor\", \"sponsor\", \"stage\", \"stand\", \"statement\", \"statement\", \"station\", \"stay\", \"stick\", \"still\", \"still\", \"still\", \"still\", \"still\", \"stop\", \"stop\", \"stop\", \"stop\", \"stopputin\", \"stoprussia\", \"story\", \"street\", \"strike\", \"study\", \"stuff\", \"suffer\", \"supply\", \"supply\", \"support\", \"support\", \"support\", \"support\", \"support\", \"support\", \"support\", \"sure\", \"syria\", \"take\", \"take\", \"take\", \"take\", \"take\", \"take\", \"take\", \"take\", \"take\", \"take\", \"take\", \"take\", \"take\", \"talk\", \"tank\", \"target\", \"tell\", \"tell\", \"tell\", \"tell\", \"tell\", \"tell\", \"tell\", \"tell\", \"terrible\", \"territory\", \"th\", \"thank\", \"that\", \"there\", \"they\", \"thing\", \"thing\", \"thing\", \"thing\", \"think\", \"though\", \"thought\", \"thousand\", \"thousand\", \"thread\", \"threat\", \"threaten\", \"three\", \"throw\", \"time\", \"time\", \"time\", \"time\", \"time\", \"time\", \"time\", \"time\", \"time\", \"time\", \"time\", \"to\", \"today\", \"today\", \"tomorrow\", \"top\", \"top\", \"tory\", \"total\", \"tough\", \"trade\", \"train\", \"traitor\", \"travel\", \"troop\", \"troop\", \"troop\", \"truck\", \"true\", \"true\", \"truly\", \"trump\", \"trump\", \"trust\", \"truth\", \"truth\", \"truth\", \"try\", \"try\", \"try\", \"try\", \"try\", \"try\", \"try\", \"turkey\", \"tweet\", \"tweet\", \"twitter\", \"two\", \"two\", \"two\", \"two\", \"uk\", \"uk\", \"uk\", \"ukraine\", \"ukraine\", \"ukraine\", \"ukraine\", \"ukraine\", \"ukraine\", \"ukraine\", \"ukraine\", \"ukraine\", \"ukraine\", \"ukraine\", \"ukraine\", \"ukraine\", \"ukraine\", \"ukraine\", \"ukrainerussia\", \"ukraines\", \"ukrainewar\", \"ukrainewar\", \"ukrainian\", \"ukrainian\", \"ukrainian\", \"ukrainian\", \"ukrainian\", \"ukrainian\", \"ukrainian\", \"ukranian\", \"un\", \"un\", \"un\", \"understand\", \"understand\", \"united\", \"united_states\", \"update\", \"urge\", \"us\", \"us\", \"us\", \"us\", \"usa\", \"use\", \"use\", \"use\", \"use\", \"use\", \"use\", \"use\", \"ussr\", \"ve\", \"via\", \"via\", \"via\", \"victim\", \"victory\", \"video\", \"video\", \"violence\", \"visit\", \"vladimir\", \"vote\", \"vote\", \"vote\", \"wait\", \"wake\", \"walk\", \"want\", \"want\", \"want\", \"want\", \"want\", \"want\", \"war\", \"war\", \"war\", \"war\", \"war\", \"war\", \"war\", \"war\", \"war\", \"war\", \"watch\", \"watch\", \"watch\", \"way\", \"way\", \"way\", \"way\", \"way\", \"way\", \"way\", \"way\", \"way\", \"way\", \"we\", \"we\", \"we\", \"we\", \"we\", \"we\", \"we\", \"we\", \"weak\", \"weapon\", \"weapon\", \"week\", \"welcome\", \"well\", \"well\", \"well\", \"well\", \"well\", \"west\", \"west\", \"west\", \"west\", \"west\", \"west\", \"west\", \"west\", \"whatever\", \"wheat\", \"white\", \"white_house\", \"whole\", \"whole\", \"will\", \"will\", \"will\", \"willing\", \"win\", \"wish\", \"wish\", \"within\", \"woman\", \"word\", \"work\", \"work\", \"work\", \"work\", \"work\", \"work\", \"work\", \"world\", \"world\", \"world\", \"world\", \"world\", \"world\", \"world\", \"world\", \"world\", \"world\", \"world\", \"worry\", \"worth\", \"would\", \"would\", \"would\", \"would\", \"wrong\", \"wrong\", \"ww\", \"ww\", \"wwii\", \"yeah\", \"year\", \"year\", \"year\", \"year\", \"year\", \"yesterday\", \"you\", \"zelensky\"]}, \"R\": 30, \"lambda.step\": 0.01, \"plot.opts\": {\"xlab\": \"PC1\", \"ylab\": \"PC2\"}, \"topic.order\": [15, 5, 12, 14, 10, 1, 3, 6, 11, 8, 4, 7, 9, 13, 2]};\n",
       "\n",
       "function LDAvis_load_lib(url, callback){\n",
       "  var s = document.createElement('script');\n",
       "  s.src = url;\n",
       "  s.async = true;\n",
       "  s.onreadystatechange = s.onload = callback;\n",
       "  s.onerror = function(){console.warn(\"failed to load library \" + url);};\n",
       "  document.getElementsByTagName(\"head\")[0].appendChild(s);\n",
       "}\n",
       "\n",
       "if(typeof(LDAvis) !== \"undefined\"){\n",
       "   // already loaded: just create the visualization\n",
       "   !function(LDAvis){\n",
       "       new LDAvis(\"#\" + \"ldavis_el522371402107154880326545051658\", ldavis_el522371402107154880326545051658_data);\n",
       "   }(LDAvis);\n",
       "}else if(typeof define === \"function\" && define.amd){\n",
       "   // require.js is available: use it to load d3/LDAvis\n",
       "   require.config({paths: {d3: \"https://d3js.org/d3.v5\"}});\n",
       "   require([\"d3\"], function(d3){\n",
       "      window.d3 = d3;\n",
       "      LDAvis_load_lib(\"https://cdn.jsdelivr.net/gh/bmabey/pyLDAvis@3.3.1/pyLDAvis/js/ldavis.v3.0.0.js\", function(){\n",
       "        new LDAvis(\"#\" + \"ldavis_el522371402107154880326545051658\", ldavis_el522371402107154880326545051658_data);\n",
       "      });\n",
       "    });\n",
       "}else{\n",
       "    // require.js not available: dynamically load d3 & LDAvis\n",
       "    LDAvis_load_lib(\"https://d3js.org/d3.v5.js\", function(){\n",
       "         LDAvis_load_lib(\"https://cdn.jsdelivr.net/gh/bmabey/pyLDAvis@3.3.1/pyLDAvis/js/ldavis.v3.0.0.js\", function(){\n",
       "                 new LDAvis(\"#\" + \"ldavis_el522371402107154880326545051658\", ldavis_el522371402107154880326545051658_data);\n",
       "            })\n",
       "         });\n",
       "}\n",
       "</script>"
      ],
      "text/plain": [
       "PreparedData(topic_coordinates=              x         y  topics  cluster       Freq\n",
       "topic                                                \n",
       "14     0.130506 -0.200939       1        1  13.915814\n",
       "4      0.158544  0.009359       2        1  12.155228\n",
       "11     0.137103 -0.082667       3        1   9.062192\n",
       "13     0.125560  0.096007       4        1   8.434704\n",
       "9      0.051705  0.101872       5        1   7.161393\n",
       "0     -0.016278  0.165057       6        1   5.955951\n",
       "2     -0.005139  0.001908       7        1   5.876174\n",
       "5      0.003629 -0.227392       8        1   5.757769\n",
       "10    -0.007153  0.130100       9        1   5.537742\n",
       "7      0.082800  0.066061      10        1   5.378080\n",
       "3     -0.025242 -0.112356      11        1   5.232939\n",
       "6     -0.056942  0.124057      12        1   4.413319\n",
       "8     -0.139836 -0.215223      13        1   4.118343\n",
       "12    -0.040512  0.137754      14        1   4.076844\n",
       "1     -0.398743  0.006402      15        1   2.923509, topic_info=         Term          Freq         Total Category  logprob  loglift\n",
       "28        not  46898.000000  46898.000000  Default  30.0000  30.0000\n",
       "116      nato  37059.000000  37059.000000  Default  29.0000  29.0000\n",
       "69    russian  59812.000000  59812.000000  Default  28.0000  28.0000\n",
       "203       war  63588.000000  63588.000000  Default  27.0000  27.0000\n",
       "118    people  44532.000000  44532.000000  Default  26.0000  26.0000\n",
       "...       ...           ...           ...      ...      ...      ...\n",
       "27     moscow   3723.102563   6009.630917  Topic15  -3.6414   3.0536\n",
       "957     watch   4278.721073   7591.159560  Topic15  -3.5023   2.9591\n",
       "1694  comment   1571.984909   2251.108969  Topic15  -4.5036   3.1733\n",
       "26       have   1424.937406   1881.053502  Topic15  -4.6018   3.2547\n",
       "2059     soon   1541.585008   3611.968860  Topic15  -4.5231   2.6809\n",
       "\n",
       "[786 rows x 6 columns], token_table=      Topic      Freq        Term\n",
       "term                             \n",
       "0         8  0.999905           I\n",
       "2952     11  0.999671  absolutely\n",
       "2400      7  0.998848      access\n",
       "156       5  0.999096      accord\n",
       "3076      3  0.999196      across\n",
       "...     ...       ...         ...\n",
       "125       8  0.105654        year\n",
       "125       9  0.556161        year\n",
       "2706      8  0.999539   yesterday\n",
       "706      15  0.999735         you\n",
       "64       12  0.999827    zelensky\n",
       "\n",
       "[1342 rows x 3 columns], R=30, lambda_step=0.01, plot_opts={'xlab': 'PC1', 'ylab': 'PC2'}, topic_order=[15, 5, 12, 14, 10, 1, 3, 6, 11, 8, 4, 7, 9, 13, 2])"
      ]
     },
     "execution_count": 126,
     "metadata": {},
     "output_type": "execute_result"
    }
   ],
   "source": [
    "# Visualize the topics\n",
    "pyLDAvis.enable_notebook()\n",
    "LDAvis_prepared = pyLDAvis.gensim_models.prepare(lda_model, corpus, id2word)\n",
    "LDAvis_prepared"
   ]
  },
  {
   "cell_type": "code",
   "execution_count": 104,
   "id": "25c9a7bd",
   "metadata": {},
   "outputs": [],
   "source": [
    "def getRowTopic(row):\n",
    "    if row['bow_format'] != 0:\n",
    "        topics_list = lda_model.get_document_topics(row['bow_format'])\n",
    "        topics_list.sort(key=lambda n: n[1], reverse=True)\n",
    "        topic = topics_list[0][0]\n",
    "        return topic\n",
    "    else:\n",
    "        return 'n/a'"
   ]
  },
  {
   "cell_type": "code",
   "execution_count": 105,
   "id": "0de11d97",
   "metadata": {},
   "outputs": [],
   "source": [
    "df['topic'] = df.apply(lambda row: getRowTopic(row), axis=1)"
   ]
  },
  {
   "cell_type": "code",
   "execution_count": 106,
   "id": "9d152dfc",
   "metadata": {},
   "outputs": [],
   "source": [
    "save_df = df.drop(columns=['is_english','bigrams','lemmatized','bow_format'])\n",
    "save_df.to_csv('topic_results_march.csv', index=False)"
   ]
  },
  {
   "cell_type": "code",
   "execution_count": 107,
   "id": "60ea0d12",
   "metadata": {},
   "outputs": [
    {
     "data": {
      "text/html": [
       "<div>\n",
       "<style scoped>\n",
       "    .dataframe tbody tr th:only-of-type {\n",
       "        vertical-align: middle;\n",
       "    }\n",
       "\n",
       "    .dataframe tbody tr th {\n",
       "        vertical-align: top;\n",
       "    }\n",
       "\n",
       "    .dataframe thead th {\n",
       "        text-align: right;\n",
       "    }\n",
       "</style>\n",
       "<table border=\"1\" class=\"dataframe\">\n",
       "  <thead>\n",
       "    <tr style=\"text-align: right;\">\n",
       "      <th></th>\n",
       "      <th>text</th>\n",
       "      <th>id</th>\n",
       "      <th>author_id</th>\n",
       "      <th>is_english</th>\n",
       "      <th>topic</th>\n",
       "    </tr>\n",
       "  </thead>\n",
       "  <tbody>\n",
       "    <tr>\n",
       "      <th>0</th>\n",
       "      <td>I'm @NestyXXX big fan from Ukraine\\n\\nHope she...</td>\n",
       "      <td>1506636909660893185</td>\n",
       "      <td>1481357424343011328</td>\n",
       "      <td>1</td>\n",
       "      <td>5</td>\n",
       "    </tr>\n",
       "    <tr>\n",
       "      <th>1</th>\n",
       "      <td>@GBNEWS Nice one, Russia. Someone has a sense ...</td>\n",
       "      <td>1506636910717980673</td>\n",
       "      <td>1441739248005050374</td>\n",
       "      <td>1</td>\n",
       "      <td>1</td>\n",
       "    </tr>\n",
       "    <tr>\n",
       "      <th>2</th>\n",
       "      <td>Ivanka The Carnival Barker sends 1M meals to U...</td>\n",
       "      <td>1506636910470602758</td>\n",
       "      <td>1494897620417978369</td>\n",
       "      <td>1</td>\n",
       "      <td>9</td>\n",
       "    </tr>\n",
       "    <tr>\n",
       "      <th>3</th>\n",
       "      <td>@RhonddaBryant Hasn't rishi sunaks family firm...</td>\n",
       "      <td>1506636911103946753</td>\n",
       "      <td>3911182049</td>\n",
       "      <td>1</td>\n",
       "      <td>1</td>\n",
       "    </tr>\n",
       "    <tr>\n",
       "      <th>4</th>\n",
       "      <td>Man knows his stuff and has made me revaluate ...</td>\n",
       "      <td>1506636911171055616</td>\n",
       "      <td>901372926020251648</td>\n",
       "      <td>1</td>\n",
       "      <td>14</td>\n",
       "    </tr>\n",
       "    <tr>\n",
       "      <th>...</th>\n",
       "      <td>...</td>\n",
       "      <td>...</td>\n",
       "      <td>...</td>\n",
       "      <td>...</td>\n",
       "      <td>...</td>\n",
       "    </tr>\n",
       "    <tr>\n",
       "      <th>491626</th>\n",
       "      <td>I don't think the implementation of sanctions ...</td>\n",
       "      <td>1506348326387597312</td>\n",
       "      <td>1394738427623624706</td>\n",
       "      <td>1</td>\n",
       "      <td>14</td>\n",
       "    </tr>\n",
       "    <tr>\n",
       "      <th>491627</th>\n",
       "      <td>@joetsai1999 @BenStinar @howardmegdal @zachary...</td>\n",
       "      <td>1506348326391894017</td>\n",
       "      <td>1409048978</td>\n",
       "      <td>1</td>\n",
       "      <td>7</td>\n",
       "    </tr>\n",
       "    <tr>\n",
       "      <th>491628</th>\n",
       "      <td>Really a good point. They do not seem to be as...</td>\n",
       "      <td>1506348326748360707</td>\n",
       "      <td>1498095127776182275</td>\n",
       "      <td>1</td>\n",
       "      <td>2</td>\n",
       "    </tr>\n",
       "    <tr>\n",
       "      <th>491630</th>\n",
       "      <td>@scottcarnold @AdamKinzinger @TuckerCarlson It...</td>\n",
       "      <td>1506348328279318540</td>\n",
       "      <td>3438292283</td>\n",
       "      <td>1</td>\n",
       "      <td>14</td>\n",
       "    </tr>\n",
       "    <tr>\n",
       "      <th>491631</th>\n",
       "      <td>Some Russian soldiers have gotten frostbite du...</td>\n",
       "      <td>1506348328220446720</td>\n",
       "      <td>1307130207237627904</td>\n",
       "      <td>1</td>\n",
       "      <td>9</td>\n",
       "    </tr>\n",
       "  </tbody>\n",
       "</table>\n",
       "<p>353425 rows × 5 columns</p>\n",
       "</div>"
      ],
      "text/plain": [
       "                                                     text  \\\n",
       "0       I'm @NestyXXX big fan from Ukraine\\n\\nHope she...   \n",
       "1       @GBNEWS Nice one, Russia. Someone has a sense ...   \n",
       "2       Ivanka The Carnival Barker sends 1M meals to U...   \n",
       "3       @RhonddaBryant Hasn't rishi sunaks family firm...   \n",
       "4       Man knows his stuff and has made me revaluate ...   \n",
       "...                                                   ...   \n",
       "491626  I don't think the implementation of sanctions ...   \n",
       "491627  @joetsai1999 @BenStinar @howardmegdal @zachary...   \n",
       "491628  Really a good point. They do not seem to be as...   \n",
       "491630  @scottcarnold @AdamKinzinger @TuckerCarlson It...   \n",
       "491631  Some Russian soldiers have gotten frostbite du...   \n",
       "\n",
       "                         id            author_id  is_english topic  \n",
       "0       1506636909660893185  1481357424343011328           1     5  \n",
       "1       1506636910717980673  1441739248005050374           1     1  \n",
       "2       1506636910470602758  1494897620417978369           1     9  \n",
       "3       1506636911103946753           3911182049           1     1  \n",
       "4       1506636911171055616   901372926020251648           1    14  \n",
       "...                     ...                  ...         ...   ...  \n",
       "491626  1506348326387597312  1394738427623624706           1    14  \n",
       "491627  1506348326391894017           1409048978           1     7  \n",
       "491628  1506348326748360707  1498095127776182275           1     2  \n",
       "491630  1506348328279318540           3438292283           1    14  \n",
       "491631  1506348328220446720  1307130207237627904           1     9  \n",
       "\n",
       "[353425 rows x 5 columns]"
      ]
     },
     "execution_count": 107,
     "metadata": {},
     "output_type": "execute_result"
    }
   ],
   "source": [
    "smaller_df = df.drop(columns=['bigrams','lemmatized','bow_format'])\n",
    "smaller_df = smaller_df[smaller_df['is_english']==1]\n",
    "smaller_df"
   ]
  },
  {
   "cell_type": "markdown",
   "id": "26701ff9",
   "metadata": {},
   "source": [
    "### Exploring the topics"
   ]
  },
  {
   "cell_type": "code",
   "execution_count": 183,
   "id": "5165e2b9",
   "metadata": {},
   "outputs": [
    {
     "data": {
      "text/html": [
       "<div>\n",
       "<style scoped>\n",
       "    .dataframe tbody tr th:only-of-type {\n",
       "        vertical-align: middle;\n",
       "    }\n",
       "\n",
       "    .dataframe tbody tr th {\n",
       "        vertical-align: top;\n",
       "    }\n",
       "\n",
       "    .dataframe thead th {\n",
       "        text-align: right;\n",
       "    }\n",
       "</style>\n",
       "<table border=\"1\" class=\"dataframe\">\n",
       "  <thead>\n",
       "    <tr style=\"text-align: right;\">\n",
       "      <th></th>\n",
       "      <th>text</th>\n",
       "      <th>id</th>\n",
       "      <th>author_id</th>\n",
       "      <th>is_english</th>\n",
       "      <th>topic</th>\n",
       "    </tr>\n",
       "  </thead>\n",
       "  <tbody>\n",
       "    <tr>\n",
       "      <th>4</th>\n",
       "      <td>Man knows his stuff and has made me revaluate ...</td>\n",
       "      <td>1506636911171055616</td>\n",
       "      <td>901372926020251648</td>\n",
       "      <td>1</td>\n",
       "      <td>14</td>\n",
       "    </tr>\n",
       "    <tr>\n",
       "      <th>22</th>\n",
       "      <td>So this is where we are. Don't dare question t...</td>\n",
       "      <td>1506636914996166660</td>\n",
       "      <td>1063697217939218432</td>\n",
       "      <td>1</td>\n",
       "      <td>14</td>\n",
       "    </tr>\n",
       "    <tr>\n",
       "      <th>33</th>\n",
       "      <td>@3axapiyc @zerohedge not even all Nato members...</td>\n",
       "      <td>1506636919358242828</td>\n",
       "      <td>1491186086529359877</td>\n",
       "      <td>1</td>\n",
       "      <td>14</td>\n",
       "    </tr>\n",
       "    <tr>\n",
       "      <th>51</th>\n",
       "      <td>$CSR What Is “Good Corporate Citizenship” for ...</td>\n",
       "      <td>1506636926509539328</td>\n",
       "      <td>472650465</td>\n",
       "      <td>1</td>\n",
       "      <td>14</td>\n",
       "    </tr>\n",
       "    <tr>\n",
       "      <th>71</th>\n",
       "      <td>Just to run what we have, we need Russian supp...</td>\n",
       "      <td>1506636930968322050</td>\n",
       "      <td>713251962670592000</td>\n",
       "      <td>1</td>\n",
       "      <td>14</td>\n",
       "    </tr>\n",
       "    <tr>\n",
       "      <th>...</th>\n",
       "      <td>...</td>\n",
       "      <td>...</td>\n",
       "      <td>...</td>\n",
       "      <td>...</td>\n",
       "      <td>...</td>\n",
       "    </tr>\n",
       "    <tr>\n",
       "      <th>491573</th>\n",
       "      <td>@business Germany should shut the f*ck up. The...</td>\n",
       "      <td>1506348309270700034</td>\n",
       "      <td>509923666</td>\n",
       "      <td>1</td>\n",
       "      <td>14</td>\n",
       "    </tr>\n",
       "    <tr>\n",
       "      <th>491582</th>\n",
       "      <td>@visionsurreal @RepRaskin @Liz_Cheney @RepKinz...</td>\n",
       "      <td>1506348314010144772</td>\n",
       "      <td>813478382176333828</td>\n",
       "      <td>1</td>\n",
       "      <td>14</td>\n",
       "    </tr>\n",
       "    <tr>\n",
       "      <th>491595</th>\n",
       "      <td>@WErkWombat @katalin_pota @obsidianstatue1 She...</td>\n",
       "      <td>1506348316992311299</td>\n",
       "      <td>447893674</td>\n",
       "      <td>1</td>\n",
       "      <td>14</td>\n",
       "    </tr>\n",
       "    <tr>\n",
       "      <th>491626</th>\n",
       "      <td>I don't think the implementation of sanctions ...</td>\n",
       "      <td>1506348326387597312</td>\n",
       "      <td>1394738427623624706</td>\n",
       "      <td>1</td>\n",
       "      <td>14</td>\n",
       "    </tr>\n",
       "    <tr>\n",
       "      <th>491630</th>\n",
       "      <td>@scottcarnold @AdamKinzinger @TuckerCarlson It...</td>\n",
       "      <td>1506348328279318540</td>\n",
       "      <td>3438292283</td>\n",
       "      <td>1</td>\n",
       "      <td>14</td>\n",
       "    </tr>\n",
       "  </tbody>\n",
       "</table>\n",
       "<p>73112 rows × 5 columns</p>\n",
       "</div>"
      ],
      "text/plain": [
       "                                                     text  \\\n",
       "4       Man knows his stuff and has made me revaluate ...   \n",
       "22      So this is where we are. Don't dare question t...   \n",
       "33      @3axapiyc @zerohedge not even all Nato members...   \n",
       "51      $CSR What Is “Good Corporate Citizenship” for ...   \n",
       "71      Just to run what we have, we need Russian supp...   \n",
       "...                                                   ...   \n",
       "491573  @business Germany should shut the f*ck up. The...   \n",
       "491582  @visionsurreal @RepRaskin @Liz_Cheney @RepKinz...   \n",
       "491595  @WErkWombat @katalin_pota @obsidianstatue1 She...   \n",
       "491626  I don't think the implementation of sanctions ...   \n",
       "491630  @scottcarnold @AdamKinzinger @TuckerCarlson It...   \n",
       "\n",
       "                         id            author_id  is_english topic  \n",
       "4       1506636911171055616   901372926020251648           1    14  \n",
       "22      1506636914996166660  1063697217939218432           1    14  \n",
       "33      1506636919358242828  1491186086529359877           1    14  \n",
       "51      1506636926509539328            472650465           1    14  \n",
       "71      1506636930968322050   713251962670592000           1    14  \n",
       "...                     ...                  ...         ...   ...  \n",
       "491573  1506348309270700034            509923666           1    14  \n",
       "491582  1506348314010144772   813478382176333828           1    14  \n",
       "491595  1506348316992311299            447893674           1    14  \n",
       "491626  1506348326387597312  1394738427623624706           1    14  \n",
       "491630  1506348328279318540           3438292283           1    14  \n",
       "\n",
       "[73112 rows x 5 columns]"
      ]
     },
     "execution_count": 183,
     "metadata": {},
     "output_type": "execute_result"
    }
   ],
   "source": [
    "df_topic = smaller_df[smaller_df['topic']==14]\n",
    "df_topic"
   ]
  },
  {
   "cell_type": "code",
   "execution_count": 184,
   "id": "5f5f87ab",
   "metadata": {},
   "outputs": [],
   "source": [
    "import random\n",
    "\n",
    "explore = random.choices(list(df_topic['id']), k=100)"
   ]
  },
  {
   "cell_type": "code",
   "execution_count": 185,
   "id": "de1138df",
   "metadata": {},
   "outputs": [],
   "source": [
    "topic = []\n",
    "for f in files3:\n",
    "    if f.startswith('batch'):\n",
    "        inF = open(f'results_03_extended/{f}','r')\n",
    "        data = json.load(inF)\n",
    "        inF.close()\n",
    "        for batch in data:\n",
    "            for tweet in batch['tweets']:\n",
    "                #date = tweet['created_at'].split()[0]\n",
    "                #if date in part1 and tweet['isRetweet'] == False:\n",
    "                if tweet['isRetweet'] == False:\n",
    "                    if tweet['id'] in explore:\n",
    "                        topic.append(tweet['text'])"
   ]
  },
  {
   "cell_type": "code",
   "execution_count": null,
   "id": "b81a8f10",
   "metadata": {
    "scrolled": true
   },
   "outputs": [],
   "source": [
    "topic"
   ]
  },
  {
   "cell_type": "markdown",
   "id": "398aebf7",
   "metadata": {},
   "source": [
    "### My notes for each topic"
   ]
  },
  {
   "cell_type": "markdown",
   "id": "15519857",
   "metadata": {},
   "source": [
    "14: \n",
    "EU, NATO, US, the Global West"
   ]
  },
  {
   "cell_type": "markdown",
   "id": "bb5b20e5",
   "metadata": {},
   "source": [
    "13:\n",
    "Demanding support for Ukraine"
   ]
  },
  {
   "cell_type": "markdown",
   "id": "380b84e2",
   "metadata": {},
   "source": [
    "12:\n",
    "IDK"
   ]
  },
  {
   "cell_type": "markdown",
   "id": "2ccee947",
   "metadata": {},
   "source": [
    "11:\n",
    "Divest from Russian oil, help Ukraine\n",
    "\n",
    "'@TheOvalPawffice Keep talking to your dad. Ukraine needs NATO assistance. Putin won’t stop in Ukraine. Democracy is at stake.',\n",
    "\n",
    " \"@tetrapak @foodhackglobal Stop backing Russia. The aggressor's economic blockade will help to bring the war to a close. Ukraine has seen enough bloodshed. Any European country could be the next to get involved in this conflict. While you are creating in Russia, you are killing civilians in Ukraine. https://t.co/3AlITi9Gq2\",\n",
    "\n",
    " 'Important question: Has Angela Merkel already hung herself suffering from shame? Or does she live an ordinary life of an ordinary Gazprom shareholder?  Where is this Long-standing European Leader in Pumping Money and Influence to Nazi Russia?',\n",
    "\n",
    " 'As we stand with the international community in support of the people of Ukraine, it is clear a rapid transition to a clean energy economy will be critical to bolstering global security.\\n#CleanEnergy #batterytech\\n\\nRead more about this in this article 👇🏻\\nhttps://t.co/zhOT2zOQ8Z',\n",
    "\n",
    " '@AstraZeneca Stop supporting terrorist country!! Taxes you are paying russia are financing war in Ukraine! The blood is on your hands too if you don’t leave russia. #LeaveRussia #StandWithUkraine #LeaveRussiaNow',"
   ]
  },
  {
   "cell_type": "markdown",
   "id": "05f3d7e7",
   "metadata": {},
   "source": [
    "10:\n",
    "NATO propaganda\n",
    "\n",
    " \"@geeklyamanda No.. you lied.\\nRussia agrees either #Ukraine never go to join #NATO either #NATO ensure that there is no threat for security of #Russia.\\n\\nAnd did you tell me why #NATO formed in 1949..?\\nWhat is the purpose of #NATO..?\\n\\nif you don't no.. then I'll tell you. 👍\",\n",
    " \"@FoxNews As I tweeted more than a week ago, Bulgaria loves Russia for liberating them from Turkey in 1878. Bulgaria should not have been admitted to NATO and hopefully pro-Russia Serbia won't be in the future. Members like these only undermine NATO.\",\n",
    " '@Lagrange2077 Ukraine is not Russian soil. Ukraine is a sovereign state.\\nUkraine applied to join NATO in 2008, and were rejected at that time, and told to reapply at a later time.',\n",
    " '@egor32536043 There are persistent rumours, some quite coherent, that #Poland is preparing to occupy Western #Ukraine. Just today, #Ukrainian officials blasted #Hungary for wanting #Transcarpatian #Zakarpattya region. This conflict may be on the verge of internationalizing. Belarus is an ally.',\n"
   ]
  },
  {
   "cell_type": "markdown",
   "id": "332949a4",
   "metadata": {},
   "source": [
    "9:\n",
    "Propaganda against Ukraine: biolabs again, ethnic cleansing; military news\n",
    "\n",
    " 'Inflation is red hot and drivers are reaching their breaking point — and that was before Russia’s invasion of Ukraine set gas prices\\xa0soaring https://t.co/65YtzpegAd',\n",
    " 'Russia will be blamed by the media for rising gas prices, food shortages, and inflation \\n\\nperfect scapegoat for phase two of the great reset \\n\\nread operation lockstep',\n",
    " 'NRA leaders forged ties with Maria Butina while she was helping target Ukraine https://t.co/KSjJVLcETY via @MotherJones',\n",
    " '@BBCWorld The Kiev government is bombing its own people (French news with English translation)\\nhttps://t.co/lwSyE2mGIf',\n",
    " 'Elena Baturina the Wealthiest Woman Oligarch in Russia who gave~Hunter Biden $3.5 million\\n\\nIn 2015 U.S. Diplomats in Moscow reported back to Washington~\\nClaiming she and husband had links to Russian mafia..\\n\\nhttps://t.co/huPCY0AoVu https://t.co/L5R5ILAqD0',\n",
    " 'Horrifying Russian Report Ukrainian Biolabs Creating Special Bioweapons for Ethnic Cleansing https://t.co/ppHyEreX4w via @BitChute',\n",
    "\n",
    "\n",
    "\n",
    "  'In #Energodar, #Zaporizhzhia region, #Ukraine, the Russian forces shelled the Zaporizhska #nuclear power plant, the largest one in Europe. There are reports of a fire at the NPP. https://t.co/6ngYXg1taB',\n",
    " 'Intercepted Communications Reveal Russia Is Suffering Heavy Losses Outside Kyiv https://t.co/qxZOy6tMxh via @politicususa',\n"
   ]
  },
  {
   "cell_type": "markdown",
   "id": "dcbf8eb6",
   "metadata": {},
   "source": [
    "8:\n",
    "IDK\n",
    "\n",
    " 'Civilian deaths: Aerial video shows escaping father killed in Ukraine https://t.co/U8khDdUZDU',\n",
    "\n",
    " 'Western propaganda.\\n\\n Day 1: Yes, there are no neo-Nazis and biolabs in Ukraine!\\n\\n Day 5: Well, if there is, then quite a bit of neo-Nazis.\\n\\n Day 10: Okay, okay.  There are many neo-Nazis.  But they are generally good guys.  But there are definitely no biolabs.⬇️ https://t.co/PE8mrKdCRr',\n",
    "\n",
    " '@JustinTrudeau @Macky_Sall Hard to trust the words coming out of a hypocrite. Don\\'t you agree?\\nWhile supporting the slaughtering and killing of innocent in middle east he now pretending to show moral outrage because Ukraine is more \"civilized\" ?',\n"
   ]
  },
  {
   "cell_type": "markdown",
   "id": "2a88397c",
   "metadata": {},
   "source": [
    "7:\n",
    "Propaganda: US is funding the war, leftist and Kremlin misinformation; War crimes\n",
    "\n",
    " '@KamVTV @Sephmeister Why should he hang around? Since Putin invaded the Ukraine, I haven’t heard one single word about Covid on any news station. Apparently, the Covid virus completely died out as soon as Putin sent his troops in. Fauci is no longer in the spotlight so he’s hiding somewhere.',\n",
    "'WATCH: Bioweapon Funding In Ukraine Appears To Lead Back To Hunter Biden https://t.co/aXNGQEZD79 #Bioweaponlabs #hunterbiden #ukraine',\n",
    " \"Let's ask the question.\\n\\nWould we be in this conflict with #Russia if Donald Trump was still President?\",\n",
    " \"@Suffolklord Millions of smartphones, internet still up, no live videos. No war footage. Weird. But I've seen Zelensky in high heels 50 times.\",\n",
    " \"It's clearly that US provoked the war with Russia by sending weapons and setting up biolabs in Ukraine before the war. You are war criminal. https://t.co/hq4vzwVpKi\",\n",
    " 'Millions of Leftists Are Reposting Kremlin Misinformation by Mistake https://t.co/WGgG8fWwz7',\n",
    "\n",
    "\n",
    " '@Steve4Ukraine @DarthPutinKGB They were using it as justificaton of stoping genocide in Dobass. Which was not genocide as decided in international courts, and the whole conflict was created by Russia and backed by Russia to begin with. They lie lie and lie 24/7.',\n",
    " 'BREAKING🚨🚨🚨 WATCH 👇\\nHAPPENING NOW on LIVE STREAM\\n#RussianArmy attack the Nuclear Power Plant of #Zaporizhzhia \\nFires and explosions tanks and soldiers siege the structure. \\nWatch camera operated remotely to explore the surroundings \\n#RussiaUkraine #Ukraine #kyiv https://t.co/sGIxl3tdwG',\n",
    " '‘A psychopath’: Chechen warlord Kadyrov raises prospect of more brutal phase to Ukraine war https://t.co/63roIwvWcD',\n"
   ]
  },
  {
   "cell_type": "markdown",
   "id": "dc987446",
   "metadata": {},
   "source": [
    "6:\n",
    "Zelenskyy (Hero vs Nazi), sanctions against Russia, tanks\n",
    " \n",
    " '@lapatina_ What camps? Civilians were evacuated so Zelensky’s Neo-Nazis can be reunited with Satan https://t.co/IECX6X9rTK',\n",
    " 'Ukrainian fighters grease bullets against Chechens with pig fat https://t.co/ISvCCwsTCP 來自 @AJEnglish',\n",
    " '@joebottomley Just watching brave President Zelensky, the man Obama chose to run Ukraine after the 2014 American orchestrated Neo Nazi infested coup\\n\\n.\\nZelensky dancing in high heels - second left\\n\\nhttps://t.co/XwtEdJhbLm',\n",
    " '@trollandia1 The systemic neo-Nazi problem is neo-Nazis in government positions, neo-Nazi militias being utilised by by the government, the neo-Nazi army unit, and the celebration of Nazi collaborators. Saying Zelensky is Jewish so there is no Nazi problem is like saying no racism under Obama',\n",
    " \"If Zelensky has 1.5 billions in Western banks and huge house in Florida, why he should care about lifes of Kiev's residents?!\\n\\nZelenskyy issues defiant message to Russia: 'Let them come' https://t.co/9ha5Cqb0jA #FoxNews\",\n",
    "3\n",
    "\n",
    " '@praisegodbarbon Zelensky has a lot of anxiety and reminding him of his history as an actor by putting him in front of a green screen helps him with that anxiety. Please be respectful.',\n",
    " '@The_Real_Fly Zelensky speech to nato was clear indication that 🇺🇦 army could not win without more military aid. He said it was running out. NATO won’t supply planes/tanks because it would escalate conflict. Yet mainstream say Ukraine is winning. It’s cognitive dissonance on a grand scale',\n",
    " '@AdamKinzinger @Kimquilts2 @CawthornforNC #Zelensky is manly &amp; courageous, with Nerves of Steel!!! 🇺🇦🇺🇦🇺🇦 America #StandswithUkraine #TrumpIsACowardlyWhimp https://t.co/bDC0HJLegp',\n",
    "\n",
    "\n",
    " '@Rachael_Swindon Lets end fuel poverty, reduce energy bills in homes to zero whilst reducing UK climate emissions by up to 65% &amp; end our dependence on ANY country or private greedy energy company. #Fracking is NOT the answer, LOCAL #Solar is the cheapest energy alternative https://t.co/R1BYGSVXVH',\n",
    "'@Emerson_News Emerson management, do not support the aggressor country! Leave the bloody market of Russia. With your taxes, you supply the military budgets of Russia. #StopBusinessInRussia',\n",
    " 'These energy price spikes are just growing pains as our rulers transition the economy off of fossil fuels. Then the real pain begins. https://t.co/SsMIRwBqxE',\n"
   ]
  },
  {
   "cell_type": "markdown",
   "id": "2c55ee9c",
   "metadata": {},
   "source": [
    "5:\n",
    "Ukrainian refugees, human trafficing\n",
    "\n",
    " '1 million Ukrainian refugees would be 7.3 million US refugees adjusting for population',\n",
    " 'The Govt to offer £350pm to Brits willing to take in a Ukrainian refugee, which is nice. But that should heat and feed them for about a fortnight. Anyone see a problem here?',\n",
    " \"@RealMacroEcon can they leave Ukraine? I'm in Hungary, many people are taking in refugees, same in Poland. Train rides are free too\",\n",
    " \"@Ukr_Institute Beware . I suspect Putin is ethnic cleansing Ukraine. Forcing more to leave as refugees. Then he'll put his own people in.  If I'm right it will enrage EU countries. Including UK and US.\",\n",
    " '@sightalignment @teslafaneurope @langejanne According to Texans fan\\n@albarievolver, \\n\\nHe is safe.  His relatives from Slovakia picked him up.  His parents could not leave Ukraine with him.',\n",
    " 'Gravitas: Britain turns away Ukrainian\\xa0refugees https://t.co/DMrS8UMqIe',\n",
    " 'Big cats from the zoo in #Ukraine were taken to a safe place in #Poland\\n\\nhttps://t.co/L9Z4hIRCgm',\n",
    " '@Eljaboom Legit developers team\\nTeam broadcasting live from Ukraine border\\nReal help for refugees \\nInfluencers onboarded\\nPartnership with humanitarian associations\\n#MakePeaceNotWar #EndTheWar #Crypto #cryptocurrency #HumanitarianCrisis #HelpUkraine #RedCross @loveukraine_bsc',\n",
    " '@wil_da_beast630 Danish chatter around organizing for Ukrainian refugees, indicates that feminism is a complete obstacle, increasing the chaos, it makes refugees paranoid about human trafficking. And single men paranoid about offering rides or rooms in their homes for refugees to stay in.',"
   ]
  },
  {
   "cell_type": "markdown",
   "id": "2009eb22",
   "metadata": {},
   "source": [
    "4:\n",
    "Biden's incompetence due to sanctions blaming Putin\n",
    "\n",
    " 'It’s very obvious Joe Biden is scared of Putin. He’s a coward.',\n",
    " '@KatiePavlich Once again proving what fucking idiot Jie Biden really is.  Please explain Joe.  What is the cause.  And don’t say Putin.',\n",
    " '03/24/2022, US President Joseph Biden: \"Yes, the lack of food will become a reality. Not only Russia, but also Europe and the United States will have to pay the price for the sanctions imposed.\"\\n\\nThey used to have leadership issues and no food issues. https://t.co/IsUzU7vPL0',\n",
    " '@CNN \\nComment more about \\nPresident Bidens comment one month ago he was right these sanctions are killing Russia and now world sanctions will make the difference Ukraine will win this war',\n",
    " 'The \"elite\" in this country want  to send your kids to war against Putin as a distraction from the war they are waging at home against political dissidents. The federal govt is full of corrupt scumbags from top to bottom. \\nhttps://t.co/rj70LodKSi',\n",
    " 'Biden Casually Says Food Shortage \"Going To Be Real\" As Necessary \"Price\" Of Anti-Russia Sanctions  https://t.co/fiHSfITuTI',\n",
    " 'Doocy Jabs At Psaki: ‘Are You Guys Going To Just Start Blaming Putin For Everything Until The Midterms?’ https://t.co/krR0nONOGN',\n",
    " 'Yeah. It means that the #BidenRegime is not only paying news outlets to lie but now telling tic tic influencers to lie too. Russia is now America and America is Russia https://t.co/16MM49vBbk',\n",
    " 'Our soaring energy bills are funding Putin’s invasion of Ukraine. New North Sea oil and gas won’t be available till 2050 - we can’t wait that long. @RishiSunak you need to insulate homes, install heat pumps and boost renewables so we can #GetOffGas now! https://t.co/SMmcoRNriW',\n",
    "\n",
    "\n",
    " 'Russia’s Sberbank pulls out of Europe after facing failure amid sanctions https://t.co/5zGO8D0Xvh',\n"
   ]
  },
  {
   "cell_type": "markdown",
   "id": "86b5c873",
   "metadata": {},
   "source": [
    "3:\n",
    "Ukraine nazi propaganda/Russians killing women and children \n",
    "\n",
    " '@rfloyd7 Who is Bandera, UPA and Ukrainian nazi\\n\\nhttps://t.co/hlgxKn4ql0\\n\\n#ukraine #bandera #nazi',\n",
    " 'Ukrainian and Western men sacrifice women &amp; children. https://t.co/Mvzjd0gfJO',\n",
    " '@YoungAndreaM @KyivPost You support BLM and Ukrainian Nazis? You’re confused 😂😂',\n",
    " '#Russia #IStandWithPutin\\n #Ukronazis #ZelenskyWarCriminal\\nUkrocowards on the run 👇to the  EU or elsewhere. https://t.co/8ODu9HxFK1',\n",
    " '@RileyGRoshong A little context. Ukraine has been in an 8 year civil war. Putin is ride or die for his homies. You on the other hand belong on the Truman Show.',\n",
    " 'High-precision air-launched missiles have eliminated a training centre for covert operations, where foreign vigilantes were based https://t.co/CX83QYzQLS',\n",
    "\n",
    " '@mmfa @therealreal Why does the @therealreal support Tucker Carlson’s racism, misogyny, homophobia and pro-Putin propaganda? The Real Real ad purchase on Carlson’s show speaks volumes for their brand.',\n",
    " 'Two Russian helicopters had been shot down in #Kherson. One pilot of the helicopter has survived and hospitalized. The #Russian Army opened fire on women and children emptying the Green Corridor in the #Kyiv region, in which 7 people including a child were killed.\\n\\n#UkraineWar https://t.co/yC6m0Kd5v3',\n",
    "'Tragic number (660K) of those fleeing Ukraine—mostly women and children https://t.co/J3YKFLaWAg',\n",
    " '🇺🇦🇺🇦 NEW: \"[Putin\\'s] indiscriminate attacks against the people of Ukraine, including women and children, have created an unforgivable humanitarian crisis for which he must one day be held accountable.\" \\n\\n-- @BondDrewBond \\nhttps://t.co/0dLg4t4fYK',\n"
   ]
  },
  {
   "cell_type": "markdown",
   "id": "fd5690f8",
   "metadata": {},
   "source": [
    "2:\n",
    "\n",
    "Freedom, history of the conflict-propaganda where have you been for 8 years\n",
    "\n",
    " 'Freedom convoy could volunteer their services to help beleaguered Ukraine.. https://t.co/KyHxnqfI7a',\n",
    " '@mtracey @XSovietNews Slava Ukraini! Long live a free and independent Ukraine!',\n",
    " 'I think the only real comparison I can see is between UK and Russian governments … \\n\\nLie to the public\\nLimit freedom to protest\\nLimit freedom of media https://t.co/ROL2gIqNt3',\n",
    " 'Shocking!  The free world should respond with action. https://t.co/uS9999SNi7',\n",
    " 'Yesterday it was Berlin, Bosnia &amp; Afghanistan. Today it is Ukraine. which country will it be tomorrow ?\\n@alexanderdecroo \\n@Sophie_Wilmes \\nBtw @NATO,founded in 1949 on a lie,so there is no reason for the alliance to exist in because the days of the Cold War are long over\\n@coe https://t.co/4f8lP0X1FO',\n",
    "  'Youtube closes the Russia Today RT channel in Spanish. The information blackout is increasing.\\n to silence this important international media outlet to make available to the world ONE SINGLE STORY of what is happening in the #RussiaVsUkraine conflict\\n@RT_com \\n\\n@kolectiVOZ https://t.co/oDVozb8ylX',\n",
    "\n",
    " \n",
    " \"@HelenAshby72 Then learn about the history of this conflict.. and understand that the invasion has severely reduced civilian casualties.\\nIt's been going on for 8 years. Where was the international outrage while Ukraine have been murdering their own for so long?\\nhttps://t.co/sGdochSxOo\",\n",
    "  \"@NatashaBertrand @cowboyminer1 Of course there's no nazis in ukraine 😳🤔\\nHave you even heard of the Azov battalion? The black sun is a nazi symbol often used by SS members. Do you know about the atrocities committed against Jews &amp; slavs by these murderous nationalistic fanatics?\\nhttps://t.co/PFKyCBMO9z https://t.co/DAdCOijT8Q\",\n",
    " '@ballads1j @Newsweek Russia has liberated half of Ukraine already. https://t.co/PpHGoFQO3N',\n",
    " '@_V_5_M_ @mijati10 @KyivIndependent Go read your history, Russia got every right to invade Ukraine!',\n",
    " \"It's funny we complained that China will not give us access to the biolabs while at the same time denying anyone access to the information on the Ukrainian biolabs.\",\n",
    "  'Reading about the final moments of the #USSR seems all the more relevant today. \\n\\nThe final lines from John Lewis Gaddis’ book, ‘The Cold War’. One of the most impactful works of history I’ve ever read. #Ukraine https://t.co/ymxNlo5rf5',\n",
    " '@tvmario @ABC Right now the Pentagon seems to be trying to keep us from escalating. It’s the State Department who is blundering us into WWIII: https://t.co/NGZerb3x2d',\n",
    " 'This territory is not ours to defend. Time to end NATO and have Europe manage its own defense. Give global collective security a chance to work and our federal budget a chance to recover . #stopthewar #UNreform #UN4Peace https://t.co/QZqfHuQuMl',\n",
    " 'Ukraine is fake. Between Central Europe and Russia is actually the secret switching point from the two sides of the flat Earth. https://t.co/RDYOFgCD7Z',\n",
    "\n",
    "\n",
    " '@LongshanksMS @RWApodcast Ukraine militants have been holding local civilians captive and denying them access to humanitarian corridors out of the city  - per anti nato narratives \\n\\nonly the old, infirm, and nazi brigades left in Mariupol for the Last Stand',\n"
   ]
  },
  {
   "cell_type": "markdown",
   "id": "1bb2a96e",
   "metadata": {},
   "source": [
    "1:\n",
    "IDK\n",
    "\n",
    " '@JolyonMaugham Just read that Rishi Sunaks wife has a huge amount of money invested in  a company that is still trading freely in Russia right now WTF This whole government is Rotten to the core !',\n",
    "\n",
    "\n",
    " \"@ManSwac @TuckerToday @foxnation @TulsiGabbard Pretty soon , under puppets like Donald Trump and Joe Biden.. You'll wish you lived in Moscow.  This country is going to fall apart\",\n"
   ]
  },
  {
   "cell_type": "markdown",
   "id": "15ae2198",
   "metadata": {},
   "source": [
    "0:\n",
    "Sanctions against Russia, a little food and refugee crisis\n",
    "\n",
    " 'The old computer chip, how important it is, the lack of which has led to the closure of Russia’s largest tank manufacturer #sanctionshavinganeffect https://t.co/tyLvlAQbKD',\n",
    " 'A russian student just joined my lab. He flew in yesterday and will be here a few months. He says the worst sanction in Russia is \"no batman movie\"',\n",
    " '@renaultgroup @SignatechAlpine Mental note for life: @renaultgroup loves Putin, and endorses genocide. Never buy a Renault. Also, let those who drive one know, they should switch to another—less murderous—brand.',\n",
    " '@campbellclaret @eyejosh @RishiSunak Sunak is an oligarch with close ties to Putin he &amp; his family profit from. Sanction him &amp; sieze his assets.',\n",
    " '🇺🇦🇵🇱 ⚡️Poland calls on the EU to completely ban trade with Russia. \\nThe Prime Minister of Poland Mateusz Morawiecki expressed hope that \"European leaders will sober up\" and the EU Council will adopt another package of sanctions. #StandWithUkriane',\n",
    " '@MontyPanesar’s Spin On – Banning Russia from the Paralympics https://t.co/3Yi5ESlhJM',\n",
    "\n",
    "Food crisis:\n",
    " \"Ukrainian Prime Minister Denys Shmygal says:\\n\\n- Ukraine's government will introduce plan to support crop sowing campaign in effort to safeguard food supplies amid Russia's invasion\\n- Ukraine had sufficient volumes of basic food products for next few months https://t.co/Icsn3Ygjre\",\n",
    "\n",
    "\n",
    "\n",
    "\n",
    " 'Buy a NFT &amp; donate to Ukraine 🇺🇦 at the same time 🤔| Crypto News ⬇️ #cryptomiles #CryptoNews #Crypto #cryptocurrency #NFT #NFTs #NFTartist https://t.co/7GLQnEVcIv',\n",
    "\n",
    "\n",
    "Propaganda:\n",
    " '@mlesterh @ShamsTereza @spriter99880 Have you only learned about this conflict 2 weeks ago? It’s been going on for 8 years. 14000 people dead. Minsk agreements. Attempted diplomacy. Plenty patience from Russians',\n"
   ]
  },
  {
   "cell_type": "markdown",
   "id": "e0c4a8f9",
   "metadata": {},
   "source": [
    "### Topic Coherency"
   ]
  },
  {
   "cell_type": "code",
   "execution_count": 102,
   "id": "97824534",
   "metadata": {},
   "outputs": [
    {
     "name": "stdout",
     "output_type": "stream",
     "text": [
      "\n",
      "Coherence Score:  0.3647665946718968\n"
     ]
    }
   ],
   "source": [
    "from gensim.models import CoherenceModel\n",
    "\n",
    "# Compute Coherence Score\n",
    "coherence_model_lda = CoherenceModel(model=lda_model, texts=data_lemmatized, dictionary=id2word, coherence='c_v')\n",
    "coherence_lda = coherence_model_lda.get_coherence()\n",
    "print('\\nCoherence Score: ', coherence_lda)"
   ]
  },
  {
   "cell_type": "code",
   "execution_count": 42,
   "id": "cb7ca101",
   "metadata": {},
   "outputs": [],
   "source": [
    "# supporting function\n",
    "def compute_coherence_values(corpus, dictionary, k):\n",
    "    \n",
    "    lda_model = gensim.models.LdaMulticore(corpus=corpus,\n",
    "                                           id2word=dictionary,\n",
    "                                           num_topics=k, \n",
    "                                           random_state=100,\n",
    "                                           chunksize=100,\n",
    "                                           passes=10)\n",
    "    \n",
    "    coherence_model_lda = CoherenceModel(model=lda_model, texts=data_lemmatized, dictionary=id2word, coherence='c_v')\n",
    "    \n",
    "    return coherence_model_lda.get_coherence()"
   ]
  },
  {
   "cell_type": "code",
   "execution_count": 43,
   "id": "684351aa",
   "metadata": {},
   "outputs": [],
   "source": [
    "grid = {}\n",
    "grid['Validation_Set'] = {}\n",
    "\n",
    "# Topics range\n",
    "#min_topics = 2\n",
    "#max_topics = 40\n",
    "#step_size = 6\n",
    "topics_range = [5,7,10,15,20,25,30]\n",
    "#range(min_topics, max_topics, step_size)\n",
    "\n",
    "# Validation sets\n",
    "num_of_docs = len(corpus)\n",
    "corpus_sets = [corpus]\n",
    "corpus_title = ['100% Corpus']\n",
    "model_results = {'Validation_Set': [],\n",
    "                 'Topics': [],\n",
    "                 'Coherence': []\n",
    "                }"
   ]
  },
  {
   "cell_type": "code",
   "execution_count": 50,
   "id": "7965a9a2",
   "metadata": {},
   "outputs": [
    {
     "name": "stderr",
     "output_type": "stream",
     "text": [
      "/Users/parhomcukmalika/opt/anaconda3/lib/python3.8/site-packages/ipykernel/ipkernel.py:287: DeprecationWarning: `should_run_async` will not call `transform_cell` automatically in the future. Please pass the result to `transformed_cell` argument and any exception that happen during thetransform in `preprocessing_exc_tuple` in IPython 7.17 and above.\n",
      "  and should_run_async(code)\n"
     ]
    }
   ],
   "source": [
    "import tqdm\n",
    "from gensim.models import CoherenceModel"
   ]
  },
  {
   "cell_type": "code",
   "execution_count": 51,
   "id": "5d83533e",
   "metadata": {},
   "outputs": [
    {
     "name": "stderr",
     "output_type": "stream",
     "text": [
      "/Users/parhomcukmalika/opt/anaconda3/lib/python3.8/site-packages/ipykernel/ipkernel.py:287: DeprecationWarning: `should_run_async` will not call `transform_cell` automatically in the future. Please pass the result to `transformed_cell` argument and any exception that happen during thetransform in `preprocessing_exc_tuple` in IPython 7.17 and above.\n",
      "  and should_run_async(code)\n",
      "\n",
      "  0%|          | 0/7 [00:00<?, ?it/s]\u001b[A\n",
      " 14%|█▍        | 1/7 [11:57<1:11:46, 717.83s/it]\u001b[A\n",
      " 29%|██▊       | 2/7 [25:53<1:05:36, 787.30s/it]\u001b[A\n",
      " 43%|████▎     | 3/7 [41:47<57:33, 863.40s/it]  \u001b[A\n",
      " 57%|█████▋    | 4/7 [1:06:40<55:35, 1111.88s/it]\u001b[A\n",
      " 71%|███████▏  | 5/7 [1:35:48<44:42, 1341.25s/it]\u001b[A\n",
      " 86%|████████▌ | 6/7 [2:17:53<29:03, 1743.87s/it]\u001b[A\n",
      "100%|██████████| 7/7 [3:06:58<00:00, 1602.63s/it]\u001b[A\n"
     ]
    }
   ],
   "source": [
    "# Can take a long time to run\n",
    "if 1 == 1:\n",
    "    pbar = tqdm.tqdm(total=len(topics_range))\n",
    "    \n",
    "    # iterate through number of topics\n",
    "    for k in topics_range:\n",
    "        # get the coherence score for the given parameters\n",
    "        cv = compute_coherence_values(corpus=corpus_sets[0], dictionary=id2word, \n",
    "                                                  k=k)\n",
    "        # Save the model results\n",
    "        model_results['Validation_Set'].append(corpus_title[0])\n",
    "        model_results['Topics'].append(k)\n",
    "        model_results['Coherence'].append(cv)\n",
    "                    \n",
    "        pbar.update(1)\n",
    "        \n",
    "    pd.DataFrame(model_results).to_csv('lda_tuning_results.csv', index=False)\n",
    "    pbar.close()"
   ]
  },
  {
   "cell_type": "code",
   "execution_count": 52,
   "id": "37269732",
   "metadata": {},
   "outputs": [
    {
     "name": "stderr",
     "output_type": "stream",
     "text": [
      "/Users/parhomcukmalika/opt/anaconda3/lib/python3.8/site-packages/ipykernel/ipkernel.py:287: DeprecationWarning: `should_run_async` will not call `transform_cell` automatically in the future. Please pass the result to `transformed_cell` argument and any exception that happen during thetransform in `preprocessing_exc_tuple` in IPython 7.17 and above.\n",
      "  and should_run_async(code)\n"
     ]
    },
    {
     "data": {
      "image/png": "[encoded data removed]",
      "text/plain": [
       "<Figure size 720x576 with 1 Axes>"
      ]
     },
     "metadata": {
      "needs_background": "light"
     },
     "output_type": "display_data"
    }
   ],
   "source": [
    "import matplotlib.pyplot as plt\n",
    "\n",
    "y_res = model_results['Coherence']\n",
    "x = [5,7,10,15,20,25,30]#topics_range\n",
    "\n",
    "fig = plt.figure(figsize=(10,8))\n",
    "plt.plot(x, y_res)\n",
    "plt.xlabel(\"Num Topics\")\n",
    "plt.ylabel(\"Coherence score\")\n",
    "plt.legend((\"c_v\"), loc='best')\n",
    "plt.show()"
   ]
  },
  {
   "cell_type": "markdown",
   "id": "d4d9ce68",
   "metadata": {},
   "source": [
    "### Topic Distribution"
   ]
  },
  {
   "cell_type": "code",
   "execution_count": 187,
   "id": "a1bf83d1",
   "metadata": {},
   "outputs": [
    {
     "data": {
      "text/plain": [
       "353425"
      ]
     },
     "execution_count": 187,
     "metadata": {},
     "output_type": "execute_result"
    }
   ],
   "source": [
    "total_eng_tweets = smaller_df.shape[0]\n",
    "total_eng_tweets"
   ]
  },
  {
   "cell_type": "code",
   "execution_count": null,
   "id": "ba8be6b2",
   "metadata": {},
   "outputs": [],
   "source": [
    "topics_distribution = {}\n",
    "for t in range(15):\n",
    "    df_topic = smaller_df[smaller_df['topic']==t]\n",
    "    num_tweets = df_topic.shape[0]\n",
    "    topics_distribution[t] = num_tweets"
   ]
  },
  {
   "cell_type": "code",
   "execution_count": 190,
   "id": "20c538ed",
   "metadata": {},
   "outputs": [
    {
     "data": {
      "text/plain": [
       "{14: 73112,\n",
       " 4: 60390,\n",
       " 11: 40963,\n",
       " 13: 34723,\n",
       " 9: 28621,\n",
       " 7: 16919,\n",
       " 5: 16776,\n",
       " 0: 16261,\n",
       " 2: 14277,\n",
       " 10: 13496,\n",
       " 3: 11682,\n",
       " 12: 8173,\n",
       " 6: 7706,\n",
       " 8: 7011,\n",
       " 1: 3315}"
      ]
     },
     "execution_count": 190,
     "metadata": {},
     "output_type": "execute_result"
    }
   ],
   "source": [
    "topics_distribution_sorted = {k: v for k, v in sorted(topics_distribution.items(), key=lambda item: item[1], reverse=True)}\n",
    "topics_distribution_sorted"
   ]
  },
  {
   "cell_type": "code",
   "execution_count": null,
   "id": "4d9245bd",
   "metadata": {},
   "outputs": [],
   "source": [
    "distribution = pd.DataFrame(data={'topic': list(topics_distribution_sorted.keys()), \n",
    "                                  'number of tweets': list(topics_distribution_sorted.values())})"
   ]
  },
  {
   "cell_type": "code",
   "execution_count": 223,
   "id": "5fc1bd6f",
   "metadata": {},
   "outputs": [
    {
     "data": {
      "text/plain": [
       "<matplotlib.legend.Legend at 0x7f86a93c6d90>"
      ]
     },
     "execution_count": 223,
     "metadata": {},
     "output_type": "execute_result"
    },
    {
     "data": {
      "image/png": "[encoded data removed]",
      "text/plain": [
       "<Figure size 864x576 with 1 Axes>"
      ]
     },
     "metadata": {
      "needs_background": "light"
     },
     "output_type": "display_data"
    }
   ],
   "source": [
    "import seaborn as sns\n",
    "fig = plt.figure(figsize=(12,8))\n",
    "ax = sns.barplot(x='topic', y='number of tweets',data=distribution,palette=\"Blues_d\", order=distribution['topic'])\n",
    "ax.bar_label(ax.containers[0])\n",
    "ax.legend(ax.patches, ['Topic1','Topic1','Topic1','Topic1'], loc=[1.01,0.5])"
   ]
  },
  {
   "cell_type": "code",
   "execution_count": null,
   "id": "7daebfc7",
   "metadata": {},
   "outputs": [],
   "source": []
  }
 ],
 "metadata": {
  "kernelspec": {
   "display_name": "Python 3",
   "language": "python",
   "name": "python3"
  },
  "language_info": {
   "codemirror_mode": {
    "name": "ipython",
    "version": 3
   },
   "file_extension": ".py",
   "mimetype": "text/x-python",
   "name": "python",
   "nbconvert_exporter": "python",
   "pygments_lexer": "ipython3",
   "version": "3.8.8"
  }
 },
 "nbformat": 4,
 "nbformat_minor": 5
}
