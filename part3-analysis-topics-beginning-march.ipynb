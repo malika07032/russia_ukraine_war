{
 "cells": [
  {
   "cell_type": "markdown",
   "id": "fbd2ee05",
   "metadata": {},
   "source": [
    "# Topic Modeling with LDA\n",
    "## What are the topics of online Twitter discourse about Ukraine?\n",
    "\n",
    "\n",
    "\n",
    "Useful links from which I learned how to use Gensim package:  \n",
    "https://towardsdatascience.com/evaluate-topic-model-in-python-latent-dirichlet-allocation-lda-7d57484bb5d0#:~:text=Topic%20Coherence%20measures%20score%20a,are%20artifacts%20of%20statistical%20inference."
   ]
  },
  {
   "cell_type": "code",
   "execution_count": 1,
   "id": "52ca190d",
   "metadata": {},
   "outputs": [],
   "source": [
    "import os\n",
    "import json\n",
    "from collections import Counter"
   ]
  },
  {
   "cell_type": "code",
   "execution_count": 3,
   "id": "2b7bde35",
   "metadata": {},
   "outputs": [],
   "source": [
    "from sklearn.feature_extraction.text import CountVectorizer, TfidfVectorizer\n",
    "from sklearn.decomposition import LatentDirichletAllocation"
   ]
  },
  {
   "cell_type": "code",
   "execution_count": 4,
   "id": "c7603973",
   "metadata": {},
   "outputs": [],
   "source": [
    "import pyLDAvis\n",
    "import pyLDAvis.sklearn\n",
    "pyLDAvis.enable_notebook()"
   ]
  },
  {
   "cell_type": "code",
   "execution_count": 6,
   "id": "c73e4c4c",
   "metadata": {},
   "outputs": [
    {
     "name": "stderr",
     "output_type": "stream",
     "text": [
      "/Users/parhomcukmalika/opt/anaconda3/lib/python3.8/site-packages/ipykernel/ipkernel.py:287: DeprecationWarning: `should_run_async` will not call `transform_cell` automatically in the future. Please pass the result to `transformed_cell` argument and any exception that happen during thetransform in `preprocessing_exc_tuple` in IPython 7.17 and above.\n",
      "  and should_run_async(code)\n"
     ]
    }
   ],
   "source": [
    "import warnings\n",
    "warnings.filterwarnings('ignore')"
   ]
  },
  {
   "cell_type": "markdown",
   "id": "e1ad5f4b",
   "metadata": {},
   "source": [
    "## Topic Modelling: Beginning of March"
   ]
  },
  {
   "cell_type": "markdown",
   "id": "13c5e893",
   "metadata": {},
   "source": [
    "Getting the corpus"
   ]
  },
  {
   "cell_type": "code",
   "execution_count": null,
   "id": "eff1e196",
   "metadata": {},
   "outputs": [],
   "source": [
    "files3 = os.listdir('results_03_extended')\n",
    "print(len(files3))"
   ]
  },
  {
   "cell_type": "code",
   "execution_count": 19,
   "id": "c3f0ac28",
   "metadata": {},
   "outputs": [],
   "source": [
    "part1 = ['2022-03-02', '2022-03-03', '2022-03-04', '2022-03-07', '2022-03-10', '2022-03-11', '2022-03-12']"
   ]
  },
  {
   "cell_type": "code",
   "execution_count": 20,
   "id": "79c39493",
   "metadata": {},
   "outputs": [],
   "source": [
    "import pandas as pd\n",
    "import re"
   ]
  },
  {
   "cell_type": "code",
   "execution_count": null,
   "id": "820e5ff0",
   "metadata": {},
   "outputs": [],
   "source": [
    "def cleanTweet(text):\n",
    "    corp = [w for w in text.split() if not w.startswith('@') and not w.startswith('https://')]\n",
    "    return ' '.join(corp)"
   ]
  },
  {
   "cell_type": "code",
   "execution_count": 21,
   "id": "0c47e26c",
   "metadata": {},
   "outputs": [],
   "source": [
    "for_df = []\n",
    "for f in files3:\n",
    "    if f.startswith('batch'):\n",
    "        inF = open(f'results_03_extended/{f}','r')\n",
    "        data = json.load(inF)\n",
    "        inF.close()\n",
    "        for batch in data:\n",
    "            for tweet in batch['tweets']:\n",
    "                date = tweet['created_at'].split()[0]\n",
    "                if date in part1 and tweet['isRetweet'] == False:\n",
    "                    text = tweet['text'].replace('RT','')\n",
    "                    text = cleanTweet(text) #remove @_ and https links\n",
    "                    text = re.sub('[!\"$%&\\'()*+,-./:;<=>?[\\\\]^_`{|}~•@]', '', text.lower()) #remove punctuation\n",
    "                    if len(text.split()) > 5:\n",
    "                        tweet['cleaned_text'] = text\n",
    "                        for_df.append(tweet)"
   ]
  },
  {
   "cell_type": "code",
   "execution_count": 23,
   "id": "9e62450d",
   "metadata": {},
   "outputs": [
    {
     "data": {
      "text/html": [
       "<div>\n",
       "<style scoped>\n",
       "    .dataframe tbody tr th:only-of-type {\n",
       "        vertical-align: middle;\n",
       "    }\n",
       "\n",
       "    .dataframe tbody tr th {\n",
       "        vertical-align: top;\n",
       "    }\n",
       "\n",
       "    .dataframe thead th {\n",
       "        text-align: right;\n",
       "    }\n",
       "</style>\n",
       "<table border=\"1\" class=\"dataframe\">\n",
       "  <thead>\n",
       "    <tr style=\"text-align: right;\">\n",
       "      <th></th>\n",
       "      <th>created_at</th>\n",
       "      <th>id</th>\n",
       "      <th>author_id</th>\n",
       "      <th>text</th>\n",
       "      <th>cleaned_text</th>\n",
       "    </tr>\n",
       "  </thead>\n",
       "  <tbody>\n",
       "    <tr>\n",
       "      <th>0</th>\n",
       "      <td>2022-03-03 03:47:09+00:00</td>\n",
       "      <td>1499229869099597826</td>\n",
       "      <td>352345061</td>\n",
       "      <td>Putin and his oligarch’s children should be re...</td>\n",
       "      <td>putin and his oligarch’s children should be re...</td>\n",
       "    </tr>\n",
       "    <tr>\n",
       "      <th>1</th>\n",
       "      <td>2022-03-03 03:47:09+00:00</td>\n",
       "      <td>1499229869221289984</td>\n",
       "      <td>1363948152559185924</td>\n",
       "      <td>Très juste Macron transforme la réalité comme ...</td>\n",
       "      <td>très juste macron transforme la réalité comme ...</td>\n",
       "    </tr>\n",
       "    <tr>\n",
       "      <th>2</th>\n",
       "      <td>2022-03-03 03:47:09+00:00</td>\n",
       "      <td>1499229869456117761</td>\n",
       "      <td>1198376932334809089</td>\n",
       "      <td>Volodymyr Zelensky, the president of Ukraine s...</td>\n",
       "      <td>volodymyr zelensky the president of ukraine si...</td>\n",
       "    </tr>\n",
       "    <tr>\n",
       "      <th>3</th>\n",
       "      <td>2022-03-03 03:47:09+00:00</td>\n",
       "      <td>1499229869489672193</td>\n",
       "      <td>1084980649520496642</td>\n",
       "      <td>@GOPChairwoman #GOP  the party of donald trump...</td>\n",
       "      <td>#gop the party of donald trump amp his master ...</td>\n",
       "    </tr>\n",
       "    <tr>\n",
       "      <th>4</th>\n",
       "      <td>2022-03-03 03:47:09+00:00</td>\n",
       "      <td>1499229869552857093</td>\n",
       "      <td>1401144857419149313</td>\n",
       "      <td>@MichaelKugelman @SalmanSoz \"Statement\" is onl...</td>\n",
       "      <td>statement is only to appease the west what cou...</td>\n",
       "    </tr>\n",
       "    <tr>\n",
       "      <th>...</th>\n",
       "      <td>...</td>\n",
       "      <td>...</td>\n",
       "      <td>...</td>\n",
       "      <td>...</td>\n",
       "      <td>...</td>\n",
       "    </tr>\n",
       "    <tr>\n",
       "      <th>237375</th>\n",
       "      <td>2022-03-12 23:53:43+00:00</td>\n",
       "      <td>1502795001956167680</td>\n",
       "      <td>1368654235</td>\n",
       "      <td>@JeremyDBoreing @AdamBaldwin Russia would be a...</td>\n",
       "      <td>russia would be a pushover if they didn’t have...</td>\n",
       "    </tr>\n",
       "    <tr>\n",
       "      <th>237376</th>\n",
       "      <td>2022-03-12 23:53:43+00:00</td>\n",
       "      <td>1502795001331425285</td>\n",
       "      <td>1410921956401102850</td>\n",
       "      <td>@marcorubio @KyivIndependent Anyone notice Bid...</td>\n",
       "      <td>anyone notice biden just gave ukraine 300 bill...</td>\n",
       "    </tr>\n",
       "    <tr>\n",
       "      <th>237377</th>\n",
       "      <td>2022-03-12 23:53:43+00:00</td>\n",
       "      <td>1502795002593918976</td>\n",
       "      <td>243811680</td>\n",
       "      <td>About 60 child cancer patients from Ukraine bo...</td>\n",
       "      <td>about 60 child cancer patients from ukraine bo...</td>\n",
       "    </tr>\n",
       "    <tr>\n",
       "      <th>237378</th>\n",
       "      <td>2022-03-12 23:53:43+00:00</td>\n",
       "      <td>1502795003000758276</td>\n",
       "      <td>1502785523911385091</td>\n",
       "      <td>@h3h3productions Beanie braindead VS Ukrainian...</td>\n",
       "      <td>beanie braindead vs ukrainian chad god i cant ...</td>\n",
       "    </tr>\n",
       "    <tr>\n",
       "      <th>237379</th>\n",
       "      <td>2022-03-12 23:53:43+00:00</td>\n",
       "      <td>1502795003159990272</td>\n",
       "      <td>1425679489221107712</td>\n",
       "      <td>@MeowMeow4M4A No .\\nThis is the difference:\\nA...</td>\n",
       "      <td>no  this is the difference adolf hitler murder...</td>\n",
       "    </tr>\n",
       "  </tbody>\n",
       "</table>\n",
       "<p>237380 rows × 5 columns</p>\n",
       "</div>"
      ],
      "text/plain": [
       "                       created_at                   id            author_id  \\\n",
       "0       2022-03-03 03:47:09+00:00  1499229869099597826            352345061   \n",
       "1       2022-03-03 03:47:09+00:00  1499229869221289984  1363948152559185924   \n",
       "2       2022-03-03 03:47:09+00:00  1499229869456117761  1198376932334809089   \n",
       "3       2022-03-03 03:47:09+00:00  1499229869489672193  1084980649520496642   \n",
       "4       2022-03-03 03:47:09+00:00  1499229869552857093  1401144857419149313   \n",
       "...                           ...                  ...                  ...   \n",
       "237375  2022-03-12 23:53:43+00:00  1502795001956167680           1368654235   \n",
       "237376  2022-03-12 23:53:43+00:00  1502795001331425285  1410921956401102850   \n",
       "237377  2022-03-12 23:53:43+00:00  1502795002593918976            243811680   \n",
       "237378  2022-03-12 23:53:43+00:00  1502795003000758276  1502785523911385091   \n",
       "237379  2022-03-12 23:53:43+00:00  1502795003159990272  1425679489221107712   \n",
       "\n",
       "                                                     text  \\\n",
       "0       Putin and his oligarch’s children should be re...   \n",
       "1       Très juste Macron transforme la réalité comme ...   \n",
       "2       Volodymyr Zelensky, the president of Ukraine s...   \n",
       "3       @GOPChairwoman #GOP  the party of donald trump...   \n",
       "4       @MichaelKugelman @SalmanSoz \"Statement\" is onl...   \n",
       "...                                                   ...   \n",
       "237375  @JeremyDBoreing @AdamBaldwin Russia would be a...   \n",
       "237376  @marcorubio @KyivIndependent Anyone notice Bid...   \n",
       "237377  About 60 child cancer patients from Ukraine bo...   \n",
       "237378  @h3h3productions Beanie braindead VS Ukrainian...   \n",
       "237379  @MeowMeow4M4A No .\\nThis is the difference:\\nA...   \n",
       "\n",
       "                                             cleaned_text  \n",
       "0       putin and his oligarch’s children should be re...  \n",
       "1       très juste macron transforme la réalité comme ...  \n",
       "2       volodymyr zelensky the president of ukraine si...  \n",
       "3       #gop the party of donald trump amp his master ...  \n",
       "4       statement is only to appease the west what cou...  \n",
       "...                                                   ...  \n",
       "237375  russia would be a pushover if they didn’t have...  \n",
       "237376  anyone notice biden just gave ukraine 300 bill...  \n",
       "237377  about 60 child cancer patients from ukraine bo...  \n",
       "237378  beanie braindead vs ukrainian chad god i cant ...  \n",
       "237379  no  this is the difference adolf hitler murder...  \n",
       "\n",
       "[237380 rows x 5 columns]"
      ]
     },
     "execution_count": 23,
     "metadata": {},
     "output_type": "execute_result"
    }
   ],
   "source": [
    "df = pd.DataFrame(for_df)\n",
    "df.drop(columns = ['withheld', 'urls', 'isRetweet', 'public_metrics'], inplace=True)\n",
    "df"
   ]
  },
  {
   "cell_type": "code",
   "execution_count": null,
   "id": "297f6bff",
   "metadata": {},
   "outputs": [],
   "source": [
    "import langid"
   ]
  },
  {
   "cell_type": "code",
   "execution_count": 26,
   "id": "022c20b8",
   "metadata": {},
   "outputs": [],
   "source": [
    "def isEnglish(clearText):\n",
    "    lang = langid.classify(clearText)[0]\n",
    "    if lang=='en':\n",
    "        return 1\n",
    "    else:\n",
    "        return 0"
   ]
  },
  {
   "cell_type": "code",
   "execution_count": 27,
   "id": "1d774749",
   "metadata": {},
   "outputs": [],
   "source": [
    "df['is_english'] = df['cleaned_text'].apply(lambda x: isEnglish(x))"
   ]
  },
  {
   "cell_type": "markdown",
   "id": "63231bc4",
   "metadata": {},
   "source": [
    "#### Preparing the text for modeling"
   ]
  },
  {
   "cell_type": "code",
   "execution_count": 103,
   "id": "851dfb20",
   "metadata": {},
   "outputs": [],
   "source": [
    "import gensim\n",
    "from gensim.utils import simple_preprocess"
   ]
  },
  {
   "cell_type": "code",
   "execution_count": 31,
   "id": "3d00ebc9",
   "metadata": {},
   "outputs": [],
   "source": [
    "def sent_to_words(sentences):\n",
    "    for sentence in sentences:\n",
    "        yield(gensim.utils.simple_preprocess(str(sentence), deacc=True))  # deacc=True removes punctuations"
   ]
  },
  {
   "cell_type": "code",
   "execution_count": 35,
   "id": "3bff28cf",
   "metadata": {},
   "outputs": [],
   "source": [
    "def mapDataWord(row):\n",
    "    if row['is_english'] == 1:\n",
    "        return list(sent_to_words([row['cleaned_text']]))\n",
    "    else:\n",
    "        return 0"
   ]
  },
  {
   "cell_type": "code",
   "execution_count": 36,
   "id": "dfb91143",
   "metadata": {},
   "outputs": [],
   "source": [
    "df['data_word'] = df.apply(lambda row: mapDataWord(row), axis=1)"
   ]
  },
  {
   "cell_type": "code",
   "execution_count": 38,
   "id": "1559cb1c",
   "metadata": {},
   "outputs": [
    {
     "data": {
      "text/html": [
       "<div>\n",
       "<style scoped>\n",
       "    .dataframe tbody tr th:only-of-type {\n",
       "        vertical-align: middle;\n",
       "    }\n",
       "\n",
       "    .dataframe tbody tr th {\n",
       "        vertical-align: top;\n",
       "    }\n",
       "\n",
       "    .dataframe thead th {\n",
       "        text-align: right;\n",
       "    }\n",
       "</style>\n",
       "<table border=\"1\" class=\"dataframe\">\n",
       "  <thead>\n",
       "    <tr style=\"text-align: right;\">\n",
       "      <th></th>\n",
       "      <th>created_at</th>\n",
       "      <th>id</th>\n",
       "      <th>author_id</th>\n",
       "      <th>text</th>\n",
       "      <th>cleaned_text</th>\n",
       "      <th>is_english</th>\n",
       "      <th>data_word</th>\n",
       "    </tr>\n",
       "  </thead>\n",
       "  <tbody>\n",
       "    <tr>\n",
       "      <th>0</th>\n",
       "      <td>2022-03-03 03:47:09+00:00</td>\n",
       "      <td>1499229869099597826</td>\n",
       "      <td>352345061</td>\n",
       "      <td>Putin and his oligarch’s children should be re...</td>\n",
       "      <td>putin and his oligarch’s children should be re...</td>\n",
       "      <td>1</td>\n",
       "      <td>[[putin, and, his, oligarch, children, should,...</td>\n",
       "    </tr>\n",
       "    <tr>\n",
       "      <th>1</th>\n",
       "      <td>2022-03-03 03:47:09+00:00</td>\n",
       "      <td>1499229869221289984</td>\n",
       "      <td>1363948152559185924</td>\n",
       "      <td>Très juste Macron transforme la réalité comme ...</td>\n",
       "      <td>très juste macron transforme la réalité comme ...</td>\n",
       "      <td>0</td>\n",
       "      <td>0</td>\n",
       "    </tr>\n",
       "    <tr>\n",
       "      <th>2</th>\n",
       "      <td>2022-03-03 03:47:09+00:00</td>\n",
       "      <td>1499229869456117761</td>\n",
       "      <td>1198376932334809089</td>\n",
       "      <td>Volodymyr Zelensky, the president of Ukraine s...</td>\n",
       "      <td>volodymyr zelensky the president of ukraine si...</td>\n",
       "      <td>1</td>\n",
       "      <td>[[volodymyr, zelensky, the, president, of, ukr...</td>\n",
       "    </tr>\n",
       "    <tr>\n",
       "      <th>3</th>\n",
       "      <td>2022-03-03 03:47:09+00:00</td>\n",
       "      <td>1499229869489672193</td>\n",
       "      <td>1084980649520496642</td>\n",
       "      <td>@GOPChairwoman #GOP  the party of donald trump...</td>\n",
       "      <td>#gop the party of donald trump amp his master ...</td>\n",
       "      <td>1</td>\n",
       "      <td>[[gop, the, party, of, donald, trump, amp, his...</td>\n",
       "    </tr>\n",
       "    <tr>\n",
       "      <th>4</th>\n",
       "      <td>2022-03-03 03:47:09+00:00</td>\n",
       "      <td>1499229869552857093</td>\n",
       "      <td>1401144857419149313</td>\n",
       "      <td>@MichaelKugelman @SalmanSoz \"Statement\" is onl...</td>\n",
       "      <td>statement is only to appease the west what cou...</td>\n",
       "      <td>1</td>\n",
       "      <td>[[statement, is, only, to, appease, the, west,...</td>\n",
       "    </tr>\n",
       "    <tr>\n",
       "      <th>...</th>\n",
       "      <td>...</td>\n",
       "      <td>...</td>\n",
       "      <td>...</td>\n",
       "      <td>...</td>\n",
       "      <td>...</td>\n",
       "      <td>...</td>\n",
       "      <td>...</td>\n",
       "    </tr>\n",
       "    <tr>\n",
       "      <th>237375</th>\n",
       "      <td>2022-03-12 23:53:43+00:00</td>\n",
       "      <td>1502795001956167680</td>\n",
       "      <td>1368654235</td>\n",
       "      <td>@JeremyDBoreing @AdamBaldwin Russia would be a...</td>\n",
       "      <td>russia would be a pushover if they didn’t have...</td>\n",
       "      <td>1</td>\n",
       "      <td>[[russia, would, be, pushover, if, they, didn,...</td>\n",
       "    </tr>\n",
       "    <tr>\n",
       "      <th>237376</th>\n",
       "      <td>2022-03-12 23:53:43+00:00</td>\n",
       "      <td>1502795001331425285</td>\n",
       "      <td>1410921956401102850</td>\n",
       "      <td>@marcorubio @KyivIndependent Anyone notice Bid...</td>\n",
       "      <td>anyone notice biden just gave ukraine 300 bill...</td>\n",
       "      <td>1</td>\n",
       "      <td>[[anyone, notice, biden, just, gave, ukraine, ...</td>\n",
       "    </tr>\n",
       "    <tr>\n",
       "      <th>237377</th>\n",
       "      <td>2022-03-12 23:53:43+00:00</td>\n",
       "      <td>1502795002593918976</td>\n",
       "      <td>243811680</td>\n",
       "      <td>About 60 child cancer patients from Ukraine bo...</td>\n",
       "      <td>about 60 child cancer patients from ukraine bo...</td>\n",
       "      <td>1</td>\n",
       "      <td>[[about, child, cancer, patients, from, ukrain...</td>\n",
       "    </tr>\n",
       "    <tr>\n",
       "      <th>237378</th>\n",
       "      <td>2022-03-12 23:53:43+00:00</td>\n",
       "      <td>1502795003000758276</td>\n",
       "      <td>1502785523911385091</td>\n",
       "      <td>@h3h3productions Beanie braindead VS Ukrainian...</td>\n",
       "      <td>beanie braindead vs ukrainian chad god i cant ...</td>\n",
       "      <td>1</td>\n",
       "      <td>[[beanie, braindead, vs, ukrainian, chad, god,...</td>\n",
       "    </tr>\n",
       "    <tr>\n",
       "      <th>237379</th>\n",
       "      <td>2022-03-12 23:53:43+00:00</td>\n",
       "      <td>1502795003159990272</td>\n",
       "      <td>1425679489221107712</td>\n",
       "      <td>@MeowMeow4M4A No .\\nThis is the difference:\\nA...</td>\n",
       "      <td>no  this is the difference adolf hitler murder...</td>\n",
       "      <td>1</td>\n",
       "      <td>[[no, this, is, the, difference, adolf, hitler...</td>\n",
       "    </tr>\n",
       "  </tbody>\n",
       "</table>\n",
       "<p>237380 rows × 7 columns</p>\n",
       "</div>"
      ],
      "text/plain": [
       "                       created_at                   id            author_id  \\\n",
       "0       2022-03-03 03:47:09+00:00  1499229869099597826            352345061   \n",
       "1       2022-03-03 03:47:09+00:00  1499229869221289984  1363948152559185924   \n",
       "2       2022-03-03 03:47:09+00:00  1499229869456117761  1198376932334809089   \n",
       "3       2022-03-03 03:47:09+00:00  1499229869489672193  1084980649520496642   \n",
       "4       2022-03-03 03:47:09+00:00  1499229869552857093  1401144857419149313   \n",
       "...                           ...                  ...                  ...   \n",
       "237375  2022-03-12 23:53:43+00:00  1502795001956167680           1368654235   \n",
       "237376  2022-03-12 23:53:43+00:00  1502795001331425285  1410921956401102850   \n",
       "237377  2022-03-12 23:53:43+00:00  1502795002593918976            243811680   \n",
       "237378  2022-03-12 23:53:43+00:00  1502795003000758276  1502785523911385091   \n",
       "237379  2022-03-12 23:53:43+00:00  1502795003159990272  1425679489221107712   \n",
       "\n",
       "                                                     text  \\\n",
       "0       Putin and his oligarch’s children should be re...   \n",
       "1       Très juste Macron transforme la réalité comme ...   \n",
       "2       Volodymyr Zelensky, the president of Ukraine s...   \n",
       "3       @GOPChairwoman #GOP  the party of donald trump...   \n",
       "4       @MichaelKugelman @SalmanSoz \"Statement\" is onl...   \n",
       "...                                                   ...   \n",
       "237375  @JeremyDBoreing @AdamBaldwin Russia would be a...   \n",
       "237376  @marcorubio @KyivIndependent Anyone notice Bid...   \n",
       "237377  About 60 child cancer patients from Ukraine bo...   \n",
       "237378  @h3h3productions Beanie braindead VS Ukrainian...   \n",
       "237379  @MeowMeow4M4A No .\\nThis is the difference:\\nA...   \n",
       "\n",
       "                                             cleaned_text  is_english  \\\n",
       "0       putin and his oligarch’s children should be re...           1   \n",
       "1       très juste macron transforme la réalité comme ...           0   \n",
       "2       volodymyr zelensky the president of ukraine si...           1   \n",
       "3       #gop the party of donald trump amp his master ...           1   \n",
       "4       statement is only to appease the west what cou...           1   \n",
       "...                                                   ...         ...   \n",
       "237375  russia would be a pushover if they didn’t have...           1   \n",
       "237376  anyone notice biden just gave ukraine 300 bill...           1   \n",
       "237377  about 60 child cancer patients from ukraine bo...           1   \n",
       "237378  beanie braindead vs ukrainian chad god i cant ...           1   \n",
       "237379  no  this is the difference adolf hitler murder...           1   \n",
       "\n",
       "                                                data_word  \n",
       "0       [[putin, and, his, oligarch, children, should,...  \n",
       "1                                                       0  \n",
       "2       [[volodymyr, zelensky, the, president, of, ukr...  \n",
       "3       [[gop, the, party, of, donald, trump, amp, his...  \n",
       "4       [[statement, is, only, to, appease, the, west,...  \n",
       "...                                                   ...  \n",
       "237375  [[russia, would, be, pushover, if, they, didn,...  \n",
       "237376  [[anyone, notice, biden, just, gave, ukraine, ...  \n",
       "237377  [[about, child, cancer, patients, from, ukrain...  \n",
       "237378  [[beanie, braindead, vs, ukrainian, chad, god,...  \n",
       "237379  [[no, this, is, the, difference, adolf, hitler...  \n",
       "\n",
       "[237380 rows x 7 columns]"
      ]
     },
     "execution_count": 38,
     "metadata": {},
     "output_type": "execute_result"
    }
   ],
   "source": [
    "df"
   ]
  },
  {
   "cell_type": "code",
   "execution_count": 43,
   "id": "d397c83a",
   "metadata": {},
   "outputs": [],
   "source": [
    "datawords = df[df['data_word']!=0]['data_word']"
   ]
  },
  {
   "cell_type": "code",
   "execution_count": 45,
   "id": "65b3cd31",
   "metadata": {},
   "outputs": [],
   "source": [
    "data_words= [i[0] for i in datawords]"
   ]
  },
  {
   "cell_type": "code",
   "execution_count": 46,
   "id": "ce933d2c",
   "metadata": {},
   "outputs": [],
   "source": [
    "# Build the bigram and trigram models\n",
    "bigram = gensim.models.Phrases(data_words, min_count=5, threshold=100) # higher threshold fewer phrases.\n",
    "trigram = gensim.models.Phrases(bigram[data_words], threshold=100)\n",
    "\n",
    "# Faster way to get a sentence clubbed as a trigram/bigram\n",
    "bigram_mod = gensim.models.phrases.Phraser(bigram)\n",
    "trigram_mod = gensim.models.phrases.Phraser(trigram)"
   ]
  },
  {
   "cell_type": "code",
   "execution_count": 47,
   "id": "0e64c61b",
   "metadata": {},
   "outputs": [],
   "source": [
    "# Define functions for stopwords, bigrams, trigrams and lemmatization\n",
    "def remove_stopwords(texts):\n",
    "    return [[word for word in simple_preprocess(str(doc)) if word not in stop_words] for doc in texts]\n",
    "\n",
    "def make_bigrams(texts):\n",
    "    return [bigram_mod[doc] for doc in texts]\n",
    "\n",
    "def make_trigrams(texts):\n",
    "    return [trigram_mod[bigram_mod[doc]] for doc in texts]\n",
    "\n",
    "def lemmatization(texts):\n",
    "    \"\"\"https://spacy.io/api/annotation\"\"\"\n",
    "    texts_out = []\n",
    "    for sent in texts:\n",
    "        doc = nlp(\" \".join(sent)) \n",
    "        #texts_out.append([token.lemma_ for token in doc if token.pos_ in allowed_postags])\n",
    "        texts_out.append([token.lemma_ for token in doc])\n",
    "    return texts_out"
   ]
  },
  {
   "cell_type": "code",
   "execution_count": 48,
   "id": "b079e269",
   "metadata": {},
   "outputs": [],
   "source": [
    "def makeBigrams(row):\n",
    "    if row['data_word'] != 0:\n",
    "        return make_bigrams(remove_stopwords(row['data_word']))\n",
    "    else:\n",
    "        return 0"
   ]
  },
  {
   "cell_type": "code",
   "execution_count": 53,
   "id": "f70a1473",
   "metadata": {},
   "outputs": [],
   "source": [
    "df['bigrams'] = df.apply(lambda row: makeBigrams(row), axis=1)"
   ]
  },
  {
   "cell_type": "code",
   "execution_count": 55,
   "id": "d73003e2",
   "metadata": {},
   "outputs": [],
   "source": [
    "df.drop(columns=['created_at', 'cleaned_text', 'data_word'], inplace=True)"
   ]
  },
  {
   "cell_type": "code",
   "execution_count": 58,
   "id": "0361eb86",
   "metadata": {},
   "outputs": [],
   "source": [
    "import spacy"
   ]
  },
  {
   "cell_type": "code",
   "execution_count": 59,
   "id": "7fdafa1a",
   "metadata": {},
   "outputs": [],
   "source": [
    "# Initialize spacy 'en' model, keeping only tagger component (for efficiency)\n",
    "nlp = spacy.load(\"en_core_web_sm\", disable=['parser', 'ner'])"
   ]
  },
  {
   "cell_type": "code",
   "execution_count": 60,
   "id": "52ad3061",
   "metadata": {},
   "outputs": [],
   "source": [
    "def lemmatizeRow(row):\n",
    "    if row['bigrams'] != 0:\n",
    "        return lemmatization(row['bigrams'])\n",
    "    else:\n",
    "        return 0"
   ]
  },
  {
   "cell_type": "code",
   "execution_count": 61,
   "id": "dbf13de7",
   "metadata": {},
   "outputs": [],
   "source": [
    "df['lemmatized'] = df.apply(lambda row: lemmatizeRow(row), axis=1)"
   ]
  },
  {
   "cell_type": "code",
   "execution_count": 64,
   "id": "8639648c",
   "metadata": {},
   "outputs": [
    {
     "data": {
      "text/html": [
       "<div>\n",
       "<style scoped>\n",
       "    .dataframe tbody tr th:only-of-type {\n",
       "        vertical-align: middle;\n",
       "    }\n",
       "\n",
       "    .dataframe tbody tr th {\n",
       "        vertical-align: top;\n",
       "    }\n",
       "\n",
       "    .dataframe thead th {\n",
       "        text-align: right;\n",
       "    }\n",
       "</style>\n",
       "<table border=\"1\" class=\"dataframe\">\n",
       "  <thead>\n",
       "    <tr style=\"text-align: right;\">\n",
       "      <th></th>\n",
       "      <th>id</th>\n",
       "      <th>author_id</th>\n",
       "      <th>text</th>\n",
       "      <th>is_english</th>\n",
       "      <th>bigrams</th>\n",
       "      <th>lemmatized</th>\n",
       "    </tr>\n",
       "  </thead>\n",
       "  <tbody>\n",
       "    <tr>\n",
       "      <th>0</th>\n",
       "      <td>1499229869099597826</td>\n",
       "      <td>352345061</td>\n",
       "      <td>Putin and his oligarch’s children should be re...</td>\n",
       "      <td>1</td>\n",
       "      <td>[[putin, oligarch, children, removed, fancy, s...</td>\n",
       "      <td>[[putin, oligarch, child, remove, fancy, schoo...</td>\n",
       "    </tr>\n",
       "    <tr>\n",
       "      <th>1</th>\n",
       "      <td>1499229869221289984</td>\n",
       "      <td>1363948152559185924</td>\n",
       "      <td>Très juste Macron transforme la réalité comme ...</td>\n",
       "      <td>0</td>\n",
       "      <td>0</td>\n",
       "      <td>0</td>\n",
       "    </tr>\n",
       "    <tr>\n",
       "      <th>2</th>\n",
       "      <td>1499229869456117761</td>\n",
       "      <td>1198376932334809089</td>\n",
       "      <td>Volodymyr Zelensky, the president of Ukraine s...</td>\n",
       "      <td>1</td>\n",
       "      <td>[[volodymyr_zelensky, president, ukraine, sinc...</td>\n",
       "      <td>[[volodymyr_zelensky, president, ukraine, sinc...</td>\n",
       "    </tr>\n",
       "    <tr>\n",
       "      <th>3</th>\n",
       "      <td>1499229869489672193</td>\n",
       "      <td>1084980649520496642</td>\n",
       "      <td>@GOPChairwoman #GOP  the party of donald trump...</td>\n",
       "      <td>1</td>\n",
       "      <td>[[gop, party, donald_trump, master, putin, gop...</td>\n",
       "      <td>[[gop, party, donald_trump, master, putin, gop...</td>\n",
       "    </tr>\n",
       "    <tr>\n",
       "      <th>4</th>\n",
       "      <td>1499229869552857093</td>\n",
       "      <td>1401144857419149313</td>\n",
       "      <td>@MichaelKugelman @SalmanSoz \"Statement\" is onl...</td>\n",
       "      <td>1</td>\n",
       "      <td>[[statement, appease, west, counts, vote, vote...</td>\n",
       "      <td>[[statement, appease, west, count, vote, vote,...</td>\n",
       "    </tr>\n",
       "    <tr>\n",
       "      <th>...</th>\n",
       "      <td>...</td>\n",
       "      <td>...</td>\n",
       "      <td>...</td>\n",
       "      <td>...</td>\n",
       "      <td>...</td>\n",
       "      <td>...</td>\n",
       "    </tr>\n",
       "    <tr>\n",
       "      <th>237375</th>\n",
       "      <td>1502795001956167680</td>\n",
       "      <td>1368654235</td>\n",
       "      <td>@JeremyDBoreing @AdamBaldwin Russia would be a...</td>\n",
       "      <td>1</td>\n",
       "      <td>[[russia, would, pushover, nukes]]</td>\n",
       "      <td>[[russia, would, pushover, nuke]]</td>\n",
       "    </tr>\n",
       "    <tr>\n",
       "      <th>237376</th>\n",
       "      <td>1502795001331425285</td>\n",
       "      <td>1410921956401102850</td>\n",
       "      <td>@marcorubio @KyivIndependent Anyone notice Bid...</td>\n",
       "      <td>1</td>\n",
       "      <td>[[anyone, notice, biden, gave, ukraine, billio...</td>\n",
       "      <td>[[anyone, notice, biden, give, ukraine, billio...</td>\n",
       "    </tr>\n",
       "    <tr>\n",
       "      <th>237377</th>\n",
       "      <td>1502795002593918976</td>\n",
       "      <td>243811680</td>\n",
       "      <td>About 60 child cancer patients from Ukraine bo...</td>\n",
       "      <td>1</td>\n",
       "      <td>[[child, cancer_patients, ukraine, boarded, me...</td>\n",
       "      <td>[[child, cancer_patient, ukraine, board, medic...</td>\n",
       "    </tr>\n",
       "    <tr>\n",
       "      <th>237378</th>\n",
       "      <td>1502795003000758276</td>\n",
       "      <td>1502785523911385091</td>\n",
       "      <td>@h3h3productions Beanie braindead VS Ukrainian...</td>\n",
       "      <td>1</td>\n",
       "      <td>[[beanie, braindead, vs, ukrainian, chad, god,...</td>\n",
       "      <td>[[beanie, braindead, vs, ukrainian, chad, god,...</td>\n",
       "    </tr>\n",
       "    <tr>\n",
       "      <th>237379</th>\n",
       "      <td>1502795003159990272</td>\n",
       "      <td>1425679489221107712</td>\n",
       "      <td>@MeowMeow4M4A No .\\nThis is the difference:\\nA...</td>\n",
       "      <td>1</td>\n",
       "      <td>[[difference, adolf_hitler, murder, wrong, gro...</td>\n",
       "      <td>[[difference, adolf_hitler, murder, wrong, gro...</td>\n",
       "    </tr>\n",
       "  </tbody>\n",
       "</table>\n",
       "<p>237380 rows × 6 columns</p>\n",
       "</div>"
      ],
      "text/plain": [
       "                         id            author_id  \\\n",
       "0       1499229869099597826            352345061   \n",
       "1       1499229869221289984  1363948152559185924   \n",
       "2       1499229869456117761  1198376932334809089   \n",
       "3       1499229869489672193  1084980649520496642   \n",
       "4       1499229869552857093  1401144857419149313   \n",
       "...                     ...                  ...   \n",
       "237375  1502795001956167680           1368654235   \n",
       "237376  1502795001331425285  1410921956401102850   \n",
       "237377  1502795002593918976            243811680   \n",
       "237378  1502795003000758276  1502785523911385091   \n",
       "237379  1502795003159990272  1425679489221107712   \n",
       "\n",
       "                                                     text  is_english  \\\n",
       "0       Putin and his oligarch’s children should be re...           1   \n",
       "1       Très juste Macron transforme la réalité comme ...           0   \n",
       "2       Volodymyr Zelensky, the president of Ukraine s...           1   \n",
       "3       @GOPChairwoman #GOP  the party of donald trump...           1   \n",
       "4       @MichaelKugelman @SalmanSoz \"Statement\" is onl...           1   \n",
       "...                                                   ...         ...   \n",
       "237375  @JeremyDBoreing @AdamBaldwin Russia would be a...           1   \n",
       "237376  @marcorubio @KyivIndependent Anyone notice Bid...           1   \n",
       "237377  About 60 child cancer patients from Ukraine bo...           1   \n",
       "237378  @h3h3productions Beanie braindead VS Ukrainian...           1   \n",
       "237379  @MeowMeow4M4A No .\\nThis is the difference:\\nA...           1   \n",
       "\n",
       "                                                  bigrams  \\\n",
       "0       [[putin, oligarch, children, removed, fancy, s...   \n",
       "1                                                       0   \n",
       "2       [[volodymyr_zelensky, president, ukraine, sinc...   \n",
       "3       [[gop, party, donald_trump, master, putin, gop...   \n",
       "4       [[statement, appease, west, counts, vote, vote...   \n",
       "...                                                   ...   \n",
       "237375                 [[russia, would, pushover, nukes]]   \n",
       "237376  [[anyone, notice, biden, gave, ukraine, billio...   \n",
       "237377  [[child, cancer_patients, ukraine, boarded, me...   \n",
       "237378  [[beanie, braindead, vs, ukrainian, chad, god,...   \n",
       "237379  [[difference, adolf_hitler, murder, wrong, gro...   \n",
       "\n",
       "                                               lemmatized  \n",
       "0       [[putin, oligarch, child, remove, fancy, schoo...  \n",
       "1                                                       0  \n",
       "2       [[volodymyr_zelensky, president, ukraine, sinc...  \n",
       "3       [[gop, party, donald_trump, master, putin, gop...  \n",
       "4       [[statement, appease, west, count, vote, vote,...  \n",
       "...                                                   ...  \n",
       "237375                  [[russia, would, pushover, nuke]]  \n",
       "237376  [[anyone, notice, biden, give, ukraine, billio...  \n",
       "237377  [[child, cancer_patient, ukraine, board, medic...  \n",
       "237378  [[beanie, braindead, vs, ukrainian, chad, god,...  \n",
       "237379  [[difference, adolf_hitler, murder, wrong, gro...  \n",
       "\n",
       "[237380 rows x 6 columns]"
      ]
     },
     "execution_count": 64,
     "metadata": {},
     "output_type": "execute_result"
    }
   ],
   "source": [
    "df"
   ]
  },
  {
   "cell_type": "code",
   "execution_count": null,
   "id": "6ef797b0",
   "metadata": {},
   "outputs": [],
   "source": [
    "data_lemmatized = [i[0] for i in df[df['lemmatized']!=0]['lemmatized']]\n",
    "data_lemmatized[:2]"
   ]
  },
  {
   "cell_type": "code",
   "execution_count": 70,
   "id": "5299beda",
   "metadata": {},
   "outputs": [],
   "source": [
    "import gensim.corpora as corpora"
   ]
  },
  {
   "cell_type": "code",
   "execution_count": 72,
   "id": "30b55cf8",
   "metadata": {},
   "outputs": [
    {
     "name": "stdout",
     "output_type": "stream",
     "text": [
      "[[(0, 1), (1, 1), (2, 1), (3, 1), (4, 1), (5, 1), (6, 1), (7, 1), (8, 1)]]\n"
     ]
    }
   ],
   "source": [
    "# Create Dictionary\n",
    "id2word = corpora.Dictionary(data_lemmatized)\n",
    "# Create Corpus\n",
    "texts = data_lemmatized\n",
    "# Term Document Frequency\n",
    "corpus = [id2word.doc2bow(text) for text in texts]\n",
    "# View\n",
    "print(corpus[:1])"
   ]
  },
  {
   "cell_type": "code",
   "execution_count": 73,
   "id": "2a1c27bd",
   "metadata": {},
   "outputs": [],
   "source": [
    "def getBowRow(row):\n",
    "    if row['lemmatized'] != 0:\n",
    "        return id2word.doc2bow(row['lemmatized'][0])\n",
    "    else:\n",
    "        return 0"
   ]
  },
  {
   "cell_type": "code",
   "execution_count": 74,
   "id": "4ed04021",
   "metadata": {},
   "outputs": [],
   "source": [
    "df['bow_format'] = df.apply(lambda row: getBowRow(row), axis=1)"
   ]
  },
  {
   "cell_type": "code",
   "execution_count": 89,
   "id": "d1fe1aa3",
   "metadata": {},
   "outputs": [],
   "source": [
    "# Build LDA model\n",
    "lda_model = gensim.models.LdaMulticore(corpus=corpus,\n",
    "                                       id2word=id2word,\n",
    "                                       num_topics=15, \n",
    "                                       random_state=100,\n",
    "                                       chunksize=100,\n",
    "                                       passes=10,\n",
    "                                       per_word_topics=True)"
   ]
  },
  {
   "cell_type": "code",
   "execution_count": 90,
   "id": "0d0a75da",
   "metadata": {},
   "outputs": [
    {
     "name": "stdout",
     "output_type": "stream",
     "text": [
      "[(0,\n",
      "  '0.047*\"like\" + 0.033*\"look\" + 0.027*\"putin\" + 0.023*\"news\" + 0.020*\"russia\" '\n",
      "  '+ 0.017*\"see\" + 0.015*\"guy\" + 0.014*\"feel\" + 0.014*\"moscow\" + 0.013*\"good\"'),\n",
      " (1,\n",
      "  '0.066*\"nato\" + 0.064*\"ukraine\" + 0.062*\"russia\" + 0.051*\"nuclear\" + '\n",
      "  '0.028*\"attack\" + 0.027*\"country\" + 0.025*\"invade\" + 0.025*\"europe\" + '\n",
      "  '0.018*\"fire\" + 0.016*\"power_plant\"'),\n",
      " (2,\n",
      "  '0.038*\"report\" + 0.037*\"nazi\" + 0.036*\"free\" + 0.035*\"friend\" + '\n",
      "  '0.027*\"business\" + 0.027*\"ukraines\" + 0.026*\"large\" + 0.026*\"freedom\" + '\n",
      "  '0.025*\"deal\" + 0.024*\"germany\"'),\n",
      " (3,\n",
      "  '0.041*\"ukraine\" + 0.036*\"I\" + 0.029*\"m\" + 0.026*\"zelensky\" + 0.017*\"talk\" + '\n",
      "  '0.016*\"video\" + 0.015*\"ukrainian\" + 0.015*\"people\" + 0.013*\"speak\" + '\n",
      "  '0.012*\"donate\"'),\n",
      " (4,\n",
      "  '0.075*\"ukrainian\" + 0.052*\"ukraine\" + 0.032*\"refugee\" + 0.030*\"uk\" + '\n",
      "  '0.026*\"russian\" + 0.020*\"hope\" + 0.017*\"government\" + 0.013*\"student\" + '\n",
      "  '0.013*\"official\" + 0.013*\"ask\"'),\n",
      " (5,\n",
      "  '0.080*\"not\" + 0.051*\"do\" + 0.029*\"russia\" + 0.028*\"putin\" + 0.027*\"would\" + '\n",
      "  '0.027*\"think\" + 0.024*\"know\" + 0.020*\"want\" + 0.015*\"can\" + 0.014*\"go\"'),\n",
      " (6,\n",
      "  '0.075*\"ukraine\" + 0.033*\"russian\" + 0.025*\"fight\" + 0.025*\"weapon\" + '\n",
      "  '0.023*\"russia\" + 0.022*\"ukrainian\" + 0.020*\"give\" + 0.018*\"we\" + '\n",
      "  '0.017*\"military\" + 0.017*\"send\"'),\n",
      " (7,\n",
      "  '0.074*\"ukraine\" + 0.066*\"stop\" + 0.061*\"support\" + 0.052*\"putin\" + '\n",
      "  '0.042*\"need\" + 0.036*\"help\" + 0.035*\"people\" + 0.032*\"please\" + '\n",
      "  '0.029*\"stand\" + 0.021*\"world\"'),\n",
      " (8,\n",
      "  '0.053*\"trump\" + 0.036*\"putin\" + 0.032*\"ukraine\" + 0.029*\"biden\" + '\n",
      "  '0.022*\"vote\" + 0.018*\"aid\" + 0.016*\"remember\" + 0.016*\"company\" + '\n",
      "  '0.014*\"president\" + 0.014*\"little\"'),\n",
      " (9,\n",
      "  '0.058*\"russia\" + 0.024*\"western\" + 0.016*\"israel\" + 0.016*\"ukraine\" + '\n",
      "  '0.015*\"move\" + 0.015*\"ally\" + 0.014*\"belarus\" + 0.013*\"act\" + '\n",
      "  '0.012*\"security\" + 0.012*\"might\"'),\n",
      " (10,\n",
      "  '0.121*\"russia\" + 0.050*\"sanction\" + 0.041*\"oil\" + 0.040*\"ukraine\" + '\n",
      "  '0.036*\"china\" + 0.036*\"we\" + 0.026*\"close\" + 0.022*\"us\" + 0.018*\"stop\" + '\n",
      "  '0.018*\"crisis\"'),\n",
      " (11,\n",
      "  '0.055*\"ukraine\" + 0.039*\"people\" + 0.037*\"russian\" + 0.036*\"ukrainian\" + '\n",
      "  '0.029*\"kill\" + 0.029*\"war\" + 0.022*\"russia\" + 0.020*\"child\" + '\n",
      "  '0.019*\"civilian\" + 0.018*\"putin\"'),\n",
      " (12,\n",
      "  '0.079*\"ukraine\" + 0.074*\"war\" + 0.039*\"russia\" + 0.025*\"via\" + 0.020*\"end\" '\n",
      "  '+ 0.017*\"start\" + 0.016*\"invasion\" + 0.015*\"conflict\" + 0.014*\"russian\" + '\n",
      "  '0.014*\"putin\"'),\n",
      " (13,\n",
      "  '0.087*\"putin\" + 0.060*\"s\" + 0.026*\"lie\" + 0.021*\"that\" + 0.020*\"bad\" + '\n",
      "  '0.019*\"he\" + 0.015*\"evil\" + 0.014*\"far\" + 0.013*\"fuck\" + 0.012*\"kremlin\"'),\n",
      " (14,\n",
      "  '0.064*\"putin\" + 0.026*\"get\" + 0.021*\"make\" + 0.021*\"go\" + 0.020*\"take\" + '\n",
      "  '0.018*\"biden\" + 0.018*\"well\" + 0.016*\"one\" + 0.013*\"right\" + 0.013*\"money\"')]\n"
     ]
    }
   ],
   "source": [
    "# Print the Keyword in the 15 topics\n",
    "pprint(lda_model.print_topics())\n",
    "doc_lda = lda_model[corpus]"
   ]
  },
  {
   "cell_type": "code",
   "execution_count": null,
   "id": "28c522df",
   "metadata": {},
   "outputs": [],
   "source": [
    "#import pyLDAvis.gensim\n",
    "import pickle \n",
    "import pyLDAvis"
   ]
  },
  {
   "cell_type": "code",
   "execution_count": 106,
   "id": "62af1860",
   "metadata": {},
   "outputs": [
    {
     "data": {
      "text/html": [
       "\n",
       "<link rel=\"stylesheet\" type=\"text/css\" href=\"https://cdn.jsdelivr.net/gh/bmabey/pyLDAvis@3.3.1/pyLDAvis/js/ldavis.v1.0.0.css\">\n",
       "\n",
       "\n",
       "<div id=\"ldavis_el365051402791445050083457972027\"></div>\n",
       "<script type=\"text/javascript\">\n",
       "\n",
       "var ldavis_el365051402791445050083457972027_data = {\"mdsDat\": {\"x\": [-0.19191329704314228, -0.22633485221724928, 0.09597382790995908, 0.10068687548970963, 0.08571665267463913, 0.04429871789976515, -0.003988969938864156, -0.2265304304624689, -0.18492228279175327, 0.19376556959660973, -0.02210565493125691, -0.05156496461377676, 0.11553990436679885, 0.15462678374625358, 0.11675212031477505], \"y\": [0.0620831988193865, 0.019213946518895984, 0.15018383333607016, 0.10560626825719148, 0.1405169732878291, 0.08264970748442176, 0.11021352834657866, -0.0950644871576064, -0.05375346861794146, 0.009038490580944638, -0.003966200081892253, -0.026895675829909288, -0.0935589013389402, -0.013427291859409864, -0.3928399217456186], \"topics\": [1, 2, 3, 4, 5, 6, 7, 8, 9, 10, 11, 12, 13, 14, 15], \"cluster\": [1, 1, 1, 1, 1, 1, 1, 1, 1, 1, 1, 1, 1, 1, 1], \"Freq\": [11.655364886809892, 9.100510340627771, 8.430447974474669, 8.417567905305217, 8.118002052840897, 7.628680038584583, 6.3849883205326625, 5.880887166313097, 5.858346872605487, 5.724200407692552, 5.49548605086933, 5.107489173604153, 4.7276187654192015, 4.668887310672874, 2.8015227336476127]}, \"tinfo\": {\"Term\": [\"not\", \"russia\", \"ukrainian\", \"putin\", \"nato\", \"do\", \"stop\", \"war\", \"ukraine\", \"nuclear\", \"support\", \"s\", \"like\", \"trump\", \"people\", \"sanction\", \"need\", \"oil\", \"biden\", \"russian\", \"kill\", \"think\", \"would\", \"china\", \"I\", \"help\", \"attack\", \"please\", \"we\", \"look\", \"not\", \"do\", \"can\", \"be\", \"they\", \"hate\", \"will\", \"warn\", \"spread\", \"have\", \"ll\", \"suggest\", \"damn\", \"journalist\", \"community\", \"charge\", \"fighter_jet\", \"expansion\", \"product\", \"genius\", \"re\", \"station\", \"disinformation\", \"teach\", \"girl\", \"song\", \"wage\", \"react\", \"version\", \"combat\", \"you\", \"probably\", \"ve\", \"fucking\", \"think\", \"know\", \"enough\", \"believe\", \"would\", \"really\", \"thing\", \"want\", \"anything\", \"even\", \"mean\", \"understand\", \"least\", \"putin\", \"russia\", \"like\", \"happen\", \"go\", \"say\", \"get\", \"we\", \"see\", \"people\", \"ukraine\", \"country\", \"well\", \"right\", \"war\", \"nato\", \"something\", \"everything\", \"joe\", \"nt\", \"problem\", \"step\", \"lol\", \"account\", \"wake\", \"within\", \"mr\", \"completely\", \"bully\", \"instead\", \"smart\", \"book\", \"definitely\", \"compare\", \"spend\", \"example\", \"serve\", \"fox\", \"internet\", \"surprise\", \"sleep\", \"otherwise\", \"failure\", \"attention\", \"victory\", \"ruble\", \"blame\", \"actually\", \"hitler\", \"buy\", \"money\", \"always\", \"allow\", \"weak\", \"pay\", \"maybe\", \"well\", \"american\", \"real\", \"make\", \"biden\", \"get\", \"take\", \"putin\", \"back\", \"right\", \"agree\", \"go\", \"one\", \"point\", \"would\", \"know\", \"think\", \"time\", \"like\", \"russia\", \"need\", \"say\", \"see\", \"want\", \"kill\", \"life\", \"crime\", \"die\", \"save\", \"innocent\", \"citizen\", \"flee\", \"woman\", \"dead\", \"economy\", \"thousand\", \"pray\", \"humanity\", \"former\", \"dictator\", \"crazy\", \"pull\", \"brave\", \"earth\", \"child\", \"kherson\", \"assault\", \"dear\", \"rid\", \"alive\", \"collapse\", \"escape\", \"brother\", \"withdraw\", \"mother\", \"civilian\", \"family\", \"death\", \"every\", \"soldier\", \"million\", \"live\", \"destroy\", \"home\", \"people\", \"ukrainian\", \"day\", \"russian\", \"bomb\", \"ukraine\", \"russians\", \"war\", \"world\", \"watch\", \"country\", \"russia\", \"putin\", \"nuclear\", \"invade\", \"power_plant\", \"threat\", \"shell\", \"plant\", \"threaten\", \"ban\", \"member\", \"eastern\", \"territory\", \"catastrophe\", \"france\", \"impose\", \"pressure\", \"speech\", \"expert\", \"update\", \"intelligence\", \"zone\", \"alliance\", \"aggressor\", \"train\", \"xi\", \"space\", \"provoke\", \"expand\", \"repeat\", \"conservative\", \"suspend\", \"ukrainewar\", \"aim\", \"europe\", \"nato\", \"attack\", \"terrorist\", \"fire\", \"eu\", \"join\", \"ww\", \"european\", \"target\", \"country\", \"usa\", \"russia\", \"nuke\", \"ukraine\", \"nation\", \"part\", \"say\", \"we\", \"russian\", \"war\", \"military\", \"putin\", \"would\", \"want\", \"weapon\", \"arm\", \"missile\", \"tank\", \"afghanistan\", \"defense\", \"syria\", \"air\", \"land\", \"prevent\", \"flag\", \"convoy\", \"united_states\", \"capture\", \"chance\", \"local\", \"fly\", \"promise\", \"battle\", \"poland\", \"anyway\", \"occupy\", \"opportunity\", \"neutral\", \"ill\", \"ukrainerussia\", \"chelsea\", \"gun\", \"tomorrow\", \"image\", \"army\", \"major\", \"fight\", \"plan\", \"kyiv\", \"troop\", \"provide\", \"send\", \"force\", \"iraq\", \"give\", \"defend\", \"military\", \"ukraine\", \"russian\", \"sell\", \"city\", \"ukrainian\", \"we\", \"next\", \"russia\", \"go\", \"need\", \"take\", \"war\", \"someone\", \"gas\", \"russiaukraine\", \"covid\", \"global\", \"conflict\", \"inflation\", \"food\", \"kind\", \"absolutely\", \"stopputinnow\", \"worry\", \"current\", \"build\", \"especially\", \"focus\", \"quite\", \"hundred\", \"social_media\", \"escalate\", \"survive\", \"anymore\", \"nft\", \"charity\", \"turkey\", \"actual\", \"drone\", \"wwiii\", \"insane\", \"cold\", \"via\", \"end\", \"explain\", \"start\", \"begin\", \"war\", \"without\", \"situation\", \"aggression\", \"week\", \"late\", \"ukraine\", \"invasion\", \"russia\", \"since\", \"world\", \"year\", \"russian\", \"long\", \"go\", \"already\", \"time\", \"putin\", \"news\", \"stand\", \"thank\", \"please\", \"vladimir\", \"god\", \"murder\", \"stopputin\", \"heart\", \"slaughter\", \"totally\", \"reality\", \"seriously\", \"nice\", \"hypocrisy\", \"proud\", \"stopwar\", \"picture\", \"amazing\", \"slavaukraini\", \"hopefully\", \"ur\", \"terrible\", \"pilot\", \"humanitarian_assistance\", \"courage\", \"father\", \"urge\", \"root\", \"age\", \"lesson\", \"support\", \"stop\", \"learn\", \"must\", \"need\", \"help\", \"moment\", \"word\", \"together\", \"wish\", \"love\", \"peace\", \"people\", \"hard\", \"ukraine\", \"putin\", \"world\", \"show\", \"way\", \"war\", \"power\", \"great\", \"give\", \"we\", \"ukrainian\", \"take\", \"russian\", \"s\", \"that\", \"he\", \"evil\", \"far\", \"kremlin\", \"criminal\", \"enemy\", \"gop\", \"there\", \"puppet\", \"afraid\", \"republican\", \"general\", \"excuse\", \"along\", \"jet\", \"special\", \"arrest\", \"doubt\", \"influence\", \"lab\", \"dog\", \"lie\", \"pro\", \"oligarch\", \"evidence\", \"kick\", \"japan\", \"africa\", \"name\", \"fuck\", \"shit\", \"two\", \"bad\", \"putin\", \"leader\", \"yeah\", \"regime\", \"yes\", \"get\", \"russian\", \"go\", \"like\", \"propaganda\", \"say\", \"know\", \"hell\", \"kiev\", \"hey\", \"cut\", \"idiot\", \"fake\", \"course\", \"sound\", \"strike\", \"hero\", \"import\", \"eye\", \"powerful\", \"front\", \"school\", \"affect\", \"obama\", \"equipment\", \"confirm\", \"daily\", \"solidarity\", \"expose\", \"baby\", \"door\", \"several\", \"moron\", \"coup\", \"rich\", \"travel\", \"replace\", \"look\", \"what\", \"hear\", \"guy\", \"feel\", \"run\", \"news\", \"moscow\", \"like\", \"open\", \"lose\", \"true\", \"sorry\", \"seem\", \"ever\", \"see\", \"good\", \"putin\", \"man\", \"find\", \"russia\", \"go\", \"get\", \"make\", \"come\", \"say\", \"still\", \"one\", \"sanction\", \"oil\", \"close\", \"crisis\", \"price\", \"sky\", \"energy\", \"iran\", \"hit\", \"due\", \"security_council\", \"stopputin_stoprussia\", \"top\", \"raise\", \"increase\", \"exclude\", \"drive\", \"operation\", \"announce\", \"production\", \"defeat\", \"cnn\", \"export\", \"half\", \"funny\", \"stock\", \"pakistan\", \"finance\", \"evacuation\", \"approve\", \"demand\", \"us\", \"china\", \"fund\", \"india\", \"high\", \"russia\", \"un\", \"supply\", \"we\", \"economic\", \"new\", \"stop\", \"ukraine\", \"russian\", \"america\", \"biden\", \"pay\", \"invasion\", \"I\", \"m\", \"speak\", \"donate\", \"post\", \"worth\", \"share\", \"involve\", \"commit\", \"surrender\", \"meet\", \"nobody\", \"zelenskyy\", \"message\", \"blood\", \"hospital\", \"feed\", \"carry\", \"tonight\", \"folk\", \"fighting\", \"discuss\", \"building\", \"jewish\", \"oppose\", \"membership\", \"address\", \"lack\", \"beat\", \"authority\", \"zelensky\", \"hurt\", \"article\", \"video\", \"stupid\", \"americans\", \"bit\", \"talk\", \"whether\", \"set\", \"base\", \"sure\", \"read\", \"hand\", \"ukraine\", \"ukrainian\", \"people\", \"president\", \"help\", \"putin\", \"show\", \"vote\", \"aid\", \"remember\", \"company\", \"little\", \"forget\", \"billion\", \"donation\", \"corrupt\", \"number\", \"humanitarian\", \"th\", \"administration\", \"three\", \"prove\", \"republicans\", \"grow\", \"years_ago\", \"choice\", \"responsible\", \"month\", \"throw\", \"british\", \"democrats\", \"benefit\", \"joke\", \"coward\", \"bill\", \"racist\", \"congress\", \"kid\", \"trump\", \"party\", \"effort\", \"choose\", \"biden\", \"cost\", \"human\", \"president\", \"call\", \"putin\", \"accept\", \"ukraine\", \"old\", \"give\", \"never\", \"send\", \"group\", \"western\", \"israel\", \"belarus\", \"security\", \"to\", \"going\", \"policy\", \"shoot\", \"bank\", \"trust\", \"march\", \"second\", \"market\", \"taiwan\", \"traitor\", \"interest\", \"chinese\", \"realize\", \"stick\", \"russias\", \"direct\", \"decade\", \"consequence\", \"amid\", \"release\", \"inside\", \"value\", \"ukriane\", \"illegal\", \"wow\", \"ally\", \"independent\", \"condemn\", \"move\", \"act\", \"might\", \"foreign\", \"national\", \"action\", \"russia\", \"genocide\", \"story\", \"medium\", \"turn\", \"soon\", \"ukraine\", \"invasion\", \"china\", \"make\", \"refugee\", \"student\", \"list\", \"near\", \"pm\", \"kharkiv\", \"indian\", \"system\", \"georgia\", \"team\", \"reach\", \"black\", \"son\", \"embassy\", \"event\", \"evacuate\", \"night\", \"ship\", \"walk\", \"okay\", \"financial\", \"fine\", \"donald_trump\", \"agenda\", \"resistance\", \"figure\", \"house\", \"laugh\", \"proputin\", \"tech\", \"uk\", \"official\", \"statement\", \"return\", \"hope\", \"law\", \"ukrainian\", \"tweet\", \"plane\", \"claim\", \"government\", \"issue\", \"ask\", \"ukraine\", \"russian\", \"question\", \"border\", \"say\", \"via\", \"international\", \"report\", \"nazi\", \"free\", \"friend\", \"business\", \"ukraines\", \"freedom\", \"deal\", \"germany\", \"head\", \"fall\", \"sign\", \"ready\", \"office\", \"ukranian\", \"fighter\", \"danger\", \"united_state\", \"currently\", \"dumb\", \"deny\", \"suppose\", \"minister\", \"admit\", \"boy\", \"indian_student\", \"polish\", \"communist\", \"minute\", \"neighbor\", \"large\", \"whatever\", \"small\", \"propaganda\", \"state\", \"place\", \"check\", \"almost\", \"russia\", \"still\"], \"Freq\": [22441.0, 67721.0, 22906.0, 60523.0, 16032.0, 14333.0, 12586.0, 30132.0, 93738.0, 10374.0, 10003.0, 8461.0, 13750.0, 7937.0, 20870.0, 6814.0, 11263.0, 5660.0, 8713.0, 28737.0, 5942.0, 10653.0, 13182.0, 6023.0, 4795.0, 10421.0, 6522.0, 4916.0, 17983.0, 4770.0, 22440.15728304349, 14332.790934827477, 4298.983307299033, 3554.3171552230965, 2386.4577188085905, 1677.941226257136, 1656.5480504947927, 949.874307766074, 905.8207639636678, 894.2741178468681, 814.1984102056117, 786.1417905335916, 650.937966302479, 554.7322274690711, 537.896369982484, 536.2914185355345, 533.1905459848756, 436.5871498044432, 424.59028862578964, 386.40823433983525, 3288.5054848082436, 380.88807569302867, 376.2831912172592, 354.54785200790684, 309.69622044766487, 286.8068952116534, 283.41171903251745, 275.9514597119189, 249.67839310685693, 248.63947291520924, 2815.127967247452, 1388.5590356431185, 1706.1541814781708, 892.4297368101398, 7450.692315782716, 6609.477086952288, 1605.989551534194, 2555.6657646730523, 7612.624103264902, 2742.3400669835364, 2955.9327930908257, 5528.315760744671, 1620.0720176747461, 3028.85536638194, 2043.3681337433848, 1420.6943427812964, 1120.4323463305006, 7860.875559307781, 8136.174892289889, 3538.8258421817404, 1986.9038571482176, 3804.331105360294, 3646.0647209671956, 3217.0838893842147, 2870.4237726357087, 2268.9638543939386, 2816.3528132099336, 3679.593345848972, 2341.9033923105717, 2063.8855433375825, 2003.5662513388718, 2279.672709004332, 2075.9687936092646, 2467.666681328669, 2285.0579852234287, 1714.9749795388543, 1586.4115190317684, 1527.8346293107602, 1250.6604244591156, 1083.4329623003534, 1031.55140686631, 989.9333475118841, 816.2750631314282, 812.5214066489349, 794.535299455672, 714.6111346858045, 1365.3740902882232, 636.0344938231825, 618.1979133848447, 606.1718356561164, 584.0944522853388, 583.7337540145146, 536.2792094479198, 529.361495506697, 509.1845029407615, 490.8571588805523, 477.0754281700626, 473.7788090021969, 467.0430744710565, 462.01500171106795, 457.09447613324176, 448.4733289457934, 447.17129989106843, 2291.0133785943694, 1735.7412145059695, 1218.3587734929768, 2374.780559277101, 2824.1121768907724, 1566.641993241264, 1815.8378317683143, 958.7038059258615, 2106.341569893749, 1755.947450123805, 3870.879344824515, 2093.272472998554, 1672.0745053718317, 4631.375171461495, 3979.7971804160466, 5693.780749170969, 4418.9047342186905, 13961.258187467873, 2817.5124174563593, 2901.5314755756667, 1426.6034368979585, 4550.020389722275, 3523.145425747983, 1675.5162189853622, 2771.4483952914416, 2465.6655191707628, 2422.762395807401, 2154.266958163586, 2235.886863321078, 2819.6470583529035, 1969.5250476521387, 1908.898393209614, 1816.1237411886343, 1734.7571399580543, 5941.511360231225, 3263.639730758839, 3113.56765717951, 2994.8139764394723, 2579.608682937829, 2162.0798867082253, 2273.7095812242574, 1801.5261788616003, 1769.0075235633904, 1384.022112795903, 1340.234431511107, 1302.2521090084247, 1166.4110176881638, 1107.9109654575677, 1105.191496937285, 1042.5336623024007, 965.8263572603283, 834.7006097115177, 657.5747279126836, 620.8326420079068, 4039.1980590976964, 560.8781352138092, 497.0788430517382, 602.0921804334206, 471.4759025780683, 442.3630250435196, 442.01057301288074, 441.03769591598876, 439.201811610706, 433.49197544643016, 748.5288727235045, 3757.463347998943, 2487.516384247672, 1562.2600496560578, 2722.898650650671, 2318.2418103445325, 2439.618587477568, 2674.6602949821886, 2118.3771563681466, 1577.9290626293152, 7837.475994096201, 7198.336801061438, 2563.1338630589576, 7409.639627794336, 1981.1336193405393, 11080.954411535185, 2259.9093946448456, 5845.596835368413, 3406.821338822196, 1956.5425862033621, 2961.620999420083, 4386.2928943827965, 3671.380101578344, 10373.190121936754, 5116.7363565950445, 3316.557352177826, 1986.4242102704245, 1973.7415624808837, 1917.4821398600934, 1351.5229641338908, 1304.0935181353038, 1586.6430627356892, 962.6934530789654, 779.1801953033344, 718.3123450120903, 678.7126928336965, 660.0109944206663, 657.3362063779008, 653.282179209951, 643.4336889913923, 639.4379528070037, 600.1727787218332, 558.2387069519773, 551.8694863213393, 548.2673674252989, 470.4369822863388, 455.5018144440823, 448.269679916134, 420.79257315815534, 396.8151873113516, 395.82683234836645, 375.31618140748884, 364.7895460438781, 985.4838610883211, 467.9604872579835, 5115.015806561264, 13382.88752638297, 5683.765409840062, 1027.967102722706, 3696.3921450757625, 3270.7015271210685, 2618.043443130426, 1189.0666055460586, 1262.7279366044797, 1098.9623163454555, 5415.7757937107945, 1928.446311021898, 12464.436505721176, 1330.4537658784207, 12898.885190806632, 1240.0566551969368, 1388.9602894224925, 3155.1200726607253, 2737.6433469959147, 2883.6569359330238, 2703.396710872171, 1681.4684032532386, 2868.5570736788463, 1914.4412071590655, 1802.0362107584583, 4859.100975643649, 1373.6104824290126, 1343.794188663352, 1337.0901989438416, 1328.2030815761723, 1317.282989642269, 1294.7922939056136, 1152.2440292998858, 1117.9593179715125, 1055.5513525003714, 1011.4194348186297, 848.087965878816, 811.7494657858064, 799.7346742643086, 773.4557944184075, 752.042256172003, 735.310140178076, 731.2992714134328, 652.11547104255, 2099.05301106795, 570.7380904784587, 557.8994111778387, 533.247674475172, 525.9389368557896, 519.984849074792, 519.0869754550602, 515.5866907931496, 505.2872073600844, 503.42929020050155, 495.8876880557608, 3282.4885254951955, 989.597338398343, 4932.542556777098, 1840.3183458209169, 3047.0208619610416, 2656.5706771222503, 1620.958508666161, 3316.916845703376, 2804.337488458444, 1182.5265974664396, 3930.8077230675485, 1736.3846002697521, 3351.338985276223, 14718.207233429664, 6507.597486821514, 1181.7966462552167, 1631.0778447575944, 4236.88805458634, 3439.422855081467, 1289.697814340298, 4458.0075549772155, 2285.7812750626463, 1654.1247067825666, 1501.7045132821365, 1669.1471045273702, 2046.639161953188, 2018.3366793240739, 1843.9113555938293, 1495.3109684970027, 1458.5004876342875, 2680.645179906595, 1405.2186896009837, 1264.2678675445197, 1128.7002911127015, 1114.974919481838, 959.0182981113475, 939.4920962422046, 939.2366256798445, 925.4970754754767, 859.6639087800962, 840.0551978627288, 700.749602811341, 666.1070770853115, 647.1135539731595, 619.9292995628417, 618.3161878808842, 616.7072614405032, 593.1393546982063, 592.5991595889963, 581.3540987773835, 573.1104113613095, 571.6672717352185, 556.7892504089185, 556.2632765797597, 530.0259117228773, 4641.956661552911, 3594.0077026157887, 939.2514021450027, 3209.159194463194, 1146.4436654833003, 13515.925059750898, 1584.573630016825, 1486.5562972496616, 1200.2879941497383, 1686.2966952542524, 1049.6172474774169, 14489.186076599835, 2880.718176496887, 7070.565568758731, 1402.802780254157, 2425.7157949061657, 1609.6005205140386, 2576.191287246974, 1377.437397667798, 2147.791496900515, 1324.0548975973752, 1595.0174305992498, 2515.8609445069997, 1327.0046387779535, 4460.7809219780975, 3022.9750099902135, 4913.8339304654, 1803.12357945102, 1788.0900123692286, 1189.617013681043, 871.4840038006063, 774.6618525098631, 705.7092840874008, 700.41921908086, 699.4088744986705, 669.5658562528095, 639.3061325254806, 606.1023763504247, 560.4455673781096, 556.794586825007, 516.7725238472058, 499.956430975801, 489.01596403025457, 487.27250661353924, 470.2309752902888, 447.0841975219703, 420.37065245448093, 382.1619624811247, 364.3049280218574, 359.1805014782709, 354.7204159947769, 354.56610843228793, 354.0910327285492, 337.7800049157426, 9383.501709848235, 10137.728194008394, 1018.3366916432964, 2928.377361095564, 6390.367644942283, 5555.097985400632, 739.8213709962924, 1399.1201446375208, 831.8413651396502, 777.9950674316184, 1567.4967536462311, 1339.3907862172055, 5357.144509202417, 1019.5086713419034, 11398.457510080096, 7967.597534855768, 3188.5414127068507, 1638.3026570501738, 1672.0046868923819, 3165.8879044225137, 930.196655177272, 904.2899989019126, 1014.9709495309306, 1065.59162225538, 1003.7439216105234, 926.7883060196233, 938.8623276858581, 8460.678802320817, 2986.0336059706406, 2635.1819587386876, 2168.9594539339228, 2043.8096707706266, 1748.7233679628284, 1460.3198621188633, 1448.166197575361, 1361.0825593262368, 1304.9467751153113, 1114.2234870875136, 1015.5196544606208, 983.6792156820266, 944.6319255025375, 927.202292378449, 916.5961653942209, 853.0891825183088, 775.6856376307421, 767.5545304021007, 742.2080472598493, 661.1063597089362, 644.2031514151416, 633.7439888113032, 3728.947240282576, 599.2812366754503, 583.9480188323781, 522.9680397525178, 521.3402380446348, 494.24483268476615, 494.20236313935783, 1151.3165855799118, 1794.5608470884156, 1552.0727799696706, 1395.1232497782644, 2854.7825623164513, 12231.934928025985, 1591.2523512603618, 848.5776657550725, 822.1546290199125, 1026.3176516081355, 1415.3383583270872, 1612.8803458640245, 1421.039812492834, 1181.2144871048063, 947.8025898274868, 1044.0197482654016, 940.7255833003056, 1498.9682738121426, 1440.820671325422, 1282.8584817074557, 1193.9766193262756, 1138.747987050545, 1138.3337086843453, 1058.2056085254997, 947.0797002651979, 887.5529627360909, 778.4300995592284, 759.1129605095755, 751.4057168643017, 729.4921229181936, 727.5664106710033, 702.2810657093015, 661.7877167212694, 659.6353845001685, 655.3610891022274, 637.6948322879889, 606.9811682464405, 557.1272664778547, 534.3053888591772, 532.8336708665231, 524.0462928014596, 518.1039956852704, 493.11745457050057, 492.9703647610955, 484.5478087784895, 449.6052717216146, 447.95520938480337, 4635.176719752475, 1059.6915271619603, 1687.2475589152857, 2137.6405564188626, 2040.2198108412617, 1577.3703890235254, 3294.662968271519, 1942.6905762804918, 6615.079410811193, 1237.1725508859545, 1773.6590996011194, 1389.956523293979, 888.3238641987166, 1403.3102446394255, 1078.6967111910867, 2357.799860520451, 1845.8782610583164, 3745.7268396081367, 1239.379193190528, 1079.3974293332828, 2845.6484498914456, 1793.7891189218792, 1649.8992753770483, 1325.7756477420637, 1210.5520830388834, 1336.9574904837102, 1189.699372293363, 1101.428695126915, 6813.3658834337975, 5659.668474608677, 3534.9833155569686, 2421.833818753619, 2407.2825818772108, 2292.3485500589354, 1730.218869991919, 1575.5626609694211, 1549.5121502724635, 1237.1435392354115, 1135.034417605753, 1097.8514839183965, 904.3204308198054, 892.6756087401246, 827.0373174481032, 817.1027995706204, 794.6149846803023, 788.5467566664856, 714.282728210205, 712.2035863896434, 667.8356574425997, 605.4501870858386, 574.9189562476733, 565.0041139824993, 538.3113579730099, 515.5133477616007, 500.1054847154186, 447.8584023428326, 438.1476544991493, 402.0109891210516, 1194.7888035582262, 2975.828562435078, 4991.6369583021815, 1612.628310062233, 1771.1866993161266, 1519.0707094435645, 16654.47190082693, 1502.9261965997334, 1279.3694541284246, 4958.484000191314, 899.9207203657588, 1417.3884268301185, 2448.149149092467, 5535.5929097699145, 2169.427629621987, 1016.2023714023364, 1121.8047153411007, 948.3104854666109, 955.6514756460369, 4794.5120811351535, 3774.7857030814794, 1757.8276477364386, 1565.0441600225713, 1512.6793781826998, 1236.8286607403643, 1206.259115890785, 1151.9298302408429, 1042.56133520754, 996.6437044020837, 995.0614814167428, 908.0496156552118, 904.8996290429417, 886.2646540387693, 852.5462301022452, 713.187549022784, 674.4741858698501, 641.7773925165886, 573.1380797863551, 563.3506323712985, 549.5284701967341, 541.5921898334748, 541.2128624096122, 510.4891254230988, 503.99435079970215, 496.21290862981675, 492.8341872733115, 471.72586210134864, 463.36438430701025, 457.80943721577734, 3472.041194285356, 941.4956498909348, 875.645455104528, 2085.0658174483888, 1365.2321935369564, 1332.693099484159, 632.4941152412125, 2191.020304137744, 772.4180649407915, 956.4102012112019, 859.5340996120709, 1505.7900784268122, 1375.3905388775675, 1077.8773644255875, 5389.7906996965075, 2024.3052552936917, 1937.3140633382302, 973.2134523859517, 1014.7542661647992, 971.0498401340936, 916.0599156277018, 2747.379330450791, 2262.6045056574426, 1946.1058402457836, 1922.5940925474085, 1741.6836969477556, 1408.5313725201815, 1310.5198565767782, 1205.3463705949468, 1076.66090817454, 1024.3984616024609, 986.068008774192, 777.3605321954775, 776.1928134734458, 738.9465320090849, 731.8311106013977, 729.7373943638976, 697.8111524758375, 684.0392196871186, 683.0880035645781, 672.5101989314816, 1194.5371380642957, 633.3917361135163, 632.9650212700393, 619.1128006710495, 604.8723507672667, 593.6271394150303, 576.8034120602648, 575.8006150225788, 546.0982997309837, 518.259244925185, 1453.6038283793077, 6543.167866949158, 1206.0110896167341, 829.1946627426784, 955.1771594023468, 3598.786954035096, 783.607141137747, 833.8128130146589, 1758.5666680143736, 1630.8164099024932, 4414.204594519601, 823.1830843561164, 3965.6894375220922, 858.0555000227798, 1180.6121208965915, 973.3608044323638, 964.6267029979464, 782.4172918013458, 2745.8930122115994, 1820.5643931913933, 1564.0910142112077, 1401.870720425415, 1306.0152806977262, 1158.1480014219946, 1139.538520955258, 1077.1929979334682, 948.93317720226, 939.7626193401228, 917.4042898556087, 888.9957381239748, 879.838466169206, 879.7741009765366, 865.3366600829986, 854.7874908367542, 821.3069513363911, 819.0752894218067, 799.9638557296723, 790.958392469456, 726.9564714425646, 713.345403400963, 674.3219410009666, 669.941720257728, 658.1627841354241, 648.0236783329377, 607.3590093836754, 578.9817404060444, 565.2934976515218, 558.0374337479861, 1659.2205458367023, 943.3749040510853, 1000.4871557991596, 1709.2471214733484, 1533.3472128330372, 1366.0042754484293, 874.9934503956795, 818.7174697651907, 1283.473700968951, 6595.159564474945, 930.4569792644228, 925.5657539405671, 1085.6767114369886, 1032.8359583057197, 912.0055534566591, 1777.659910814659, 1175.7087950489563, 1001.4274381039122, 882.6163323791485, 3596.933648778396, 1460.9077683086002, 1143.2007239483341, 1122.2674700672417, 1026.044027067911, 1023.8302093581739, 1015.2630746046104, 976.0685167459797, 860.0347769385335, 842.0292512385332, 806.1376989479651, 769.4045822817403, 723.5401340605071, 712.9873067562453, 675.7116871339011, 639.9387452892219, 637.8418129726127, 616.0168636371474, 607.5012713691046, 593.0081621874671, 571.1250315270681, 491.3379435072916, 483.6873867873181, 483.14765437048135, 481.0188347149598, 457.68833251389486, 1002.1160815940106, 452.0690515569666, 448.4379723183889, 433.24297576039623, 3398.0451021248236, 1425.4829212013267, 860.7720540336488, 780.9184730710911, 2217.562642457993, 859.5255727281309, 8440.57902830409, 1206.526260763383, 1045.473662233469, 1372.2145465305932, 1944.9614412988021, 1033.59568076293, 1413.9183765899988, 5823.940380084369, 2920.6318367773115, 934.8615018816944, 1011.9845334211559, 1252.338225561226, 964.4568206925221, 826.1274012432073, 2552.551961215069, 2517.013459706539, 2391.6544538910675, 2330.0424234311145, 1827.9883501835927, 1805.6051793782258, 1762.4305109542074, 1669.3175040644346, 1631.1179749177957, 1622.4917486363627, 1575.5562096643544, 1389.0748707283394, 950.3600053874302, 854.657675197102, 793.0668486444924, 783.8886934376011, 774.2645033750599, 763.8966082191672, 758.2654024832243, 743.9819988160256, 726.7845007585811, 691.5505074342038, 637.6471637621913, 628.3202675366297, 612.4998942543225, 594.840803444716, 574.5839830517614, 561.2751435874488, 484.12642052272025, 420.12722531668925, 1777.9899130692147, 702.3246644361146, 748.4106669784169, 1399.6664106465937, 1461.2840871173776, 957.217650142776, 833.8641073744793, 680.5077885170981, 904.6884827735779, 711.8476027044197], \"Total\": [22441.0, 67721.0, 22906.0, 60523.0, 16032.0, 14333.0, 12586.0, 30132.0, 93738.0, 10374.0, 10003.0, 8461.0, 13750.0, 7937.0, 20870.0, 6814.0, 11263.0, 5660.0, 8713.0, 28737.0, 5942.0, 10653.0, 13182.0, 6023.0, 4795.0, 10421.0, 6522.0, 4916.0, 17983.0, 4770.0, 22441.31308168194, 14333.946733641365, 4300.139106070583, 3555.4729538097886, 2387.6135175598856, 1679.0970267058685, 1657.7038490011616, 951.0301078759499, 906.976564072836, 895.4299164645677, 815.3542091686077, 787.2975907964591, 652.0937677084919, 555.8880276553618, 539.0521706287273, 537.4472191702822, 534.3463454362872, 437.74294916195976, 425.74608986369606, 387.564034077374, 3298.3964200721657, 382.0438762649126, 377.4389904387947, 355.70365203546334, 310.8520204376685, 287.9626946086622, 284.5675183912346, 277.1072591365129, 250.8341931154187, 249.79527309965178, 2834.519692025241, 1511.5794100072842, 2032.046784122911, 998.7261965972853, 10653.468617724177, 10659.686679057622, 2071.557068202613, 3593.3848478000095, 13182.747343799801, 4362.082910271457, 4915.684579594357, 10884.606709447798, 2373.569265038362, 6343.4283662939915, 3653.441206721188, 2234.897929528759, 1581.529774648911, 60523.70283472903, 67721.04556869919, 13750.545005807511, 4647.697826918954, 16894.98292371359, 16513.469228501064, 15018.464194256509, 17983.135656625884, 8931.349345370298, 20870.976889026817, 93738.07487820828, 13918.224551620051, 7086.774539098737, 6685.455427939798, 30132.50672349402, 16032.197206285316, 2468.8213513049213, 2286.2126545911096, 1716.1296468613589, 1587.5661870894633, 1528.9894672540265, 1251.8150924510105, 1084.5876296905203, 1032.706074150122, 991.0880152033421, 817.4297318122501, 813.6761185758775, 795.6899673039545, 715.7658020946941, 1367.7809957433699, 637.1891624104782, 619.3525807701684, 607.3267162659151, 585.2491197440755, 584.8884213272019, 537.4338770640566, 530.5161634124586, 510.3391705551452, 492.0118274416764, 478.23009570193176, 474.9334774301813, 468.19774218280617, 463.169669311302, 458.2491433256638, 449.62799669837074, 448.3259679046995, 2297.1938110739884, 1953.818464423641, 1332.3597892031364, 2793.96424135363, 3986.662261843451, 2001.6508502157221, 2475.1877872591103, 1135.1217644661276, 3055.724628505041, 2446.675045896176, 7086.774539098737, 3190.484401509947, 2456.068904638998, 10477.284346137292, 8713.267713885727, 15018.464194256509, 10508.976230252669, 60523.70283472903, 5691.2142989016, 6685.455427939798, 2076.583144599039, 16894.98292371359, 10634.35486300964, 2994.6416859899937, 13182.747343799801, 10659.686679057622, 10653.468617724177, 8150.361209404362, 13750.545005807511, 67721.04556869919, 11263.687825833, 16513.469228501064, 8931.349345370298, 10884.606709447798, 5942.8407223592, 3264.7922153769073, 3114.720141623935, 2995.966461138882, 2580.7611672627418, 2163.2323705457966, 2274.994992477642, 1802.6786629152039, 1770.1600311873437, 1385.1745970766558, 1341.3869167115674, 1303.4045931899993, 1167.5635018023495, 1109.0634496568314, 1106.3439817957214, 1043.686146963421, 966.9788424346682, 835.8530946238583, 658.727211826041, 621.9851272498338, 4047.191410102134, 562.0306196322575, 498.2313282950761, 603.4886570265501, 472.62838752624566, 443.51550931882554, 443.1630577453648, 442.1901799904514, 440.35429646339463, 434.6444604062513, 751.2443946724151, 4252.770653435286, 2798.1605206324866, 1769.3510940312235, 3308.1879051459196, 2862.8689954512943, 3062.9164275309936, 4224.077143801503, 3155.9538934033108, 2174.4992413706527, 20870.976889026817, 22906.34739331562, 4875.445923690408, 28737.55443438241, 3479.311059536658, 93738.07487820828, 4463.767129160033, 30132.50672349402, 14253.944149531997, 3692.564726436514, 13918.224551620051, 67721.04556869919, 60523.70283472903, 10374.34981083679, 5117.8960386542385, 3317.7170336556965, 1987.5838921950037, 1974.9012446541033, 1918.64182200982, 1352.6826462411452, 1305.2532002643782, 1588.1679617934137, 963.8531353070085, 780.3398775645995, 719.4721984601247, 679.8723751026506, 661.1706770615135, 658.4958889256809, 654.4418621652485, 644.5933714685374, 640.5976351161622, 601.3324615928348, 559.3983900168098, 553.0291680335826, 549.4270502794468, 471.5966649607144, 456.6614970792917, 449.4293633714144, 421.9522552256932, 397.97486908714956, 396.98651539810817, 376.47586535977223, 365.9492283468396, 994.3492079170785, 471.11547171047397, 5488.589533558049, 16032.197206285316, 6522.058664850721, 1080.360932972198, 4319.828265125599, 3921.750424298235, 3080.362324802749, 1361.685007864364, 1462.3218914291083, 1313.6254182914101, 13918.224551620051, 3499.5304485913693, 67721.04556869919, 2108.5896273208973, 93738.07487820828, 2045.5235345133253, 2661.171470392952, 16513.469228501064, 17983.135656625884, 28737.55443438241, 30132.50672349402, 6792.888570642597, 60523.70283472903, 13182.747343799801, 10884.606709447798, 4860.253456275542, 1374.7628135471762, 1344.9465194329282, 1338.2425298199964, 1329.355412720096, 1318.4353205648154, 1295.9446250648198, 1153.3963602856504, 1119.1116492749259, 1056.703685090864, 1012.5736530657954, 849.2402967562297, 812.9017975902066, 800.8870050369437, 774.6081266273491, 753.1945882685014, 736.4624713378639, 732.4516028468641, 653.2678021012368, 2102.94134459565, 571.8904222007828, 559.0517426417991, 534.4000061893819, 527.0912681936344, 521.1371807945958, 520.2393064707754, 516.7390219573325, 506.439538656039, 504.5816212343946, 497.04001996268346, 3321.8645188870078, 1027.9433094926521, 6305.133410801182, 2243.6227867365906, 4129.509449365231, 3524.897067872273, 2013.3099512837427, 5059.435905021664, 4395.142411744049, 1492.5384307967415, 7536.9765352138675, 2603.0019959439855, 6792.888570642597, 93738.07487820828, 28737.55443438241, 1714.2373567309073, 3269.6019303698486, 22906.34739331562, 17983.135656625884, 2133.802731373838, 67721.04556869919, 16894.98292371359, 11263.687825833, 10508.976230252669, 30132.50672349402, 2047.7919196181897, 2019.489436861236, 1845.0641121557135, 1496.463765309568, 1459.654603224326, 2682.792369235534, 1406.3714467622337, 1265.4206252484294, 1129.8530489857578, 1116.1276772957426, 960.1710552903007, 940.644853611814, 940.38938291854, 926.6498329234124, 860.8166666505944, 841.2079554136478, 701.90236048048, 667.2598347883259, 648.2663114351082, 621.0820564343468, 619.4689452960607, 617.8600191497577, 594.2921112545409, 593.7519170090721, 582.5068557337623, 574.2631693121125, 572.8200286197923, 557.9420078475276, 557.4160336911799, 531.1786684484424, 5607.477759992837, 4553.278572440575, 1020.9506560935994, 4657.3879755828475, 1354.50787593477, 30132.50672349402, 2266.3090656476616, 2096.4801165700374, 1602.1727177630526, 2648.049404160155, 1396.4013281927603, 93738.07487820828, 7106.368068525317, 67721.04556869919, 3047.60875355226, 14253.944149531997, 4695.7190369553955, 28737.55443438241, 3549.804060110991, 16894.98292371359, 3609.0186494721215, 8150.361209404362, 60523.70283472903, 4890.067812215518, 4461.932801478408, 3024.1268894449486, 4916.281346523777, 1804.2754591032144, 1789.2418926658888, 1190.768893598713, 872.635882964042, 775.8137316948786, 706.8611641066888, 701.5710993779608, 700.560754354672, 670.717736518406, 640.4580121655389, 607.2542568997924, 561.5974472661023, 557.9464660413134, 517.9244035139194, 501.10831048657656, 490.1678433025815, 488.4243870869424, 471.3828552214033, 448.23607727885883, 421.5225326892103, 383.31384132455986, 365.4568078471014, 360.3323813832965, 355.8722952737517, 355.7179894065357, 355.2429131302981, 338.93188459342593, 10003.38808031799, 12586.94763530137, 1121.3620193726658, 4362.441913705373, 11263.687825833, 10421.105144315592, 879.516599882293, 2122.7514329330365, 1055.2206912649092, 992.493737429808, 2847.6375036438194, 2356.6981227125725, 20870.976889026817, 1568.7512869267405, 93738.07487820828, 60523.70283472903, 14253.944149531997, 4779.118036841536, 5568.943397141934, 30132.50672349402, 3169.6187768590717, 2712.0278344333246, 7536.9765352138675, 17983.135656625884, 22906.34739331562, 10508.976230252669, 28737.55443438241, 8461.829756362858, 2987.1845598540217, 2636.3329125996456, 2170.110408234288, 2044.9606255523115, 1749.876477564575, 1461.470816345952, 1449.3171535427555, 1362.233513719362, 1306.097729092793, 1115.3744415261913, 1016.6706093079025, 984.8301703453643, 945.7828802000232, 928.3532471324544, 917.7471204530453, 854.2401373542372, 776.8365925467838, 768.7054849925539, 743.3590019345424, 662.2573146333903, 645.3541058868981, 634.8949433601839, 3735.885026710622, 600.432190993052, 585.1009691974701, 524.1189940069868, 522.4911928028033, 495.39578753527644, 495.35331782712257, 1309.0337257299816, 2299.699425718001, 1969.7573978415594, 1754.7748140191102, 4571.344162207386, 60523.70283472903, 2691.676426934352, 1233.1712727457852, 1172.8543081649395, 2679.981881563818, 15018.464194256509, 28737.55443438241, 16894.98292371359, 13750.545005807511, 2987.54554247746, 16513.469228501064, 10659.686679057622, 1500.119929135487, 1441.9723264441448, 1284.0101382200714, 1195.1282752695618, 1139.8996428238718, 1139.4853636911212, 1059.3572637980162, 948.2313551038167, 888.7046184599784, 779.5817549948298, 760.2646163800624, 752.5573720616151, 730.6437790852254, 728.7180661643462, 703.4327209979494, 662.9393723641887, 660.7870401771006, 656.5127446920684, 638.8464881203092, 608.1328236712217, 558.2789217156438, 535.4570445026333, 533.9853265345859, 525.1979483987592, 519.255651138547, 494.2691106995965, 494.1220201016816, 485.6994638795597, 450.75692835878266, 449.10686496556536, 4770.123415760493, 1094.67637449686, 1970.6742750218245, 2753.9092580085635, 2650.908480590844, 1952.8613896229142, 4890.067812215518, 2679.6581400933464, 13750.545005807511, 1759.7882165359351, 3037.0545179311825, 2121.277054735879, 1110.767475403347, 2498.3812100354385, 1662.5354774500315, 8931.349345370298, 6629.625155677127, 60523.70283472903, 3498.6373291861996, 2394.1311194602713, 67721.04556869919, 16894.98292371359, 15018.464194256509, 10477.284346137292, 5853.75891921574, 16513.469228501064, 5485.261453869872, 10634.35486300964, 6814.5176455491255, 5660.820166473426, 3536.135007814863, 2422.9855113090725, 2408.434273801898, 2293.5002420661167, 1731.3705620027813, 1576.7143529223906, 1550.663842985476, 1238.2952318630125, 1136.1861090671525, 1099.0031758105035, 905.4721233524259, 893.8273012706918, 828.1890095198103, 818.2544909218633, 795.7666774060574, 789.6984487583923, 715.4344206765901, 713.3552780611886, 668.9873497883216, 606.6018805793606, 576.0706480687472, 566.1558067112595, 539.4630508494714, 516.6650399830095, 501.25717649712146, 449.0100945996472, 439.2993467690615, 403.16268292955306, 1201.4214518018334, 3323.77194574147, 6023.851717700354, 1939.4225738043704, 2277.6609709716054, 1918.6043228990973, 67721.04556869919, 2250.9153037303604, 1949.3452667383863, 17983.135656625884, 1139.6607927935602, 3205.8532805821483, 12586.94763530137, 93738.07487820828, 28737.55443438241, 3934.8765434217576, 8713.267713885727, 3055.724628505041, 7106.368068525317, 4795.660348122915, 3775.933969899503, 1758.9759152452996, 1566.192427193277, 1513.827645596177, 1237.9769288969094, 1207.4073832910587, 1153.0780983013187, 1043.709602720366, 997.7919720397595, 996.2097489687889, 909.1978836099969, 906.0489531344294, 887.4129218285703, 853.6944973633384, 714.3358163736397, 675.6224535435678, 642.9256601523031, 574.2863479565034, 564.4989276235927, 550.6767378457337, 542.7404571754404, 542.3611301518973, 511.63739248338584, 505.1426185724529, 497.3611762263207, 493.9824547194701, 472.8741300201065, 464.5132283965697, 458.9577057044559, 3533.412873525674, 966.4357259549264, 923.2622385975668, 2383.3737781794994, 1724.0654980085085, 1760.248062922323, 687.6665101587631, 4131.975448302907, 917.6743589244642, 1288.7655259685027, 1122.93981226807, 3008.061394966187, 2617.6454790111884, 1886.0663186315142, 93738.07487820828, 22906.34739331562, 20870.976889026817, 5086.615444631898, 10421.105144315592, 60523.70283472903, 4779.118036841536, 2748.5279218413234, 2263.7530972860145, 1947.2544317061602, 1923.7426842143987, 1742.8322886000349, 1409.6799641343462, 1311.6684479370924, 1206.4949619332465, 1077.809499577456, 1025.5470533321115, 987.2166000437572, 778.5091238704175, 777.3414048162831, 740.0951236362682, 732.9797022404216, 730.8859856135275, 698.9597440671521, 685.1878113005612, 684.236595534205, 673.6625903881281, 1196.638564743558, 634.540327863657, 634.113612705963, 620.2613918723756, 606.0209425173103, 594.7757308968215, 577.9520037229187, 576.9492064829085, 547.2468913003369, 519.4078362747382, 1510.5350354085972, 7937.517146731751, 1434.3735327326258, 907.7112836316958, 1084.154884913598, 8713.267713885727, 907.3143056728619, 1018.0425613704896, 5086.615444631898, 4976.144484595422, 60523.70283472903, 1081.083079389219, 93738.07487820828, 1503.672362337489, 7536.9765352138675, 4589.757352430986, 5059.435905021664, 1251.8842410729114, 2747.0449687016126, 1821.7163497043866, 1565.2429705212141, 1403.0226768320317, 1307.1672367301799, 1159.2999573959653, 1140.6904777342488, 1078.3449545901249, 950.0851335947638, 940.9145759576078, 918.5562460711117, 890.1476950395568, 880.9904226062239, 880.9260997177732, 866.488617085958, 855.9394471725366, 822.4589076367287, 820.2272463948622, 801.115812383424, 792.1103487931667, 728.1084285127951, 714.4973599360544, 675.4738978034139, 671.0936763459333, 659.3147410933643, 649.175635232145, 608.5115747684691, 580.1336968849071, 566.4454540966674, 559.1893905425435, 1670.9179530145987, 955.8093744247576, 1152.6370520143778, 2275.457505433015, 2103.4785434163514, 2009.7048683499133, 1096.7640553540532, 972.3825555654757, 2271.6738203385717, 67721.04556869919, 1282.189193246285, 1351.0794282940385, 2350.380837059746, 2178.813995465428, 1490.7593314590974, 93738.07487820828, 7106.368068525317, 6023.851717700354, 10477.284346137292, 3598.0789337809088, 1462.0530533644987, 1144.3460094577445, 1123.4127558304647, 1027.1893124822489, 1024.9754943923022, 1016.4083598196406, 977.213802523582, 861.1800632123754, 843.1745367582839, 807.2829846404167, 770.549867561743, 724.6854195517884, 714.1325918911498, 676.8569727936185, 641.084030258469, 638.9870996134991, 617.1621490464534, 608.6465571232475, 594.1534487495218, 572.270317186782, 492.48322914990365, 484.8326726986122, 484.29294074302015, 482.1641203813851, 458.8336182123051, 1004.6487802063972, 453.21433744850674, 449.58325851738374, 434.3882614709545, 3618.1900838191063, 1589.7114026314296, 1013.4786139801813, 897.6064001525253, 3430.4310200696414, 1021.8907951061709, 22906.34739331562, 1710.026523326185, 1449.3701172763483, 2260.4337458487703, 4761.228579372639, 1774.69150987007, 3580.4883822717206, 93738.07487820828, 28737.55443438241, 1778.9757757169757, 2775.9942279740158, 16513.469228501064, 5607.477759992837, 1462.4603169579755, 2553.6969710954977, 2518.1584701429138, 2392.7994639090316, 2331.1874334541426, 1829.1333600239627, 1806.7501893927304, 1763.5755209363122, 1670.462514116483, 1632.2629850881306, 1623.6367585254388, 1576.7012195524424, 1390.2198806035578, 951.5050154048994, 855.8026852407058, 794.2118588221709, 785.0337031916588, 775.4095138097562, 765.0416186399486, 759.4104125217551, 745.1270086775447, 727.9295109082517, 692.6955176463861, 638.7921737566298, 629.4652775779109, 613.644904237337, 595.9858135367722, 575.7289930537434, 562.4201532906761, 485.27143053641987, 421.2722352842088, 2276.767109049598, 902.910166437815, 1005.7195227830091, 2987.54554247746, 3609.759718994163, 1830.2576968091998, 1416.8133820428893, 1036.7287622525077, 67721.04556869919, 5485.261453869872], \"Category\": [\"Default\", \"Default\", \"Default\", \"Default\", \"Default\", \"Default\", \"Default\", \"Default\", \"Default\", \"Default\", \"Default\", \"Default\", \"Default\", \"Default\", \"Default\", \"Default\", \"Default\", \"Default\", \"Default\", \"Default\", \"Default\", \"Default\", \"Default\", \"Default\", \"Default\", \"Default\", \"Default\", \"Default\", \"Default\", \"Default\", \"Topic1\", \"Topic1\", \"Topic1\", \"Topic1\", \"Topic1\", \"Topic1\", \"Topic1\", \"Topic1\", \"Topic1\", \"Topic1\", \"Topic1\", \"Topic1\", \"Topic1\", \"Topic1\", \"Topic1\", \"Topic1\", \"Topic1\", \"Topic1\", \"Topic1\", \"Topic1\", \"Topic1\", \"Topic1\", \"Topic1\", \"Topic1\", \"Topic1\", \"Topic1\", \"Topic1\", \"Topic1\", \"Topic1\", \"Topic1\", \"Topic1\", \"Topic1\", \"Topic1\", \"Topic1\", \"Topic1\", \"Topic1\", \"Topic1\", \"Topic1\", \"Topic1\", \"Topic1\", \"Topic1\", \"Topic1\", \"Topic1\", \"Topic1\", \"Topic1\", \"Topic1\", \"Topic1\", \"Topic1\", \"Topic1\", \"Topic1\", \"Topic1\", \"Topic1\", \"Topic1\", \"Topic1\", \"Topic1\", \"Topic1\", \"Topic1\", \"Topic1\", \"Topic1\", \"Topic1\", \"Topic1\", \"Topic1\", \"Topic1\", \"Topic2\", \"Topic2\", \"Topic2\", \"Topic2\", \"Topic2\", \"Topic2\", \"Topic2\", \"Topic2\", \"Topic2\", \"Topic2\", \"Topic2\", \"Topic2\", \"Topic2\", \"Topic2\", \"Topic2\", \"Topic2\", \"Topic2\", \"Topic2\", \"Topic2\", \"Topic2\", \"Topic2\", \"Topic2\", \"Topic2\", \"Topic2\", \"Topic2\", \"Topic2\", \"Topic2\", \"Topic2\", \"Topic2\", \"Topic2\", \"Topic2\", \"Topic2\", \"Topic2\", \"Topic2\", \"Topic2\", \"Topic2\", \"Topic2\", \"Topic2\", \"Topic2\", \"Topic2\", \"Topic2\", \"Topic2\", \"Topic2\", \"Topic2\", \"Topic2\", \"Topic2\", \"Topic2\", \"Topic2\", \"Topic2\", \"Topic2\", \"Topic2\", \"Topic2\", \"Topic2\", \"Topic2\", \"Topic2\", \"Topic2\", \"Topic2\", \"Topic2\", \"Topic2\", \"Topic2\", \"Topic2\", \"Topic2\", \"Topic2\", \"Topic2\", \"Topic3\", \"Topic3\", \"Topic3\", \"Topic3\", \"Topic3\", \"Topic3\", \"Topic3\", \"Topic3\", \"Topic3\", \"Topic3\", \"Topic3\", \"Topic3\", \"Topic3\", \"Topic3\", \"Topic3\", \"Topic3\", \"Topic3\", \"Topic3\", \"Topic3\", \"Topic3\", \"Topic3\", \"Topic3\", \"Topic3\", \"Topic3\", \"Topic3\", \"Topic3\", \"Topic3\", \"Topic3\", \"Topic3\", \"Topic3\", \"Topic3\", \"Topic3\", \"Topic3\", \"Topic3\", \"Topic3\", \"Topic3\", \"Topic3\", \"Topic3\", \"Topic3\", \"Topic3\", \"Topic3\", \"Topic3\", \"Topic3\", \"Topic3\", \"Topic3\", \"Topic3\", \"Topic3\", \"Topic3\", \"Topic3\", \"Topic3\", \"Topic3\", \"Topic3\", \"Topic3\", \"Topic4\", \"Topic4\", \"Topic4\", \"Topic4\", \"Topic4\", \"Topic4\", \"Topic4\", \"Topic4\", \"Topic4\", \"Topic4\", \"Topic4\", \"Topic4\", \"Topic4\", \"Topic4\", \"Topic4\", \"Topic4\", \"Topic4\", \"Topic4\", \"Topic4\", \"Topic4\", \"Topic4\", \"Topic4\", \"Topic4\", \"Topic4\", \"Topic4\", \"Topic4\", \"Topic4\", \"Topic4\", \"Topic4\", \"Topic4\", \"Topic4\", \"Topic4\", \"Topic4\", \"Topic4\", \"Topic4\", \"Topic4\", \"Topic4\", \"Topic4\", \"Topic4\", \"Topic4\", \"Topic4\", \"Topic4\", \"Topic4\", \"Topic4\", \"Topic4\", \"Topic4\", \"Topic4\", \"Topic4\", \"Topic4\", \"Topic4\", \"Topic4\", \"Topic4\", \"Topic4\", \"Topic4\", \"Topic4\", \"Topic4\", \"Topic4\", \"Topic5\", \"Topic5\", \"Topic5\", \"Topic5\", \"Topic5\", \"Topic5\", \"Topic5\", \"Topic5\", \"Topic5\", \"Topic5\", \"Topic5\", \"Topic5\", \"Topic5\", \"Topic5\", \"Topic5\", \"Topic5\", \"Topic5\", \"Topic5\", \"Topic5\", \"Topic5\", \"Topic5\", \"Topic5\", \"Topic5\", \"Topic5\", \"Topic5\", \"Topic5\", \"Topic5\", \"Topic5\", \"Topic5\", \"Topic5\", \"Topic5\", \"Topic5\", \"Topic5\", \"Topic5\", \"Topic5\", \"Topic5\", \"Topic5\", \"Topic5\", \"Topic5\", \"Topic5\", \"Topic5\", \"Topic5\", \"Topic5\", \"Topic5\", \"Topic5\", \"Topic5\", \"Topic5\", \"Topic5\", \"Topic5\", \"Topic5\", \"Topic5\", \"Topic5\", \"Topic5\", \"Topic5\", \"Topic5\", \"Topic6\", \"Topic6\", \"Topic6\", \"Topic6\", \"Topic6\", \"Topic6\", \"Topic6\", \"Topic6\", \"Topic6\", \"Topic6\", \"Topic6\", \"Topic6\", \"Topic6\", \"Topic6\", \"Topic6\", \"Topic6\", \"Topic6\", \"Topic6\", \"Topic6\", \"Topic6\", \"Topic6\", \"Topic6\", \"Topic6\", \"Topic6\", \"Topic6\", \"Topic6\", \"Topic6\", \"Topic6\", \"Topic6\", \"Topic6\", \"Topic6\", \"Topic6\", \"Topic6\", \"Topic6\", \"Topic6\", \"Topic6\", \"Topic6\", \"Topic6\", \"Topic6\", \"Topic6\", \"Topic6\", \"Topic6\", \"Topic6\", \"Topic6\", \"Topic6\", \"Topic6\", \"Topic6\", \"Topic6\", \"Topic6\", \"Topic6\", \"Topic6\", \"Topic6\", \"Topic6\", \"Topic6\", \"Topic7\", \"Topic7\", \"Topic7\", \"Topic7\", \"Topic7\", \"Topic7\", \"Topic7\", \"Topic7\", \"Topic7\", \"Topic7\", \"Topic7\", \"Topic7\", \"Topic7\", \"Topic7\", \"Topic7\", \"Topic7\", \"Topic7\", \"Topic7\", \"Topic7\", \"Topic7\", \"Topic7\", \"Topic7\", \"Topic7\", \"Topic7\", \"Topic7\", \"Topic7\", \"Topic7\", \"Topic7\", \"Topic7\", \"Topic7\", \"Topic7\", \"Topic7\", \"Topic7\", \"Topic7\", \"Topic7\", \"Topic7\", \"Topic7\", \"Topic7\", \"Topic7\", \"Topic7\", \"Topic7\", \"Topic7\", \"Topic7\", \"Topic7\", \"Topic7\", \"Topic7\", \"Topic7\", \"Topic7\", \"Topic7\", \"Topic7\", \"Topic7\", \"Topic7\", \"Topic7\", \"Topic7\", \"Topic7\", \"Topic7\", \"Topic7\", \"Topic8\", \"Topic8\", \"Topic8\", \"Topic8\", \"Topic8\", \"Topic8\", \"Topic8\", \"Topic8\", \"Topic8\", \"Topic8\", \"Topic8\", \"Topic8\", \"Topic8\", \"Topic8\", \"Topic8\", \"Topic8\", \"Topic8\", \"Topic8\", \"Topic8\", \"Topic8\", \"Topic8\", \"Topic8\", \"Topic8\", \"Topic8\", \"Topic8\", \"Topic8\", \"Topic8\", \"Topic8\", \"Topic8\", \"Topic8\", \"Topic8\", \"Topic8\", \"Topic8\", \"Topic8\", \"Topic8\", \"Topic8\", \"Topic8\", \"Topic8\", \"Topic8\", \"Topic8\", \"Topic8\", \"Topic8\", \"Topic8\", \"Topic8\", \"Topic8\", \"Topic8\", \"Topic8\", \"Topic9\", \"Topic9\", \"Topic9\", \"Topic9\", \"Topic9\", \"Topic9\", \"Topic9\", \"Topic9\", \"Topic9\", \"Topic9\", \"Topic9\", \"Topic9\", \"Topic9\", \"Topic9\", \"Topic9\", \"Topic9\", \"Topic9\", \"Topic9\", \"Topic9\", \"Topic9\", \"Topic9\", \"Topic9\", \"Topic9\", \"Topic9\", \"Topic9\", \"Topic9\", \"Topic9\", \"Topic9\", \"Topic9\", \"Topic9\", \"Topic9\", \"Topic9\", \"Topic9\", \"Topic9\", \"Topic9\", \"Topic9\", \"Topic9\", \"Topic9\", \"Topic9\", \"Topic9\", \"Topic9\", \"Topic9\", \"Topic9\", \"Topic9\", \"Topic9\", \"Topic9\", \"Topic9\", \"Topic9\", \"Topic9\", \"Topic9\", \"Topic9\", \"Topic9\", \"Topic9\", \"Topic9\", \"Topic9\", \"Topic9\", \"Topic9\", \"Topic9\", \"Topic10\", \"Topic10\", \"Topic10\", \"Topic10\", \"Topic10\", \"Topic10\", \"Topic10\", \"Topic10\", \"Topic10\", \"Topic10\", \"Topic10\", \"Topic10\", \"Topic10\", \"Topic10\", \"Topic10\", \"Topic10\", \"Topic10\", \"Topic10\", \"Topic10\", \"Topic10\", \"Topic10\", \"Topic10\", \"Topic10\", \"Topic10\", \"Topic10\", \"Topic10\", \"Topic10\", \"Topic10\", \"Topic10\", \"Topic10\", \"Topic10\", \"Topic10\", \"Topic10\", \"Topic10\", \"Topic10\", \"Topic10\", \"Topic10\", \"Topic10\", \"Topic10\", \"Topic10\", \"Topic10\", \"Topic10\", \"Topic10\", \"Topic10\", \"Topic10\", \"Topic10\", \"Topic10\", \"Topic10\", \"Topic10\", \"Topic11\", \"Topic11\", \"Topic11\", \"Topic11\", \"Topic11\", \"Topic11\", \"Topic11\", \"Topic11\", \"Topic11\", \"Topic11\", \"Topic11\", \"Topic11\", \"Topic11\", \"Topic11\", \"Topic11\", \"Topic11\", \"Topic11\", \"Topic11\", \"Topic11\", \"Topic11\", \"Topic11\", \"Topic11\", \"Topic11\", \"Topic11\", \"Topic11\", \"Topic11\", \"Topic11\", \"Topic11\", \"Topic11\", \"Topic11\", \"Topic11\", \"Topic11\", \"Topic11\", \"Topic11\", \"Topic11\", \"Topic11\", \"Topic11\", \"Topic11\", \"Topic11\", \"Topic11\", \"Topic11\", \"Topic11\", \"Topic11\", \"Topic11\", \"Topic11\", \"Topic11\", \"Topic11\", \"Topic11\", \"Topic11\", \"Topic11\", \"Topic11\", \"Topic12\", \"Topic12\", \"Topic12\", \"Topic12\", \"Topic12\", \"Topic12\", \"Topic12\", \"Topic12\", \"Topic12\", \"Topic12\", \"Topic12\", \"Topic12\", \"Topic12\", \"Topic12\", \"Topic12\", \"Topic12\", \"Topic12\", \"Topic12\", \"Topic12\", \"Topic12\", \"Topic12\", \"Topic12\", \"Topic12\", \"Topic12\", \"Topic12\", \"Topic12\", \"Topic12\", \"Topic12\", \"Topic12\", \"Topic12\", \"Topic12\", \"Topic12\", \"Topic12\", \"Topic12\", \"Topic12\", \"Topic12\", \"Topic12\", \"Topic12\", \"Topic12\", \"Topic12\", \"Topic12\", \"Topic12\", \"Topic12\", \"Topic12\", \"Topic12\", \"Topic12\", \"Topic12\", \"Topic12\", \"Topic13\", \"Topic13\", \"Topic13\", \"Topic13\", \"Topic13\", \"Topic13\", \"Topic13\", \"Topic13\", \"Topic13\", \"Topic13\", \"Topic13\", \"Topic13\", \"Topic13\", \"Topic13\", \"Topic13\", \"Topic13\", \"Topic13\", \"Topic13\", \"Topic13\", \"Topic13\", \"Topic13\", \"Topic13\", \"Topic13\", \"Topic13\", \"Topic13\", \"Topic13\", \"Topic13\", \"Topic13\", \"Topic13\", \"Topic13\", \"Topic13\", \"Topic13\", \"Topic13\", \"Topic13\", \"Topic13\", \"Topic13\", \"Topic13\", \"Topic13\", \"Topic13\", \"Topic13\", \"Topic13\", \"Topic13\", \"Topic13\", \"Topic13\", \"Topic13\", \"Topic13\", \"Topic13\", \"Topic13\", \"Topic13\", \"Topic14\", \"Topic14\", \"Topic14\", \"Topic14\", \"Topic14\", \"Topic14\", \"Topic14\", \"Topic14\", \"Topic14\", \"Topic14\", \"Topic14\", \"Topic14\", \"Topic14\", \"Topic14\", \"Topic14\", \"Topic14\", \"Topic14\", \"Topic14\", \"Topic14\", \"Topic14\", \"Topic14\", \"Topic14\", \"Topic14\", \"Topic14\", \"Topic14\", \"Topic14\", \"Topic14\", \"Topic14\", \"Topic14\", \"Topic14\", \"Topic14\", \"Topic14\", \"Topic14\", \"Topic14\", \"Topic14\", \"Topic14\", \"Topic14\", \"Topic14\", \"Topic14\", \"Topic14\", \"Topic14\", \"Topic14\", \"Topic14\", \"Topic14\", \"Topic14\", \"Topic14\", \"Topic14\", \"Topic14\", \"Topic14\", \"Topic14\", \"Topic15\", \"Topic15\", \"Topic15\", \"Topic15\", \"Topic15\", \"Topic15\", \"Topic15\", \"Topic15\", \"Topic15\", \"Topic15\", \"Topic15\", \"Topic15\", \"Topic15\", \"Topic15\", \"Topic15\", \"Topic15\", \"Topic15\", \"Topic15\", \"Topic15\", \"Topic15\", \"Topic15\", \"Topic15\", \"Topic15\", \"Topic15\", \"Topic15\", \"Topic15\", \"Topic15\", \"Topic15\", \"Topic15\", \"Topic15\", \"Topic15\", \"Topic15\", \"Topic15\", \"Topic15\", \"Topic15\", \"Topic15\", \"Topic15\", \"Topic15\", \"Topic15\", \"Topic15\"], \"logprob\": [30.0, 29.0, 28.0, 27.0, 26.0, 25.0, 24.0, 23.0, 22.0, 21.0, 20.0, 19.0, 18.0, 17.0, 16.0, 15.0, 14.0, 13.0, 12.0, 11.0, 10.0, 9.0, 8.0, 7.0, 6.0, 5.0, 4.0, 3.0, 2.0, 1.0, -2.5248, -2.9731, -4.1773, -4.3675, -4.7658, -5.1181, -5.1309, -5.6871, -5.7346, -5.7474, -5.8412, -5.8763, -6.065, -6.2249, -6.2557, -6.2587, -6.2645, -6.4644, -6.4923, -6.5865, -4.4452, -6.6009, -6.6131, -6.6726, -6.8078, -6.8846, -6.8965, -6.9232, -7.0232, -7.0274, -4.6006, -5.3074, -5.1014, -5.7495, -3.6273, -3.7471, -5.1619, -4.6973, -3.6058, -4.6268, -4.5518, -3.9258, -5.1532, -4.5275, -4.921, -5.2845, -5.5219, -3.5737, -3.5393, -4.3719, -4.9491, -4.2995, -4.342, -4.4672, -4.5812, -4.8163, -4.6002, -4.3328, -4.7847, -4.9111, -4.9407, -4.8116, -4.9052, -4.4849, -4.5618, -4.8488, -4.9267, -4.9644, -5.1645, -5.3081, -5.3571, -5.3983, -5.5912, -5.5958, -5.6182, -5.7242, -5.0768, -5.8407, -5.8692, -5.8888, -5.9259, -5.9265, -6.0113, -6.0243, -6.0632, -6.0998, -6.1283, -6.1352, -6.1495, -6.1604, -6.1711, -6.1901, -6.193, -4.5592, -4.8368, -5.1907, -4.5233, -4.35, -4.9393, -4.7917, -5.4304, -4.6433, -4.8252, -4.0347, -4.6495, -4.8741, -3.8554, -4.007, -3.6488, -3.9023, -2.7519, -4.3524, -4.323, -5.0329, -3.8731, -4.1289, -4.8721, -4.3688, -4.4858, -4.5033, -4.6208, -4.5836, -4.3516, -4.7104, -4.7417, -4.7915, -4.8373, -3.5298, -4.1289, -4.176, -4.2148, -4.3641, -4.5407, -4.4903, -4.7231, -4.7413, -4.9867, -5.0189, -5.0476, -5.1578, -5.2093, -5.2117, -5.2701, -5.3465, -5.4924, -5.7309, -5.7884, -3.9157, -5.89, -6.0107, -5.8191, -6.0636, -6.1274, -6.1282, -6.1304, -6.1345, -6.1476, -5.6014, -3.988, -4.4004, -4.8656, -4.31, -4.4709, -4.4199, -4.3279, -4.5611, -4.8556, -3.2528, -3.3379, -4.3705, -3.3089, -4.6281, -2.9065, -4.4964, -3.546, -4.086, -4.6406, -4.226, -3.8332, -4.0112, -2.971, -3.6777, -4.1113, -4.6239, -4.6303, -4.6592, -5.009, -5.0447, -4.8486, -5.3482, -5.5597, -5.6411, -5.6978, -5.7257, -5.7298, -5.7359, -5.7511, -5.7574, -5.8207, -5.8932, -5.9046, -5.9112, -6.0643, -6.0966, -6.1126, -6.1758, -6.2345, -6.237, -6.2902, -6.3186, -5.3248, -6.0696, -3.678, -2.7162, -3.5726, -5.2826, -4.0028, -4.1252, -4.3478, -5.137, -5.0769, -5.2158, -3.6209, -4.6535, -2.7873, -5.0247, -2.7531, -5.095, -4.9816, -4.1612, -4.3031, -4.2511, -4.3157, -4.7905, -4.2564, -4.6608, -4.7213, -3.6931, -4.9565, -4.9785, -4.9835, -4.9901, -4.9984, -5.0156, -5.1323, -5.1625, -5.2199, -5.2626, -5.4387, -5.4825, -5.4974, -5.5309, -5.5589, -5.5814, -5.5869, -5.7015, -4.5325, -5.8348, -5.8575, -5.9027, -5.9165, -5.9279, -5.9296, -5.9364, -5.9566, -5.9603, -5.9754, -4.0854, -5.2844, -3.6781, -4.664, -4.1598, -4.2969, -4.7909, -4.0749, -4.2428, -5.1063, -3.9051, -4.7222, -4.0646, -2.5849, -3.401, -5.1069, -4.7847, -3.8301, -4.0387, -5.0196, -3.7793, -4.4473, -4.7707, -4.8674, -4.7617, -4.4956, -4.5095, -4.5999, -4.8095, -4.8344, -4.2257, -4.8716, -4.9773, -5.0907, -5.103, -5.2536, -5.2742, -5.2745, -5.2892, -5.363, -5.3861, -5.5674, -5.6181, -5.647, -5.6899, -5.6926, -5.6952, -5.7341, -5.735, -5.7542, -5.7685, -5.771, -5.7974, -5.7983, -5.8466, -3.6767, -3.9325, -5.2745, -4.0458, -5.0751, -2.6079, -4.7515, -4.8153, -5.0292, -4.6893, -5.1634, -2.5384, -4.1538, -3.2559, -4.8733, -4.3257, -4.7358, -4.2655, -4.8916, -4.4474, -4.9311, -4.7449, -4.2892, -4.9289, -3.5385, -3.9276, -3.4418, -4.4443, -4.4527, -4.8602, -5.1714, -5.2892, -5.3824, -5.3899, -5.3914, -5.435, -5.4812, -5.5345, -5.6129, -5.6194, -5.694, -5.7271, -5.7492, -5.7528, -5.7884, -5.8388, -5.9004, -5.9957, -6.0436, -6.0578, -6.0703, -6.0707, -6.072, -6.1192, -2.7949, -2.7176, -5.0157, -3.9594, -3.179, -3.3191, -5.3352, -4.698, -5.2179, -5.2849, -4.5844, -4.7416, -3.3554, -5.0145, -2.6004, -2.9584, -3.8743, -4.5402, -4.5198, -3.8814, -5.1062, -5.1344, -5.019, -4.9703, -5.0301, -5.1099, -5.0969, -2.8162, -3.8576, -3.9826, -4.1773, -4.2368, -4.3927, -4.5729, -4.5813, -4.6433, -4.6854, -4.8434, -4.9362, -4.968, -5.0085, -5.0272, -5.0387, -5.1105, -5.2056, -5.2161, -5.2497, -5.3654, -5.3913, -5.4077, -3.6355, -5.4636, -5.4895, -5.5998, -5.6029, -5.6563, -5.6564, -4.8107, -4.3668, -4.512, -4.6186, -3.9026, -2.4475, -4.4871, -5.1158, -5.1474, -4.9256, -4.6042, -4.4736, -4.6002, -4.785, -5.0052, -4.9085, -5.0127, -4.543, -4.5825, -4.6987, -4.7705, -4.8178, -4.8182, -4.8912, -5.0021, -5.067, -5.1982, -5.2234, -5.2336, -5.2632, -5.2658, -5.3012, -5.3606, -5.3638, -5.3703, -5.3976, -5.447, -5.5327, -5.5745, -5.5773, -5.5939, -5.6053, -5.6548, -5.6551, -5.6723, -5.7471, -5.7508, -3.4141, -4.8898, -4.4247, -4.188, -4.2347, -4.492, -3.7554, -4.2837, -3.0584, -4.7349, -4.3747, -4.6185, -5.0662, -4.6089, -4.872, -4.09, -4.3348, -3.6271, -4.7331, -4.8713, -3.902, -4.3634, -4.447, -4.6658, -4.7567, -4.6574, -4.774, -4.8511, -3.0057, -3.1912, -3.6619, -4.0401, -4.0461, -4.095, -4.3763, -4.47, -4.4866, -4.7118, -4.7979, -4.8312, -5.0252, -5.0381, -5.1145, -5.1266, -5.1545, -5.1621, -5.2611, -5.264, -5.3283, -5.4264, -5.4781, -5.4955, -5.5439, -5.5872, -5.6175, -5.7279, -5.7498, -5.8359, -4.7466, -3.8341, -3.3168, -4.4467, -4.3529, -4.5065, -2.1119, -4.5172, -4.6782, -3.3235, -5.03, -4.5758, -4.0293, -3.2134, -4.1501, -4.9085, -4.8096, -4.9777, -4.9699, -3.3163, -3.5555, -4.3197, -4.4359, -4.4699, -4.6713, -4.6963, -4.7424, -4.8421, -4.8872, -4.8888, -4.9803, -4.9837, -5.0045, -5.0433, -5.2218, -5.2776, -5.3273, -5.4404, -5.4577, -5.4825, -5.4971, -5.4978, -5.5562, -5.569, -5.5846, -5.5914, -5.6352, -5.653, -5.6651, -3.6391, -4.9441, -5.0166, -4.149, -4.5725, -4.5966, -5.3419, -4.0994, -5.142, -4.9284, -5.0352, -4.4745, -4.5651, -4.8088, -3.1993, -4.1786, -4.2225, -4.911, -4.8692, -4.9132, -4.9715, -3.7999, -3.9941, -4.1448, -4.1569, -4.2557, -4.468, -4.5402, -4.6238, -4.7367, -4.7865, -4.8246, -5.0624, -5.0639, -5.1131, -5.1228, -5.1257, -5.1704, -5.1903, -5.1917, -5.2073, -4.6328, -5.2673, -5.2679, -5.2901, -5.3133, -5.3321, -5.3608, -5.3626, -5.4155, -5.4679, -4.4365, -2.9322, -4.6233, -4.9979, -4.8564, -3.53, -5.0544, -4.9923, -4.2461, -4.3215, -3.3258, -5.0052, -3.4329, -4.9637, -4.6446, -4.8376, -4.8466, -5.056, -3.7232, -4.1342, -4.286, -4.3955, -4.4663, -4.5865, -4.6027, -4.6589, -4.7857, -4.7954, -4.8195, -4.851, -4.8613, -4.8614, -4.8779, -4.8902, -4.9302, -4.9329, -4.9565, -4.9678, -5.0522, -5.0711, -5.1274, -5.1339, -5.1516, -5.1671, -5.2319, -5.2798, -5.3037, -5.3166, -4.227, -4.7916, -4.7328, -4.1972, -4.3058, -4.4214, -4.8668, -4.9333, -4.4837, -2.847, -4.8054, -4.8107, -4.6511, -4.701, -4.8254, -4.158, -4.5714, -4.7319, -4.8582, -3.4407, -4.3417, -4.587, -4.6055, -4.6951, -4.6973, -4.7057, -4.745, -4.8716, -4.8927, -4.9363, -4.9829, -5.0444, -5.0591, -5.1128, -5.1672, -5.1705, -5.2053, -5.2192, -5.2433, -5.2809, -5.4314, -5.4471, -5.4482, -5.4527, -5.5024, -4.7187, -5.5147, -5.5228, -5.5573, -3.4976, -4.3663, -4.8707, -4.9681, -3.9244, -4.8722, -2.5878, -4.5331, -4.6763, -4.4044, -4.0556, -4.6878, -4.3744, -2.9588, -3.649, -4.7882, -4.7089, -4.4958, -4.757, -4.9118, -3.273, -3.287, -3.3381, -3.3642, -3.6068, -3.6191, -3.6434, -3.6976, -3.7208, -3.7261, -3.7554, -3.8814, -4.261, -4.3671, -4.4419, -4.4535, -4.4659, -4.4794, -4.4868, -4.5058, -4.5292, -4.5789, -4.66, -4.6747, -4.7003, -4.7295, -4.7642, -4.7876, -4.9355, -5.0772, -3.6346, -4.5634, -4.4998, -3.8738, -3.8307, -4.2538, -4.3917, -4.595, -4.3102, -4.5499], \"loglift\": [30.0, 29.0, 28.0, 27.0, 26.0, 25.0, 24.0, 23.0, 22.0, 21.0, 20.0, 19.0, 18.0, 17.0, 16.0, 15.0, 14.0, 13.0, 12.0, 11.0, 10.0, 9.0, 8.0, 7.0, 6.0, 5.0, 4.0, 3.0, 2.0, 1.0, 2.1494, 2.1493, 2.1491, 2.1491, 2.1489, 2.1487, 2.1487, 2.1482, 2.1481, 2.1481, 2.148, 2.1479, 2.1476, 2.1473, 2.1473, 2.1473, 2.1472, 2.1468, 2.1467, 2.1464, 2.1464, 2.1464, 2.1463, 2.1461, 2.1457, 2.1454, 2.1453, 2.1452, 2.1448, 2.1448, 2.1425, 2.0645, 1.9746, 2.0369, 1.7918, 1.6714, 1.8948, 1.8086, 1.6003, 1.6853, 1.6408, 1.4719, 1.7675, 1.4102, 1.5683, 1.6964, 1.8047, 0.1083, 0.0303, 0.7921, 1.2996, 0.6585, 0.6389, 0.6086, 0.3144, 0.7792, 0.1465, -1.0883, 0.3672, 0.9158, 0.9444, -0.4322, 0.1052, 2.3964, 2.3963, 2.3962, 2.3961, 2.3961, 2.3959, 2.3958, 2.3957, 2.3957, 2.3954, 2.3954, 2.3954, 2.3952, 2.3951, 2.395, 2.395, 2.3949, 2.3949, 2.3949, 2.3947, 2.3947, 2.3946, 2.3945, 2.3944, 2.3944, 2.3944, 2.3943, 2.3943, 2.3943, 2.3943, 2.3941, 2.2785, 2.3074, 2.2343, 2.0521, 2.1518, 2.0871, 2.2279, 2.0248, 2.0651, 1.7921, 1.9754, 2.0123, 1.5805, 1.6132, 1.4269, 1.5305, 0.9301, 1.6938, 1.5621, 2.0214, 1.085, 1.2921, 1.8161, 0.8373, 0.9328, 0.9159, 1.0662, 0.5804, -0.7819, 0.653, 0.2392, 0.804, 0.5604, 2.4731, 2.473, 2.473, 2.4729, 2.4729, 2.4728, 2.4728, 2.4727, 2.4727, 2.4725, 2.4725, 2.4724, 2.4723, 2.4723, 2.4723, 2.4722, 2.4721, 2.4719, 2.4716, 2.4715, 2.4713, 2.4713, 2.471, 2.471, 2.4709, 2.4707, 2.4707, 2.4707, 2.4707, 2.4707, 2.4697, 2.3495, 2.3556, 2.3488, 2.2786, 2.2623, 2.2458, 2.0163, 2.0747, 2.1526, 1.4939, 1.3158, 1.8303, 1.1179, 1.9102, 0.338, 1.7927, 0.8334, 1.0421, 1.8382, 0.9259, -0.2636, -0.3291, 2.4747, 2.4746, 2.4745, 2.4743, 2.4743, 2.4742, 2.474, 2.474, 2.4739, 2.4736, 2.4734, 2.4732, 2.4731, 2.4731, 2.4731, 2.4731, 2.473, 2.473, 2.4729, 2.4728, 2.4728, 2.4727, 2.4724, 2.4723, 2.4723, 2.4721, 2.4719, 2.4719, 2.4718, 2.4717, 2.4659, 2.4681, 2.4044, 2.2942, 2.3373, 2.4251, 2.319, 2.2933, 2.3122, 2.3393, 2.3281, 2.2964, 1.531, 1.8789, 0.7823, 2.0144, 0.4915, 1.9744, 1.8246, 0.8197, 0.5925, 0.1757, 0.0638, 1.0786, -0.5744, 0.5454, 0.6764, 2.5108, 2.5102, 2.5102, 2.5102, 2.5102, 2.5102, 2.5102, 2.5101, 2.5101, 2.51, 2.5099, 2.5097, 2.5097, 2.5096, 2.5096, 2.5096, 2.5095, 2.5095, 2.5093, 2.5092, 2.5091, 2.509, 2.5089, 2.5089, 2.5089, 2.5089, 2.5089, 2.5088, 2.5088, 2.5088, 2.4992, 2.4731, 2.2656, 2.3129, 2.2071, 2.2283, 2.2943, 2.0889, 2.0618, 2.2783, 1.8601, 2.1062, 1.8046, 0.6597, 1.0259, 2.1392, 1.8157, 0.8235, 0.857, 2.0076, -0.2096, 0.5108, 0.5928, 0.5655, -0.3822, 2.5727, 2.5727, 2.5726, 2.5725, 2.5725, 2.5725, 2.5724, 2.5723, 2.5722, 2.5722, 2.5721, 2.572, 2.572, 2.572, 2.5719, 2.5719, 2.5716, 2.5715, 2.5715, 2.5714, 2.5714, 2.5714, 2.5713, 2.5713, 2.5713, 2.5712, 2.5712, 2.5712, 2.5712, 2.5711, 2.3843, 2.3367, 2.4898, 2.2008, 2.4065, 1.7715, 2.2154, 2.2295, 2.2845, 2.122, 2.2878, 0.7062, 1.6703, 0.3138, 1.7974, 0.8023, 1.5026, 0.1614, 1.6266, 0.5107, 1.5705, 0.9421, -0.6072, 1.269, 2.751, 2.7508, 2.7507, 2.7506, 2.7506, 2.7503, 2.7499, 2.7497, 2.7496, 2.7496, 2.7496, 2.7495, 2.7494, 2.7493, 2.7492, 2.7492, 2.749, 2.7489, 2.7489, 2.7489, 2.7488, 2.7486, 2.7485, 2.7482, 2.7481, 2.748, 2.748, 2.748, 2.748, 2.7478, 2.6872, 2.5348, 2.6548, 2.3526, 2.1844, 2.1221, 2.5783, 2.3344, 2.5134, 2.5077, 2.1542, 2.1862, 1.3913, 2.3203, 0.6442, 0.7236, 1.2538, 1.6806, 1.548, 0.498, 1.5252, 1.6529, 0.7463, -0.0747, -0.3765, 0.323, -0.6701, 2.8333, 2.8331, 2.833, 2.8329, 2.8329, 2.8328, 2.8327, 2.8327, 2.8326, 2.8326, 2.8324, 2.8323, 2.8323, 2.8322, 2.8322, 2.8322, 2.8321, 2.832, 2.832, 2.8319, 2.8317, 2.8317, 2.8316, 2.8316, 2.8315, 2.8315, 2.8313, 2.8313, 2.8311, 2.8311, 2.7051, 2.5854, 2.5951, 2.6041, 2.3627, 1.2345, 2.3078, 2.4597, 2.4782, 1.8736, 0.4716, -0.0467, 0.3578, 0.3789, 1.6854, 0.0724, 0.4059, 2.8365, 2.8365, 2.8364, 2.8363, 2.8363, 2.8363, 2.8362, 2.8361, 2.836, 2.8358, 2.8358, 2.8358, 2.8357, 2.8357, 2.8357, 2.8356, 2.8356, 2.8355, 2.8355, 2.8354, 2.8352, 2.8351, 2.8351, 2.8351, 2.8351, 2.835, 2.835, 2.8349, 2.8347, 2.8347, 2.8086, 2.8048, 2.682, 2.584, 2.5755, 2.6238, 2.4424, 2.5157, 2.1056, 2.4849, 2.2995, 2.4146, 2.6138, 2.2605, 2.4047, 1.5055, 1.5587, 0.0549, 1.7995, 2.0407, -0.3323, 0.5946, 0.6287, 0.7701, 1.2613, 0.3235, 1.3089, 0.5698, 2.8603, 2.8603, 2.8601, 2.86, 2.86, 2.86, 2.8598, 2.8597, 2.8597, 2.8595, 2.8595, 2.8594, 2.8592, 2.8592, 2.8591, 2.8591, 2.859, 2.859, 2.8589, 2.8589, 2.8587, 2.8586, 2.8585, 2.8584, 2.8583, 2.8582, 2.8582, 2.8579, 2.8578, 2.8576, 2.8549, 2.7499, 2.6725, 2.6759, 2.609, 2.627, 1.4577, 2.4565, 2.4393, 1.5721, 2.6243, 2.0443, 1.2231, 0.0312, 0.2767, 1.5067, 0.8106, 1.6904, 0.8541, 2.901, 2.9009, 2.9006, 2.9005, 2.9005, 2.9003, 2.9003, 2.9002, 2.9001, 2.9001, 2.9001, 2.9, 2.9, 2.8999, 2.8999, 2.8996, 2.8995, 2.8995, 2.8992, 2.8992, 2.8992, 2.8991, 2.8991, 2.899, 2.899, 2.8989, 2.8989, 2.8988, 2.8988, 2.8987, 2.8837, 2.8751, 2.8483, 2.7675, 2.6679, 2.623, 2.8176, 2.2669, 2.7289, 2.603, 2.6339, 2.2093, 2.2577, 2.3417, 0.0452, 0.4751, 0.5242, 1.2475, 0.5721, -1.2312, 1.2493, 2.974, 2.974, 2.9739, 2.9739, 2.9738, 2.9736, 2.9736, 2.9735, 2.9734, 2.9733, 2.9733, 2.973, 2.973, 2.9729, 2.9729, 2.9729, 2.9728, 2.9728, 2.9728, 2.9728, 2.9727, 2.9727, 2.9726, 2.9726, 2.9726, 2.9725, 2.9725, 2.9725, 2.9724, 2.9722, 2.936, 2.7813, 2.8011, 2.884, 2.8478, 2.0902, 2.8279, 2.7748, 1.9123, 1.8589, 0.3563, 2.7019, -0.1884, 2.4135, 1.1207, 1.4236, 1.3172, 2.5044, 3.0513, 3.0511, 3.051, 3.0509, 3.0509, 3.0508, 3.0507, 3.0507, 3.0505, 3.0505, 3.0505, 3.0505, 3.0504, 3.0504, 3.0504, 3.0504, 3.0503, 3.0503, 3.0503, 3.0503, 3.0502, 3.0501, 3.05, 3.05, 3.05, 3.05, 3.0499, 3.0498, 3.0497, 3.0497, 3.0447, 3.0387, 2.9102, 2.7656, 2.7356, 2.6657, 2.8258, 2.8797, 2.4808, 0.7227, 2.7311, 2.6735, 2.2794, 2.3053, 2.5604, -0.9135, 1.2526, 1.2574, 0.5777, 3.0639, 3.0635, 3.0632, 3.0632, 3.0631, 3.0631, 3.0631, 3.0631, 3.0629, 3.0629, 3.0628, 3.0628, 3.0627, 3.0626, 3.0626, 3.0625, 3.0625, 3.0624, 3.0624, 3.0623, 3.0622, 3.0619, 3.0619, 3.0619, 3.0619, 3.0618, 3.0617, 3.0617, 3.0617, 3.0616, 3.0015, 2.9552, 2.9009, 2.925, 2.628, 2.8912, 2.0659, 2.7155, 2.7376, 2.5651, 2.169, 2.5237, 2.1351, 0.2857, 0.7778, 2.4209, 2.0552, 0.4851, 1.304, 2.4931, 3.5746, 3.5746, 3.5745, 3.5745, 3.5744, 3.5744, 3.5744, 3.5743, 3.5743, 3.5743, 3.5743, 3.5742, 3.5738, 3.5737, 3.5736, 3.5735, 3.5735, 3.5735, 3.5735, 3.5735, 3.5734, 3.5734, 3.5732, 3.5732, 3.5731, 3.5731, 3.573, 3.573, 3.5726, 3.5723, 3.3277, 3.3238, 3.2795, 2.8168, 2.6707, 2.9268, 3.0449, 3.154, -0.7406, 1.5331]}, \"token.table\": {\"Topic\": [11, 6, 1, 12, 2, 1, 7, 13, 1, 3, 6, 11, 13, 14, 6, 2, 8, 11, 12, 15, 9, 5, 8, 8, 7, 14, 4, 6, 4, 2, 4, 5, 6, 7, 10, 12, 1, 4, 5, 3, 4, 1, 2, 1, 5, 13, 2, 15, 8, 1, 5, 6, 7, 8, 9, 12, 13, 2, 9, 7, 1, 4, 7, 8, 10, 11, 12, 13, 14, 2, 4, 8, 11, 13, 1, 11, 13, 10, 6, 1, 2, 5, 10, 5, 5, 7, 8, 1, 11, 1, 2, 4, 5, 11, 14, 3, 3, 4, 2, 11, 9, 1, 2, 5, 6, 10, 12, 13, 1, 8, 11, 4, 13, 11, 14, 5, 1, 11, 5, 6, 13, 1, 3, 7, 11, 15, 12, 2, 4, 10, 12, 12, 12, 5, 11, 14, 2, 12, 11, 3, 4, 5, 2, 1, 4, 5, 14, 15, 3, 12, 3, 6, 11, 2, 15, 2, 12, 3, 4, 6, 7, 8, 9, 12, 1, 5, 11, 4, 5, 1, 6, 9, 12, 15, 5, 3, 7, 4, 10, 13, 13, 12, 5, 12, 3, 3, 5, 3, 5, 5, 8, 14, 10, 10, 6, 3, 1, 1, 2, 3, 4, 5, 6, 7, 8, 9, 11, 12, 13, 14, 11, 15, 1, 12, 2, 2, 7, 13, 9, 6, 13, 12, 13, 4, 5, 12, 1, 12, 1, 2, 3, 4, 5, 6, 7, 9, 10, 12, 13, 14, 9, 7, 9, 6, 12, 3, 3, 8, 10, 6, 15, 9, 9, 1, 15, 3, 5, 9, 10, 11, 12, 3, 15, 3, 2, 3, 7, 13, 10, 3, 4, 5, 5, 2, 1, 10, 12, 15, 3, 4, 5, 3, 3, 13, 11, 1, 1, 8, 14, 11, 12, 9, 8, 10, 6, 10, 15, 3, 4, 10, 13, 3, 10, 12, 14, 1, 3, 6, 8, 10, 1, 3, 8, 12, 13, 9, 6, 3, 6, 4, 14, 4, 5, 4, 10, 14, 10, 1, 2, 3, 6, 8, 9, 11, 12, 13, 14, 1, 9, 12, 3, 11, 12, 2, 8, 8, 2, 10, 8, 4, 1, 4, 4, 6, 10, 9, 9, 2, 9, 15, 3, 11, 8, 7, 11, 7, 9, 11, 3, 5, 11, 15, 1, 11, 14, 10, 14, 6, 7, 9, 11, 13, 14, 4, 5, 5, 3, 5, 6, 11, 6, 3, 4, 5, 11, 5, 13, 12, 3, 2, 4, 15, 15, 15, 9, 1, 8, 1, 3, 7, 10, 12, 10, 6, 8, 1, 11, 13, 14, 15, 1, 2, 3, 5, 6, 7, 8, 9, 10, 11, 12, 14, 1, 1, 5, 7, 12, 6, 1, 2, 3, 5, 6, 8, 9, 10, 11, 12, 13, 7, 13, 1, 2, 3, 5, 7, 8, 9, 11, 13, 8, 2, 5, 7, 8, 13, 14, 15, 1, 3, 5, 6, 7, 8, 9, 10, 11, 14, 5, 12, 12, 5, 8, 9, 11, 10, 5, 9, 11, 1, 2, 3, 5, 6, 9, 4, 6, 7, 12, 1, 1, 8, 15, 5, 9, 11, 12, 15, 7, 9, 2, 3, 4, 5, 7, 10, 11, 12, 14, 9, 9, 10, 12, 10, 2, 3, 3, 14, 1, 14, 7, 11, 7, 14, 8, 12, 12, 7, 3, 6, 11, 14, 7, 9, 5, 13, 5, 9, 4, 10, 9, 13, 10, 14, 14, 15, 6, 8, 3, 6, 13, 2, 10, 4, 13, 6, 12, 14, 2, 4, 3, 4, 6, 10, 11, 12, 13, 11, 10, 1, 4, 5, 13, 1, 9, 10, 14, 8, 8, 11, 2, 4, 5, 7, 12, 1, 14, 3, 8, 5, 12, 9, 3, 6, 1, 2, 3, 6, 7, 8, 9, 8, 3, 5, 9, 8, 11, 5, 13, 15, 5, 6, 7, 9, 14, 13, 14, 1, 8, 10, 11, 7, 12, 1, 2, 9, 7, 8, 15, 3, 1, 2, 4, 8, 9, 11, 12, 14, 12, 1, 3, 4, 6, 9, 11, 12, 14, 1, 5, 2, 5, 6, 8, 12, 13, 1, 9, 5, 8, 9, 1, 7, 8, 9, 11, 11, 5, 12, 1, 2, 3, 5, 7, 8, 9, 10, 11, 12, 13, 14, 1, 3, 7, 9, 12, 13, 13, 1, 2, 1, 2, 4, 5, 6, 9, 10, 1, 2, 8, 11, 13, 11, 4, 11, 11, 6, 13, 1, 3, 4, 5, 6, 9, 10, 12, 13, 3, 10, 12, 15, 15, 5, 7, 11, 2, 5, 10, 11, 10, 12, 9, 6, 7, 9, 13, 3, 14, 1, 6, 13, 2, 7, 1, 2, 3, 5, 7, 10, 8, 11, 3, 4, 5, 6, 7, 13, 14, 1, 4, 5, 15, 14, 1, 2, 3, 5, 6, 7, 10, 11, 15, 5, 1, 3, 4, 5, 9, 11, 12, 5, 8, 10, 11, 14, 4, 6, 9, 13, 14, 1, 3, 5, 11, 6, 7, 14, 11, 1, 2, 4, 1, 4, 12, 9, 5, 15, 4, 14, 10, 14, 1, 6, 12, 8, 1, 2, 3, 4, 5, 6, 7, 8, 9, 11, 12, 13, 5, 9, 12, 10, 5, 11, 2, 10, 1, 4, 5, 6, 8, 10, 12, 2, 12, 2, 10, 3, 4, 7, 1, 2, 3, 6, 7, 8, 9, 11, 12, 14, 7, 7, 5, 10, 11, 15, 1, 5, 13, 14, 4, 3, 7, 14, 2, 3, 4, 5, 6, 8, 13, 3, 5, 13, 15, 11, 1, 3, 4, 5, 7, 8, 9, 10, 13, 4, 9, 3, 2, 3, 4, 7, 8, 11, 12, 15, 4, 5, 10, 8, 1, 5, 2, 1, 10, 5, 1, 8, 15, 14, 7, 12, 5, 6, 11, 12, 4, 3, 8, 1, 2, 3, 4, 5, 6, 7, 8, 9, 11, 12, 13, 1, 4, 8, 14, 6, 12, 10, 1, 15, 14, 1, 1, 7, 11, 12, 13, 15, 2, 4, 6, 11, 12, 14, 7, 13, 1, 2, 8, 9, 14, 7, 8, 15, 13, 12, 4, 9, 15, 8, 12, 14, 12, 4, 13, 14, 9, 3, 1, 2, 3, 4, 5, 6, 7, 9, 12, 13, 15, 7, 2, 5, 9, 14, 1, 2, 3, 4, 5, 6, 7, 8, 9, 10, 11, 12, 13, 14, 15, 1, 3, 4, 5, 6, 7, 8, 9, 10, 11, 12, 13, 14, 15, 2, 3, 5, 6, 11, 13, 15, 13, 6, 8, 10, 3, 1, 2, 3, 4, 5, 6, 8, 9, 11, 12, 13, 14, 9, 13, 13, 10, 1, 2, 3, 4, 5, 6, 7, 8, 9, 11, 12, 13, 1, 5, 9, 11, 5, 8, 13, 5, 11, 12, 14, 7, 2, 2, 11, 12, 9, 11, 4, 14, 8, 9, 13, 1, 2, 3, 4, 5, 6, 7, 8, 9, 11, 12, 14, 15, 1, 2, 5, 6, 9, 10, 13, 1, 2, 6, 9, 11, 13, 10, 7, 7, 2, 5, 15, 2, 6, 3, 5, 9, 6, 2, 14, 1, 1, 6, 13, 2, 9, 9, 4, 11, 8, 4, 2, 1, 7, 1, 4, 5, 6, 8, 2, 4, 6, 8, 15, 2, 14, 1, 2, 13, 3, 4, 5, 6, 7, 9, 10, 11, 12, 13, 15, 10, 7, 10, 7, 10, 6, 7, 11, 13, 9, 14, 11, 12, 1, 5, 10, 7, 11, 15, 1, 2, 11, 2, 11, 6, 4, 5, 14, 13, 1, 2, 3, 4, 5, 6, 7, 8, 12, 13, 14, 15, 1, 4, 5, 9, 10, 11, 15, 5, 4, 8, 1, 14, 14, 7, 4, 4, 8, 12, 7, 8, 8, 1, 1, 5, 6, 8, 9, 11, 12, 13, 1, 2, 5, 8, 11, 3, 4, 4, 12, 12, 1, 2, 3, 5, 6, 7, 8, 9, 10, 11, 12, 13, 14, 13, 4, 6, 7, 9, 11, 5, 11, 10, 7, 4, 13, 9, 4, 5, 1, 5, 9, 2, 12, 13, 6, 1, 3, 4, 6, 13, 2, 14, 8, 12, 10, 14, 1, 2, 3, 4, 5, 6, 7, 8, 9, 10, 11, 12, 13, 14, 15, 5, 15, 4, 11, 3, 5, 7, 11, 14, 15, 15, 13, 3, 10, 12, 14, 1, 2, 6, 11, 15, 5, 4, 7, 7, 8, 10, 2, 4, 8, 10, 12, 13, 1, 9, 1, 6, 14, 2, 6, 11, 7, 12, 1, 2, 14, 1, 2, 3, 4, 5, 6, 8, 11, 15, 1, 3, 4, 5, 6, 7, 8, 10, 11, 13, 1, 1, 3, 5, 11, 1, 4, 5, 6, 7, 8, 11, 12, 13, 15, 1, 2, 3, 4, 5, 6, 7, 8, 9, 10, 12, 13, 2, 4, 5, 5, 6, 11, 12, 13, 1, 2, 5, 6, 8, 9, 11, 13, 3, 9, 8, 15, 3, 11, 1, 5, 7, 3, 2, 6, 9, 11, 12, 3, 1, 7, 1, 2, 3, 5, 6, 7, 8, 10, 11, 13, 6, 11, 1, 2, 4, 5, 6, 12, 13, 13, 4, 6, 6, 4, 1, 5, 8, 1, 2, 5, 6, 8, 9, 12, 12, 4, 5, 6, 7, 8, 9, 1, 15, 9, 11, 15, 11, 4], \"Freq\": [0.9998623029833267, 0.9989896520633957, 0.23772456058159533, 0.7612735928352254, 0.9993162874047167, 0.18873498911722433, 0.08176931518428864, 0.7287927917297353, 0.15143019077832662, 0.1725599848404187, 0.02201020214801259, 0.08760060454909012, 0.5647817871180031, 0.0013206121288807555, 0.9978003650945861, 0.8885165288434842, 0.11106456610543552, 0.9980111546268823, 0.9982743684975842, 0.9976721868066352, 0.9985830191970064, 0.9989803985396783, 0.9993403868452939, 0.9972679746386702, 0.9965012303289996, 0.9973302506928214, 0.2502851256635269, 0.7489829196913522, 0.9974026574069824, 0.6871865466651157, 0.19069787840181204, 0.018299291361790045, 0.028893617939668492, 0.041414185713524836, 0.03370922092961324, 0.9996673235756508, 0.004245243724937797, 0.9933870316354446, 0.9987893491485402, 0.9965829620678809, 0.9981390348049055, 0.2658384157303207, 0.7336817066356571, 0.004189314015910176, 0.0023938937233772438, 0.9928674217707119, 0.3424232189996244, 0.6568738370105471, 0.9991859190441518, 0.2956482367183296, 0.23302733559523447, 0.3668587304733537, 0.0008312508998640944, 0.0002770836332880315, 0.09282301715149055, 0.0024937526995922835, 0.007758341732064882, 0.7828538128071242, 0.21682103047753154, 0.9977882815683092, 0.16849321514505688, 0.17255941641552583, 0.05311475409550059, 0.13596360498130533, 0.258203780674778, 0.014231704446641307, 0.11690328652598216, 0.08005333751235735, 0.000254137579404309, 0.6560132370524848, 0.08932812831340572, 0.12098476325956002, 0.11816387499703143, 0.015358169429322386, 0.2420113442947153, 0.7572796289785341, 0.998370307477954, 0.9979950354146596, 0.9986080679715429, 0.682516421097076, 0.3168224374475316, 0.9984430195607119, 0.9971160948699307, 0.9994451307966296, 0.987999354380544, 0.011439358764917938, 0.9990822428012716, 0.05090644676575627, 0.9488095184426063, 0.15361032945205097, 0.08630107600124318, 0.1510967058791992, 0.09104903163885203, 0.12260897205354614, 0.3949181924458183, 0.9975286012236733, 0.12833371225420548, 0.8715039670882962, 0.9972740956663916, 0.9979133029197409, 0.9981547685196139, 0.18344064116536452, 0.4951491636053613, 0.18150783747492485, 0.10279001444610943, 0.0029870602488612993, 0.034087628722299534, 0.00017570942640360586, 0.3751631772069137, 0.6245427818808972, 0.00021875403918770477, 0.9990398795696311, 0.9988578564631803, 0.7658469230536992, 0.2333161556279874, 0.998059291921079, 0.9995857221166005, 0.996742335192922, 0.15282303165431624, 0.8460637404630261, 0.999205892922298, 0.7113070567893301, 0.1920195106356173, 0.009461830958856506, 0.013079589854889875, 0.07402491279575972, 0.9983153345937691, 0.4567746717637691, 0.0013772100656194045, 0.12876914113541432, 0.413048252180353, 0.9983547832768592, 0.9994903834592166, 0.07852643571014226, 0.9190501364594428, 0.9979886213378412, 0.9973037490158079, 0.0021765686360013265, 0.9991864802157172, 0.5693655916650956, 0.14715556937533011, 0.28310202311464877, 0.9978161376699416, 0.01476948315916447, 0.2953896631832894, 0.32456839820505334, 0.3645540721237669, 0.9973194526248347, 0.9988960349398273, 0.9982438277878772, 0.9969245299199501, 0.9982195724158203, 0.9974903619079116, 0.9989300940440952, 0.9993803841487272, 0.8500466701926548, 0.14960821395390725, 0.17423127537473224, 0.10751295539271251, 0.16478621200378366, 0.1424797857447349, 0.0749576305822089, 0.008239310600189183, 0.32776379485142826, 0.9997351001810675, 0.9988924716828153, 0.9985602376609393, 0.997953779919119, 0.9979239481589861, 0.9973072347969044, 0.9987336175471065, 0.3098502636719948, 0.10093072370181153, 0.5886449200511246, 0.9985698352051424, 0.9979760260209865, 0.0017295944991698206, 0.004980202270226649, 0.8287056577657144, 0.16617274908322918, 0.99822616349196, 0.9981927369242221, 0.11806431145693819, 0.8808704487607497, 0.9995626397064908, 0.5006725695855052, 0.4988374838081606, 0.8834240795386382, 0.11615956755179326, 0.2645509965059635, 0.12785156854552415, 0.6069631558631805, 0.9996790258821129, 0.9973592555007732, 0.9977810320360092, 0.9973755534784826, 0.9968163004456273, 0.18757178338787908, 0.2003840636739364, 0.04936998670227419, 0.007174876960192096, 0.082340254638395, 0.13598100143602163, 0.03741185843528736, 0.00017083040381409752, 0.2068756190188721, 0.00017083040381409752, 0.025112069360672336, 0.0037582688839101455, 0.06389057102647247, 0.9993201147919722, 0.9974749246050895, 0.9980481098378658, 0.9996139378616002, 0.9978656614731488, 0.9991328691672557, 0.13100394416100763, 0.867575789145746, 0.9986749741353359, 0.9993319016200852, 0.0003727459536068949, 0.9972895359360856, 0.9978179796314751, 0.9960797875891411, 0.9985395220163632, 0.9992489400234703, 0.13556492962908098, 0.8640886571479633, 0.1682685885196037, 0.014010407669224048, 0.21281450008329042, 0.3891300919821407, 0.08111666799258437, 0.00014369648891511845, 0.010633540179718765, 0.00021554473337267766, 0.059705891144231714, 0.01199865682441239, 0.04813832378656468, 0.003951653445165757, 0.997729265128782, 0.9960137345485957, 0.9987187855840529, 0.9990218504827845, 0.9983527979541791, 0.9989877312804449, 0.9997687941159428, 0.9989936053943045, 0.9995932657027982, 0.9985225450820935, 0.9981427532484423, 0.9990559379332672, 0.9981372101173837, 0.9983226833890232, 0.9981822330205482, 0.5256955035735417, 0.12757807382861605, 0.13065471548043156, 0.0959912195366436, 0.00041021888690873326, 0.11937369609044138, 0.9991520223666137, 0.9991244855217499, 0.9975332477102637, 0.002825894768351592, 0.8828095256330373, 0.11360096968773399, 0.9979043170485774, 0.9985241129168825, 0.07721853471998849, 0.2554742566606584, 0.6669222700194031, 0.9989113454847368, 0.9978154817985412, 0.004994084291571032, 0.9946551214045639, 0.9979663543646206, 0.9987230756627906, 0.6711124660050074, 0.05893622222706864, 0.2693321983495072, 0.9993425734686455, 0.999677412564053, 0.9984776600992532, 0.9986357066888031, 0.9961874886398944, 0.9999339516422826, 0.9985904071696533, 0.9982825565488862, 0.9992386457930883, 0.9987609049516037, 0.9977190535446463, 0.9981718094070218, 0.9990365550257061, 0.9985684358457784, 0.9989540201482777, 0.998487494528557, 0.9984161562605369, 0.9991148700193451, 0.7897086621659603, 0.2097115225085161, 0.9989660576718853, 0.08482873507083424, 0.9132859918665142, 0.9984140313661494, 0.16405760994315907, 0.046340235204828065, 0.7893213522566449, 0.9990911902618859, 0.9992083947637438, 0.7752622530420782, 0.07482294472074852, 0.08061568882816131, 0.053100154317950565, 0.015930046295385168, 0.9976957877751819, 0.9982577882855627, 0.9973084431895862, 0.999051288523755, 0.834066334189361, 0.1657423164851986, 0.9319334172697982, 0.06777697580143986, 0.8636949275003237, 0.1360849489885704, 0.9983090668191625, 0.997042229225657, 0.47750204228594867, 0.19232502198377596, 0.07866408686057721, 0.07992523454571673, 0.06967840960395819, 0.033420413656197134, 0.0011035042244970752, 0.00930096417790392, 0.058170436977060105, 0.9987338938238584, 0.3211961532508407, 0.6490087066622793, 0.029473055260844937, 0.823109230211605, 0.0012091211607956004, 0.17532256831536205, 0.9994695792674079, 0.9978650000862745, 0.9994883171703731, 0.9973319935246924, 0.9984668694938051, 0.9985423144297342, 0.9975504255095663, 0.9983027729781094, 0.9975280982723925, 0.07835834133855114, 0.919731031461244, 0.9981414639465896, 0.9972788769564388, 0.9979305603540249, 0.997474641823932, 0.9986964609301259, 0.9995552616159951, 0.889155565470426, 0.11078706804494856, 0.999530247409017, 0.996302354570018, 0.9975985795986232, 0.09355283360997994, 0.7695475022756415, 0.13655695873714815, 0.2050709978293228, 0.7823783699087776, 0.012370872258845459, 0.998683237181466, 0.9974803880520828, 0.9987710796566764, 0.9981831797426853, 0.9977503966797276, 0.9977802147890061, 0.11068733781788072, 0.1963133916015243, 0.4506854245490313, 0.14535544739857545, 0.09606825546457572, 0.9969882646512371, 0.8555895681868129, 0.1439872054686682, 0.99844588780181, 0.9996235252964573, 0.998014194348278, 0.998564022836596, 0.9973446758705055, 0.9988773493808428, 0.1736007456689513, 0.18702465653981387, 0.6379770522355694, 0.001137619565327335, 0.201501862612244, 0.7978014922430475, 0.9995176464505092, 0.9987852044049266, 0.9973759205006968, 0.9987168546118397, 0.9996658876261508, 0.999106632566846, 0.9994906314965918, 0.9990146173154101, 0.21915907547032742, 0.780536786645313, 0.8931376818181928, 0.10513391994496664, 0.0010312347742126157, 0.8316908454024746, 0.16706003342244374, 0.9972879498472276, 0.9992624686051584, 0.9991722410963311, 0.9959644498976864, 0.2737505524526593, 0.725321976583969, 0.998629713734926, 0.9992262367647439, 0.21420299428687742, 0.37913330726437056, 6.658470447214094e-05, 0.07324317491935504, 0.021972952475806513, 0.0013316940894428188, 0.09421735682807944, 0.10986476237903256, 0.0003329235223607047, 0.05579798234765411, 0.04774123310652506, 0.002064125838636369, 0.9972590802644008, 0.1870776687989238, 0.5215619262755812, 0.13466938569567918, 0.1566941325188149, 0.9995515355325295, 0.2251555989832196, 0.2693107190782464, 0.0003551350141691161, 0.13530644039843323, 0.12713833507254357, 0.08410780918905233, 0.10618536923656571, 0.00023675667611274407, 0.021071344174034223, 0.023083775920992547, 0.008049726987833298, 0.9993059112515869, 0.9988786703668261, 0.24692195434280215, 0.1639610045025204, 0.00015083809061869403, 0.004072628446704739, 0.12293304385423565, 0.11554197741391964, 0.2784471152821092, 0.03227935139240053, 0.03574862747663049, 0.9990944917248482, 0.15227162231634117, 0.014282028024153378, 0.13399902763838023, 0.16928403805099446, 0.013441908728614943, 0.40850800745556354, 0.10816535930057337, 0.17440823947104983, 0.024704761193573656, 0.07079573356964391, 0.07743283359179803, 0.3333299122237401, 0.029498222320684962, 0.16408386165881012, 0.02581094453059934, 0.06821463911658397, 0.031341861215727775, 0.3738364815575173, 0.62465839439739, 0.998626896505416, 0.9971575310650919, 0.0987686864441901, 0.7763509250649941, 0.12455021856748971, 0.9979585006502477, 0.24654488307568803, 0.18185998902142148, 0.571559965495896, 0.427523490983324, 0.2403340409805601, 0.0337801651154413, 0.07143321540335358, 0.09058248097834898, 0.1359813016112032, 0.003187248381351286, 0.23458148086745462, 0.6501986697956623, 0.11155369334729501, 0.9993466567515632, 0.9984030950515776, 0.9994944065700977, 0.9989919182866214, 0.0005074405307233867, 0.8560521753303534, 0.13193453798808055, 0.006596726899404028, 0.004059524245787094, 0.9989511249135783, 0.9992534402658511, 0.000191918224823875, 0.15084772471156574, 0.014585785086614499, 0.10843379702548937, 0.5330528694483128, 0.07695920815437388, 0.09739849909811656, 0.001727264023414875, 0.016696885559677126, 0.9979710210190331, 0.9992132942022781, 0.7917213475807887, 0.2074424597347952, 0.9995718975531164, 0.9141674867930882, 0.08481192611462969, 0.7256843184757051, 0.2740860924027378, 0.35330837230343, 0.6465659816575972, 0.9970837101410155, 0.9981299882449952, 0.0009953727309503703, 0.9973634764122712, 0.1797567281996985, 0.8192191875330523, 0.9987676462858269, 0.9965724135605961, 0.9990411282085254, 0.9981119277339306, 0.9736808923016649, 0.024833519038512174, 0.9979345440801095, 0.9992107701502185, 0.9978178858916535, 0.9974482024946736, 0.9979075729902764, 0.9983366102369938, 0.9982293875059365, 0.9985643258892077, 0.011508570949746352, 0.9865984005100737, 0.7775520687982489, 0.22171868703733238, 0.9986143759975661, 0.9983459110697249, 0.9990248331865731, 0.998101471126693, 0.9994303106025149, 0.9974596466452481, 0.9981890336476897, 0.9979667828753108, 0.000731111196245649, 0.99778415156683, 0.9989024373445576, 0.23863895379120137, 0.1955608618460848, 0.564801649947084, 0.9979434895967082, 0.9998249205049359, 0.11989246712024071, 0.15915302853637586, 0.4054110302504853, 0.13452722836496492, 0.00886528806170794, 0.006613786331750368, 0.16548537715188155, 0.9990650257750043, 0.9995469357394593, 0.013399989968314365, 0.19362985504214256, 0.7926094066257947, 0.9996067720946222, 0.1882017230275999, 0.058038255903720935, 0.17073389843521788, 0.5826364718878393, 0.9971824800081146, 0.9985482567488831, 0.9967997012973616, 0.9993417473654016, 0.8499000195269704, 0.061356418522000536, 0.08830130073007485, 0.9986957589953244, 0.9984025062401373, 0.9990482754001055, 0.9981662571463955, 0.9971459943758973, 0.037072956725463894, 0.9625728406932947, 0.9993256968762068, 0.9998585319044414, 0.9992449912079066, 0.6199994614273479, 0.2313388821122469, 0.0013133594280500635, 0.0156665017488829, 0.040151273943244796, 0.08827651584250784, 0.003189587182407297, 0.99949912032317, 0.08838822249361993, 0.7378600381864656, 0.1736283713093849, 0.9979017629630834, 0.9981514530725769, 0.9990066681231975, 0.21873119917297235, 0.7809318717460739, 0.047980475703723525, 0.7519328281926821, 0.11744474649866656, 0.08163842134663406, 0.9973206111365691, 0.1575510815549255, 0.8415772058213412, 0.17424085425236685, 0.5910814480074961, 0.0011145470421260139, 0.23331184748504558, 0.9078245761966411, 0.09096081215329803, 0.7081750960070496, 0.1296213345370046, 0.16123629418017646, 0.9972505254424682, 0.998157056049264, 0.0016060451424766919, 0.9997573458509317, 0.2573716167981205, 0.16261173641158444, 0.010690485354428852, 0.08588750478626174, 0.4810718409492984, 0.001745385363988384, 0.0005817951213294613, 0.9988237740625475, 0.9995224505504753, 0.00568171441547134, 0.6332744192244097, 0.024147286265753194, 0.19909674264214153, 0.12973247915326225, 0.0023673810064463916, 0.004498023912248144, 0.0011836905032231958, 0.9983391154992767, 0.9984139712537664, 0.9985361904865415, 0.18846110621076997, 0.38790873430826645, 0.2569155887357582, 0.08592023526798931, 0.08056782716932767, 0.028091516365648706, 0.9716729727968788, 0.3016080200707006, 0.11425543991761256, 0.5841185890888896, 0.18927970969278882, 0.550280714450093, 0.09411310240754621, 0.16223975116524755, 0.003511682925654709, 0.9997526519512925, 0.9630881303061554, 0.03599420284982601, 0.1917481604611282, 0.44200384823070415, 0.019947917141053158, 0.002672448229423389, 0.007158343471669793, 0.08198689389552469, 0.12655951257912193, 0.002004336172067542, 0.03846416558777235, 0.0001908891592445278, 0.08427756380645902, 0.002863337388667917, 0.13376636557778315, 0.35928273831468677, 0.04973364874045783, 0.3541378781001567, 0.10289720429060242, 0.998305769431357, 0.9988757850473631, 0.28201538294075523, 0.7177087136869076, 0.5591988167871758, 0.2493539510979526, 0.006021720004560875, 0.0019160018196330056, 0.06733377823281705, 0.07965093278760066, 0.03640403457302711, 0.1621013896950501, 0.318246297878996, 0.01531666674283938, 0.04254629650788717, 0.46205278007565465, 0.9987856483335551, 0.9992645854711143, 0.997263203701084, 0.9984078191856177, 0.31994747593358874, 0.6797017917967064, 0.0010304894489587969, 0.02311240621236159, 0.24746468052853396, 0.49331002049441836, 0.08067260257563154, 0.00014721277842268528, 0.026939938451351408, 0.06021002637487828, 0.06683460140389912, 0.7966263715418692, 0.010121072753195879, 0.1932798409642568, 0.9987598881307966, 0.9973799600462478, 0.9992962400963518, 0.8413712715587577, 0.15804136046846937, 0.7083619866745796, 0.0002508363975476557, 0.1550168936844512, 0.13620416386837703, 0.0008356742206568464, 0.9986306936849314, 0.997432348750663, 0.006344092832456532, 0.0018659096566048623, 0.7250924925566494, 0.26645189896317434, 0.9970124307238342, 0.0026622494812385427, 0.24083068951697112, 0.007471025039760053, 0.7510577525264664, 0.9991690568760199, 0.9993542881386587, 0.055244288581323325, 0.06555961217534635, 0.20699416012006208, 0.0004584588264010234, 0.6711837218510983, 0.0004584588264010234, 0.879274519346815, 0.11993579455903558, 0.3099451017320328, 0.6062017762582346, 0.01466617200624761, 0.019066023608121895, 0.049864984821241874, 0.8422610991038623, 0.15734548005236987, 0.12948942514168413, 0.834757695891695, 0.0356782038444332, 0.9995399534395276, 0.9987424427725851, 0.10431752177161423, 0.17489831309794043, 0.0030185495661573477, 0.14684355830659568, 8.878086959286317e-05, 0.5673097566983957, 0.0017756173918572634, 0.0017756173918572634, 0.9969800162990791, 0.9979296409189736, 0.29958010727336704, 0.0026145172998402943, 0.14510571014113632, 0.0832288007115827, 0.1679827365147389, 0.08932934107787671, 0.2119937777287172, 0.19994676733415614, 0.12477177368746094, 0.4420040082878304, 0.09732198347621952, 0.13568930388511377, 0.0002044961416489918, 0.2713663799682121, 0.673814786733428, 0.0008179845665959672, 0.05357798911203585, 0.2502574357734498, 0.06795379810327756, 0.6045544796774349, 0.07732673577269517, 0.9978257977346976, 0.9977234851655473, 0.9984552119845671, 0.9986824830638181, 0.9999414881973635, 0.9990134665866532, 0.9998698895968036, 0.3684927545561485, 0.6307533636546686, 0.9984914847865001, 0.9988089352102159, 0.9981187025071613, 0.9990620673964349, 0.1025343340496823, 0.8963891166920078, 0.999855115257276, 0.9980586685948734, 0.24539920347168054, 0.18288558524312234, 0.5706030259585417, 0.9981183261429557, 0.16418485394664203, 0.3312847883470904, 0.12130496081968398, 0.06347352601029975, 0.03799008075283126, 0.04466655534058131, 0.04692339182094752, 9.403485334859223e-05, 0.10353237353680005, 0.03375851235214461, 0.050778820808239804, 0.0018806970669718445, 0.15001805189926334, 0.7029254931795029, 0.14660855071973464, 0.9991155500438296, 0.9973802279693729, 0.997738027775835, 0.9974418027365486, 0.9974919531209372, 0.19164492242384243, 0.5219505828367003, 0.1288906046889764, 0.006388164080794748, 0.12851483033128258, 0.02066758967315948, 0.0015030974307752348, 0.15825724249634066, 0.8407851737911315, 0.6891982282547243, 0.3102373791004172, 0.274960969228485, 0.15657499636622063, 0.5681678052421936, 0.1349242067092963, 0.08092577597017096, 0.3754975170386204, 9.58268513560343e-05, 0.25667222135713785, 0.035408021576054674, 0.0004791342567801715, 0.09280830553831922, 0.0022998444325448234, 0.02084234016993746, 0.9982151767562067, 0.996388015892064, 0.27100008969485945, 0.03988509384621923, 0.16555045801923873, 0.5228771891894768, 0.1791745040104178, 0.8201022074108675, 0.27805182071596474, 0.721002860169189, 0.9991442790462577, 0.00020340577145917083, 0.9995359609503655, 0.9988421681692007, 0.5596662892395201, 0.005008946502740335, 0.13891478300933197, 0.07112704033891276, 0.07045918080521404, 0.09016103704932603, 0.06444844500192565, 0.0014265733125223398, 0.9981257943281304, 0.9993946844058694, 0.9987337913106014, 0.999453276204471, 0.21075089688292215, 0.0003154953546151529, 0.34325894582128635, 0.04637781712842748, 0.2934106797920922, 0.048901779965348696, 0.03249602152536075, 0.02271566553229101, 0.0015774767730757644, 0.9997838773926702, 0.9977502318745758, 0.998660884996888, 0.18479871541931056, 0.03853249810870731, 0.0813900725357389, 0.15334361492240664, 0.0013761606467395469, 0.191286329896797, 0.34580951108783753, 0.003538698805901692, 0.997728324579032, 0.9993340752939615, 0.9994044787447598, 0.997614733162985, 0.9189064039932289, 0.08071028170422888, 0.9993528619554172, 0.9982475708375034, 0.9981001359310439, 0.9980181586862229, 0.21388795280760847, 0.31731733843757876, 0.46861210317785895, 0.9964783864003189, 0.9971555296878951, 0.9986633978575027, 0.8051418009265812, 0.0004966945101336096, 0.028808281587749358, 0.16490257736435837, 0.997743215698222, 0.9989793725364596, 0.9987677308399585, 0.12988299842568934, 0.23066995815049596, 0.06065392281143691, 0.047402915975486924, 0.004808033652445694, 0.04157049027337926, 0.13165090083397693, 0.20210263792685815, 0.061893106742479616, 0.016043301293899546, 0.07293010495496663, 0.00039653885793366545, 0.25745151016202766, 0.15233484553255347, 0.06408181693989334, 0.5255833231473709, 0.9987144074001086, 0.9977215196282356, 0.9990744282821573, 0.9971512156589231, 0.0027285986442475854, 0.9984107374181953, 0.9960042218310585, 0.14860683126079555, 0.14669671774844598, 0.5252812158961282, 0.057685428072956624, 0.12110119668296192, 0.998418279062608, 0.6807626597291075, 0.07735939315103495, 0.08916687947408765, 0.1156319350257575, 0.03623676837074795, 0.00040715470079492075, 0.9977721356142628, 0.9985037727041424, 0.6285987809959721, 0.253090100007131, 0.004355717300847363, 0.11370714638001536, 0.9997001361557749, 0.17222940530103126, 0.7008543126606323, 0.12618788111164667, 0.9980058976215456, 0.9993557946585023, 0.9975149901574897, 0.9975354084920296, 0.9997270736883089, 0.9991570421273008, 0.9987877923082848, 0.9975856345750814, 0.9990164358276947, 0.027851851318965514, 0.10138073880103447, 0.8700918352044826, 0.998559883360849, 0.9965546133723183, 0.29975519567820325, 0.43407663565775734, 0.03126189416005213, 0.10246123205567326, 0.013761216568061226, 0.00014957844095718722, 0.06656240622594832, 0.003889039464886868, 0.019744354206348715, 0.0034403041420153066, 0.025129178080807456, 0.9979815769010345, 0.9970424021813937, 0.1884414336601015, 0.8075329915271197, 0.003072414679240785, 0.12013990527872884, 0.04164141259660955, 0.06476568640025869, 0.1840491370936672, 0.06582887140272531, 0.10441362711724331, 0.0006497241681740497, 0.0005611254179684975, 0.042025340514166946, 0.24592059765387783, 0.01129634065120791, 0.007855755851558965, 0.0973847929342695, 0.00010336520857314428, 0.013363644822670795, 0.00024358370563449912, 0.25785075125023404, 0.10035648672141363, 0.22646325089561717, 0.08963880367349568, 0.03267501422725638, 0.0561286453126353, 0.026063456502891404, 0.07547615107446122, 0.013118722432029453, 0.00010439301670049963, 0.019939066189795428, 0.10164400059405312, 0.00034797672233499873, 0.00022402602355024164, 0.5062988132235461, 0.19512666651226046, 0.1328474319652933, 0.038084424003541076, 0.06810391115927346, 0.05914287021726379, 0.9985982397593234, 0.9994232654850838, 0.9999019412601353, 0.9997772923003411, 0.9997050609438807, 0.22078946280453687, 0.11560260134225477, 0.053289831944046205, 0.19105615884484747, 0.05213925602707248, 0.04420633786267469, 0.06322111880634572, 0.08096421057862474, 0.03821123176896949, 0.041299619756635805, 0.023314301475520213, 0.07581689726584755, 0.9979632437400454, 0.9987106689755504, 0.9992710903045837, 0.9989560609325471, 0.25404895859058196, 0.20332873900418547, 0.011308481629638068, 0.004254676256695511, 0.04747322981154991, 0.0021273381283477555, 0.017802461179331215, 0.029670768632218694, 0.2640138582444214, 0.0987532752211958, 0.02452037105832413, 0.042770692896254875, 0.3886516581615769, 0.0008005183484275527, 0.5615636214219283, 0.04843136007986694, 0.6895194503601899, 0.1580877927644767, 0.15167094508768983, 0.6556066846716574, 0.0737236338204788, 0.1907327255677267, 0.07985079909778402, 0.9989298978104684, 0.9971420976079105, 0.24907556381039106, 0.7417951370801678, 0.00775936335857916, 0.9975818247990295, 0.9988343757786021, 0.9995436507741626, 0.9981169469834646, 0.7879142891914843, 0.21170119754693875, 0.9987527603440811, 0.03996553308112676, 0.09081173485449746, 0.00020924362869699875, 0.0343159551063078, 0.1324512169652002, 0.11633945755553131, 0.342741063805684, 0.023853773671457856, 0.004184872573939975, 0.19166716388645086, 0.00020924362869699875, 0.02343528641406386, 0.9991225268602631, 0.1289535605716854, 0.09417219308924607, 0.15290676647940304, 0.4603609299798336, 0.0849846620561489, 0.07842213988965091, 0.0003281261083248992, 0.11972448391766792, 0.06439364672862617, 0.7092840939664231, 0.08013431592895702, 0.008585819563816823, 0.01764862910340125, 0.9993458722878681, 0.9987817068606717, 0.9976174624293732, 0.9980345090953953, 0.25454412905459106, 0.7437461270813832, 0.9981337372312179, 0.9980466184764332, 0.8096772865551947, 0.19001917337619756, 0.9977091706924676, 0.9996132812076252, 0.9996673103525748, 0.999054183327971, 0.9966568773431902, 0.1542837902445896, 0.2327672835429243, 0.6117687682741987, 0.19896153325856925, 0.7994472467584139, 0.9987014191239417, 0.9968196039513485, 0.9994451798703773, 0.9989230778328283, 0.9977968063343655, 0.9984810413494152, 0.9989232752956143, 0.9997909422844515, 0.185296995767676, 0.12410389751299737, 0.0012882757527300766, 0.6890128150851359, 0.00021471262545501275, 0.09834449593196705, 0.3088848252511078, 0.15596605974562663, 0.03158104939787111, 0.4047360804411376, 0.1499784977238527, 0.8495492535541919, 0.997267653456147, 0.999348871525894, 0.9986071771819055, 0.13399543598445154, 0.092794118253178, 0.032997515528143846, 0.025705246903139682, 0.003828441028127187, 0.21694499159387393, 0.15769530901571507, 0.032268288665643435, 0.11357708383443987, 0.06034352287190947, 0.12980238152507415, 0.9987128217867589, 0.8054375289182066, 0.19448718394079403, 0.9981253544622924, 0.9990871948029052, 0.9987803680564535, 0.9983036615537173, 0.3138231484549877, 0.6853779138427326, 0.9992071398692633, 0.9992797433977684, 0.7917332616288245, 0.20764872356272465, 0.9983518420332693, 0.34319215349641996, 0.6561177344124381, 0.9380821702262399, 0.061779068755308635, 0.9989959258741138, 0.2652871385322806, 0.2337053363260567, 0.5006546749744544, 0.9974278162060749, 0.999206275394118, 0.9976287022824709, 0.9974061201027047, 0.999271091490678, 0.9987578946178949, 0.9989487203091497, 0.1633841358454303, 0.4204976682009065, 0.01693790109521642, 0.014083198663438372, 0.1429254350843543, 0.07698180891028136, 0.0882103051419417, 0.0010467242249852843, 0.00028547024317780484, 0.005233621124926422, 0.06404049121955421, 0.006375502097637641, 0.22023364160446715, 0.05590546286882628, 0.00024201499077413974, 0.13625443980584068, 0.04961307310869865, 0.5302548447861402, 0.007502464713998331, 0.9990715211986548, 0.8366159673047691, 0.16290793175907242, 0.9980218026117056, 0.9986070063704727, 0.9968040999398707, 0.9972423520963266, 0.9982829564358786, 0.9515338519061893, 0.04720644596032651, 0.9980615206371445, 0.9996273670100015, 0.9996034527394319, 0.9991595352565573, 0.9993242132581263, 0.6013404546481153, 0.0018308741853291736, 0.11900682204639629, 0.12836462343807872, 0.11961711344150601, 0.0290905565002302, 0.0006102913951097246, 0.00020343046503657484, 0.6993966253961429, 0.22743766250635541, 0.00028159842654521927, 0.07190146491121265, 0.0009386614218173976, 0.9989223659350764, 0.9992031067462241, 0.999495338952531, 0.9985202934037889, 0.9975725295997452, 0.0960693618212318, 0.26428276546990204, 0.0024538789737223957, 0.05864770747196526, 0.19569684815436106, 0.10993377802276333, 0.05570305270349838, 0.04858680367970344, 0.00588930953693375, 0.003926206357955833, 0.049936437115250754, 0.0353358572216025, 0.07361636921167188, 0.9991070486641789, 0.01990105024838641, 0.01895338118893944, 0.7884606574598806, 0.16773742352211402, 0.00473834529723486, 0.9968654798989203, 0.9977600930945326, 0.9983741925185112, 0.9977605984919365, 0.996614342128888, 0.9982820119542201, 0.9983207615653549, 0.2459646291241479, 0.7537808761047993, 0.3111333328791306, 0.03299898985081688, 0.655265655609078, 0.1754956838831603, 0.8243131799336094, 0.9990279925712948, 0.9974131536497297, 0.10418512111287835, 0.22718781916684927, 0.00045896529124616014, 0.19414231819712574, 0.4741111458572834, 0.2935626980940367, 0.7058370051782913, 0.7949737988345711, 0.20458465504058138, 0.06052749991753862, 0.9391435831954166, 0.03925832704353422, 0.016311408165642343, 0.11821237010038117, 0.13760683710177932, 0.15701197212683063, 0.15456899471026286, 0.12159413359842475, 0.00020269244940955168, 0.0114147853088537, 0.05905817894375148, 0.05750064749039387, 0.04230938180833063, 0.018967746055272783, 0.06213056975585416, 0.0038618245624346165, 0.9976178146184633, 0.9995847852142844, 0.9905976614225269, 0.008045463239979914, 0.31423604455158455, 0.1849705641518566, 0.04383064583631438, 0.08835978802061784, 0.36850047958598575, 8.731204349863423e-05, 0.9984741365811786, 0.9980458006645803, 0.09818228150732491, 0.667728366993255, 0.1679316851120761, 0.06530676643247403, 0.6358232209287634, 0.04966669776431579, 0.17942653877018586, 0.13468176600954102, 0.998638481077931, 0.9988906438725073, 0.9975060240179118, 0.9970663862588854, 0.9975488530988884, 0.10439946111362672, 0.8953682889745046, 0.0860115390969547, 0.5509310544150454, 0.09344110725815345, 0.1468768474944675, 0.12230212203819472, 0.9975159473851516, 0.8395475996564508, 0.15993726253713159, 0.9966743245605479, 0.8278231673282517, 0.1719132988592061, 0.9963792363680083, 0.12461326994495112, 0.8748103294115255, 0.9992930906992171, 0.9994440944808377, 0.9944915765506325, 0.9989022012307163, 0.9989377133318499, 0.507873196300397, 0.15939942032944804, 0.11428984374053797, 0.1655549022672423, 0.037759747409454265, 0.00018374572948639544, 0.014607785494168437, 0.00018374572948639544, 9.187286474319772e-05, 0.07566579245869068, 0.19400974680416916, 0.0897037881648425, 0.05538868754980471, 0.44855212757529084, 0.10506925391412925, 0.0004314277640188503, 0.019646556638396876, 0.009524597559493081, 0.001991205064702386, 0.9989168504052406, 0.1665509058235255, 0.5299839393441291, 0.10318031726628164, 0.20013190146924445, 0.2986203811756242, 0.0005387018301424369, 0.08762883103650308, 0.10001897312977913, 0.3002364866660515, 0.0869105619296465, 0.07631609260351191, 0.0005387018301424369, 0.04525095373196471, 0.003950480087711205, 0.15959396930548922, 0.06367076475776487, 0.06061234374319974, 0.1522537588705329, 0.19123472489253568, 0.015959396930548923, 0.05927776002775314, 0.0010009377865849499, 0.007896286983059048, 0.2757027525493434, 0.008174325257110423, 0.004504220039632274, 0.8448432846770747, 0.1541684826053056, 0.9997421006359404, 0.16087313149473073, 0.6366950697185823, 0.07892601991173409, 0.11593439288470032, 0.007175092719248554, 0.2912467425925039, 0.5462287502788675, 0.07478719649904411, 0.003386590030145394, 0.07930264987257131, 0.00014110791792272474, 0.004656561291449916, 0.9996196026226296, 0.03105940786894869, 0.9683227159142828, 0.22150597859479784, 0.7774859848677405, 0.15691840858316164, 0.841257023793061, 0.9995754072709756, 0.214610925960693, 0.783884039424503, 0.9962165389046618, 0.9982509422441971, 0.6993750428947085, 0.22106428800646621, 0.07059937341523871, 0.009266167760750081, 0.9993446743984127, 0.340595695182747, 0.6590503147450388, 0.10242779013890949, 0.10081420166411845, 0.23902156233100316, 0.010383091055177126, 0.17019850608013315, 0.22372754983080984, 0.06145667408334569, 0.0658063473632172, 0.0028062408257235475, 0.023432110894791622, 0.9982513553276795, 0.9992108666372483, 0.5774972243233196, 0.2101989765663889, 0.145189765841959, 0.06652634516373983, 0.00030342688786198324, 0.00015171344393099162, 7.585672196549581e-05, 0.9978730094621618, 0.8731828529600988, 0.1263140880648755, 0.9983116384242839, 0.9985514498517557, 0.2570608049392573, 0.054331463504511804, 0.6884688435123958, 0.15269227020552056, 0.20870073194059993, 0.0470641446519108, 0.34286548818812845, 0.04727710458246243, 0.03982350701315529, 0.16163658728868913, 0.9982664442055579, 0.16418021443609612, 0.03470172714217486, 0.12835907674094788, 0.16231453018114048, 0.3828384091168968, 0.1272396661879745, 0.9931135803783059, 0.006350282219115278, 0.016414724821593528, 0.9826193893202195, 0.0005660249938480527, 0.9988422776376479, 0.9975001894146178], \"Term\": [\"I\", \"absolutely\", \"accept\", \"accept\", \"account\", \"act\", \"act\", \"act\", \"action\", \"action\", \"action\", \"action\", \"action\", \"action\", \"actual\", \"actually\", \"actually\", \"address\", \"administration\", \"admit\", \"affect\", \"afghanistan\", \"afraid\", \"africa\", \"age\", \"agenda\", \"aggression\", \"aggression\", \"aggressor\", \"agree\", \"agree\", \"agree\", \"agree\", \"agree\", \"agree\", \"aid\", \"aim\", \"aim\", \"air\", \"alive\", \"alliance\", \"allow\", \"allow\", \"ally\", \"ally\", \"ally\", \"almost\", \"almost\", \"along\", \"already\", \"already\", \"already\", \"already\", \"already\", \"already\", \"already\", \"already\", \"always\", \"always\", \"amazing\", \"america\", \"america\", \"america\", \"america\", \"america\", \"america\", \"america\", \"america\", \"america\", \"american\", \"american\", \"american\", \"american\", \"american\", \"americans\", \"americans\", \"amid\", \"announce\", \"anymore\", \"anything\", \"anything\", \"anyway\", \"approve\", \"arm\", \"army\", \"army\", \"arrest\", \"article\", \"article\", \"ask\", \"ask\", \"ask\", \"ask\", \"ask\", \"ask\", \"assault\", \"attack\", \"attack\", \"attention\", \"authority\", \"baby\", \"back\", \"back\", \"back\", \"back\", \"back\", \"back\", \"back\", \"bad\", \"bad\", \"bad\", \"ban\", \"bank\", \"base\", \"base\", \"battle\", \"be\", \"beat\", \"begin\", \"begin\", \"belarus\", \"believe\", \"believe\", \"believe\", \"believe\", \"believe\", \"benefit\", \"biden\", \"biden\", \"biden\", \"biden\", \"bill\", \"billion\", \"bit\", \"bit\", \"black\", \"blame\", \"blame\", \"blood\", \"bomb\", \"bomb\", \"bomb\", \"book\", \"border\", \"border\", \"border\", \"border\", \"boy\", \"brave\", \"british\", \"brother\", \"build\", \"building\", \"bully\", \"business\", \"buy\", \"buy\", \"call\", \"call\", \"call\", \"call\", \"call\", \"call\", \"call\", \"can\", \"capture\", \"carry\", \"catastrophe\", \"chance\", \"charge\", \"charity\", \"check\", \"check\", \"check\", \"chelsea\", \"child\", \"child\", \"china\", \"china\", \"china\", \"chinese\", \"choice\", \"choose\", \"choose\", \"citizen\", \"city\", \"city\", \"civilian\", \"civilian\", \"claim\", \"claim\", \"claim\", \"close\", \"cnn\", \"cold\", \"collapse\", \"combat\", \"come\", \"come\", \"come\", \"come\", \"come\", \"come\", \"come\", \"come\", \"come\", \"come\", \"come\", \"come\", \"come\", \"commit\", \"communist\", \"community\", \"company\", \"compare\", \"completely\", \"condemn\", \"condemn\", \"confirm\", \"conflict\", \"conflict\", \"congress\", \"consequence\", \"conservative\", \"convoy\", \"corrupt\", \"cost\", \"cost\", \"country\", \"country\", \"country\", \"country\", \"country\", \"country\", \"country\", \"country\", \"country\", \"country\", \"country\", \"country\", \"coup\", \"courage\", \"course\", \"covid\", \"coward\", \"crazy\", \"crime\", \"criminal\", \"crisis\", \"current\", \"currently\", \"cut\", \"daily\", \"damn\", \"danger\", \"day\", \"day\", \"day\", \"day\", \"day\", \"day\", \"dead\", \"deal\", \"dear\", \"death\", \"death\", \"death\", \"decade\", \"defeat\", \"defend\", \"defend\", \"defend\", \"defense\", \"definitely\", \"demand\", \"demand\", \"democrats\", \"deny\", \"destroy\", \"destroy\", \"destroy\", \"dictator\", \"die\", \"direct\", \"discuss\", \"disinformation\", \"do\", \"dog\", \"donald_trump\", \"donate\", \"donation\", \"door\", \"doubt\", \"drive\", \"drone\", \"due\", \"dumb\", \"earth\", \"eastern\", \"economic\", \"economic\", \"economy\", \"effort\", \"effort\", \"embassy\", \"end\", \"end\", \"end\", \"enemy\", \"energy\", \"enough\", \"enough\", \"enough\", \"enough\", \"enough\", \"equipment\", \"escalate\", \"escape\", \"especially\", \"eu\", \"eu\", \"europe\", \"europe\", \"european\", \"european\", \"evacuate\", \"evacuation\", \"even\", \"even\", \"even\", \"even\", \"even\", \"even\", \"even\", \"even\", \"even\", \"event\", \"ever\", \"ever\", \"ever\", \"every\", \"every\", \"every\", \"everything\", \"evidence\", \"evil\", \"example\", \"exclude\", \"excuse\", \"expand\", \"expansion\", \"expert\", \"explain\", \"explain\", \"export\", \"expose\", \"eye\", \"failure\", \"fake\", \"fall\", \"family\", \"family\", \"far\", \"father\", \"feed\", \"feel\", \"feel\", \"feel\", \"fight\", \"fight\", \"fight\", \"fighter\", \"fighter_jet\", \"fighting\", \"figure\", \"finance\", \"financial\", \"find\", \"find\", \"find\", \"find\", \"find\", \"fine\", \"fire\", \"fire\", \"flag\", \"flee\", \"fly\", \"focus\", \"folk\", \"food\", \"force\", \"force\", \"force\", \"force\", \"foreign\", \"foreign\", \"forget\", \"former\", \"fox\", \"france\", \"free\", \"freedom\", \"friend\", \"front\", \"fuck\", \"fuck\", \"fucking\", \"fucking\", \"fund\", \"fund\", \"fund\", \"funny\", \"gas\", \"general\", \"genius\", \"genocide\", \"genocide\", \"georgia\", \"germany\", \"get\", \"get\", \"get\", \"get\", \"get\", \"get\", \"get\", \"get\", \"get\", \"get\", \"get\", \"get\", \"girl\", \"give\", \"give\", \"give\", \"give\", \"global\", \"go\", \"go\", \"go\", \"go\", \"go\", \"go\", \"go\", \"go\", \"go\", \"go\", \"go\", \"god\", \"going\", \"good\", \"good\", \"good\", \"good\", \"good\", \"good\", \"good\", \"good\", \"good\", \"gop\", \"government\", \"government\", \"government\", \"government\", \"government\", \"government\", \"government\", \"great\", \"great\", \"great\", \"great\", \"great\", \"great\", \"great\", \"great\", \"great\", \"great\", \"group\", \"group\", \"grow\", \"gun\", \"guy\", \"guy\", \"guy\", \"half\", \"hand\", \"hand\", \"hand\", \"happen\", \"happen\", \"happen\", \"happen\", \"happen\", \"happen\", \"hard\", \"hard\", \"hard\", \"hard\", \"hate\", \"have\", \"he\", \"head\", \"hear\", \"hear\", \"hear\", \"hear\", \"hear\", \"heart\", \"hell\", \"help\", \"help\", \"help\", \"help\", \"help\", \"help\", \"help\", \"help\", \"help\", \"hero\", \"hey\", \"high\", \"high\", \"hit\", \"hitler\", \"hitler\", \"home\", \"home\", \"hope\", \"hope\", \"hopefully\", \"hospital\", \"house\", \"house\", \"human\", \"human\", \"humanitarian\", \"humanitarian_assistance\", \"humanity\", \"hundred\", \"hurt\", \"hurt\", \"hypocrisy\", \"idiot\", \"ill\", \"illegal\", \"image\", \"import\", \"impose\", \"increase\", \"independent\", \"independent\", \"india\", \"india\", \"indian\", \"indian_student\", \"inflation\", \"influence\", \"innocent\", \"insane\", \"inside\", \"instead\", \"instead\", \"intelligence\", \"interest\", \"international\", \"international\", \"international\", \"internet\", \"invade\", \"invasion\", \"invasion\", \"invasion\", \"invasion\", \"invasion\", \"invasion\", \"invasion\", \"involve\", \"iran\", \"iraq\", \"iraq\", \"iraq\", \"israel\", \"issue\", \"issue\", \"issue\", \"issue\", \"japan\", \"jet\", \"jewish\", \"joe\", \"join\", \"join\", \"join\", \"joke\", \"journalist\", \"kharkiv\", \"kherson\", \"kick\", \"kid\", \"kid\", \"kiev\", \"kill\", \"kind\", \"know\", \"know\", \"know\", \"know\", \"know\", \"know\", \"know\", \"kremlin\", \"kyiv\", \"kyiv\", \"kyiv\", \"lab\", \"lack\", \"land\", \"large\", \"large\", \"late\", \"late\", \"late\", \"late\", \"laugh\", \"law\", \"law\", \"leader\", \"leader\", \"leader\", \"leader\", \"learn\", \"learn\", \"least\", \"least\", \"least\", \"lesson\", \"lie\", \"lie\", \"life\", \"like\", \"like\", \"like\", \"like\", \"like\", \"like\", \"like\", \"list\", \"little\", \"live\", \"live\", \"live\", \"live\", \"live\", \"live\", \"live\", \"live\", \"ll\", \"local\", \"lol\", \"long\", \"long\", \"long\", \"long\", \"long\", \"look\", \"look\", \"lose\", \"lose\", \"lose\", \"love\", \"love\", \"love\", \"love\", \"love\", \"m\", \"major\", \"major\", \"make\", \"make\", \"make\", \"make\", \"make\", \"make\", \"make\", \"make\", \"make\", \"make\", \"make\", \"make\", \"man\", \"man\", \"man\", \"man\", \"man\", \"march\", \"market\", \"maybe\", \"maybe\", \"mean\", \"mean\", \"mean\", \"mean\", \"mean\", \"mean\", \"mean\", \"medium\", \"medium\", \"medium\", \"medium\", \"medium\", \"meet\", \"member\", \"membership\", \"message\", \"might\", \"might\", \"military\", \"military\", \"military\", \"military\", \"military\", \"military\", \"military\", \"military\", \"military\", \"million\", \"million\", \"million\", \"minister\", \"minute\", \"missile\", \"moment\", \"moment\", \"money\", \"money\", \"money\", \"money\", \"month\", \"month\", \"moron\", \"moscow\", \"moscow\", \"moscow\", \"moscow\", \"mother\", \"mother\", \"move\", \"move\", \"move\", \"mr\", \"murder\", \"must\", \"must\", \"must\", \"must\", \"must\", \"must\", \"name\", \"name\", \"nation\", \"nation\", \"nation\", \"nation\", \"nation\", \"national\", \"national\", \"nato\", \"nato\", \"nato\", \"nazi\", \"near\", \"need\", \"need\", \"need\", \"need\", \"need\", \"need\", \"need\", \"need\", \"neighbor\", \"neutral\", \"never\", \"never\", \"never\", \"never\", \"never\", \"never\", \"never\", \"new\", \"new\", \"new\", \"new\", \"new\", \"news\", \"news\", \"news\", \"news\", \"news\", \"next\", \"next\", \"next\", \"next\", \"nft\", \"nice\", \"night\", \"nobody\", \"not\", \"nt\", \"nuclear\", \"nuke\", \"nuke\", \"number\", \"obama\", \"occupy\", \"office\", \"official\", \"official\", \"oil\", \"okay\", \"old\", \"old\", \"old\", \"oligarch\", \"one\", \"one\", \"one\", \"one\", \"one\", \"one\", \"one\", \"one\", \"one\", \"one\", \"one\", \"one\", \"open\", \"open\", \"open\", \"operation\", \"opportunity\", \"oppose\", \"otherwise\", \"pakistan\", \"part\", \"part\", \"part\", \"part\", \"part\", \"part\", \"part\", \"party\", \"party\", \"pay\", \"pay\", \"peace\", \"peace\", \"peace\", \"people\", \"people\", \"people\", \"people\", \"people\", \"people\", \"people\", \"people\", \"people\", \"people\", \"picture\", \"pilot\", \"place\", \"place\", \"place\", \"place\", \"plan\", \"plan\", \"plane\", \"plane\", \"plant\", \"please\", \"please\", \"pm\", \"point\", \"point\", \"point\", \"point\", \"point\", \"point\", \"point\", \"poland\", \"poland\", \"policy\", \"polish\", \"post\", \"power\", \"power\", \"power\", \"power\", \"power\", \"power\", \"power\", \"power\", \"power\", \"power_plant\", \"powerful\", \"pray\", \"president\", \"president\", \"president\", \"president\", \"president\", \"president\", \"president\", \"president\", \"pressure\", \"prevent\", \"price\", \"pro\", \"probably\", \"probably\", \"problem\", \"product\", \"production\", \"promise\", \"propaganda\", \"propaganda\", \"propaganda\", \"proputin\", \"proud\", \"prove\", \"provide\", \"provide\", \"provide\", \"provide\", \"provoke\", \"pull\", \"puppet\", \"putin\", \"putin\", \"putin\", \"putin\", \"putin\", \"putin\", \"putin\", \"putin\", \"putin\", \"putin\", \"putin\", \"putin\", \"question\", \"question\", \"question\", \"question\", \"quite\", \"racist\", \"raise\", \"re\", \"re\", \"reach\", \"react\", \"read\", \"read\", \"read\", \"read\", \"read\", \"ready\", \"real\", \"real\", \"real\", \"real\", \"real\", \"real\", \"reality\", \"realize\", \"really\", \"really\", \"really\", \"really\", \"refugee\", \"regime\", \"regime\", \"regime\", \"release\", \"remember\", \"repeat\", \"replace\", \"report\", \"republican\", \"republicans\", \"resistance\", \"responsible\", \"return\", \"return\", \"return\", \"rich\", \"rid\", \"right\", \"right\", \"right\", \"right\", \"right\", \"right\", \"right\", \"right\", \"right\", \"right\", \"right\", \"root\", \"ruble\", \"run\", \"run\", \"run\", \"russia\", \"russia\", \"russia\", \"russia\", \"russia\", \"russia\", \"russia\", \"russia\", \"russia\", \"russia\", \"russia\", \"russia\", \"russia\", \"russia\", \"russia\", \"russian\", \"russian\", \"russian\", \"russian\", \"russian\", \"russian\", \"russian\", \"russian\", \"russian\", \"russian\", \"russian\", \"russian\", \"russian\", \"russian\", \"russians\", \"russians\", \"russians\", \"russians\", \"russians\", \"russians\", \"russians\", \"russias\", \"russiaukraine\", \"s\", \"sanction\", \"save\", \"say\", \"say\", \"say\", \"say\", \"say\", \"say\", \"say\", \"say\", \"say\", \"say\", \"say\", \"say\", \"school\", \"second\", \"security\", \"security_council\", \"see\", \"see\", \"see\", \"see\", \"see\", \"see\", \"see\", \"see\", \"see\", \"see\", \"see\", \"see\", \"seem\", \"seem\", \"seem\", \"seem\", \"sell\", \"sell\", \"sell\", \"send\", \"send\", \"send\", \"send\", \"seriously\", \"serve\", \"set\", \"set\", \"set\", \"several\", \"share\", \"shell\", \"ship\", \"shit\", \"shit\", \"shoot\", \"show\", \"show\", \"show\", \"show\", \"show\", \"show\", \"show\", \"show\", \"show\", \"show\", \"show\", \"show\", \"sign\", \"since\", \"since\", \"since\", \"since\", \"since\", \"since\", \"since\", \"situation\", \"situation\", \"situation\", \"situation\", \"situation\", \"situation\", \"sky\", \"slaughter\", \"slavaukraini\", \"sleep\", \"small\", \"small\", \"smart\", \"social_media\", \"soldier\", \"soldier\", \"solidarity\", \"someone\", \"something\", \"son\", \"song\", \"soon\", \"soon\", \"soon\", \"sorry\", \"sorry\", \"sound\", \"space\", \"speak\", \"special\", \"speech\", \"spend\", \"spread\", \"stand\", \"start\", \"start\", \"start\", \"start\", \"start\", \"state\", \"state\", \"state\", \"state\", \"state\", \"statement\", \"statement\", \"station\", \"step\", \"stick\", \"still\", \"still\", \"still\", \"still\", \"still\", \"still\", \"still\", \"still\", \"still\", \"still\", \"still\", \"stock\", \"stop\", \"stop\", \"stopputin\", \"stopputin_stoprussia\", \"stopputinnow\", \"stopwar\", \"story\", \"story\", \"strike\", \"student\", \"stupid\", \"stupid\", \"suggest\", \"supply\", \"supply\", \"support\", \"support\", \"suppose\", \"sure\", \"sure\", \"sure\", \"surprise\", \"surrender\", \"survive\", \"suspend\", \"syria\", \"system\", \"taiwan\", \"take\", \"take\", \"take\", \"take\", \"take\", \"take\", \"take\", \"take\", \"take\", \"take\", \"take\", \"take\", \"talk\", \"talk\", \"talk\", \"talk\", \"talk\", \"talk\", \"talk\", \"tank\", \"target\", \"target\", \"teach\", \"team\", \"tech\", \"terrible\", \"territory\", \"terrorist\", \"terrorist\", \"th\", \"thank\", \"that\", \"there\", \"they\", \"thing\", \"thing\", \"thing\", \"thing\", \"thing\", \"thing\", \"thing\", \"thing\", \"think\", \"think\", \"think\", \"think\", \"think\", \"thousand\", \"threat\", \"threaten\", \"three\", \"throw\", \"time\", \"time\", \"time\", \"time\", \"time\", \"time\", \"time\", \"time\", \"time\", \"time\", \"time\", \"time\", \"time\", \"to\", \"together\", \"together\", \"together\", \"together\", \"together\", \"tomorrow\", \"tonight\", \"top\", \"totally\", \"train\", \"traitor\", \"travel\", \"troop\", \"troop\", \"true\", \"true\", \"true\", \"trump\", \"trump\", \"trust\", \"turkey\", \"turn\", \"turn\", \"turn\", \"turn\", \"turn\", \"tweet\", \"tweet\", \"two\", \"two\", \"uk\", \"uk\", \"ukraine\", \"ukraine\", \"ukraine\", \"ukraine\", \"ukraine\", \"ukraine\", \"ukraine\", \"ukraine\", \"ukraine\", \"ukraine\", \"ukraine\", \"ukraine\", \"ukraine\", \"ukraine\", \"ukraine\", \"ukrainerussia\", \"ukraines\", \"ukrainewar\", \"ukrainewar\", \"ukrainian\", \"ukrainian\", \"ukrainian\", \"ukrainian\", \"ukrainian\", \"ukrainian\", \"ukranian\", \"ukriane\", \"un\", \"un\", \"un\", \"un\", \"understand\", \"understand\", \"understand\", \"understand\", \"united_state\", \"united_states\", \"update\", \"ur\", \"urge\", \"us\", \"us\", \"usa\", \"usa\", \"usa\", \"usa\", \"usa\", \"value\", \"ve\", \"ve\", \"version\", \"via\", \"via\", \"victory\", \"video\", \"video\", \"vladimir\", \"vote\", \"wage\", \"wake\", \"walk\", \"want\", \"want\", \"want\", \"want\", \"want\", \"want\", \"want\", \"want\", \"want\", \"war\", \"war\", \"war\", \"war\", \"war\", \"war\", \"war\", \"war\", \"war\", \"war\", \"warn\", \"watch\", \"watch\", \"watch\", \"watch\", \"way\", \"way\", \"way\", \"way\", \"way\", \"way\", \"way\", \"way\", \"way\", \"way\", \"we\", \"we\", \"we\", \"we\", \"we\", \"we\", \"we\", \"we\", \"we\", \"we\", \"we\", \"we\", \"weak\", \"weak\", \"weapon\", \"week\", \"week\", \"week\", \"week\", \"week\", \"well\", \"well\", \"well\", \"well\", \"well\", \"well\", \"well\", \"western\", \"what\", \"what\", \"whatever\", \"whatever\", \"whether\", \"whether\", \"will\", \"wish\", \"wish\", \"withdraw\", \"within\", \"without\", \"without\", \"without\", \"without\", \"woman\", \"word\", \"word\", \"world\", \"world\", \"world\", \"world\", \"world\", \"world\", \"world\", \"world\", \"world\", \"world\", \"worry\", \"worth\", \"would\", \"would\", \"would\", \"would\", \"would\", \"would\", \"would\", \"wow\", \"ww\", \"ww\", \"wwiii\", \"xi\", \"yeah\", \"yeah\", \"yeah\", \"year\", \"year\", \"year\", \"year\", \"year\", \"year\", \"year\", \"years_ago\", \"yes\", \"yes\", \"yes\", \"yes\", \"yes\", \"yes\", \"you\", \"you\", \"zelensky\", \"zelensky\", \"zelensky\", \"zelenskyy\", \"zone\"]}, \"R\": 30, \"lambda.step\": 0.01, \"plot.opts\": {\"xlab\": \"PC1\", \"ylab\": \"PC2\"}, \"topic.order\": [6, 15, 12, 2, 7, 13, 8, 14, 1, 11, 4, 9, 10, 5, 3]};\n",
       "\n",
       "function LDAvis_load_lib(url, callback){\n",
       "  var s = document.createElement('script');\n",
       "  s.src = url;\n",
       "  s.async = true;\n",
       "  s.onreadystatechange = s.onload = callback;\n",
       "  s.onerror = function(){console.warn(\"failed to load library \" + url);};\n",
       "  document.getElementsByTagName(\"head\")[0].appendChild(s);\n",
       "}\n",
       "\n",
       "if(typeof(LDAvis) !== \"undefined\"){\n",
       "   // already loaded: just create the visualization\n",
       "   !function(LDAvis){\n",
       "       new LDAvis(\"#\" + \"ldavis_el365051402791445050083457972027\", ldavis_el365051402791445050083457972027_data);\n",
       "   }(LDAvis);\n",
       "}else if(typeof define === \"function\" && define.amd){\n",
       "   // require.js is available: use it to load d3/LDAvis\n",
       "   require.config({paths: {d3: \"https://d3js.org/d3.v5\"}});\n",
       "   require([\"d3\"], function(d3){\n",
       "      window.d3 = d3;\n",
       "      LDAvis_load_lib(\"https://cdn.jsdelivr.net/gh/bmabey/pyLDAvis@3.3.1/pyLDAvis/js/ldavis.v3.0.0.js\", function(){\n",
       "        new LDAvis(\"#\" + \"ldavis_el365051402791445050083457972027\", ldavis_el365051402791445050083457972027_data);\n",
       "      });\n",
       "    });\n",
       "}else{\n",
       "    // require.js not available: dynamically load d3 & LDAvis\n",
       "    LDAvis_load_lib(\"https://d3js.org/d3.v5.js\", function(){\n",
       "         LDAvis_load_lib(\"https://cdn.jsdelivr.net/gh/bmabey/pyLDAvis@3.3.1/pyLDAvis/js/ldavis.v3.0.0.js\", function(){\n",
       "                 new LDAvis(\"#\" + \"ldavis_el365051402791445050083457972027\", ldavis_el365051402791445050083457972027_data);\n",
       "            })\n",
       "         });\n",
       "}\n",
       "</script>"
      ],
      "text/plain": [
       "PreparedData(topic_coordinates=              x         y  topics  cluster       Freq\n",
       "topic                                                \n",
       "5     -0.191913  0.062083       1        1  11.655365\n",
       "14    -0.226335  0.019214       2        1   9.100510\n",
       "11     0.095974  0.150184       3        1   8.430448\n",
       "1      0.100687  0.105606       4        1   8.417568\n",
       "6      0.085717  0.140517       5        1   8.118002\n",
       "12     0.044299  0.082650       6        1   7.628680\n",
       "7     -0.003989  0.110214       7        1   6.384988\n",
       "13    -0.226530 -0.095064       8        1   5.880887\n",
       "0     -0.184922 -0.053753       9        1   5.858347\n",
       "10     0.193766  0.009038      10        1   5.724200\n",
       "3     -0.022106 -0.003966      11        1   5.495486\n",
       "8     -0.051565 -0.026896      12        1   5.107489\n",
       "9      0.115540 -0.093559      13        1   4.727619\n",
       "4      0.154627 -0.013427      14        1   4.668887\n",
       "2      0.116752 -0.392840      15        1   2.801523, topic_info=          Term          Freq         Total Category  logprob  loglift\n",
       "75         not  22441.000000  22441.000000  Default  30.0000  30.0000\n",
       "39      russia  67721.000000  67721.000000  Default  29.0000  29.0000\n",
       "214  ukrainian  22906.000000  22906.000000  Default  28.0000  28.0000\n",
       "6        putin  60523.000000  60523.000000  Default  27.0000  27.0000\n",
       "235       nato  16032.000000  16032.000000  Default  26.0000  26.0000\n",
       "..         ...           ...           ...      ...      ...      ...\n",
       "916      place    957.217650   1830.257697  Topic15  -4.2538   2.9268\n",
       "590      check    833.864107   1416.813382  Topic15  -4.3917   3.0449\n",
       "468     almost    680.507789   1036.728762  Topic15  -4.5950   3.1540\n",
       "39      russia    904.688483  67721.045569  Topic15  -4.3102  -0.7406\n",
       "373      still    711.847603   5485.261454  Topic15  -4.5499   1.5331\n",
       "\n",
       "[825 rows x 6 columns], token_table=      Topic      Freq        Term\n",
       "term                             \n",
       "140      11  0.999862           I\n",
       "768       6  0.998990  absolutely\n",
       "904       1  0.237725      accept\n",
       "904      12  0.761274      accept\n",
       "1142      2  0.999316     account\n",
       "...     ...       ...         ...\n",
       "975       9  0.016415    zelensky\n",
       "975      11  0.982619    zelensky\n",
       "975      15  0.000566    zelensky\n",
       "325      11  0.998842   zelenskyy\n",
       "2253      4  0.997500        zone\n",
       "\n",
       "[1500 rows x 3 columns], R=30, lambda_step=0.01, plot_opts={'xlab': 'PC1', 'ylab': 'PC2'}, topic_order=[6, 15, 12, 2, 7, 13, 8, 14, 1, 11, 4, 9, 10, 5, 3])"
      ]
     },
     "execution_count": 106,
     "metadata": {},
     "output_type": "execute_result"
    }
   ],
   "source": [
    "# Visualize the topics\n",
    "pyLDAvis.enable_notebook()\n",
    "LDAvis_prepared = pyLDAvis.gensim_models.prepare(lda_model, corpus, id2word)\n",
    "LDAvis_prepared"
   ]
  },
  {
   "cell_type": "code",
   "execution_count": 91,
   "id": "25c9a7bd",
   "metadata": {},
   "outputs": [],
   "source": [
    "def getRowTopic(row):\n",
    "    if row['bow_format'] != 0:\n",
    "        topics_list = lda_model.get_document_topics(row['bow_format'])\n",
    "        topics_list.sort(key=lambda n: n[1], reverse=True)\n",
    "        topic = topics_list[0][0]\n",
    "        return topic\n",
    "    else:\n",
    "        return 'n/a'"
   ]
  },
  {
   "cell_type": "code",
   "execution_count": 92,
   "id": "0de11d97",
   "metadata": {},
   "outputs": [],
   "source": [
    "df['topic'] = df.apply(lambda row: getRowTopic(row), axis=1)"
   ]
  },
  {
   "cell_type": "code",
   "execution_count": 94,
   "id": "9d152dfc",
   "metadata": {},
   "outputs": [],
   "source": [
    "save_df = df.drop(columns=['is_english','bigrams','lemmatized','bow_format'])\n",
    "save_df.to_csv('topic_results_march_part1.csv', index=False)"
   ]
  },
  {
   "cell_type": "code",
   "execution_count": 93,
   "id": "60ea0d12",
   "metadata": {},
   "outputs": [
    {
     "data": {
      "text/html": [
       "<div>\n",
       "<style scoped>\n",
       "    .dataframe tbody tr th:only-of-type {\n",
       "        vertical-align: middle;\n",
       "    }\n",
       "\n",
       "    .dataframe tbody tr th {\n",
       "        vertical-align: top;\n",
       "    }\n",
       "\n",
       "    .dataframe thead th {\n",
       "        text-align: right;\n",
       "    }\n",
       "</style>\n",
       "<table border=\"1\" class=\"dataframe\">\n",
       "  <thead>\n",
       "    <tr style=\"text-align: right;\">\n",
       "      <th></th>\n",
       "      <th>id</th>\n",
       "      <th>author_id</th>\n",
       "      <th>text</th>\n",
       "      <th>is_english</th>\n",
       "      <th>topic</th>\n",
       "    </tr>\n",
       "  </thead>\n",
       "  <tbody>\n",
       "    <tr>\n",
       "      <th>0</th>\n",
       "      <td>1499229869099597826</td>\n",
       "      <td>352345061</td>\n",
       "      <td>Putin and his oligarch’s children should be re...</td>\n",
       "      <td>1</td>\n",
       "      <td>7</td>\n",
       "    </tr>\n",
       "    <tr>\n",
       "      <th>2</th>\n",
       "      <td>1499229869456117761</td>\n",
       "      <td>1198376932334809089</td>\n",
       "      <td>Volodymyr Zelensky, the president of Ukraine s...</td>\n",
       "      <td>1</td>\n",
       "      <td>6</td>\n",
       "    </tr>\n",
       "    <tr>\n",
       "      <th>3</th>\n",
       "      <td>1499229869489672193</td>\n",
       "      <td>1084980649520496642</td>\n",
       "      <td>@GOPChairwoman #GOP  the party of donald trump...</td>\n",
       "      <td>1</td>\n",
       "      <td>13</td>\n",
       "    </tr>\n",
       "    <tr>\n",
       "      <th>4</th>\n",
       "      <td>1499229869552857093</td>\n",
       "      <td>1401144857419149313</td>\n",
       "      <td>@MichaelKugelman @SalmanSoz \"Statement\" is onl...</td>\n",
       "      <td>1</td>\n",
       "      <td>9</td>\n",
       "    </tr>\n",
       "    <tr>\n",
       "      <th>5</th>\n",
       "      <td>1499229872639692801</td>\n",
       "      <td>1482246518447165441</td>\n",
       "      <td>Florida man blames Putin for why he was speedi...</td>\n",
       "      <td>1</td>\n",
       "      <td>8</td>\n",
       "    </tr>\n",
       "    <tr>\n",
       "      <th>...</th>\n",
       "      <td>...</td>\n",
       "      <td>...</td>\n",
       "      <td>...</td>\n",
       "      <td>...</td>\n",
       "      <td>...</td>\n",
       "    </tr>\n",
       "    <tr>\n",
       "      <th>237375</th>\n",
       "      <td>1502795001956167680</td>\n",
       "      <td>1368654235</td>\n",
       "      <td>@JeremyDBoreing @AdamBaldwin Russia would be a...</td>\n",
       "      <td>1</td>\n",
       "      <td>1</td>\n",
       "    </tr>\n",
       "    <tr>\n",
       "      <th>237376</th>\n",
       "      <td>1502795001331425285</td>\n",
       "      <td>1410921956401102850</td>\n",
       "      <td>@marcorubio @KyivIndependent Anyone notice Bid...</td>\n",
       "      <td>1</td>\n",
       "      <td>8</td>\n",
       "    </tr>\n",
       "    <tr>\n",
       "      <th>237377</th>\n",
       "      <td>1502795002593918976</td>\n",
       "      <td>243811680</td>\n",
       "      <td>About 60 child cancer patients from Ukraine bo...</td>\n",
       "      <td>1</td>\n",
       "      <td>1</td>\n",
       "    </tr>\n",
       "    <tr>\n",
       "      <th>237378</th>\n",
       "      <td>1502795003000758276</td>\n",
       "      <td>1502785523911385091</td>\n",
       "      <td>@h3h3productions Beanie braindead VS Ukrainian...</td>\n",
       "      <td>1</td>\n",
       "      <td>5</td>\n",
       "    </tr>\n",
       "    <tr>\n",
       "      <th>237379</th>\n",
       "      <td>1502795003159990272</td>\n",
       "      <td>1425679489221107712</td>\n",
       "      <td>@MeowMeow4M4A No .\\nThis is the difference:\\nA...</td>\n",
       "      <td>1</td>\n",
       "      <td>11</td>\n",
       "    </tr>\n",
       "  </tbody>\n",
       "</table>\n",
       "<p>177121 rows × 5 columns</p>\n",
       "</div>"
      ],
      "text/plain": [
       "                         id            author_id  \\\n",
       "0       1499229869099597826            352345061   \n",
       "2       1499229869456117761  1198376932334809089   \n",
       "3       1499229869489672193  1084980649520496642   \n",
       "4       1499229869552857093  1401144857419149313   \n",
       "5       1499229872639692801  1482246518447165441   \n",
       "...                     ...                  ...   \n",
       "237375  1502795001956167680           1368654235   \n",
       "237376  1502795001331425285  1410921956401102850   \n",
       "237377  1502795002593918976            243811680   \n",
       "237378  1502795003000758276  1502785523911385091   \n",
       "237379  1502795003159990272  1425679489221107712   \n",
       "\n",
       "                                                     text  is_english topic  \n",
       "0       Putin and his oligarch’s children should be re...           1     7  \n",
       "2       Volodymyr Zelensky, the president of Ukraine s...           1     6  \n",
       "3       @GOPChairwoman #GOP  the party of donald trump...           1    13  \n",
       "4       @MichaelKugelman @SalmanSoz \"Statement\" is onl...           1     9  \n",
       "5       Florida man blames Putin for why he was speedi...           1     8  \n",
       "...                                                   ...         ...   ...  \n",
       "237375  @JeremyDBoreing @AdamBaldwin Russia would be a...           1     1  \n",
       "237376  @marcorubio @KyivIndependent Anyone notice Bid...           1     8  \n",
       "237377  About 60 child cancer patients from Ukraine bo...           1     1  \n",
       "237378  @h3h3productions Beanie braindead VS Ukrainian...           1     5  \n",
       "237379  @MeowMeow4M4A No .\\nThis is the difference:\\nA...           1    11  \n",
       "\n",
       "[177121 rows x 5 columns]"
      ]
     },
     "execution_count": 93,
     "metadata": {},
     "output_type": "execute_result"
    }
   ],
   "source": [
    "smaller_df = df.drop(columns=['bigrams','lemmatized','bow_format'])\n",
    "smaller_df = smaller_df[smaller_df['is_english']==1]\n",
    "smaller_df"
   ]
  },
  {
   "cell_type": "markdown",
   "id": "26701ff9",
   "metadata": {},
   "source": [
    "### Exploring the topics"
   ]
  },
  {
   "cell_type": "code",
   "execution_count": 199,
   "id": "5165e2b9",
   "metadata": {},
   "outputs": [
    {
     "data": {
      "text/html": [
       "<div>\n",
       "<style scoped>\n",
       "    .dataframe tbody tr th:only-of-type {\n",
       "        vertical-align: middle;\n",
       "    }\n",
       "\n",
       "    .dataframe tbody tr th {\n",
       "        vertical-align: top;\n",
       "    }\n",
       "\n",
       "    .dataframe thead th {\n",
       "        text-align: right;\n",
       "    }\n",
       "</style>\n",
       "<table border=\"1\" class=\"dataframe\">\n",
       "  <thead>\n",
       "    <tr style=\"text-align: right;\">\n",
       "      <th></th>\n",
       "      <th>id</th>\n",
       "      <th>author_id</th>\n",
       "      <th>text</th>\n",
       "      <th>is_english</th>\n",
       "      <th>topic</th>\n",
       "    </tr>\n",
       "  </thead>\n",
       "  <tbody>\n",
       "    <tr>\n",
       "      <th>4</th>\n",
       "      <td>1499229869552857093</td>\n",
       "      <td>1401144857419149313</td>\n",
       "      <td>@MichaelKugelman @SalmanSoz \"Statement\" is onl...</td>\n",
       "      <td>1</td>\n",
       "      <td>9</td>\n",
       "    </tr>\n",
       "    <tr>\n",
       "      <th>44</th>\n",
       "      <td>1499229885545418752</td>\n",
       "      <td>1082354683216195584</td>\n",
       "      <td>@CoachRomney @AOShankar2 @KyivIndependent Yes ...</td>\n",
       "      <td>1</td>\n",
       "      <td>9</td>\n",
       "    </tr>\n",
       "    <tr>\n",
       "      <th>45</th>\n",
       "      <td>1499229885633490950</td>\n",
       "      <td>1222909979172077570</td>\n",
       "      <td>All Media should immediately stop interviewing...</td>\n",
       "      <td>1</td>\n",
       "      <td>9</td>\n",
       "    </tr>\n",
       "    <tr>\n",
       "      <th>89</th>\n",
       "      <td>1499229902926749699</td>\n",
       "      <td>1179998974859792384</td>\n",
       "      <td>At face value, Russia's act is \"illegal and un...</td>\n",
       "      <td>1</td>\n",
       "      <td>9</td>\n",
       "    </tr>\n",
       "    <tr>\n",
       "      <th>109</th>\n",
       "      <td>1499229911487234049</td>\n",
       "      <td>1294482428275429377</td>\n",
       "      <td>Disney Pauses Its Movie Releases in Russia htt...</td>\n",
       "      <td>1</td>\n",
       "      <td>9</td>\n",
       "    </tr>\n",
       "    <tr>\n",
       "      <th>...</th>\n",
       "      <td>...</td>\n",
       "      <td>...</td>\n",
       "      <td>...</td>\n",
       "      <td>...</td>\n",
       "      <td>...</td>\n",
       "    </tr>\n",
       "    <tr>\n",
       "      <th>237216</th>\n",
       "      <td>1502794931521347588</td>\n",
       "      <td>1347996542658113538</td>\n",
       "      <td>@ggreenwald @IAPonomarenko GTH traitor or even...</td>\n",
       "      <td>1</td>\n",
       "      <td>9</td>\n",
       "    </tr>\n",
       "    <tr>\n",
       "      <th>237257</th>\n",
       "      <td>1502794950462906371</td>\n",
       "      <td>958471117982728194</td>\n",
       "      <td>@INArteCarloDoss Seriously thinking of moving ...</td>\n",
       "      <td>1</td>\n",
       "      <td>9</td>\n",
       "    </tr>\n",
       "    <tr>\n",
       "      <th>237279</th>\n",
       "      <td>1502794958599770113</td>\n",
       "      <td>165456141</td>\n",
       "      <td>@Snowden what are your thoughts on @Ukraine? #...</td>\n",
       "      <td>1</td>\n",
       "      <td>9</td>\n",
       "    </tr>\n",
       "    <tr>\n",
       "      <th>237294</th>\n",
       "      <td>1502794966136877058</td>\n",
       "      <td>1453882755213783040</td>\n",
       "      <td>If he touches one foreign ship it will be on! ...</td>\n",
       "      <td>1</td>\n",
       "      <td>9</td>\n",
       "    </tr>\n",
       "    <tr>\n",
       "      <th>237356</th>\n",
       "      <td>1502794996025503744</td>\n",
       "      <td>23115416</td>\n",
       "      <td>In addition to the inevitable spike following ...</td>\n",
       "      <td>1</td>\n",
       "      <td>9</td>\n",
       "    </tr>\n",
       "  </tbody>\n",
       "</table>\n",
       "<p>4729 rows × 5 columns</p>\n",
       "</div>"
      ],
      "text/plain": [
       "                         id            author_id  \\\n",
       "4       1499229869552857093  1401144857419149313   \n",
       "44      1499229885545418752  1082354683216195584   \n",
       "45      1499229885633490950  1222909979172077570   \n",
       "89      1499229902926749699  1179998974859792384   \n",
       "109     1499229911487234049  1294482428275429377   \n",
       "...                     ...                  ...   \n",
       "237216  1502794931521347588  1347996542658113538   \n",
       "237257  1502794950462906371   958471117982728194   \n",
       "237279  1502794958599770113            165456141   \n",
       "237294  1502794966136877058  1453882755213783040   \n",
       "237356  1502794996025503744             23115416   \n",
       "\n",
       "                                                     text  is_english topic  \n",
       "4       @MichaelKugelman @SalmanSoz \"Statement\" is onl...           1     9  \n",
       "44      @CoachRomney @AOShankar2 @KyivIndependent Yes ...           1     9  \n",
       "45      All Media should immediately stop interviewing...           1     9  \n",
       "89      At face value, Russia's act is \"illegal and un...           1     9  \n",
       "109     Disney Pauses Its Movie Releases in Russia htt...           1     9  \n",
       "...                                                   ...         ...   ...  \n",
       "237216  @ggreenwald @IAPonomarenko GTH traitor or even...           1     9  \n",
       "237257  @INArteCarloDoss Seriously thinking of moving ...           1     9  \n",
       "237279  @Snowden what are your thoughts on @Ukraine? #...           1     9  \n",
       "237294  If he touches one foreign ship it will be on! ...           1     9  \n",
       "237356  In addition to the inevitable spike following ...           1     9  \n",
       "\n",
       "[4729 rows x 5 columns]"
      ]
     },
     "execution_count": 199,
     "metadata": {},
     "output_type": "execute_result"
    }
   ],
   "source": [
    "df_topic = smaller_df[smaller_df['topic']==9]\n",
    "df_topic"
   ]
  },
  {
   "cell_type": "code",
   "execution_count": 200,
   "id": "5f5f87ab",
   "metadata": {},
   "outputs": [],
   "source": [
    "import random\n",
    "\n",
    "explore = random.choices(list(df_topic['id']), k=100)"
   ]
  },
  {
   "cell_type": "code",
   "execution_count": 201,
   "id": "de1138df",
   "metadata": {},
   "outputs": [],
   "source": [
    "topic = []\n",
    "for f in files3:\n",
    "    if f.startswith('batch'):\n",
    "        inF = open(f'results_03_extended/{f}','r')\n",
    "        data = json.load(inF)\n",
    "        inF.close()\n",
    "        for batch in data:\n",
    "            for tweet in batch['tweets']:\n",
    "                date = tweet['created_at'].split()[0]\n",
    "                if date in part1 and tweet['isRetweet'] == False:\n",
    "                    if tweet['id'] in explore:\n",
    "                        topic.append(tweet['text'])"
   ]
  },
  {
   "cell_type": "code",
   "execution_count": null,
   "id": "cff07d50",
   "metadata": {
    "scrolled": true
   },
   "outputs": [],
   "source": [
    "topic"
   ]
  },
  {
   "cell_type": "markdown",
   "id": "ace9f007",
   "metadata": {},
   "source": [
    "### My notes for each topic:"
   ]
  },
  {
   "cell_type": "markdown",
   "id": "1ae5feaa",
   "metadata": {},
   "source": [
    "14:\n",
    "N/A, a lot of mentions of Putin\n",
    "\n",
    "\n",
    " \"This is Putin's war, not the Russian People's.  If we had a decent President, not even a good one, Putin would be stopped.  I am ashamed my country made this jackass president.\",\n",
    " 'This is why if Putin takes Ukranian cities that will just make the situation worse for him https://t.co/H8jMiOJux6',\n"
   ]
  },
  {
   "cell_type": "markdown",
   "id": "a0b53dfd",
   "metadata": {},
   "source": [
    "13:\n",
    "Calling out GOP on pro-Putin propaganda, Trump and Putin\n",
    "\n",
    " '@WFLA @GovRonDeSantis @USouthFlorida @GovRonDeSantis is just a Putin wantabe #gopKills https://t.co/yFsOLFNpDk',\n",
    " 'Treasury Sanctions Kremlin Elites, Leaders, Oligarchs, and Family for Enabling Putin’s War Against Ukraine https://t.co/XcwYymOG2A',\n",
    " 'It’s now got to the point that Johnson is lying as much as Putin. Both are waging a psyops war on their population using lies, mis/disinformation and obfuscation. I’m ashamed that people of this country swallow this shit! What have we become? I’m ashamed to be British. https://t.co/eroS8ygn8L',\n",
    " \"Evil and more evil. 👠\\n\\nTrump has been on Putin's side in Ukraine's long struggle against Russian aggression\\nhttps://t.co/31U63HcoI3\",\n",
    " 'GOP = Grand Ole Putin Party #UkraineRussiaWar',\n",
    " 'I fear the GOP has reached a point of disillusionment beyond help. there’s a new branch of right-wing people now in favor of Putin &amp; Russia. ???? We have never trusted Russia. Russian govt is most literally an enemy???? Did you go to history class?? Do u know anything. R u robot',\n",
    " '@Surabees @fullsendpodcast Trump made Putin strong again\\n#StopPutin #stoptrump #StopPutinNOW \\n@GOP #goptheputinparty #GOPtheRussianParty',\n",
    "'@FoxNews @TuckerCarlson Why are Fox News and Tucker Carlson pushing Putin propaganda? That is the question everybody should be asking.']\n"
   ]
  },
  {
   "cell_type": "markdown",
   "id": "0f0f3109",
   "metadata": {},
   "source": [
    "12:\n",
    "N/A\n",
    "\n",
    " 'Patriot Truth News - Russia Convenes UN Security Council Meeting to Present BioLab Evidence https://t.co/DFJ2Alk0L6',\n",
    " 'heart wrenching? This comedian president took things as comedy. Misjudged the fact that US is using him as pawn against Russia. His immaturity dragged his country into war. Russia has the capability to end this war in 1 day but treading slow to avoid civilian causality. https://t.co/IzFO4gJ4Lg',\n",
    " \"@SDonziger While this is important - I think holding Biden responsible for what's going on in Ukraine right now is even more important. We can't let him get away with arming neo-Nazis, training them with the CIA, nation building in Ukraine, &amp; escalating an eight-year-old war with NATO.\",\n",
    "\n",
    "\n",
    "\n",
    "\n",
    " \"Cryptocurrency playing it's part in the #RussianUkrainianWar \\n\\n- Ukraine is getting crypto donations from  around the world\\n- Russia has already increased cryptocurrency reserves including #Bitcoin\",\n"
   ]
  },
  {
   "cell_type": "markdown",
   "id": "265edf0f",
   "metadata": {},
   "source": [
    "11:\n",
    "Russian army attacking civillians, children, war crimes\n",
    "\n",
    " \"@SecBlinken @PowerUSAID @JosepBorrellF @ChrisCoons @NYT, @POTUS While the world's attention is on the war in #ukraine, #eth has continued its Way Crimes with out fear of consequences. Once again another video is showing #eth's soldiers burning Tigreans alive.\",\n",
    " '@amyklobuchar Thousands of people are killed from Russian bombing in Ukraine. Over 70 children! US should provide #SafeAirliftUkraine and #ProtectUАSky to stop #Putin’s barbaric war on civilians and children.',\n",
    " \"@GyongyosiMarton @PeterJakab1 @EUCouncil @EUparliament Russia every day bombards our cities and kills innocent civilians including children. Yesterday in Mariupol, rockets hit a maternity hospital and a children's hospital. \\nSave our lives by closing the sky over Ukraine!  \\nHelp us protect ourselves by providing airplanes!\",\n",
    " '@SenatorCollins Ukrainians are dying in the cities besieged by Russian troops. Child in #Mariupol died from dehydration (!). We urgently need provide humanitarian airlift to Ukraine as you did in Georgia in 2008 #SafeAirliftUkraine',\n",
    " \"@lessig @RoKhanna Yesterday the Russians dropped a bomb on a maternity and children's hospital in Mariupol #ukraine, and this is not the first crime against humanity. They killed 70!!!!! children. Please close the sky or give us fighter jets, anti-rocket, anti-aircraft defence #CloseTheSky\",\n",
    " 'The first pkg in the 12 noon GMT bulletin was about a family in Donestk with children injured in \"heavy\" Ukrainian shelling of civilian areas.',"
   ]
  },
  {
   "cell_type": "markdown",
   "id": "d5099e96",
   "metadata": {},
   "source": [
    "10:\n",
    "US buys russian Oil, oil and energy sanctions, (Iran russian ally), oil prices and generally cost of living is getting high US\n",
    "\n",
    " '@JoJoFromJerz so is democrats buying oil from russia ...russian collusion????',\n",
    " 'Abramovich puts Chelsea football club up for sale as clamour for sanctions grows\\n\\n#chelsea #donations #football #Money #Ukraine #Abramovich #Russia\\nhttps://t.co/jnAm6fjo8I',\n",
    " '@GooglePlay @TheShineApp Please!! Complete @GooglePlay lock with all apps in Russia. This will stop business and the opportunity to receive services in Russia.\\n#StopPutin #StopRussia #GooglePlayExitFromRussia',\n",
    " '@SRuhle Rising gas prices are gouging &amp; greed by oil companies! There is NO gas shortage! they pull this bull crap every time something happens that has ZERO to do with our production or imports from countries other than Russia! The media NEVER calls them out on it!',\n",
    " '@MajorPoonia Not just Shell. The US government itself is still buying crude oil from Russia. Gazprom is still supplying Europe gas through Ukraine even amid the so-called “invasion” sanctions.',\n",
    " 'Who fired a missile at the #American Embassy?  Hmmm Iran &amp; Russia are strategic allies form an axis in the Caucasus alongside Armenia. Iran  Russia are also military allies in the conflicts in Syria and Iraq and partners in Afghanistan and post-Soviet Central Asia.',\n",
    " '#UnderJoeBiden the USA is buying Russian fuel &amp; Putin is using the profits to finance a war against Ukraine while forcing Americans to pay highest prices ever at pump https://t.co/0rLbcAMsgZ',\n",
    " 'As businesses isolate Russia, China fills the gap. Given our debt to China, we just strengthened the Eurasian Alliance. Reminder: Trump was trying to end our dependence on China. 2/2',\n",
    " '@TheDemocrats @ofirahy @JoeBiden Can you explain how we went from energy independent to begging Russia, Iran, OPEC, and Venezuela for more oil?  I will wait for your thoughtful reply',\n",
    "\n",
    "\n",
    " 'Yesterday Russia dropped bombs on a maternity hospital in Mariupol.  As a result, 3 people died (including 1 child), 17 were injured. @kocsismate @keplilajos @vigenin @Ilotova @djambazki @rmkanev @peter_agh @tanbacsi You can stop this!  Close the sky over Ukraine! #closethesky https://t.co/H6GYYcrKwH',"
   ]
  },
  {
   "cell_type": "markdown",
   "id": "285bae25",
   "metadata": {},
   "source": [
    "9:\n",
    "Western sanctions, Israel (no sanctions against russia)\n",
    "https://www.timesofisrael.com/israel-hasnt-joined-anti-russia-sanctions-but-its-firms-need-to-tread-carefully/\n",
    "\n",
    " \"Since Russia's invasion of Ukraine last week, Western nations have banded together with a series of economic sanctions against Russia, including the banning of Russian banks from SWIFT.\",\n",
    " '@riley_oleary10\\n\\n4: URL: https://t.co/J92VCVrbj9\\nAs the world overwhelmingly condemns the assault on Ukraine, online opinion in China is mostly pro-Russia, pro-war and pro-Putin.',\n",
    "'Am I anti Semitic if I criticize Israel for doing this? https://t.co/muzdb0wjGq',\n",
    " '@cenkuygur @AnaKasparian I’m disappointed in your narrative of the Russia/Ukraine war. Devoid of meaningful narrative or historical context. Western expansion is a threat to Russia’s national security. Please present some balanced',\n",
    " '@TuckerCarlson is a national disgrace and an ongoing national security threat because of his platform for Putin’s propaganda. He’s a fool and Russian tool. #BanPutinPropaganda #StandWithUkraine https://t.co/25v7IEd9Ck',\n",
    " '@Reuters Half of the Ukrainian government have Israeli citizenship or relatives that do, so why wouldn’t thry trust daddy Israel?',\n",
    " 'World Bank halts all programs in Russia, Belarus https://t.co/UeW3tRAiAH https://t.co/aQIaHIs0pv&gt;&gt; #Russia',\n",
    " 'Google pauses all ad sales in Russia #ArtificialIntelligence #ui via https://t.co/0NnSfBI7JQ https://t.co/QZyd5MuCm7',\n",
    " \"@AndrewKnight226 China is watching Russia's war closely, as it also wants to colonize Taiwan\",\n",
    " \"Western companies cutting ties to Russia has limited effect, experts say https://t.co/Tv2XAczjWD Karkov/SOPA Images/LightRocket via Getty Images(NEW YORK) -- In light of Russia's unprovoked invasion of Ukraine, many major American and Western companies have decided to drop the...\",\n",
    " '@ZelenskyyUa @DefenceHQ @BorisJohnson where are you ?Chinese media say you have escaped from kiev.really?',\n",
    " 'China Says One Of Its Nationals Wounded In Gunfire In Ukraine https://t.co/XfbyfInCPM https://t.co/NdWbiBpGpG',"
   ]
  },
  {
   "cell_type": "markdown",
   "id": "74effa74",
   "metadata": {},
   "source": [
    "8:\n",
    "People hating on Biden for the war and inflation. Trump supporters. If Trump was a president, there would have been no war\n",
    "\n",
    "'@KremlinRussia_E You know what not one russian leader, especially Putin has ever had? Balls! Putin is hiding in a bunker like a  little girl whining all day. Zelensky -a comedian- has more balls than all russians combined. \"I don’t need a ride, I need ammunition” said no Putin or no russian ever!',\n",
    "\n",
    "'@mdnij34 Because many in the Republican party support Putin.',\n",
    "'@wbkotv Rep Massey will vote against it. He’s apparently pro-Putin.'\n",
    " 'Klaus Schwab &amp; Hunter Biden Connected To Ukraine Bio-Labs...\\nhttps://t.co/FVyvBB7sLY',\n",
    " \"@Ericaspeaktruth @Carichampionsoc @Logically_JC and Yet...Putin didn't dare invade Ukraine on Trumps watch but instead chose to do it 100% on Democrats watch.\\nRussiaGate logic 🤡🤡🤡\",\n",
    " '@Michell92668981 No. He was installed and funded by israeli billionaire Ihor Kolomoisky, who also created and funds the neo nazi groups in ukraine.  Zelensky also has more than $1 billion hidden per the Pandora Papers',\n",
    " 'A LIARS, CORRUPTED. CROOKED AND HIS ADVISORS OBAMA AND HILLARY CLINTON ARE TRYING TO LOOK FOR A WAYS OUT FOR BIDEN, NATO, HARRIS AND THEIRS GOVERNMENT ADMINISTRATION FAILURES.  OURS COUNTRY IS IN AN ECONOMIC CRISIS BECAUSE HE OPEN THE USA 🇺🇸 BORDER TO ILLEGALS IMMIGRANTS.',\n",
    " '@JoeBiden Really?! You called the unvaxed unAmerican. You’ve been played, old man, and Putin owns you.',\n",
    " '@brianrayguitar Show people just one clip of Fox News support of Putin. Biden is a brainless fake president. No respect around the globe, and being played like a fiddle by Putin.(who has evidence of Hunters corruption)  let’s see your evidence idiot',\n",
    " 'Trump’s and Putin’s strategy is to convince Trump supporters that Russia wouldn’t have invaded Ukraine if Trump were president. They are going to use that messaging for the midterms and 2024. Putin and Trump need each other politically and Joe Biden is in their way.',\n",
    " '@JackPosobiec And they wonder why Putin chose to invade Ukraine now...while Biden is in the WH.',\n",
    " '@TheDemocrats Remember… it was Biden’s request to fire the ukraine prosecutor investigating hunters involvement or one billion in aid gets withheld… world war 3 is on Biden',\n",
    " '@mail_american I don’t trust Putin but on the other hand why should I trust Ukraine? Zelenskyy is dirty, I know the media &amp; Biden are puffing him up but things just don’t seem up &amp; up. With Biden’s corrupt dealings in Ukraine tells me the 3 day old dead fish isn’t the only thing that stinks!',\n",
    " '@ASvidovska @NATO Sorry we have such a coward President in the US if Trump was President None of this would be happening',\n",
    "\n",
    "\n",
    " 'Zelensky’s “Perfect Phone Call” With Trump in 2019 Explains a Lot Right Now - Slate https://t.co/AVS3tGMTal',\n",
    " 'That is Democrat Parasites in US Congress! https://t.co/rVrWTAuhcq https://t.co/qYfclZytoz',"
   ]
  },
  {
   "cell_type": "markdown",
   "id": "c8bfd61c",
   "metadata": {},
   "source": [
    "7:\n",
    "Support Ukraine\n",
    "\n",
    " '@RonWyden Ukraine needs weapons and humanitarian assistance to defend against #Putin. Stop innocent civilian deaths. @POTUS, provide #SafeAirliftUkraine #StopPutin',\n",
    " '@ShibMetaverse 0x573D87116D2d9C125e0ECB4586724750267E4881\\n\\nI am situated in Ukraine helping children in shelters. Can you help please?',\n",
    " '@goldengateblond In the mean time a Dutch TV fundraiser raised €106 million and counting for support to Ukraine. Besides there are literally 1000’s of other fund raisers, initiatives, people giving goods, providing homes etc.\\n\\nFocus on gas is selfish while most people are full of support for 🇺🇦',\n",
    " \"@cybermark94 @KensingtonRoyal Let's pray Ukraine find the strength they need.\\nOh God, I wish them well\",\n",
    " '@POTUS Close up the sky over Ukraine. Help make peace in Ukraine. You are the head of mighty country - you can do the greatest work of your life. Such an act will always be remembered by generations. You will go down in history as a great peacemaker. God help you and the American people',\n",
    " '@greg_price11 Send committed Polish Jets to Christian Ukraine, stop Evil Putin, Stop lying, Remember Land Lease (WWII), &amp; Syrian no-fly Zone, NK war, fear Evil Putin is to hate God. “where the Spirit of the LORD is, there is liberty”, (2-Cor. 3:17, KJV). https://t.co/GkPrIoBmp4',\n",
    "'Children at a HOSPICE stand in shape of a #Z to show support for #Putin\\n https://t.co/cKyxt4sEmU',\n",
    "\n",
    "\n",
    " '@Ukraine You know marina Abromovic is a satanist and a pedo, right? She has links to John of God the child trafficker and rape artist.. I heard Ukraine had some Bio weapons labs with aerosolised Rabies that had a 100% Fatality Rate. I guess your deep state plans have been destoryed, No?',"
   ]
  },
  {
   "cell_type": "markdown",
   "id": "9023b05a",
   "metadata": {},
   "source": [
    "6:\n",
    "Military, troops, weapons, army\n",
    "\n",
    " 'Russian forces regroup on outskirts of Kyiv after setbacks https://t.co/ahScPFR0HD',\n",
    " 'Ukrainian forces are now on the offensive. Mykolaiv International Airport taken back by UA military. #Mykolaiv #Ukraine️ #KyivPost https://t.co/k1PZItXcx3',\n",
    " 'Ukraine gives civilians direct incentives to capture tanks and other equipment.  https://t.co/VgOovQocnM\\n #UkraineRussiaWar',\n",
    " 'Russian forces land in Kharkiv as bombardment of Ukraine cities intensifies\\n\\n21 people killed + 112 others wounded in the Kharkiv bombardment after Russian airborne troops landed in the city about 8:30pm Tuesday ET, according to Ukrainian officials.\\n\\nhttps://t.co/X1nkKcRcoW',"
   ]
  },
  {
   "cell_type": "markdown",
   "id": "32877e0f",
   "metadata": {},
   "source": [
    "5:\n",
    "Putin and NATO, Trump vs Biden, China-Taiwan? (Trump supporters)\n",
    "\n",
    "'@HelenGr04493202 @IAPonomarenko If Putin deploys Chemical weapons NATO will have no choice but to react',\n",
    " '@caitoz Trump would’ve saw this as the business deal it was and this tragedy would never had happened. The deal to pull Ukraine into the west would’ve meant: no NATO, no trade deals that disadvantaged Russia, autonomy in Donbas, and recognition of the fact Crimea is gone.',\n",
    "\n",
    " \"@marcorubio China is taking Taiwan while the focus is on Ukraine.\\n\\nYou're not too bright.\",\n",
    " \n",
    " \"@boringdude01 @WRHLSP @CL26443742 come on bro western media is not what you think any more, when american attack other countries westen media didn't say any think, but when Russia defend their rights western media start to condemn Russia\",\n",
    " '@DefiantLs I don’t support Russia, but anything the left doesn’t like is ‘misinformation’… or racist.',\n",
    " '.@TheDemocrats #Russiagate lies and decades of #Russia-phobia made it easy.  Liberals and progressives are well trained to hate #Putin and his #Ttump puppet and to go all in for @NATO war over #Ukraine to destroy them. @nytimes @MSNBC @FoxNews.  And no peace movement since ‘06. https://t.co/eihDtmsevH',\n",
    " \"@LesJJr You're really still blaming Trump a year after he's been out of office?  Psst in case you haven't heard there been more deaths from covid (with a vaccine mind you)  than under Trump in the same time frame, I bet that's Trump's fault too. &amp; please explain how Trump caused Ukraine\",\n",
    " \"@philrosenn @BCWoodsCollege @BusinessInsider It's already hit double digits. The Biden administration/government is just trying to hide that fact. Many things have almost doubled in price. That's &gt; 10%. Most things have gone up 20% or more before Russia's invasion of Ukraine. Biden is our worst president ever.\",\n",
    " \n",
    " \n",
    " 'It is so nice to hear a rational President. Now if we could just get rid of the two insane sorority girls who won\\'t shut up. * Biden Warns Putin \"Has No Idea What\\'s Coming,\" Greene &amp; Boebert Heckle S... https://t.co/cOuNUezcBV via @YouTube',\n"
   ]
  },
  {
   "cell_type": "markdown",
   "id": "28c16c56",
   "metadata": {},
   "source": [
    "4:\n",
    "Ukrainian refugees, Indian citizens, Black refugees, Refugee crisis\n",
    "\n",
    "'@Verbatim411 @ZelenskyyUa @BUBEEEEE @POTUS I donated to World Central Kitchen. They are doing a phenomenal job serving hot meals to Ukrainian refugees.',\n",
    "'Article: Entirely about how the ways coverage of war in other places vs. coverage in Europe are discussed shows a mindset that war is \"natural\" in other places but \"unthinkable\" in Europe.\\n\\nResponses: How dare you complain about Ukraine getting news coverage!',\n",
    "'“We note that with the cooperation of the Ukrainian authorities,many students have left Kharkiv yesterday. We have not received any reports of any hostage situation regarding any student”-says @MEAIndia on media queries based on Russia def Minstry dramatic claims @RusEmbIndia https://t.co/vNm5eAEIfg',\n",
    " 'Embassy of India in #Ukraine issues an urgent advisory to Indian nationals in #Kharkiv\\n\\nMust leave Kharkiv immediately,proceed to Pisochyn, Bezlyudovka &amp; Babaye as soon as possible. They must reach these settlements by 1800 hrs (Ukrainian time) today,it reads #TheRealTalkin (ANI) https://t.co/Nc75e0zjVL',\n",
    "'Russian-Ukraine war: 54 more Ghanaian students arrive home\\n\\n#AsaaseNews \\n\\nhttps://t.co/E0LPElcTpf',\n",
    "'@RajCMO Our aim is that in this hour of crisis, each Indian student should be shifted to safe places from Ukraine at the earliest and they return to their homeland safely: CM @ashokgehlot51  @ashokgehlot51 @_lokeshsharma @_Team_LS https://t.co/z3HkuxkL7K',\n",
    "\"@TPtak @visegrad24 i'm not speaking about supporting the refugees, that's a thing must be done, of course. but the ukrainian language law degarding hungarians to second class citizens was created in 2016. this current ukrainian state is a chauvinist state, we should not support it\",\n",
    " 'Is there anyone from @MEAIndia in kharkiv who can help the students struck at kharkiv Metro station. Ur advisory is to leave kharkiv by 6PM bt hw can students board the train @PMOIndia @DrSJaishankar @Nainamishr94 @ravishndtv @sardesairajdeep @rajnathsingh @ANI #IndianStudent https://t.co/qeweQNaeE9',\n",
    " 'Union Minister @Gen_VKSingh meets students and distributed food at #Ukraine border\\n\\n@IndiainUkraine @IndiainPoland @MEAIndia\\n@MIB_India\\n#UkraineCrisis \\n#RussiaUkraineconflicts https://t.co/MMfPTQG3HC',\n",
    " '@MoscowTimes Ukrainian refugee evacuation train throws out black people including kids https://t.co/jMYUf1pVYZ',\n",
    " 'operation ganga: Watch: Emotions run high as students finally arrive safely in India from Ukraine’s Kharkiv – News by\\xa0TII https://t.co/sM4PBABNkn',\n",
    " 'Reports of pushbacks of individuals of African and Asian origin at the Ukrainian border must also be condemned in the strongest terms. Discrimination and unfair treatment of refugees is always intolerable, but it is especially so when conflict is intensifying by the hour.',\n",
    " 'Extremists harass minority refugees arriving in Poland from Ukraine, witnesses report https://t.co/1MDRv3Gtm6 via @Yahoo',"
   ]
  },
  {
   "cell_type": "markdown",
   "id": "cda73ff6",
   "metadata": {},
   "source": [
    "3:\n",
    "Zelenskyy (nazis in ukrainian army), donations\n",
    "\n",
    " 'Update: For anyone interested in joining the foreign Legion in the defense of Ukraine from Canada\\n\\nThe first step is to contact ottawa.emb.ukr@gmail.com\\nIt is important that you include the following information:\\nCitizenship: Canadian or otherwise\\nName\\nAge\\nSkills',\n",
    " \"The video, posted by Ukraine's defence ministry, used CGI to depict fictional air strikes on the French capital. https://t.co/gnpddv6F52\",\n",
    " 'Americans show support on the ground in Ukraine and Poland, with fundraisers over steaming pots of borscht, and in multiple other ways. https://t.co/ThEo53Tqe1',\n",
    " '@hasanthehun Our buddy Bald and Bankrupt is all-in on the idea that research labs in Ukraine retroactively justifies the Russian invasion: (top comment on this dumbass video from brain genius Russ Brand)\\nhttps://t.co/mf9hnFv4Vj',\n",
    "'Zelensky is not a hero!  What are ya gonna do throw me in. Dc jail for a year?  Your a lying scumbag and always were!  You &amp; Barry sowed these seeds of racism &amp; division, only the suckers believe you https://t.co/lGMfiSqI0M',\n",
    " 'To support the children in #Ukraine we have donated 10 000 euros to @UNICEF. Many Midagonians have also looked for ways to help as individuals and made personal contributions to the various organizations directing humanitarian aid to Ukraine. #StandWithUkraine 🇺🇦 https://t.co/vxfTD8qFCP',\n",
    "'Zelenskyy is a soldier and a hero.\\nPutin is a deranged psychopath and a coward. https://t.co/ZOpWSKEJfx',\n",
    "'How Ukraine’s Jewish President Zelensky Made Peace with neo-Nazi Paramilitaries on Front Lines of war with Russia @RealAlexRubi @MaxBlumenthal #Russia #Putin #Ukraine #Zelensky #NeoNazis #AzovBattalion #C14 #NationalCorps https://t.co/7r8jKRjupH',\n",
    " \"@PotockaTeresa I'm watching too. Already made a donation this week but would like to do more. ❤🇺🇦 #Ukraine\",\n",
    "'First NATO deletes a photo they posted featuring a NAZI (https://t.co/xTetfkmACV)\\n\\nAnd now Canadian media. \\n\\nFormal NAZI BATTALIONS serving in the Ukrainian army, replete with NAZI insignia, who we armed and funded. \\n\\nWhat have we been telling you? https://t.co/JH5RRaGBI1',\n",
    "'@spectatorindex Information warfare, propaganda by the Ukrainian authority',"
   ]
  },
  {
   "cell_type": "markdown",
   "id": "b78a9a42",
   "metadata": {},
   "source": [
    "2:\n",
    "Businness with Russia, russian vs ukrainian propaganda, nazi?, germany?, (lowering temeparute to cut off energy, defund russia)\n",
    "\n",
    "'Note RT in has been removed from Roku in the US now. So much for 1A and press freedom. Seems only state authorized propaganda is permissible in the Land of the Free. #censorship #russia #RT #propaganda',\n",
    "\"McDonald's and PepsiCo are among the fast-food companies being urged by political figures to stop doing business in Russia https://t.co/iaWPDreI4n\",\n",
    "'@Reuters No snow. Do better, this is propaganda from Russia.',\n",
    "'How Russia Is Using Tucker Carlson in its Propaganda https://t.co/z4xPaa5NA2',\n",
    "'This is a Nazi for @DanielFooksArt reference. https://t.co/WBNs2Fjlsk https://t.co/JsmbOseciE',\n",
    "\"@ASBMilitary Germany is now under Russia's thumb.\",\n",
    "\"Ukraine's government is Jewish but its fiercest fighters are neo-Nazis. What a weird country.\\nhttps://t.co/WZtG1xnSSi\",\n",
    "'@AlecMacGillis @propublica @NewYorker And now Germany citizens can do what their governments failed to do\\n\\nAnd they can start by -1°\\n\\nhttps://t.co/XYSw7KZRox\\n\\n#StandWithUkraine',\n",
    " '@dima7b @Rogozin Because Putin is nazi. And his regime is nazi. \\nPutin talks like a nazi, walks like a nazi... acts...',\n",
    " 'These companies are still doing business in Russia, by @JuddLegum https://t.co/eBnHtAULhN',\n",
    "'Just like in Nazi Germany, ethical people left and the Nazi fascists stayed. https://t.co/gIOXzHQ5js',\n",
    "'Remember. Propaganda is just coming from the other side 😂 https://t.co/UZWtkO5UXZ',\n",
    "'@Breaking911 Well, Ukraine is using their CIA-trained Nazis, so.......',\n",
    "\"@EqualSide @CNN Ukraine's propaganda machine is intense. Much more effective than their army\","
   ]
  },
  {
   "cell_type": "markdown",
   "id": "32fb0a23",
   "metadata": {},
   "source": [
    "1:\n",
    "EU, NATO, US, the West, nuclear power plants are under fire\n",
    "\n",
    "'The US must enact a no-fly zone now! 🇺🇸🇺🇦 https://t.co/OL5QHqUBBN',\n",
    "'Oppressor who america?? NATO is the reason why there is conflict between Ukraine And Russia ..why?? They expand in the east and violated there promise https://t.co/5MikLCyLAD',\n",
    "'“The longer he and the West resist, the more they might involuntarily push Putin to consider further escalations, including to the nuclear threshold.” https://t.co/Z0hVBz5zjf',\n",
    "'@Gray_Mackenzie Explain to me how no-one helping Ukraine is benefiting the world. Also what is the point of NATO?',\n",
    "\"Plant spokesman says Russian troops have begun shelling Europe's largest nuclear power station in Ukraine - ABC News https://t.co/czN48xu0NS\",\n",
    "'@VickerySec @POTUS This isn’t a world war. It’s Russia declaring war on Ukraine, and NATO members working to help Ukraine  without escalating it INTO WWIII. There will be more death, but nothing compared to what would happen if NATO countries join the physical fight.',\n",
    "'@daudkhalid90 Secret US bio-labs in Ukraine\\n\\nhttps://t.co/37pY6MhDEW\\n\\n#ukraine #biolabs https://t.co/IwMEnyfJUC',\n",
    "'@CBSNews @MacFarlaneNews Once again: Not started by Putin. Started by NATO making overtures towards Ukraine, which Russia said 20 years ago they would not stand for and would be treated as an exigent threat to their nation.',\n",
    "'No dialogue with NATO is possible when its member states are supplying lethal weapons to Ukraine, Director of the Russian Foreign Ministry’s European Cooperation Department Nikolai Kobrinets said in a press statement.\\nhttps://t.co/M2aFpTIiGZ']"
   ]
  },
  {
   "cell_type": "markdown",
   "id": "c82fae38",
   "metadata": {},
   "source": [
    "0: N/A"
   ]
  },
  {
   "cell_type": "markdown",
   "id": "e0c4a8f9",
   "metadata": {},
   "source": [
    "### Calculating Topic Coherency"
   ]
  },
  {
   "cell_type": "code",
   "execution_count": 79,
   "id": "97824534",
   "metadata": {},
   "outputs": [],
   "source": [
    "from gensim.models import CoherenceModel\n",
    "\n",
    "# Compute Coherence Score\n",
    "coherence_model_lda = CoherenceModel(model=lda_model, texts=data_lemmatized, dictionary=id2word, coherence='c_v')\n",
    "coherence_lda = coherence_model_lda.get_coherence()\n",
    "print('\\nCoherence Score: ', coherence_lda)"
   ]
  },
  {
   "cell_type": "code",
   "execution_count": 76,
   "id": "cb7ca101",
   "metadata": {},
   "outputs": [],
   "source": [
    "# supporting function\n",
    "def compute_coherence_values(corpus, dictionary, k):\n",
    "    \n",
    "    lda_model = gensim.models.LdaMulticore(corpus=corpus,\n",
    "                                           id2word=dictionary,\n",
    "                                           num_topics=k, \n",
    "                                           random_state=100,\n",
    "                                           chunksize=100,\n",
    "                                           passes=10)\n",
    "    \n",
    "    coherence_model_lda = CoherenceModel(model=lda_model, texts=data_lemmatized, dictionary=id2word, coherence='c_v')\n",
    "    \n",
    "    return coherence_model_lda.get_coherence()"
   ]
  },
  {
   "cell_type": "code",
   "execution_count": 82,
   "id": "684351aa",
   "metadata": {},
   "outputs": [],
   "source": [
    "grid = {}\n",
    "grid['Validation_Set'] = {}\n",
    "\n",
    "# Topics range\n",
    "topics_range = [5,7,10,15,20,25,30]\n",
    "\n",
    "# Validation sets\n",
    "num_of_docs = len(corpus)\n",
    "corpus_sets = [corpus]\n",
    "corpus_title = ['100% Corpus']\n",
    "model_results = {'Validation_Set': [],\n",
    "                 'Topics': [],\n",
    "                 'Coherence': []\n",
    "                }"
   ]
  },
  {
   "cell_type": "code",
   "execution_count": null,
   "id": "5ff86e87",
   "metadata": {},
   "outputs": [],
   "source": [
    "from gensim.models import CoherenceModel\n",
    "import tqdm"
   ]
  },
  {
   "cell_type": "code",
   "execution_count": 83,
   "id": "5d83533e",
   "metadata": {},
   "outputs": [
    {
     "name": "stderr",
     "output_type": "stream",
     "text": [
      " 57%|█████▋    | 4/7 [3:56:13<2:57:09, 3543.27s/it]\n",
      "100%|██████████| 3/3 [1:49:55<00:00, 2198.44s/it]\n"
     ]
    }
   ],
   "source": [
    "# Can take a long time to run\n",
    "if 1 == 1:\n",
    "    pbar = tqdm.tqdm(total=len(topics_range))\n",
    "    \n",
    "    # iterate through number of topics\n",
    "    for k in topics_range:\n",
    "        # get the coherence score for the given parameters\n",
    "        cv = compute_coherence_values(corpus=corpus_sets[0], dictionary=id2word, \n",
    "                                                  k=k)\n",
    "        # Save the model results\n",
    "        model_results['Validation_Set'].append(corpus_title[0])\n",
    "        model_results['Topics'].append(k)\n",
    "        model_results['Coherence'].append(cv)\n",
    "                    \n",
    "        pbar.update(1)\n",
    "        \n",
    "    pd.DataFrame(model_results).to_csv('lda_tuning_results.csv', index=False)\n",
    "    pbar.close()"
   ]
  },
  {
   "cell_type": "code",
   "execution_count": 88,
   "id": "37269732",
   "metadata": {},
   "outputs": [
    {
     "data": {
      "image/png": "[encoded data removed]",
      "text/plain": [
       "<Figure size 720x576 with 1 Axes>"
      ]
     },
     "metadata": {
      "needs_background": "light"
     },
     "output_type": "display_data"
    }
   ],
   "source": [
    "import matplotlib.pyplot as plt\n",
    "\n",
    "y_res = model_results['Coherence']\n",
    "x = [5,7,10,15,20,25,30]#topics_range\n",
    "\n",
    "fig = plt.figure(figsize=(10,8))\n",
    "plt.plot(x, y_res)\n",
    "plt.xlabel(\"Num Topics\")\n",
    "plt.ylabel(\"Coherence score\")\n",
    "plt.legend((\"c_v\"), loc='best')\n",
    "plt.show()"
   ]
  },
  {
   "cell_type": "markdown",
   "id": "8055cf30",
   "metadata": {},
   "source": [
    "### Topic Distribution"
   ]
  },
  {
   "cell_type": "code",
   "execution_count": 175,
   "id": "30937aef",
   "metadata": {},
   "outputs": [
    {
     "data": {
      "text/plain": [
       "177121"
      ]
     },
     "execution_count": 175,
     "metadata": {},
     "output_type": "execute_result"
    }
   ],
   "source": [
    "total_eng_tweets = smaller_df.shape[0]\n",
    "total_eng_tweets"
   ]
  },
  {
   "cell_type": "code",
   "execution_count": 206,
   "id": "f556458c",
   "metadata": {},
   "outputs": [
    {
     "data": {
      "text/plain": [
       "{0: 8803,\n",
       " 1: 16650,\n",
       " 2: 1133,\n",
       " 3: 7178,\n",
       " 4: 6333,\n",
       " 5: 28693,\n",
       " 6: 15962,\n",
       " 7: 11614,\n",
       " 8: 6550,\n",
       " 9: 4729,\n",
       " 10: 9292,\n",
       " 11: 17197,\n",
       " 12: 14675,\n",
       " 13: 8965,\n",
       " 14: 19347}"
      ]
     },
     "execution_count": 206,
     "metadata": {},
     "output_type": "execute_result"
    }
   ],
   "source": [
    "topics_distribution = {}\n",
    "for t in range(15):\n",
    "    df_topic = smaller_df[smaller_df['topic']==t]\n",
    "    num_tweets = df_topic.shape[0]\n",
    "    topics_distribution[t] = num_tweets\n",
    "topics_distribution"
   ]
  },
  {
   "cell_type": "code",
   "execution_count": 210,
   "id": "a24a53d1",
   "metadata": {},
   "outputs": [
    {
     "data": {
      "text/plain": [
       "{5: 28693,\n",
       " 14: 19347,\n",
       " 11: 17197,\n",
       " 1: 16650,\n",
       " 6: 15962,\n",
       " 12: 14675,\n",
       " 7: 11614,\n",
       " 10: 9292,\n",
       " 13: 8965,\n",
       " 0: 8803,\n",
       " 3: 7178,\n",
       " 8: 6550,\n",
       " 4: 6333,\n",
       " 9: 4729,\n",
       " 2: 1133}"
      ]
     },
     "execution_count": 210,
     "metadata": {},
     "output_type": "execute_result"
    }
   ],
   "source": [
    "topics_distribution_sorted = {k: v for k, v in sorted(topics_distribution.items(), key=lambda item: item[1], reverse=True)}\n",
    "topics_distribution_sorted"
   ]
  },
  {
   "cell_type": "code",
   "execution_count": 211,
   "id": "7cd55f10",
   "metadata": {},
   "outputs": [],
   "source": [
    "distribution = pd.DataFrame(data={'topic': list(topics_distribution_sorted.keys()), \n",
    "                                  'number of tweets': list(topics_distribution_sorted.values())})"
   ]
  },
  {
   "cell_type": "code",
   "execution_count": 216,
   "id": "1eba9efb",
   "metadata": {},
   "outputs": [],
   "source": [
    "list_of_topics=[\n",
    "    \"Biden, NATO’s intervention\",\n",
    "    \"N/A\",\n",
    "    \"Russian army war crimes\",\n",
    "    \"EU, NATO, US\",\n",
    "    \"Military, troops, weapons\",\n",
    "    \"N/A\",\n",
    "    \"Demanding Support for Ukraine\",\n",
    "    \"US and Russian oil, energy sanctions\",\n",
    "    \"Trump and Putin\",\n",
    "    \"N/A\",\n",
    "    \"Zelenskyy: Hero or Nazi\",\n",
    "    \"Trump Supporters, conspiracies against Zelenskyy\",\n",
    "    \"Refugee crisis in Ukraine\",\n",
    "    \"Western sanctions against Russia\",\n",
    "    \"Russian vs Ukrainian propaganda\"\n",
    "]"
   ]
  },
  {
   "cell_type": "code",
   "execution_count": 217,
   "id": "1bd09ca6",
   "metadata": {},
   "outputs": [
    {
     "data": {
      "text/plain": [
       "<matplotlib.legend.Legend at 0x7f9575674e50>"
      ]
     },
     "execution_count": 217,
     "metadata": {},
     "output_type": "execute_result"
    },
    {
     "data": {
      "image/png": "[encoded data removed]",
      "text/plain": [
       "<Figure size 864x576 with 1 Axes>"
      ]
     },
     "metadata": {
      "needs_background": "light"
     },
     "output_type": "display_data"
    }
   ],
   "source": [
    "import seaborn as sns\n",
    "fig = plt.figure(figsize=(12,8))\n",
    "ax = sns.barplot(x='topic', y='number of tweets',data=distribution,palette=\"Blues_d\", order=distribution['topic'])\n",
    "ax.bar_label(ax.containers[0])\n",
    "ax.legend(ax.patches, list_of_topics, loc=[1.01,0.5])"
   ]
  },
  {
   "cell_type": "code",
   "execution_count": null,
   "id": "55c97ad6",
   "metadata": {},
   "outputs": [],
   "source": []
  }
 ],
 "metadata": {
  "kernelspec": {
   "display_name": "Python 3",
   "language": "python",
   "name": "python3"
  },
  "language_info": {
   "codemirror_mode": {
    "name": "ipython",
    "version": 3
   },
   "file_extension": ".py",
   "mimetype": "text/x-python",
   "name": "python",
   "nbconvert_exporter": "python",
   "pygments_lexer": "ipython3",
   "version": "3.8.8"
  }
 },
 "nbformat": 4,
 "nbformat_minor": 5
}
